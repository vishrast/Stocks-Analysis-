{
 "cells": [
  {
   "cell_type": "markdown",
   "id": "02ac3d57",
   "metadata": {},
   "source": [
    "###  Using Long Short Term Memory (LSTM) for stock price prediction\n",
    "\n",
    "[LSTM](https://en.wikipedia.org/wiki/Long_short-term_memory) is a type of artificial recurrent neural network, which is used in field of deep learning. It has feed back connections and can process sequence of data points.LSTM neural network can be used for short term movement of stocks over a long period of time. To predict stock prices,I will use a window of previous periods to predict the stock prices.\n"
   ]
  },
  {
   "cell_type": "markdown",
   "id": "c2c0aa9b",
   "metadata": {},
   "source": [
    "## Installing Libraries"
   ]
  },
  {
   "cell_type": "code",
   "execution_count": 1,
   "id": "e556cfa2",
   "metadata": {
    "scrolled": false
   },
   "outputs": [],
   "source": [
    "%%capture\n",
    "!pip install yfinance\n",
    "!pip install pandas\n",
    "!pip install matplotlib\n",
    "!pip install seaborn\n",
    "!pip install joblib\n",
    "!pip install seaborn\n",
    "!pip install numpy\n",
    "!pip install chart_studio\n",
    "## https://github.com/Worlddatascience/DataScienceCohort/blob/master/6_How_to_Create_a_Candlestick_Chart_using_Python.ipynb\n",
    "!pip install cufflinks\n",
    "## Code to Install Backtrader\n",
    "!pip install backtrader \n",
    "!pip install pandas_datareader\n",
    "!pip install scikit-learn\n",
    "! pip install keras\n",
    "! pip install tensorflow\n",
    "! pip install pmdarima\n"
   ]
  },
  {
   "cell_type": "markdown",
   "id": "e6a91ecb",
   "metadata": {},
   "source": [
    "### Importing Libraries"
   ]
  },
  {
   "cell_type": "code",
   "execution_count": 2,
   "id": "966ce1cb",
   "metadata": {},
   "outputs": [],
   "source": [
    "import warnings\n",
    "\n",
    "warnings.filterwarnings('ignore')\n",
    "\n",
    "import datetime\n",
    "import yfinance\n",
    "\n",
    "import numpy as np\n",
    "import pandas as pd\n",
    "from pandas_datareader.data import DataReader\n",
    "import matplotlib.pyplot as plt\n",
    "import seaborn as sns\n",
    "import functools\n",
    "from pandas.tseries.offsets import BDay\n",
    "\n",
    "from sklearn.preprocessing import MinMaxScaler\n",
    "from keras.models import Sequential\n",
    "from keras.layers import Dense\n",
    "from keras.layers import LSTM\n",
    "from keras.layers import Dropout\n",
    "from sklearn.metrics import confusion_matrix\n",
    "\n",
    "import pmdarima\n",
    "from pmdarima.arima import auto_arima\n",
    "from statsmodels.tsa.arima.model import ARIMA\n",
    "\n",
    "from collections import deque\n",
    "import random\n",
    "import tensorflow.compat.v1 as tf\n",
    "tf.compat.v1.disable_eager_execution()"
   ]
  },
  {
   "cell_type": "markdown",
   "id": "a6e72846",
   "metadata": {},
   "source": [
    "### Creating a data frame for different tickers"
   ]
  },
  {
   "cell_type": "code",
   "execution_count": 3,
   "id": "3bd70bde",
   "metadata": {},
   "outputs": [],
   "source": [
    "def dft(name='QQQ',frequency='1d',first=\"2010-07-01\",last=\"2022-11-30\"):\n",
    "    ticker = yfinance.Ticker(name)\n",
    "    stock = ticker.history(interval=frequency,start=first,end=last)\n",
    "    data=stock.loc[:, [\"Close\"]]\n",
    "    return data"
   ]
  },
  {
   "cell_type": "code",
   "execution_count": 4,
   "id": "08b4afee",
   "metadata": {},
   "outputs": [],
   "source": [
    "df=dft(\"QQQ\")"
   ]
  },
  {
   "cell_type": "markdown",
   "id": "57d5bf36",
   "metadata": {},
   "source": [
    "###  Developing daily, weekly,monthly actual and normalized data frames"
   ]
  },
  {
   "cell_type": "code",
   "execution_count": 5,
   "id": "dd9a16b9",
   "metadata": {},
   "outputs": [],
   "source": [
    "# Resample the data weekly and monthly and do the same for the normalized data\n",
    "stock_prices_daily=df.loc[:, [\"Close\"]]\n",
    "#stock_prices_daily=pd\n",
    "stock_prices_daily_normalized=df['Close'].div(df['Close'].max())\n",
    "stock_prices_weekly = df['Close'].resample('W').mean()\n",
    "stock_prices_weekly_normalized = stock_prices_daily_normalized.resample('W').mean()\n",
    "\n",
    "stock_prices_monthly = df['Close'].resample('M').mean()\n",
    "stock_prices_monthly_normalized = stock_prices_daily_normalized.resample('M').mean()"
   ]
  },
  {
   "cell_type": "code",
   "execution_count": 6,
   "id": "29bc09f8",
   "metadata": {},
   "outputs": [
    {
     "data": {
      "text/plain": [
       "pandas.core.frame.DataFrame"
      ]
     },
     "execution_count": 6,
     "metadata": {},
     "output_type": "execute_result"
    }
   ],
   "source": [
    "type(stock_prices_daily)"
   ]
  },
  {
   "cell_type": "markdown",
   "id": "dbd31f73",
   "metadata": {},
   "source": [
    "###  Calculating percentage change for different period of data"
   ]
  },
  {
   "cell_type": "code",
   "execution_count": 7,
   "id": "1e3c5065",
   "metadata": {},
   "outputs": [],
   "source": [
    "## Calculate the returns for daily, weekly and monthly \n",
    "\n",
    "stock_returns_daily = stock_prices_daily.pct_change().dropna()\n",
    "\n",
    "stock_returns_weekly = stock_prices_weekly.pct_change().dropna()\n",
    "\n",
    "stock_returns_monthly = stock_prices_monthly.pct_change().dropna()"
   ]
  },
  {
   "cell_type": "markdown",
   "id": "147e51df",
   "metadata": {},
   "source": [
    "### Function for calculating returns for  user defined period "
   ]
  },
  {
   "cell_type": "code",
   "execution_count": 8,
   "id": "36ed3d3d",
   "metadata": {},
   "outputs": [],
   "source": [
    "# Multi Period Return\n",
    "\n",
    "def multi_period_return(period_returns):\n",
    "    return np.prod(period_returns + 1) - 1\n",
    "\n",
    "stock_returns_daily_pr = stock_returns_daily.rolling('360D').apply(multi_period_return)"
   ]
  },
  {
   "cell_type": "code",
   "execution_count": 9,
   "id": "aa4c35a3",
   "metadata": {},
   "outputs": [
    {
     "data": {
      "text/html": [
       "<div>\n",
       "<style scoped>\n",
       "    .dataframe tbody tr th:only-of-type {\n",
       "        vertical-align: middle;\n",
       "    }\n",
       "\n",
       "    .dataframe tbody tr th {\n",
       "        vertical-align: top;\n",
       "    }\n",
       "\n",
       "    .dataframe thead th {\n",
       "        text-align: right;\n",
       "    }\n",
       "</style>\n",
       "<table border=\"1\" class=\"dataframe\">\n",
       "  <thead>\n",
       "    <tr style=\"text-align: right;\">\n",
       "      <th></th>\n",
       "      <th>Close</th>\n",
       "    </tr>\n",
       "    <tr>\n",
       "      <th>Date</th>\n",
       "      <th></th>\n",
       "    </tr>\n",
       "  </thead>\n",
       "  <tbody>\n",
       "    <tr>\n",
       "      <th>2010-07-02 00:00:00-04:00</th>\n",
       "      <td>-0.002818</td>\n",
       "    </tr>\n",
       "    <tr>\n",
       "      <th>2010-07-06 00:00:00-04:00</th>\n",
       "      <td>0.000235</td>\n",
       "    </tr>\n",
       "    <tr>\n",
       "      <th>2010-07-07 00:00:00-04:00</th>\n",
       "      <td>0.032167</td>\n",
       "    </tr>\n",
       "    <tr>\n",
       "      <th>2010-07-08 00:00:00-04:00</th>\n",
       "      <td>0.037802</td>\n",
       "    </tr>\n",
       "    <tr>\n",
       "      <th>2010-07-09 00:00:00-04:00</th>\n",
       "      <td>0.047664</td>\n",
       "    </tr>\n",
       "  </tbody>\n",
       "</table>\n",
       "</div>"
      ],
      "text/plain": [
       "                              Close\n",
       "Date                               \n",
       "2010-07-02 00:00:00-04:00 -0.002818\n",
       "2010-07-06 00:00:00-04:00  0.000235\n",
       "2010-07-07 00:00:00-04:00  0.032167\n",
       "2010-07-08 00:00:00-04:00  0.037802\n",
       "2010-07-09 00:00:00-04:00  0.047664"
      ]
     },
     "execution_count": 9,
     "metadata": {},
     "output_type": "execute_result"
    }
   ],
   "source": [
    "stock_returns_daily_pr.head()"
   ]
  },
  {
   "cell_type": "markdown",
   "id": "9be728be",
   "metadata": {},
   "source": [
    "### Function for scaling data using Min-Max Scaling"
   ]
  },
  {
   "cell_type": "code",
   "execution_count": 10,
   "id": "d9819202",
   "metadata": {},
   "outputs": [],
   "source": [
    "# Define a function to use MaxMin Scaler for the modeling part\n",
    "\n",
    "def scaler(train_array, test_array):\n",
    "    scaler = MinMaxScaler(feature_range = (0,1))\n",
    "    a = train_array.reshape(-1,1)\n",
    "    b = test_array.reshape(-1,1)\n",
    "    scaler = scaler.fit(a)\n",
    "    X = scaler.transform(a)\n",
    "    y = scaler.transform(b)\n",
    "    return X, y"
   ]
  },
  {
   "cell_type": "markdown",
   "id": "28de0976",
   "metadata": {},
   "source": [
    "### Function for calculating real stock price from  scaled price"
   ]
  },
  {
   "cell_type": "code",
   "execution_count": 11,
   "id": "75fa5c64",
   "metadata": {},
   "outputs": [],
   "source": [
    "# Define a function to calculate the real price of the stock based on the MinMax Scaler\n",
    "\n",
    "def scaler_inverse(train_array, predictions):\n",
    "    scaler = MinMaxScaler(feature_range = (0,1))\n",
    "    c = train_array.reshape(-1,1)\n",
    "    scaler.fit(c)\n",
    "    y_inverse = scaler.inverse_transform(predictions)\n",
    "    return y_inverse"
   ]
  },
  {
   "cell_type": "markdown",
   "id": "59f9a331",
   "metadata": {},
   "source": [
    "### Function for no. of days to be used as features in the time series"
   ]
  },
  {
   "cell_type": "code",
   "execution_count": 12,
   "id": "6debe23f",
   "metadata": {},
   "outputs": [],
   "source": [
    "# Define a function to have the previous 5 days as independant features to predict the stock price\n",
    "\n",
    "def preprocessing(dataset, time_steps = 1):\n",
    "    X, y = [], []\n",
    "    for i in range(len(dataset) - time_steps - 1):\n",
    "        x = dataset[i:(i + time_steps), 0]\n",
    "        X.append(x)\n",
    "        y.append(dataset[i + time_steps, 0])\n",
    "    return X, y"
   ]
  },
  {
   "cell_type": "markdown",
   "id": "d941fc4f",
   "metadata": {},
   "source": [
    "### Splitting our data frame into train and test"
   ]
  },
  {
   "cell_type": "code",
   "execution_count": 13,
   "id": "6cf9b49f",
   "metadata": {},
   "outputs": [],
   "source": [
    "# Divide the train and test data\n",
    "test_size = 60\n",
    "train = df[:-test_size]\n",
    "test = df[-test_size:]\n"
   ]
  },
  {
   "cell_type": "markdown",
   "id": "5b48e0fd",
   "metadata": {},
   "source": [
    "###  Defining the size of array in the dataframe based on number of stocks"
   ]
  },
  {
   "cell_type": "code",
   "execution_count": 14,
   "id": "1ba62456",
   "metadata": {},
   "outputs": [],
   "source": [
    "# Define an empty array to change the shape of the X variable (train and test)\n",
    "# The new shape with treat the stock prices as each of the subarrays\n",
    "# Eight stocks mean an array with shape (8, n_days)\n",
    "\n",
    "n_days = len(stock_prices_daily)\n",
    "\n",
    "# Define number of stocks\n",
    "\n",
    "n_stocks = len(stock_prices_daily.columns)\n",
    "\n",
    "# Save the number of days that are going to be used as train and test\n",
    "\n",
    "n_days_train = len(train)\n",
    "n_days_test = len(test)\n",
    "\n",
    "# Empty array for the train and test data\n",
    "\n",
    "train_scale = np.zeros(shape = (n_stocks, n_days_train))\n",
    "\n",
    "test_scale = np.zeros(shape = (n_stocks, n_days_test))\n",
    "\n",
    "# Use the for loop to iterate over the train and test to have the array shape changed\n",
    "\n",
    "for i in range(0, n_stocks):\n",
    "    train_scale[i] = train.iloc[:,i]\n",
    "    \n",
    "for i in range(0, n_stocks):\n",
    "    test_scale[i] = test.iloc[:,i]"
   ]
  },
  {
   "cell_type": "markdown",
   "id": "d46a1476",
   "metadata": {},
   "source": [
    "###  Creating empty arrays for training and test data after scaling"
   ]
  },
  {
   "cell_type": "code",
   "execution_count": 15,
   "id": "6361fd44",
   "metadata": {},
   "outputs": [],
   "source": [
    "# Empty arrays for the train and test data (n_stocks, ndays, 1) to make it usable after using the MinMax Scaler\n",
    "\n",
    "Xtrain = np.empty(shape = (n_stocks, n_days_train, 1))\n",
    "\n",
    "Xtest = np.empty(shape = (n_stocks, n_days_test, 1))\n",
    "\n",
    "# For loop to create the Xtrain and Xtest and scale the data (by just fitting the train data). \n",
    "# The idea is to avoid the data leakage by scaling the complete data set\n",
    "\n",
    "for i in range(n_stocks):\n",
    "    Xtrain[i], Xtest[i] = scaler(train_array = train_scale[i], test_array = test_scale[i])"
   ]
  },
  {
   "cell_type": "markdown",
   "id": "1c3519c6",
   "metadata": {},
   "source": [
    "### Merging both train and test data for applying feature engineering"
   ]
  },
  {
   "cell_type": "code",
   "execution_count": 16,
   "id": "a429555e",
   "metadata": {},
   "outputs": [],
   "source": [
    "# Get together the Xtrain and Xtest to apply some feature engineering (Make previous 5 days as independent variables)\n",
    "# and the day ahead the dependant variable\n",
    "\n",
    "# Define the empty array to iterate over an array (more time efficient)\n",
    "\n",
    "Values = np.empty(shape = (n_stocks, n_days, 1))\n",
    "\n",
    "#Iterate by concatenating the Xtrain and Xtest\n",
    "\n",
    "for i in range(n_stocks):\n",
    "    Values[i] = np.concatenate((Xtrain[i], Xtest[i]))"
   ]
  },
  {
   "cell_type": "markdown",
   "id": "6fb09780",
   "metadata": {},
   "source": [
    "###  No. of days to be used as features for neural network"
   ]
  },
  {
   "cell_type": "code",
   "execution_count": 17,
   "id": "eda7e558",
   "metadata": {},
   "outputs": [],
   "source": [
    "# Use the function to use the previous 5 days as independent features for train data\n",
    "\n",
    "time_steps = 5\n",
    "\n",
    "# Make two empty list to store the data\n",
    "\n",
    "X = []\n",
    "y = []\n",
    "\n",
    "for i in range(0, n_stocks):\n",
    "    # Use the preprocessing function \n",
    "    a,b = preprocessing(dataset = Values[i], time_steps = time_steps)\n",
    "    # Apend the values\n",
    "    X.append(a)\n",
    "    y.append(b)\n",
    "\n",
    "# Make sure to have them as arrays\n",
    "\n",
    "X = np.array(X)\n",
    "y = np.array(y)"
   ]
  },
  {
   "cell_type": "markdown",
   "id": "5496a9ed",
   "metadata": {},
   "source": [
    "###  Reshaping the arrays for taking 5 days as variables"
   ]
  },
  {
   "cell_type": "code",
   "execution_count": 18,
   "id": "82446b8a",
   "metadata": {},
   "outputs": [],
   "source": [
    "# X_train array will have new shape\n",
    "\n",
    "# Define the new days for each subarray\n",
    "\n",
    "n_days_train_resample = n_days_train - time_steps - 1\n",
    "\n",
    "# Make empty arrays with the reshape of the data after taking the 5 days as independant variables\n",
    "\n",
    "X_train = np.empty(shape = (n_stocks, n_days_train_resample, 5))\n",
    "\n",
    "y_train = np.empty(shape = (n_stocks, n_days_train_resample))\n",
    "\n",
    "X_test = np.empty(shape = (n_stocks, n_days_test, 5))\n",
    "\n",
    "y_test = np.empty(shape = (n_stocks, n_days_test))"
   ]
  },
  {
   "cell_type": "code",
   "execution_count": 19,
   "id": "1297c46b",
   "metadata": {},
   "outputs": [],
   "source": [
    "# Start for the X_train, y_train, X_test, y_test\n",
    "\n",
    "for i in range(n_stocks):\n",
    "    X_train[i], y_train[i] = X[i][:n_days_train_resample], y[i][:n_days_train_resample]\n",
    "    X_test[i], y_test[i] = X[i][n_days_train_resample:], y[i][n_days_train_resample:]"
   ]
  },
  {
   "cell_type": "markdown",
   "id": "a0c46860",
   "metadata": {},
   "source": [
    "###  Reshaping inputs for LSTM "
   ]
  },
  {
   "cell_type": "code",
   "execution_count": 20,
   "id": "af2f8759",
   "metadata": {},
   "outputs": [],
   "source": [
    "# Reshape input to be [samples, time steps, features] which is required for LSTM\n",
    "\n",
    "X_train = X_train.reshape(X_train.shape[0],X_train.shape[1] , X_train.shape[2], 1)\n",
    "X_test = X_test.reshape(X_test.shape[0],X_test.shape[1] , X_test.shape[2], 1)"
   ]
  },
  {
   "cell_type": "markdown",
   "id": "099cd9d1",
   "metadata": {},
   "source": [
    "### Checking the shape of our train and test data for modelling"
   ]
  },
  {
   "cell_type": "code",
   "execution_count": 21,
   "id": "353074d0",
   "metadata": {},
   "outputs": [
    {
     "name": "stdout",
     "output_type": "stream",
     "text": [
      "Shape of the train data to use at the model (1, 3060, 5, 1) (1, 3060)\n",
      "Shape of the test data to use (1, 60, 5, 1) (1, 60)\n"
     ]
    }
   ],
   "source": [
    "print('Shape of the train data to use at the model', X_train.shape, y_train.shape)\n",
    "print('Shape of the test data to use', X_test.shape, y_test.shape)"
   ]
  },
  {
   "cell_type": "markdown",
   "id": "bf1d7ad1",
   "metadata": {},
   "source": [
    "### Function for neural network\n",
    "- Optimizer='adam'\n",
    "- loss function=\"mean squared error"
   ]
  },
  {
   "cell_type": "code",
   "execution_count": 22,
   "id": "9daf325b",
   "metadata": {},
   "outputs": [],
   "source": [
    "# Define a model to build the neural network\n",
    "\n",
    "def neural_network():\n",
    "    # Begin with Sequential\n",
    "    regressor = Sequential()\n",
    "    # The first layer would the be LSTM\n",
    "    regressor.add(LSTM(units = 50, return_sequences = True, input_shape = (5,1)))\n",
    "    regressor.add(Dropout(0.2))\n",
    "    regressor.add(LSTM(units = 50, return_sequences = True))\n",
    "    regressor.add(Dropout(0.2))\n",
    "    regressor.add(LSTM(units = 50))\n",
    "    regressor.add(Dropout(0.2))\n",
    "    regressor.add(Dense(units = 1))\n",
    "    regressor.compile(optimizer = 'adam', loss = 'mean_squared_error')\n",
    "    return regressor"
   ]
  },
  {
   "cell_type": "markdown",
   "id": "fff04e36",
   "metadata": {},
   "source": [
    "### Function for reshaping train and test data for use on neural network"
   ]
  },
  {
   "cell_type": "code",
   "execution_count": 23,
   "id": "e4d24ab8",
   "metadata": {},
   "outputs": [],
   "source": [
    "# Define a variable to reshape the train and test data into shape (, , 1) to make it processable on the neural network\n",
    "\n",
    "def variables_model(n):\n",
    "    x_train, Y_train = X_train[n], y_train[n]\n",
    "    x_test, Y_test = X_test[n], y_test[n]\n",
    "    \n",
    "    x_train = x_train.reshape(x_train.shape[0], x_train.shape[1], 1)\n",
    "    x_test = x_test.reshape(x_test.shape[0], x_test.shape[1], 1)\n",
    "    \n",
    "    return (x_train, x_test, Y_train, Y_test)\n",
    "    "
   ]
  },
  {
   "cell_type": "markdown",
   "id": "0f34fe82",
   "metadata": {},
   "source": [
    "### Function for fitting the model with epochs=50"
   ]
  },
  {
   "cell_type": "code",
   "execution_count": 24,
   "id": "50b29695",
   "metadata": {},
   "outputs": [],
   "source": [
    "# Fit the model and get the predictions\n",
    "\n",
    "def model_fit(Xtr, ytr, Xte):\n",
    "    model.fit(Xtr, ytr, epochs = 50, batch_size = 32)\n",
    "    pred = model.predict(Xte)\n",
    "    return pred"
   ]
  },
  {
   "cell_type": "markdown",
   "id": "9db21df1",
   "metadata": {},
   "source": [
    "### Merging the actual and prediction data for further analysis"
   ]
  },
  {
   "cell_type": "code",
   "execution_count": 25,
   "id": "95a1eba5",
   "metadata": {},
   "outputs": [],
   "source": [
    "# For future use in plotting, create one data frame to have the train values plus the test values\n",
    "# and another pandas series to have the train data plus the predicted values\n",
    "\n",
    "def df_merger(train_data, test_data, pred_values):\n",
    "    actual_data = train_data.append(test_data)\n",
    "    predicted_data = train_data.append(pred_values)\n",
    "    return actual_data, predicted_data"
   ]
  },
  {
   "cell_type": "markdown",
   "id": "4c42304e",
   "metadata": {},
   "source": [
    "### Defining a function for comparing plots"
   ]
  },
  {
   "cell_type": "code",
   "execution_count": 26,
   "id": "386acfb5",
   "metadata": {},
   "outputs": [],
   "source": [
    "# Compare actual values with predicted values with a plot\n",
    "\n",
    "def plot_comparison(actual, predicted, string):\n",
    "    #Visualizing the prediction\n",
    "    plt.figure(figsize=(10,6))\n",
    "    plt.plot(actual[:-test_size], color = 'blue')\n",
    "    plt.plot(actual[-test_size:], color = 'orange', label = 'Actual Values')\n",
    "    plt.plot(predicted[-test_size:], color = 'green', label = 'Predicted Values')\n",
    "    plt.title(string)\n",
    "    plt.xlabel('Trading Day')\n",
    "    plt.ylabel('Price')\n",
    "    plt.legend()\n",
    "    return plt.show()\n",
    "    "
   ]
  },
  {
   "cell_type": "markdown",
   "id": "bd98e28f",
   "metadata": {},
   "source": [
    "### Creating a data frame for saving all predictions"
   ]
  },
  {
   "cell_type": "code",
   "execution_count": 27,
   "id": "526f0663",
   "metadata": {},
   "outputs": [],
   "source": [
    "# Save a data frame to concat all the predictions\n",
    "\n",
    "# Start with an empty data frame\n",
    "predictions_df = pd.DataFrame()\n",
    "\n",
    "# Start with the same date than the test for the comparisons.\n",
    "predictions_df['Date'] = test.index\n",
    "\n",
    "#Set the date as the index\n",
    "predictions_df.set_index('Date', inplace = True)"
   ]
  },
  {
   "cell_type": "markdown",
   "id": "dae5261c",
   "metadata": {},
   "source": [
    "### Modeling"
   ]
  },
  {
   "cell_type": "code",
   "execution_count": 28,
   "id": "18fe177a",
   "metadata": {},
   "outputs": [],
   "source": [
    "# Define the model\n",
    "\n",
    "model = neural_network()"
   ]
  },
  {
   "cell_type": "code",
   "execution_count": 29,
   "id": "1cae7780",
   "metadata": {},
   "outputs": [
    {
     "name": "stdout",
     "output_type": "stream",
     "text": [
      "Model: \"sequential\"\n",
      "_________________________________________________________________\n",
      " Layer (type)                Output Shape              Param #   \n",
      "=================================================================\n",
      " lstm (LSTM)                 (None, 5, 50)             10400     \n",
      "                                                                 \n",
      " dropout (Dropout)           (None, 5, 50)             0         \n",
      "                                                                 \n",
      " lstm_1 (LSTM)               (None, 5, 50)             20200     \n",
      "                                                                 \n",
      " dropout_1 (Dropout)         (None, 5, 50)             0         \n",
      "                                                                 \n",
      " lstm_2 (LSTM)               (None, 50)                20200     \n",
      "                                                                 \n",
      " dropout_2 (Dropout)         (None, 50)                0         \n",
      "                                                                 \n",
      " dense (Dense)               (None, 1)                 51        \n",
      "                                                                 \n",
      "=================================================================\n",
      "Total params: 50,851\n",
      "Trainable params: 50,851\n",
      "Non-trainable params: 0\n",
      "_________________________________________________________________\n"
     ]
    }
   ],
   "source": [
    "# Check the summary\n",
    "\n",
    "model.summary()"
   ]
  },
  {
   "cell_type": "markdown",
   "id": "7acdbb4f",
   "metadata": {},
   "source": [
    "### Recalling data for the stock QQQ"
   ]
  },
  {
   "cell_type": "code",
   "execution_count": 30,
   "id": "6d095a5d",
   "metadata": {},
   "outputs": [],
   "source": [
    "# Get the data for this stock\n",
    "\n",
    "Q_Xtrain, Q_Xtest, Q_ytrain, Q_ytest = variables_model(n = 0)"
   ]
  },
  {
   "cell_type": "markdown",
   "id": "f361d166",
   "metadata": {},
   "source": [
    "### Fitting the data in LSTM "
   ]
  },
  {
   "cell_type": "code",
   "execution_count": 31,
   "id": "5801f132",
   "metadata": {},
   "outputs": [
    {
     "name": "stdout",
     "output_type": "stream",
     "text": [
      "Train on 3060 samples\n",
      "Epoch 1/50\n",
      "3060/3060 [==============================] - 1s 460us/sample - loss: 0.0203\n",
      "Epoch 2/50\n",
      "3060/3060 [==============================] - 1s 167us/sample - loss: 0.0021\n",
      "Epoch 3/50\n",
      "3060/3060 [==============================] - 1s 171us/sample - loss: 0.0018\n",
      "Epoch 4/50\n",
      "3060/3060 [==============================] - 1s 170us/sample - loss: 0.0017\n",
      "Epoch 5/50\n",
      "3060/3060 [==============================] - 0s 163us/sample - loss: 0.0014\n",
      "Epoch 6/50\n",
      "3060/3060 [==============================] - 1s 167us/sample - loss: 0.0014\n",
      "Epoch 7/50\n",
      "3060/3060 [==============================] - 0s 160us/sample - loss: 0.0014\n",
      "Epoch 8/50\n",
      "3060/3060 [==============================] - 0s 158us/sample - loss: 0.0013\n",
      "Epoch 9/50\n",
      "3060/3060 [==============================] - 1s 170us/sample - loss: 0.0012\n",
      "Epoch 10/50\n",
      "3060/3060 [==============================] - 0s 160us/sample - loss: 0.0013\n",
      "Epoch 11/50\n",
      "3060/3060 [==============================] - 0s 163us/sample - loss: 0.0011\n",
      "Epoch 12/50\n",
      "3060/3060 [==============================] - 0s 160us/sample - loss: 0.0011\n",
      "Epoch 13/50\n",
      "3060/3060 [==============================] - 1s 165us/sample - loss: 0.0010\n",
      "Epoch 14/50\n",
      "3060/3060 [==============================] - 1s 181us/sample - loss: 0.0011\n",
      "Epoch 15/50\n",
      "3060/3060 [==============================] - 1s 177us/sample - loss: 9.4964e-04\n",
      "Epoch 16/50\n",
      "3060/3060 [==============================] - 1s 183us/sample - loss: 9.7608e-04\n",
      "Epoch 17/50\n",
      "3060/3060 [==============================] - 1s 177us/sample - loss: 0.0011\n",
      "Epoch 18/50\n",
      "3060/3060 [==============================] - 1s 175us/sample - loss: 0.0010\n",
      "Epoch 19/50\n",
      "3060/3060 [==============================] - 0s 162us/sample - loss: 9.9040e-04\n",
      "Epoch 20/50\n",
      "3060/3060 [==============================] - 0s 163us/sample - loss: 9.7107e-04\n",
      "Epoch 21/50\n",
      "3060/3060 [==============================] - 1s 164us/sample - loss: 9.2752e-04\n",
      "Epoch 22/50\n",
      "3060/3060 [==============================] - 0s 163us/sample - loss: 9.1407e-04\n",
      "Epoch 23/50\n",
      "3060/3060 [==============================] - 1s 169us/sample - loss: 8.6790e-04\n",
      "Epoch 24/50\n",
      "3060/3060 [==============================] - 1s 167us/sample - loss: 8.6959e-04\n",
      "Epoch 25/50\n",
      "3060/3060 [==============================] - 0s 160us/sample - loss: 8.2388e-04\n",
      "Epoch 26/50\n",
      "3060/3060 [==============================] - 1s 164us/sample - loss: 8.0162e-04\n",
      "Epoch 27/50\n",
      "3060/3060 [==============================] - 0s 160us/sample - loss: 7.9635e-04\n",
      "Epoch 28/50\n",
      "3060/3060 [==============================] - 0s 163us/sample - loss: 8.3136e-04\n",
      "Epoch 29/50\n",
      "3060/3060 [==============================] - 0s 160us/sample - loss: 9.1463e-04\n",
      "Epoch 30/50\n",
      "3060/3060 [==============================] - 0s 158us/sample - loss: 8.4081e-04\n",
      "Epoch 31/50\n",
      "3060/3060 [==============================] - 1s 164us/sample - loss: 7.9607e-04\n",
      "Epoch 32/50\n",
      "3060/3060 [==============================] - 0s 161us/sample - loss: 8.0882e-04\n",
      "Epoch 33/50\n",
      "3060/3060 [==============================] - 0s 159us/sample - loss: 7.8450e-04\n",
      "Epoch 34/50\n",
      "3060/3060 [==============================] - 0s 158us/sample - loss: 7.5234e-04\n",
      "Epoch 35/50\n",
      "3060/3060 [==============================] - 0s 159us/sample - loss: 8.5981e-04\n",
      "Epoch 36/50\n",
      "3060/3060 [==============================] - 1s 165us/sample - loss: 8.2290e-04\n",
      "Epoch 37/50\n",
      "3060/3060 [==============================] - 0s 162us/sample - loss: 8.1351e-04\n",
      "Epoch 38/50\n",
      "3060/3060 [==============================] - 0s 158us/sample - loss: 7.3914e-04\n",
      "Epoch 39/50\n",
      "3060/3060 [==============================] - 1s 168us/sample - loss: 7.7199e-04\n",
      "Epoch 40/50\n",
      "3060/3060 [==============================] - 0s 159us/sample - loss: 8.2705e-04\n",
      "Epoch 41/50\n",
      "3060/3060 [==============================] - 1s 167us/sample - loss: 8.1616e-04\n",
      "Epoch 42/50\n",
      "3060/3060 [==============================] - 0s 159us/sample - loss: 7.9290e-04\n",
      "Epoch 43/50\n",
      "3060/3060 [==============================] - 1s 169us/sample - loss: 7.1739e-04\n",
      "Epoch 44/50\n",
      "3060/3060 [==============================] - 0s 159us/sample - loss: 6.9068e-04\n",
      "Epoch 45/50\n",
      "3060/3060 [==============================] - 0s 162us/sample - loss: 7.4480e-04\n",
      "Epoch 46/50\n",
      "3060/3060 [==============================] - 1s 178us/sample - loss: 8.2796e-04\n",
      "Epoch 47/50\n",
      "3060/3060 [==============================] - 1s 177us/sample - loss: 6.9092e-04\n",
      "Epoch 48/50\n",
      "3060/3060 [==============================] - 1s 180us/sample - loss: 6.9735e-04\n",
      "Epoch 49/50\n",
      "3060/3060 [==============================] - 1s 182us/sample - loss: 6.8491e-04\n",
      "Epoch 50/50\n",
      "3060/3060 [==============================] - 0s 160us/sample - loss: 7.8101e-04\n"
     ]
    }
   ],
   "source": [
    "# Fit the data for the stock\n",
    "\n",
    "Q_pred = model_fit(Xtr = Q_Xtrain, ytr = Q_ytrain, Xte = Q_Xtest)\n"
   ]
  },
  {
   "cell_type": "markdown",
   "id": "1851dc86",
   "metadata": {},
   "source": [
    "### Getting the real price of stock by inverse scaling"
   ]
  },
  {
   "cell_type": "code",
   "execution_count": 32,
   "id": "8bf1b7a2",
   "metadata": {},
   "outputs": [],
   "source": [
    "# Use the inverse transform function\n",
    "\n",
    "Q_pred_prices = scaler_inverse(train_array = train['Close'].values, predictions = Q_pred)\n"
   ]
  },
  {
   "cell_type": "markdown",
   "id": "14c642a9",
   "metadata": {},
   "source": [
    "### Adding predicted price in the data frame"
   ]
  },
  {
   "cell_type": "code",
   "execution_count": 33,
   "id": "c380d761",
   "metadata": {},
   "outputs": [],
   "source": [
    "# Add the first column to the data frame that will store the predictions\n",
    "\n",
    "predictions_df['Close'] = Q_pred_prices\n"
   ]
  },
  {
   "cell_type": "markdown",
   "id": "706513e1",
   "metadata": {},
   "source": [
    "### Getting actual and predicted data from our model"
   ]
  },
  {
   "cell_type": "code",
   "execution_count": 34,
   "id": "ec74cb07",
   "metadata": {},
   "outputs": [],
   "source": [
    "# Get the actual and predicted data as data frames for both\n",
    "\n",
    "QQQ_actual, QQQ_predicted = df_merger(train_data = train['Close'], test_data = test['Close'], \n",
    "                                  pred_values = predictions_df['Close'])\n"
   ]
  },
  {
   "cell_type": "markdown",
   "id": "214b91a5",
   "metadata": {},
   "source": [
    "### Verifying actual data"
   ]
  },
  {
   "cell_type": "code",
   "execution_count": 35,
   "id": "93b3c9d1",
   "metadata": {},
   "outputs": [
    {
     "data": {
      "text/plain": [
       "Date\n",
       "2022-11-22 00:00:00-05:00    285.267059\n",
       "2022-11-23 00:00:00-05:00    288.130188\n",
       "2022-11-25 00:00:00-05:00    286.234741\n",
       "2022-11-28 00:00:00-05:00    282.034790\n",
       "2022-11-29 00:00:00-05:00    279.899902\n",
       "Name: Close, dtype: float64"
      ]
     },
     "execution_count": 35,
     "metadata": {},
     "output_type": "execute_result"
    }
   ],
   "source": [
    "#QQQ_actual.info()\n",
    "#df1.info()\n",
    "QQQ_actual.tail()"
   ]
  },
  {
   "cell_type": "code",
   "execution_count": 36,
   "id": "811f5d6a",
   "metadata": {},
   "outputs": [
    {
     "data": {
      "text/plain": [
       "3126"
      ]
     },
     "execution_count": 36,
     "metadata": {},
     "output_type": "execute_result"
    }
   ],
   "source": [
    "len(QQQ_predicted)"
   ]
  },
  {
   "cell_type": "markdown",
   "id": "3026cc74",
   "metadata": {},
   "source": [
    "### Comparing the actual and predicted values by plot"
   ]
  },
  {
   "cell_type": "code",
   "execution_count": 37,
   "id": "d32a9bb3",
   "metadata": {},
   "outputs": [
    {
     "data": {
      "image/png": "[encoded data removed]",
      "text/plain": [
       "<Figure size 720x432 with 1 Axes>"
      ]
     },
     "metadata": {
      "needs_background": "light"
     },
     "output_type": "display_data"
    }
   ],
   "source": [
    "# Plot the QQQ Stock Price comparison\n",
    "\n",
    "plot_comparison(actual = QQQ_actual, predicted = QQQ_predicted, string = 'QQQ')"
   ]
  },
  {
   "cell_type": "markdown",
   "id": "be26edb4",
   "metadata": {},
   "source": [
    "#### Summary\n",
    "- LSTM neural network can be used for predicting the stock prices. However, it may be affected by economic conditions, earning results and over all sentiments\n",
    "- No of layers of LSTM can be modified for getting better predictability\n",
    "\n",
    "#### Future Work\n",
    "\n",
    "- Reinforcement learning can be applied to stocks data to see if it can improve predictions of  stock prices. "
   ]
  }
 ],
 "metadata": {
  "kernelspec": {
   "display_name": "Python 3 (ipykernel)",
   "language": "python",
   "name": "python3"
  },
  "language_info": {
   "codemirror_mode": {
    "name": "ipython",
    "version": 3
   },
   "file_extension": ".py",
   "mimetype": "text/x-python",
   "name": "python",
   "nbconvert_exporter": "python",
   "pygments_lexer": "ipython3",
   "version": "3.9.12"
  }
 },
 "nbformat": 4,
 "nbformat_minor": 5
}
