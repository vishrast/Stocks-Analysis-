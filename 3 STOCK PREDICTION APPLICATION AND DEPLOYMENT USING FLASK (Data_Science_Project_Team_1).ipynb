{
 "cells": [
  {
   "cell_type": "markdown",
   "metadata": {
    "colab_type": "text",
    "id": "view-in-github"
   },
   "source": [
    "<a href=\"https://colab.research.google.com/github/Worlddatascience/DataScienceCohort/blob/master/Stock%20Prediction%20Application%20and%20Deployment%20using%20Flask%20(Data_Science_Project_Team_1).ipynb\" target=\"_parent\"><img src=\"https://colab.research.google.com/assets/colab-badge.svg\" alt=\"Open In Colab\"/></a>"
   ]
  },
  {
   "cell_type": "markdown",
   "metadata": {
    "colab_type": "text",
    "id": "ILHFEE_8cU28"
   },
   "source": [
    "**DATA SCIENCE TEAM 1**\n",
    "\n",
    "Anade Davis - Data Science Manager\n",
    "\n",
    "Christopher Rutherford - Data Scientist \n",
    "\n",
    "Tanjeel Ahmed - Data Science Researcher - Project Lead\n",
    "\n",
    "Gabe Smithline - Quantitative Analyst\n",
    "\n",
    "Berkalp Altay - Data Analyst\n",
    "\n",
    "Zain Dwiat - Data Scientist"
   ]
  },
  {
   "cell_type": "markdown",
   "metadata": {
    "colab_type": "text",
    "id": "9Onv6nUPb3CO"
   },
   "source": [
    "In this team project we will demonstrate how to create a Stock Prediction Model and deploy it for Real World Application."
   ]
  },
  {
   "cell_type": "markdown",
   "metadata": {
    "colab_type": "text",
    "id": "gjR72Hbwcz2Q"
   },
   "source": [
    "**Tanjeel Ahmed Obervation**\n",
    "\n",
    "RNN (recurrent neural networks) is most famous for time series data prediction\n",
    "and LSTM is based on RNN but there's a fact that when we are feeding only historical data to our model to predict stock prices, models like LSTM often finds the pattern correctly but in terms of prediction accuracy it doesn't work well.\n",
    "\n",
    "* For example we can take Netflix stock price, it was going downwards at the \n",
    "beginning of this year but then corona hit the market and from then Netflix stock price is skyrocketing.\n",
    "\n",
    "* On the other hand CNN (convolutional neural networks) is build for finding patterns using different layers.\n",
    "\n",
    "Although CNN was not built for the specific time series prediction purpose, it performs well on time series data because of its different layers(in our case we can say 7 days as a layer) predicting method.\n",
    "\n",
    "**Chris Rutherford Observation:**\n",
    "\n",
    "I've noticed that as well with LSTMs, it seems to detect the overall pattern, but for the prediction, it would be nowhere near the last true price. \n",
    "\n",
    "* It seemed to be near the average of the historical data which wasn't too useful.\n",
    "\n",
    "* When I used a CNN it was able to create the predictions based off of the most recent prices."
   ]
  },
  {
   "cell_type": "markdown",
   "metadata": {
    "colab_type": "text",
    "id": "P4iPZCmi6Vz4"
   },
   "source": [
    "**Gabe Smithline Observation:**\n",
    "A lot of the data now isn’t indicative of traditional historical prices and it might be better to have something that’s closer to the most recent stock price just because of how much unknown there is in general so a CNN might be best."
   ]
  },
  {
   "cell_type": "markdown",
   "metadata": {
    "colab_type": "text",
    "id": "jUHVCu9Vf5GR"
   },
   "source": [
    "##          Stock price forecasting model (For 7 days)\n",
    "We are going to make a machine learning model that can predict stock prices for 7 days. As we are getting our data through an API and by analyzing those data (Historical data) we are going to predict the next 7 days stock price, we can categorize this machine learning model as a supervised machine learning model. This particular problem can also be defined as time series data prediction model as the data is changing chronologically. The data we are getting from the API is labelled data. The labels are \n",
    "1.\tOpen\n",
    "2.\tHigh\n",
    "3.\tLow\n",
    "4.\tClose\n",
    "5.\tVolume\n",
    "\n",
    "We are going to predict the Closing price. \n",
    "There are many popular algorithms established in the market that can predict stock prices like MLP (Multilayer perceptions), RNN (Recursive neural networks), LSTM (Long short-term memory), CNN (Convolutional neural networks). For this project we are going to use CNN algorithm-based model.\n",
    "\n",
    "CNN algorithm is a deep learning algorithm that was originally developed to process image data but recently it shows amazing results in predicting sequential data analysis (time series data analysis), which is exactly the type of data we are working with in this project.\n",
    "\n",
    "We can describe our procedure in some steps:\n",
    "-\tGetting the data through API (we are using alphavantage API): We are using the data of Microsoft company’s stock price.\n",
    "-\tPreprocessing the data\n",
    "-\tEDA (exploratory data analysis): In this case we can divide our EDA process in two parts (1) Cleaning the data (2) Visualizing the data\n",
    "-\tCreating features\n",
    "-\tSetting up the model (CNN model): (1) First we have to construct the model layers (2) Fit the model with the data taken through the API and processed with.\n",
    "-\tPredicting the stock price\n",
    "-\tVisualizing our prediction\n",
    "-\tDeployment of our model\n",
    "\n"
   ]
  },
  {
   "cell_type": "markdown",
   "metadata": {
    "colab_type": "text",
    "id": "1Mf5YoaudOAD"
   },
   "source": [
    "### First, we import the essential data science libraries we will use throughout this project."
   ]
  },
  {
   "cell_type": "code",
   "execution_count": 1,
   "metadata": {
    "colab": {
     "base_uri": "https://localhost:8080/",
     "height": 72
    },
    "colab_type": "code",
    "id": "ic68UQl8cdfO",
    "outputId": "7d0600d1-b341-4016-9137-064b7987527c"
   },
   "outputs": [
    {
     "name": "stderr",
     "output_type": "stream",
     "text": [
      "/usr/local/lib/python3.6/dist-packages/statsmodels/tools/_testing.py:19: FutureWarning: pandas.util.testing is deprecated. Use the functions in the public API at pandas.testing instead.\n",
      "  import pandas.util.testing as tm\n"
     ]
    }
   ],
   "source": [
    "# Importing the essential libraries for our CNN model\n",
    "import numpy as np #It does fast computations with arrays. As NumPy uses the c programming language in the backend it computes faster. \n",
    "import pandas as pd #To work with our dataframe. To manipulate them and save data into optimized dataframes\n",
    "import matplotlib.pyplot as plt #create custom visualizations/plots of the data\n",
    "import seaborn as sns; sns.set() #sets the style of plots"
   ]
  },
  {
   "cell_type": "markdown",
   "metadata": {
    "colab_type": "text",
    "id": "z8lvNpGESCOA"
   },
   "source": [
    "### Getting the Data"
   ]
  },
  {
   "cell_type": "code",
   "execution_count": 2,
   "metadata": {
    "colab": {
     "base_uri": "https://localhost:8080/",
     "height": 55
    },
    "colab_type": "code",
    "id": "pvppUyWwSFNL",
    "outputId": "00076c5d-7ab4-4cbc-d470-971d19535971"
   },
   "outputs": [
    {
     "name": "stdout",
     "output_type": "stream",
     "text": [
      "{'Meta Data': {'1. Information': 'Daily Prices (open, high, low, close) and Volumes', '2. Symbol': 'MSFT', '3. Last Refreshed': '2020-09-18', '4. Output Size': 'Compact', '5. Time Zone': 'US/Eastern'}, 'Time Series (Daily)': {'2020-09-18': {'1. open': '202.8000', '2. high': '203.6500', '3. low': '196.2500', '4. close': '200.3900', '5. volume': '55225326'}, '2020-09-17': {'1. open': '200.0500', '2. high': '204.3300', '3. low': '199.9600', '4. close': '202.9100', '5. volume': '34011257'}, '2020-09-16': {'1. open': '210.6200', '2. high': '210.6500', '3. low': '204.6400', '4. close': '205.0500', '5. volume': '26372464'}, '2020-09-15': {'1. open': '208.4200', '2. high': '209.7800', '3. low': '206.9300', '4. close': '208.7800', '5. volume': '21823942'}, '2020-09-14': {'1. open': '204.2400', '2. high': '209.2000', '3. low': '204.0300', '4. close': '205.4100', '5. volume': '30375768'}, '2020-09-11': {'1. open': '207.2000', '2. high': '208.6300', '3. low': '201.2400', '4. close': '204.0300', '5. volume': '33620073'}, '2020-09-10': {'1. open': '213.4000', '2. high': '214.7400', '3. low': '204.1100', '4. close': '205.3700', '5. volume': '35461514'}, '2020-09-09': {'1. open': '207.6000', '2. high': '214.8399', '3. low': '206.7000', '4. close': '211.2900', '5. volume': '45678986'}, '2020-09-08': {'1. open': '206.5000', '2. high': '210.0300', '3. low': '202.2000', '4. close': '202.6600', '5. volume': '52924330'}, '2020-09-04': {'1. open': '215.1000', '2. high': '218.3599', '3. low': '205.1900', '4. close': '214.2500', '5. volume': '59664072'}, '2020-09-03': {'1. open': '229.2700', '2. high': '229.3100', '3. low': '214.9602', '4. close': '217.3000', '5. volume': '58400288'}, '2020-09-02': {'1. open': '227.9700', '2. high': '232.8600', '3. low': '227.3500', '4. close': '231.6500', '5. volume': '34080839'}, '2020-09-01': {'1. open': '225.5100', '2. high': '227.4500', '3. low': '224.4300', '4. close': '227.2700', '5. volume': '25791235'}, '2020-08-31': {'1. open': '227.0000', '2. high': '228.7000', '3. low': '224.3100', '4. close': '225.5300', '5. volume': '28774156'}, '2020-08-28': {'1. open': '228.1800', '2. high': '230.6440', '3. low': '226.5800', '4. close': '228.9100', '5. volume': '26292896'}, '2020-08-27': {'1. open': '222.8900', '2. high': '231.1500', '3. low': '219.4000', '4. close': '226.5800', '5. volume': '57602195'}, '2020-08-26': {'1. open': '217.8800', '2. high': '222.0900', '3. low': '217.3600', '4. close': '221.1500', '5. volume': '39600828'}, '2020-08-25': {'1. open': '213.1000', '2. high': '216.6100', '3. low': '213.1000', '4. close': '216.4700', '5. volume': '23043696'}, '2020-08-24': {'1. open': '214.7900', '2. high': '215.5200', '3. low': '212.4300', '4. close': '213.6900', '5. volume': '25460147'}, '2020-08-21': {'1. open': '213.8600', '2. high': '216.2500', '3. low': '212.8500', '4. close': '213.0200', '5. volume': '36249319'}, '2020-08-20': {'1. open': '209.5400', '2. high': '215.0000', '3. low': '208.9100', '4. close': '214.5800', '5. volume': '26981478'}, '2020-08-19': {'1. open': '211.4900', '2. high': '212.1000', '3. low': '209.2500', '4. close': '209.7000', '5. volume': '27627561'}, '2020-08-18': {'1. open': '210.5300', '2. high': '212.3600', '3. low': '209.2100', '4. close': '211.4900', '5. volume': '21336167'}, '2020-08-17': {'1. open': '209.6000', '2. high': '211.1874', '3. low': '208.9150', '4. close': '210.2800', '5. volume': '20063496'}, '2020-08-14': {'1. open': '208.7600', '2. high': '209.5900', '3. low': '207.5100', '4. close': '208.9000', '5. volume': '17958936'}, '2020-08-13': {'1. open': '209.4400', '2. high': '211.3500', '3. low': '208.1500', '4. close': '208.7000', '5. volume': '22588870'}, '2020-08-12': {'1. open': '205.2900', '2. high': '210.2800', '3. low': '204.7500', '4. close': '209.1900', '5. volume': '28041364'}, '2020-08-11': {'1. open': '207.1550', '2. high': '207.6500', '3. low': '203.1400', '4. close': '203.3800', '5. volume': '36446459'}, '2020-08-10': {'1. open': '211.6700', '2. high': '211.8800', '3. low': '206.3500', '4. close': '208.2500', '5. volume': '36716462'}, '2020-08-07': {'1. open': '214.8500', '2. high': '215.7000', '3. low': '210.9300', '4. close': '212.4800', '5. volume': '27820421'}, '2020-08-06': {'1. open': '212.3400', '2. high': '216.3705', '3. low': '211.5500', '4. close': '216.3500', '5. volume': '32656843'}, '2020-08-05': {'1. open': '214.9000', '2. high': '215.0000', '3. low': '211.5700', '4. close': '212.9400', '5. volume': '28858621'}, '2020-08-04': {'1. open': '214.1700', '2. high': '214.7700', '3. low': '210.3100', '4. close': '213.2900', '5. volume': '49280056'}, '2020-08-03': {'1. open': '211.5200', '2. high': '217.6400', '3. low': '210.4400', '4. close': '216.5400', '5. volume': '78983009'}, '2020-07-31': {'1. open': '204.4000', '2. high': '205.1000', '3. low': '199.0100', '4. close': '205.0100', '5. volume': '51247969'}, '2020-07-30': {'1. open': '201.0000', '2. high': '204.4600', '3. low': '199.5700', '4. close': '203.9000', '5. volume': '25079596'}, '2020-07-29': {'1. open': '202.5000', '2. high': '204.6500', '3. low': '202.0100', '4. close': '204.0600', '5. volume': '19632602'}, '2020-07-28': {'1. open': '203.6100', '2. high': '204.7000', '3. low': '201.7400', '4. close': '202.0200', '5. volume': '23251388'}, '2020-07-27': {'1. open': '201.4700', '2. high': '203.9700', '3. low': '200.8600', '4. close': '203.8500', '5. volume': '30160867'}, '2020-07-24': {'1. open': '200.4200', '2. high': '202.8600', '3. low': '197.5100', '4. close': '201.3000', '5. volume': '39826989'}, '2020-07-23': {'1. open': '207.1900', '2. high': '210.9200', '3. low': '202.1500', '4. close': '202.5400', '5. volume': '67457035'}, '2020-07-22': {'1. open': '209.2000', '2. high': '212.3000', '3. low': '208.3900', '4. close': '211.7500', '5. volume': '49605692'}, '2020-07-21': {'1. open': '213.6600', '2. high': '213.9400', '3. low': '208.0300', '4. close': '208.7500', '5. volume': '37702523'}, '2020-07-20': {'1. open': '205.0000', '2. high': '212.3000', '3. low': '203.0100', '4. close': '211.6000', '5. volume': '36386080'}, '2020-07-17': {'1. open': '204.4700', '2. high': '205.0400', '3. low': '201.3900', '4. close': '202.8800', '5. volume': '31636070'}, '2020-07-16': {'1. open': '205.4000', '2. high': '205.7000', '3. low': '202.3100', '4. close': '203.9200', '5. volume': '29940718'}, '2020-07-15': {'1. open': '209.5600', '2. high': '211.3300', '3. low': '205.0300', '4. close': '208.0400', '5. volume': '32248893'}, '2020-07-14': {'1. open': '206.1300', '2. high': '208.8500', '3. low': '202.0300', '4. close': '208.3500', '5. volume': '37598121'}, '2020-07-13': {'1. open': '214.4800', '2. high': '215.8000', '3. low': '206.5000', '4. close': '207.0700', '5. volume': '38135816'}, '2020-07-10': {'1. open': '213.6200', '2. high': '214.0800', '3. low': '211.0800', '4. close': '213.6700', '5. volume': '26178663'}, '2020-07-09': {'1. open': '216.3300', '2. high': '216.3800', '3. low': '211.4700', '4. close': '214.3200', '5. volume': '33122280'}, '2020-07-08': {'1. open': '210.0700', '2. high': '213.2600', '3. low': '208.6900', '4. close': '212.8300', '5. volume': '33602226'}, '2020-07-07': {'1. open': '210.4500', '2. high': '214.6700', '3. low': '207.9900', '4. close': '208.2500', '5. volume': '33600749'}, '2020-07-06': {'1. open': '208.8300', '2. high': '211.1300', '3. low': '208.0900', '4. close': '210.7000', '5. volume': '32033747'}, '2020-07-02': {'1. open': '205.6800', '2. high': '208.0200', '3. low': '205.0000', '4. close': '206.2600', '5. volume': '29322547'}, '2020-07-01': {'1. open': '203.1400', '2. high': '206.3500', '3. low': '201.7700', '4. close': '204.7000', '5. volume': '32071431'}, '2020-06-30': {'1. open': '197.8800', '2. high': '204.4000', '3. low': '197.7400', '4. close': '203.5100', '5. volume': '34310283'}, '2020-06-29': {'1. open': '195.7800', '2. high': '198.5300', '3. low': '193.5500', '4. close': '198.4400', '5. volume': '26701586'}, '2020-06-26': {'1. open': '199.7300', '2. high': '199.8900', '3. low': '194.8800', '4. close': '196.3300', '5. volume': '54675780'}, '2020-06-25': {'1. open': '197.8000', '2. high': '200.6100', '3. low': '195.4700', '4. close': '200.3400', '5. volume': '27803933'}, '2020-06-24': {'1. open': '201.6000', '2. high': '203.2500', '3. low': '196.5600', '4. close': '197.8400', '5. volume': '36740647'}, '2020-06-23': {'1. open': '202.0900', '2. high': '203.9500', '3. low': '201.4300', '4. close': '201.9100', '5. volume': '30917447'}, '2020-06-22': {'1. open': '195.7900', '2. high': '200.7600', '3. low': '195.2300', '4. close': '200.5700', '5. volume': '32818929'}, '2020-06-19': {'1. open': '198.5900', '2. high': '199.2900', '3. low': '194.3700', '4. close': '195.1500', '5. volume': '44441141'}, '2020-06-18': {'1. open': '194.0000', '2. high': '196.4900', '3. low': '194.0000', '4. close': '196.3200', '5. volume': '23061648'}, '2020-06-17': {'1. open': '195.0300', '2. high': '196.3200', '3. low': '193.6900', '4. close': '194.2400', '5. volume': '25687822'}, '2020-06-16': {'1. open': '192.8900', '2. high': '195.5800', '3. low': '191.4600', '4. close': '193.5700', '5. volume': '42556656'}, '2020-06-15': {'1. open': '184.5800', '2. high': '190.8200', '3. low': '184.0100', '4. close': '188.9400', '5. volume': '32770189'}, '2020-06-12': {'1. open': '190.5400', '2. high': '191.7200', '3. low': '185.1800', '4. close': '187.7400', '5. volume': '43373587'}, '2020-06-11': {'1. open': '193.1300', '2. high': '195.7600', '3. low': '186.0700', '4. close': '186.2700', '5. volume': '52854672'}, '2020-06-10': {'1. open': '191.1300', '2. high': '198.5200', '3. low': '191.0100', '4. close': '196.8400', '5. volume': '43872329'}, '2020-06-09': {'1. open': '188.0000', '2. high': '190.7000', '3. low': '187.2600', '4. close': '189.8000', '5. volume': '29783916'}, '2020-06-08': {'1. open': '185.9400', '2. high': '188.5500', '3. low': '184.4400', '4. close': '188.3600', '5. volume': '33211590'}, '2020-06-05': {'1. open': '182.6200', '2. high': '187.7300', '3. low': '182.0100', '4. close': '187.2000', '5. volume': '39893643'}, '2020-06-04': {'1. open': '184.3000', '2. high': '185.8400', '3. low': '182.3000', '4. close': '182.9200', '5. volume': '28761809'}, '2020-06-03': {'1. open': '184.8200', '2. high': '185.9400', '3. low': '183.5800', '4. close': '185.3600', '5. volume': '27311016'}, '2020-06-02': {'1. open': '184.2500', '2. high': '185.0000', '3. low': '181.3500', '4. close': '184.9100', '5. volume': '30794585'}, '2020-06-01': {'1. open': '182.5400', '2. high': '183.0000', '3. low': '181.4600', '4. close': '182.8300', '5. volume': '22668821'}, '2020-05-29': {'1. open': '182.7300', '2. high': '184.2700', '3. low': '180.4100', '4. close': '183.2500', '5. volume': '42146720'}, '2020-05-28': {'1. open': '180.7400', '2. high': '184.1500', '3. low': '180.3800', '4. close': '181.4000', '5. volume': '33831824'}, '2020-05-27': {'1. open': '180.2000', '2. high': '181.9900', '3. low': '176.6000', '4. close': '181.8100', '5. volume': '39517146'}, '2020-05-26': {'1. open': '186.3400', '2. high': '186.5000', '3. low': '181.1000', '4. close': '181.5700', '5. volume': '36073609'}, '2020-05-22': {'1. open': '183.1900', '2. high': '184.4600', '3. low': '182.5400', '4. close': '183.5100', '5. volume': '20826898'}, '2020-05-21': {'1. open': '185.4000', '2. high': '186.6700', '3. low': '183.2900', '4. close': '183.4300', '5. volume': '29032741'}, '2020-05-20': {'1. open': '184.8100', '2. high': '185.8500', '3. low': '183.9400', '4. close': '185.6600', '5. volume': '31261334'}, '2020-05-19': {'1. open': '185.0300', '2. high': '186.6000', '3. low': '183.4900', '4. close': '183.6300', '5. volume': '26799116'}, '2020-05-18': {'1. open': '185.7500', '2. high': '186.2000', '3. low': '183.9600', '4. close': '184.9100', '5. volume': '35306620'}, '2020-05-15': {'1. open': '179.0600', '2. high': '187.0600', '3. low': '177.0000', '4. close': '183.1600', '5. volume': '46610382'}, '2020-05-14': {'1. open': '177.5400', '2. high': '180.6900', '3. low': '175.6800', '4. close': '180.5300', '5. volume': '41873911'}, '2020-05-13': {'1. open': '182.5500', '2. high': '184.0500', '3. low': '176.5400', '4. close': '179.7500', '5. volume': '44711488'}, '2020-05-12': {'1. open': '186.8000', '2. high': '187.0400', '3. low': '182.3000', '4. close': '182.5100', '5. volume': '32038199'}, '2020-05-11': {'1. open': '183.1500', '2. high': '187.5100', '3. low': '182.8500', '4. close': '186.7400', '5. volume': '30892660'}, '2020-05-08': {'1. open': '184.9800', '2. high': '185.0000', '3. low': '183.3600', '4. close': '184.6800', '5. volume': '30912638'}, '2020-05-07': {'1. open': '184.1700', '2. high': '184.5500', '3. low': '182.5800', '4. close': '183.6000', '5. volume': '28315992'}, '2020-05-06': {'1. open': '182.0800', '2. high': '184.2000', '3. low': '181.6300', '4. close': '182.5400', '5. volume': '32139299'}, '2020-05-05': {'1. open': '180.6200', '2. high': '183.6500', '3. low': '179.9000', '4. close': '180.7600', '5. volume': '36839168'}, '2020-05-04': {'1. open': '174.4900', '2. high': '179.0000', '3. low': '173.8000', '4. close': '178.8400', '5. volume': '30372862'}, '2020-05-01': {'1. open': '175.8000', '2. high': '178.6400', '3. low': '174.0100', '4. close': '174.5700', '5. volume': '39370474'}, '2020-04-30': {'1. open': '180.0000', '2. high': '180.4000', '3. low': '176.2300', '4. close': '179.2100', '5. volume': '53875857'}, '2020-04-29': {'1. open': '173.2200', '2. high': '177.6800', '3. low': '171.8800', '4. close': '177.4300', '5. volume': '51286559'}}}\n"
     ]
    }
   ],
   "source": [
    "#This code pulls the data from the alphavantage API \n",
    "#Right now it is just microsoft's data\n",
    "import requests\n",
    "API_KEY = 'FYEEXVSKRKYAO1VI'\n",
    "ticker=\"MSFT\"\n",
    "r = requests.get(\"https://www.alphavantage.co/query?function=TIME_SERIES_DAILY&symbol=\"+ticker+\"&apikey=\"+API_KEY)\n",
    "if (r.status_code == 200):\n",
    "  print(r.json())"
   ]
  },
  {
   "cell_type": "markdown",
   "metadata": {
    "colab_type": "text",
    "id": "2xR8dFO_YKaN"
   },
   "source": [
    "Helper function for cleaning the data"
   ]
  },
  {
   "cell_type": "code",
   "execution_count": 3,
   "metadata": {
    "colab": {},
    "colab_type": "code",
    "id": "kHAOWviGSone"
   },
   "outputs": [],
   "source": [
    "def clean_data(data):\n",
    "    #Raw data from API \n",
    "    df = pd.DataFrame.from_dict(data, orient=\"index\")\n",
    "    #Transposing Data and Taking column with data\n",
    "    df2 = (df.T['Time Series (Daily)'])\n",
    "    #Dropping all NAs\n",
    "    df2 = df2.dropna()\n",
    "    df_convert = df2.to_frame()\n",
    "    #We will take the data from this and use it to index our dataframe \n",
    "    df_index = list(df_convert.index)\n",
    "    #Convert to cleaned dataframe \n",
    "    df2 = pd.json_normalize(df2)\n",
    "    #We add this list to the dataframe with our actual data\n",
    "    df2['Index'] = df_index\n",
    "    #We then set the index column as our actual index\n",
    "    df2 = df2.set_index('Index')\n",
    "    #Put the data in the correct order\n",
    "    df2 = df2[::-1]\n",
    "    return df2"
   ]
  },
  {
   "cell_type": "code",
   "execution_count": 4,
   "metadata": {
    "colab": {},
    "colab_type": "code",
    "id": "K3-T6xATYRr2"
   },
   "outputs": [],
   "source": [
    "df=clean_data(r.json())"
   ]
  },
  {
   "cell_type": "code",
   "execution_count": 5,
   "metadata": {
    "colab": {
     "base_uri": "https://localhost:8080/",
     "height": 446
    },
    "colab_type": "code",
    "id": "8j7hAmmoYXt3",
    "outputId": "0bd758e3-fabb-41be-8afd-a7b482d591f3"
   },
   "outputs": [
    {
     "data": {
      "text/html": [
       "<div>\n",
       "<style scoped>\n",
       "    .dataframe tbody tr th:only-of-type {\n",
       "        vertical-align: middle;\n",
       "    }\n",
       "\n",
       "    .dataframe tbody tr th {\n",
       "        vertical-align: top;\n",
       "    }\n",
       "\n",
       "    .dataframe thead th {\n",
       "        text-align: right;\n",
       "    }\n",
       "</style>\n",
       "<table border=\"1\" class=\"dataframe\">\n",
       "  <thead>\n",
       "    <tr style=\"text-align: right;\">\n",
       "      <th></th>\n",
       "      <th>1. open</th>\n",
       "      <th>2. high</th>\n",
       "      <th>3. low</th>\n",
       "      <th>4. close</th>\n",
       "      <th>5. volume</th>\n",
       "    </tr>\n",
       "    <tr>\n",
       "      <th>Index</th>\n",
       "      <th></th>\n",
       "      <th></th>\n",
       "      <th></th>\n",
       "      <th></th>\n",
       "      <th></th>\n",
       "    </tr>\n",
       "  </thead>\n",
       "  <tbody>\n",
       "    <tr>\n",
       "      <th>2020-04-29</th>\n",
       "      <td>173.2200</td>\n",
       "      <td>177.6800</td>\n",
       "      <td>171.8800</td>\n",
       "      <td>177.4300</td>\n",
       "      <td>51286559</td>\n",
       "    </tr>\n",
       "    <tr>\n",
       "      <th>2020-04-30</th>\n",
       "      <td>180.0000</td>\n",
       "      <td>180.4000</td>\n",
       "      <td>176.2300</td>\n",
       "      <td>179.2100</td>\n",
       "      <td>53875857</td>\n",
       "    </tr>\n",
       "    <tr>\n",
       "      <th>2020-05-01</th>\n",
       "      <td>175.8000</td>\n",
       "      <td>178.6400</td>\n",
       "      <td>174.0100</td>\n",
       "      <td>174.5700</td>\n",
       "      <td>39370474</td>\n",
       "    </tr>\n",
       "    <tr>\n",
       "      <th>2020-05-04</th>\n",
       "      <td>174.4900</td>\n",
       "      <td>179.0000</td>\n",
       "      <td>173.8000</td>\n",
       "      <td>178.8400</td>\n",
       "      <td>30372862</td>\n",
       "    </tr>\n",
       "    <tr>\n",
       "      <th>2020-05-05</th>\n",
       "      <td>180.6200</td>\n",
       "      <td>183.6500</td>\n",
       "      <td>179.9000</td>\n",
       "      <td>180.7600</td>\n",
       "      <td>36839168</td>\n",
       "    </tr>\n",
       "    <tr>\n",
       "      <th>...</th>\n",
       "      <td>...</td>\n",
       "      <td>...</td>\n",
       "      <td>...</td>\n",
       "      <td>...</td>\n",
       "      <td>...</td>\n",
       "    </tr>\n",
       "    <tr>\n",
       "      <th>2020-09-14</th>\n",
       "      <td>204.2400</td>\n",
       "      <td>209.2000</td>\n",
       "      <td>204.0300</td>\n",
       "      <td>205.4100</td>\n",
       "      <td>30375768</td>\n",
       "    </tr>\n",
       "    <tr>\n",
       "      <th>2020-09-15</th>\n",
       "      <td>208.4200</td>\n",
       "      <td>209.7800</td>\n",
       "      <td>206.9300</td>\n",
       "      <td>208.7800</td>\n",
       "      <td>21823942</td>\n",
       "    </tr>\n",
       "    <tr>\n",
       "      <th>2020-09-16</th>\n",
       "      <td>210.6200</td>\n",
       "      <td>210.6500</td>\n",
       "      <td>204.6400</td>\n",
       "      <td>205.0500</td>\n",
       "      <td>26372464</td>\n",
       "    </tr>\n",
       "    <tr>\n",
       "      <th>2020-09-17</th>\n",
       "      <td>200.0500</td>\n",
       "      <td>204.3300</td>\n",
       "      <td>199.9600</td>\n",
       "      <td>202.9100</td>\n",
       "      <td>34011257</td>\n",
       "    </tr>\n",
       "    <tr>\n",
       "      <th>2020-09-18</th>\n",
       "      <td>202.8000</td>\n",
       "      <td>203.6500</td>\n",
       "      <td>196.2500</td>\n",
       "      <td>200.3900</td>\n",
       "      <td>55225326</td>\n",
       "    </tr>\n",
       "  </tbody>\n",
       "</table>\n",
       "<p>100 rows × 5 columns</p>\n",
       "</div>"
      ],
      "text/plain": [
       "             1. open   2. high    3. low  4. close 5. volume\n",
       "Index                                                       \n",
       "2020-04-29  173.2200  177.6800  171.8800  177.4300  51286559\n",
       "2020-04-30  180.0000  180.4000  176.2300  179.2100  53875857\n",
       "2020-05-01  175.8000  178.6400  174.0100  174.5700  39370474\n",
       "2020-05-04  174.4900  179.0000  173.8000  178.8400  30372862\n",
       "2020-05-05  180.6200  183.6500  179.9000  180.7600  36839168\n",
       "...              ...       ...       ...       ...       ...\n",
       "2020-09-14  204.2400  209.2000  204.0300  205.4100  30375768\n",
       "2020-09-15  208.4200  209.7800  206.9300  208.7800  21823942\n",
       "2020-09-16  210.6200  210.6500  204.6400  205.0500  26372464\n",
       "2020-09-17  200.0500  204.3300  199.9600  202.9100  34011257\n",
       "2020-09-18  202.8000  203.6500  196.2500  200.3900  55225326\n",
       "\n",
       "[100 rows x 5 columns]"
      ]
     },
     "execution_count": 5,
     "metadata": {
      "tags": []
     },
     "output_type": "execute_result"
    }
   ],
   "source": [
    "df"
   ]
  },
  {
   "cell_type": "code",
   "execution_count": 6,
   "metadata": {
    "colab": {},
    "colab_type": "code",
    "id": "NYFJJsIw2IIJ"
   },
   "outputs": [],
   "source": [
    "#pd.options.display.max_rows=100 #This is the code to display max rows"
   ]
  },
  {
   "cell_type": "code",
   "execution_count": 7,
   "metadata": {
    "colab": {},
    "colab_type": "code",
    "id": "M6KeGPUH2kl3"
   },
   "outputs": [],
   "source": [
    "#df #since there is only 100 rows I want to manually check to see if there are any irregularities or potential nan values"
   ]
  },
  {
   "cell_type": "markdown",
   "metadata": {
    "colab_type": "text",
    "id": "EASx3bE8iJMp"
   },
   "source": [
    "### Processing the Data and Generating Features"
   ]
  },
  {
   "cell_type": "markdown",
   "metadata": {
    "colab_type": "text",
    "id": "s2BU90LkJ5R_"
   },
   "source": [
    "Checking the column data types"
   ]
  },
  {
   "cell_type": "code",
   "execution_count": 8,
   "metadata": {
    "colab": {
     "base_uri": "https://localhost:8080/",
     "height": 121
    },
    "colab_type": "code",
    "id": "bFB4Uud9J6vq",
    "outputId": "4925ff04-4a11-4b3d-a742-223e28835984"
   },
   "outputs": [
    {
     "data": {
      "text/plain": [
       "1. open      object\n",
       "2. high      object\n",
       "3. low       object\n",
       "4. close     object\n",
       "5. volume    object\n",
       "dtype: object"
      ]
     },
     "execution_count": 8,
     "metadata": {
      "tags": []
     },
     "output_type": "execute_result"
    }
   ],
   "source": [
    "df.dtypes #check data types of each column"
   ]
  },
  {
   "cell_type": "markdown",
   "metadata": {
    "colab_type": "text",
    "id": "OgqnKxzhJ9C4"
   },
   "source": [
    "We need to convert the index to a datetime object and the other columns to numbers:"
   ]
  },
  {
   "cell_type": "code",
   "execution_count": 9,
   "metadata": {
    "colab": {},
    "colab_type": "code",
    "id": "hVmMF0ZgC_6L"
   },
   "outputs": [],
   "source": [
    "def conv_types(data):\n",
    "    data.index=pd.to_datetime(data.index) #convert the index to a datetime object for plotting\n",
    "    #convert each column to integers for plotting and model input\n",
    "    data['1. open']=pd.to_numeric(data['1. open'])\n",
    "    data['2. high']=pd.to_numeric(data['2. high'])\n",
    "    data['3. low']=pd.to_numeric(data['3. low'])\n",
    "    data['4. close']=pd.to_numeric(data['4. close'])\n",
    "    data['5. volume']=pd.to_numeric(data['5. volume'])\n",
    "    return df"
   ]
  },
  {
   "cell_type": "code",
   "execution_count": 10,
   "metadata": {
    "colab": {},
    "colab_type": "code",
    "id": "haAx5cmlYova"
   },
   "outputs": [],
   "source": [
    "df=conv_types(df)"
   ]
  },
  {
   "cell_type": "code",
   "execution_count": 11,
   "metadata": {
    "colab": {
     "base_uri": "https://localhost:8080/",
     "height": 121
    },
    "colab_type": "code",
    "id": "-dyrnTTKCx-o",
    "outputId": "a906854b-7150-473b-c5b9-acfee44233c8"
   },
   "outputs": [
    {
     "data": {
      "text/plain": [
       "1. open      float64\n",
       "2. high      float64\n",
       "3. low       float64\n",
       "4. close     float64\n",
       "5. volume      int64\n",
       "dtype: object"
      ]
     },
     "execution_count": 11,
     "metadata": {
      "tags": []
     },
     "output_type": "execute_result"
    }
   ],
   "source": [
    "df.dtypes #verify type conversions"
   ]
  },
  {
   "cell_type": "code",
   "execution_count": 12,
   "metadata": {
    "colab": {},
    "colab_type": "code",
    "id": "u8BjATR7CEHy"
   },
   "outputs": [],
   "source": [
    "def plot_data(data):\n",
    "    plt.figure(figsize=(22,6)) #set the size of the figure\n",
    "    plt.subplot(1,2,1)\n",
    "    #create two subplots - one for daily prices, one for daily volume\n",
    "    plt.plot(data['1. open'], color='blue', label=\"Open\")\n",
    "    plt.plot(data['2. high'], color='green', label=\"High\")\n",
    "    plt.plot(data['3. low'], color='red', label=\"Low\")\n",
    "    plt.plot(data['4. close'], color='purple', label=\"Close\")\n",
    "    plt.title(str(\"Microsoft ($MSFT) Daily Stock Price\\n\"+str(data.index[0].date())+\" to \"+str(data.index[-1].date())))\n",
    "    plt.xlabel(\"Date\")\n",
    "    plt.ylabel(\"Price in USD\")\n",
    "    plt.legend()\n",
    "\n",
    "    plt.subplot(1,2,2)\n",
    "    plt.plot(data['5. volume'], color='orange', label=\"Volume\")\n",
    "    plt.title(str(\"Microsoft ($MSFT) Daily Trading Volume\\n\"+str(data.index[0].date())+\" to \"+str(data.index[-1].date())))\n",
    "    plt.xlabel(\"Date\")\n",
    "    plt.ylabel(\"Trading Volume in millions\")\n",
    "    plt.show()"
   ]
  },
  {
   "cell_type": "code",
   "execution_count": 13,
   "metadata": {
    "colab": {
     "base_uri": "https://localhost:8080/",
     "height": 383
    },
    "colab_type": "code",
    "id": "89QlJg71iO3h",
    "outputId": "09d3ef64-f05c-45e9-e2e6-666bcc8a0328"
   },
   "outputs": [
    {
     "data": {
      "image/png": "[encoded data removed]",
      "text/plain": [
       "<Figure size 1584x432 with 2 Axes>"
      ]
     },
     "metadata": {
      "needs_background": "light",
      "tags": []
     },
     "output_type": "display_data"
    }
   ],
   "source": [
    "plot_data(df)"
   ]
  },
  {
   "cell_type": "markdown",
   "metadata": {
    "colab_type": "text",
    "id": "6AgpgF97ckyL"
   },
   "source": [
    "## Setting up the Model"
   ]
  },
  {
   "cell_type": "markdown",
   "metadata": {
    "colab_type": "text",
    "id": "uhrzgGTm6Suq"
   },
   "source": [
    "### Preprocessing"
   ]
  },
  {
   "cell_type": "code",
   "execution_count": 14,
   "metadata": {
    "colab": {},
    "colab_type": "code",
    "id": "lkN8z43d6CRy"
   },
   "outputs": [],
   "source": [
    "#helper function to split the time series (explained in next block of code)\n",
    "def split_sequence(sequence, n_steps):\n",
    "\tX, y = list(), list() #create empty lists to store X and y variables\n",
    "\tfor i in range(len(sequence)):\n",
    "\n",
    "\t\t# find the end of this pattern\n",
    "\t\tend_ix = i + n_steps\n",
    "\n",
    "\t\t# check if we are beyond the sequence\n",
    "\t\t#if we are, simply stop executing this block of code\n",
    "\t\tif end_ix > len(sequence)-1:\n",
    "\t\t\tbreak\n",
    "\n",
    "\t\t# gather input and output parts of the pattern\n",
    "\t\tseq_x, seq_y = sequence[i:end_ix], sequence[end_ix]\n",
    "\t\tX.append(seq_x)\n",
    "\t\ty.append(seq_y)\n",
    "\treturn np.array(X), np.array(y)\n",
    " \t"
   ]
  },
  {
   "cell_type": "code",
   "execution_count": 15,
   "metadata": {
    "colab": {},
    "colab_type": "code",
    "id": "V8WEBZkOtvjf"
   },
   "outputs": [],
   "source": [
    "seq_length = 5 #seq_length tells how many sequential data points are used for each element of the array\n",
    "#5 means 5 data points will be used at a time\n",
    "#for instance, the first element of the array will be data points 1-5\n",
    "#the second element of the array will be data points 2-6\n",
    "#third element will be data points 3-7, and so on\n",
    "\n",
    "#we only need the close price data for our model\n",
    "data = np.array(df['4. close'])\n",
    "\n",
    "#splitting the data with our helper function\n",
    "X, y = split_sequence(data, seq_length)"
   ]
  },
  {
   "cell_type": "code",
   "execution_count": 16,
   "metadata": {
    "colab": {},
    "colab_type": "code",
    "id": "__JpbTnetv3q"
   },
   "outputs": [],
   "source": [
    "#reshape from [samples, timesteps] into [samples, timesteps, features] for training the model\n",
    "#the model requires these three values for input\n",
    "n_features = 1 #our only feature, or input variable, is the closing stock price\n",
    "X = X.reshape((X.shape[0], X.shape[1], n_features))"
   ]
  },
  {
   "cell_type": "markdown",
   "metadata": {
    "colab_type": "text",
    "id": "DazKbAoV6VS1"
   },
   "source": [
    "### Constructing the model layers"
   ]
  },
  {
   "cell_type": "code",
   "execution_count": 17,
   "metadata": {
    "colab": {},
    "colab_type": "code",
    "id": "PjxQWzaAtv8X"
   },
   "outputs": [],
   "source": [
    "import tensorflow as tf #backend for keras\n",
    "from tensorflow import keras #used for creating the CNN model\n",
    "from keras.models import Sequential\n",
    "from keras.layers import Flatten, Dense\n",
    "from keras.layers.convolutional import Conv1D, MaxPooling1D #the data is 1-dimensional so we will use a 1d convolution layer"
   ]
  },
  {
   "cell_type": "code",
   "execution_count": 18,
   "metadata": {
    "colab": {},
    "colab_type": "code",
    "id": "FiBtcismtwB2"
   },
   "outputs": [],
   "source": [
    "#define/setup model\n",
    "model = Sequential()\n",
    "\n",
    "#add a 1d convolutional layer\n",
    "#64 filters used in the convolution operation (a somewhat arbitrary choice)\n",
    "#kernel_size of 2 means the convolutional layer reads 2 data points at a time, applies the filters, and outputs it to the next layer\n",
    "model.add(Conv1D(filters=64, kernel_size=2, activation='relu', input_shape=(seq_length, n_features)))\n",
    "\n",
    "#add a pooling layer, which reduces the dimensionality of the input size\n",
    "#takes the max value of each window of length 2\n",
    "model.add(MaxPooling1D(pool_size=2))\n",
    "\n",
    "#flattens the data into a 1d vector - first layer of the fully connected layers\n",
    "model.add(Flatten())\n",
    "\n",
    "#dense layer with relu activation\n",
    "#outputs zero for values less than or equal to zero and keeps positive values the same\n",
    "model.add(Dense(50, activation='relu'))\n",
    "\n",
    "#1d dense layer to generate the predicted value\n",
    "#only 1 dimensional because only one value is being predicted at each time point\n",
    "model.add(Dense(1))\n",
    "\n",
    "model.compile(optimizer='adam', loss='mse')"
   ]
  },
  {
   "cell_type": "markdown",
   "metadata": {
    "colab_type": "text",
    "id": "oSWlb9B-vJHf"
   },
   "source": [
    "### Fitting the model"
   ]
  },
  {
   "cell_type": "code",
   "execution_count": 19,
   "metadata": {
    "colab": {},
    "colab_type": "code",
    "id": "wI8CQW6Itv_Z"
   },
   "outputs": [],
   "source": [
    "#the model is fitted on the training data over 100 epochs to improve and update its parameters\n",
    "#verbose controls how detailed the output is when training the model\n",
    "def fit_model(X, y):\n",
    "    \"\"\"Trains the neural network\"\"\"\n",
    "    model.fit(X, y, epochs=100, verbose=2)"
   ]
  },
  {
   "cell_type": "code",
   "execution_count": 20,
   "metadata": {
    "colab": {
     "base_uri": "https://localhost:8080/",
     "height": 1000
    },
    "colab_type": "code",
    "id": "a7PMBUsCdVCF",
    "outputId": "c4924f33-97ff-49f6-fbbd-4293facb43a9"
   },
   "outputs": [
    {
     "name": "stdout",
     "output_type": "stream",
     "text": [
      "Epoch 1/100\n",
      "3/3 - 0s - loss: 26307.3730\n",
      "Epoch 2/100\n",
      "3/3 - 0s - loss: 13599.2803\n",
      "Epoch 3/100\n",
      "3/3 - 0s - loss: 5887.4170\n",
      "Epoch 4/100\n",
      "3/3 - 0s - loss: 1709.4769\n",
      "Epoch 5/100\n",
      "3/3 - 0s - loss: 147.1903\n",
      "Epoch 6/100\n",
      "3/3 - 0s - loss: 284.6557\n",
      "Epoch 7/100\n",
      "3/3 - 0s - loss: 892.5970\n",
      "Epoch 8/100\n",
      "3/3 - 0s - loss: 1200.3702\n",
      "Epoch 9/100\n",
      "3/3 - 0s - loss: 1034.2209\n",
      "Epoch 10/100\n",
      "3/3 - 0s - loss: 612.9801\n",
      "Epoch 11/100\n",
      "3/3 - 0s - loss: 248.9377\n",
      "Epoch 12/100\n",
      "3/3 - 0s - loss: 62.3922\n",
      "Epoch 13/100\n",
      "3/3 - 0s - loss: 50.4560\n",
      "Epoch 14/100\n",
      "3/3 - 0s - loss: 106.6352\n",
      "Epoch 15/100\n",
      "3/3 - 0s - loss: 154.8913\n",
      "Epoch 16/100\n",
      "3/3 - 0s - loss: 151.7373\n",
      "Epoch 17/100\n",
      "3/3 - 0s - loss: 111.0140\n",
      "Epoch 18/100\n",
      "3/3 - 0s - loss: 63.8432\n",
      "Epoch 19/100\n",
      "3/3 - 0s - loss: 36.9341\n",
      "Epoch 20/100\n",
      "3/3 - 0s - loss: 33.5443\n",
      "Epoch 21/100\n",
      "3/3 - 0s - loss: 42.3910\n",
      "Epoch 22/100\n",
      "3/3 - 0s - loss: 49.3559\n",
      "Epoch 23/100\n",
      "3/3 - 0s - loss: 47.8231\n",
      "Epoch 24/100\n",
      "3/3 - 0s - loss: 41.0570\n",
      "Epoch 25/100\n",
      "3/3 - 0s - loss: 34.9200\n",
      "Epoch 26/100\n",
      "3/3 - 0s - loss: 33.7853\n",
      "Epoch 27/100\n",
      "3/3 - 0s - loss: 33.8533\n",
      "Epoch 28/100\n",
      "3/3 - 0s - loss: 35.5665\n",
      "Epoch 29/100\n",
      "3/3 - 0s - loss: 35.5167\n",
      "Epoch 30/100\n",
      "3/3 - 0s - loss: 34.3881\n",
      "Epoch 31/100\n",
      "3/3 - 0s - loss: 33.9311\n",
      "Epoch 32/100\n",
      "3/3 - 0s - loss: 33.4258\n",
      "Epoch 33/100\n",
      "3/3 - 0s - loss: 33.4138\n",
      "Epoch 34/100\n",
      "3/3 - 0s - loss: 33.6935\n",
      "Epoch 35/100\n",
      "3/3 - 0s - loss: 33.6880\n",
      "Epoch 36/100\n",
      "3/3 - 0s - loss: 33.4311\n",
      "Epoch 37/100\n",
      "3/3 - 0s - loss: 33.1951\n",
      "Epoch 38/100\n",
      "3/3 - 0s - loss: 33.2165\n",
      "Epoch 39/100\n",
      "3/3 - 0s - loss: 33.3030\n",
      "Epoch 40/100\n",
      "3/3 - 0s - loss: 33.3408\n",
      "Epoch 41/100\n",
      "3/3 - 0s - loss: 33.2920\n",
      "Epoch 42/100\n",
      "3/3 - 0s - loss: 33.2283\n",
      "Epoch 43/100\n",
      "3/3 - 0s - loss: 33.1900\n",
      "Epoch 44/100\n",
      "3/3 - 0s - loss: 33.2114\n",
      "Epoch 45/100\n",
      "3/3 - 0s - loss: 33.3664\n",
      "Epoch 46/100\n",
      "3/3 - 0s - loss: 33.4317\n",
      "Epoch 47/100\n",
      "3/3 - 0s - loss: 33.3035\n",
      "Epoch 48/100\n",
      "3/3 - 0s - loss: 33.2738\n",
      "Epoch 49/100\n",
      "3/3 - 0s - loss: 33.2012\n",
      "Epoch 50/100\n",
      "3/3 - 0s - loss: 33.2670\n",
      "Epoch 51/100\n",
      "3/3 - 0s - loss: 33.1869\n",
      "Epoch 52/100\n",
      "3/3 - 0s - loss: 33.2761\n",
      "Epoch 53/100\n",
      "3/3 - 0s - loss: 33.1950\n",
      "Epoch 54/100\n",
      "3/3 - 0s - loss: 33.1903\n",
      "Epoch 55/100\n",
      "3/3 - 0s - loss: 33.2159\n",
      "Epoch 56/100\n",
      "3/3 - 0s - loss: 33.2101\n",
      "Epoch 57/100\n",
      "3/3 - 0s - loss: 33.2172\n",
      "Epoch 58/100\n",
      "3/3 - 0s - loss: 33.2834\n",
      "Epoch 59/100\n",
      "3/3 - 0s - loss: 33.2110\n",
      "Epoch 60/100\n",
      "3/3 - 0s - loss: 33.1918\n",
      "Epoch 61/100\n",
      "3/3 - 0s - loss: 33.1933\n",
      "Epoch 62/100\n",
      "3/3 - 0s - loss: 33.2726\n",
      "Epoch 63/100\n",
      "3/3 - 0s - loss: 33.1280\n",
      "Epoch 64/100\n",
      "3/3 - 0s - loss: 33.1561\n",
      "Epoch 65/100\n",
      "3/3 - 0s - loss: 33.1604\n",
      "Epoch 66/100\n",
      "3/3 - 0s - loss: 33.1656\n",
      "Epoch 67/100\n",
      "3/3 - 0s - loss: 33.1505\n",
      "Epoch 68/100\n",
      "3/3 - 0s - loss: 33.1622\n",
      "Epoch 69/100\n",
      "3/3 - 0s - loss: 33.1119\n",
      "Epoch 70/100\n",
      "3/3 - 0s - loss: 33.1081\n",
      "Epoch 71/100\n",
      "3/3 - 0s - loss: 33.1171\n",
      "Epoch 72/100\n",
      "3/3 - 0s - loss: 33.1390\n",
      "Epoch 73/100\n",
      "3/3 - 0s - loss: 33.1092\n",
      "Epoch 74/100\n",
      "3/3 - 0s - loss: 33.1323\n",
      "Epoch 75/100\n",
      "3/3 - 0s - loss: 33.1255\n",
      "Epoch 76/100\n",
      "3/3 - 0s - loss: 33.0831\n",
      "Epoch 77/100\n",
      "3/3 - 0s - loss: 33.0813\n",
      "Epoch 78/100\n",
      "3/3 - 0s - loss: 33.0967\n",
      "Epoch 79/100\n",
      "3/3 - 0s - loss: 33.0790\n",
      "Epoch 80/100\n",
      "3/3 - 0s - loss: 33.0705\n",
      "Epoch 81/100\n",
      "3/3 - 0s - loss: 33.1406\n",
      "Epoch 82/100\n",
      "3/3 - 0s - loss: 33.1336\n",
      "Epoch 83/100\n",
      "3/3 - 0s - loss: 33.1038\n",
      "Epoch 84/100\n",
      "3/3 - 0s - loss: 33.0436\n",
      "Epoch 85/100\n",
      "3/3 - 0s - loss: 33.0763\n",
      "Epoch 86/100\n",
      "3/3 - 0s - loss: 33.1219\n",
      "Epoch 87/100\n",
      "3/3 - 0s - loss: 33.0559\n",
      "Epoch 88/100\n",
      "3/3 - 0s - loss: 33.0794\n",
      "Epoch 89/100\n",
      "3/3 - 0s - loss: 33.0189\n",
      "Epoch 90/100\n",
      "3/3 - 0s - loss: 33.0328\n",
      "Epoch 91/100\n",
      "3/3 - 0s - loss: 33.1028\n",
      "Epoch 92/100\n",
      "3/3 - 0s - loss: 33.1675\n",
      "Epoch 93/100\n",
      "3/3 - 0s - loss: 33.3719\n",
      "Epoch 94/100\n",
      "3/3 - 0s - loss: 33.0941\n",
      "Epoch 95/100\n",
      "3/3 - 0s - loss: 33.0405\n",
      "Epoch 96/100\n",
      "3/3 - 0s - loss: 33.4639\n",
      "Epoch 97/100\n",
      "3/3 - 0s - loss: 33.0319\n",
      "Epoch 98/100\n",
      "3/3 - 0s - loss: 32.9775\n",
      "Epoch 99/100\n",
      "3/3 - 0s - loss: 32.9973\n",
      "Epoch 100/100\n",
      "3/3 - 0s - loss: 33.0423\n"
     ]
    }
   ],
   "source": [
    "fit_model(X,y)"
   ]
  },
  {
   "cell_type": "markdown",
   "metadata": {
    "colab_type": "text",
    "id": "vWIj8DrpuUmd"
   },
   "source": [
    "## Creating the predictions"
   ]
  },
  {
   "cell_type": "code",
   "execution_count": 21,
   "metadata": {
    "colab": {},
    "colab_type": "code",
    "id": "d6pty2Xstv6E"
   },
   "outputs": [],
   "source": [
    "DAYS_TO_PREDICT = 7\n",
    "def make_predictions(X, DAYS_TO_PREDICT):\n",
    "    test_seq = X[-1:] #set the test sequence to start at the most recent stock values\n",
    "    preds = [] #create empty list to store predictions\n",
    "\n",
    "    #create predictions using most recent 5 data points\n",
    "    #the first prediction will assist in making the second prediction, and so on\n",
    "    for _ in range(DAYS_TO_PREDICT):\n",
    "        y_test_pred = model(test_seq) #outputs the prediction from our test sequence\n",
    "        pred = y_test_pred #assign pred to the raw output of the model for rebuilding new_seq and test_seq\n",
    "        preds.append(y_test_pred) #add the prediction to the list we will use for plotting\n",
    "        new_seq = test_seq.flatten() #flatten the output from the model into a 1d array\n",
    "        new_seq = np.append(new_seq, [pred]) #add prediction to the list the model is using to make predictions\n",
    "        new_seq = new_seq[1:] #exclude the first element from the list; use our most recent prediction for the next prediction instead\n",
    "        test_seq = new_seq.reshape(1, seq_length, 1) #reshape for the model\n",
    "    preds=np.array(preds).reshape(DAYS_TO_PREDICT,) #reshape the prediction array for plotting\n",
    "    return preds"
   ]
  },
  {
   "cell_type": "code",
   "execution_count": 22,
   "metadata": {
    "colab": {},
    "colab_type": "code",
    "id": "0A7TQ48ecGQl"
   },
   "outputs": [],
   "source": [
    "predicted_price=make_predictions(X, 7)"
   ]
  },
  {
   "cell_type": "code",
   "execution_count": 23,
   "metadata": {
    "colab": {},
    "colab_type": "code",
    "id": "pxpO0ZBZtvmm"
   },
   "outputs": [],
   "source": [
    "def make_pred_index(data, preds):\n",
    "    \"\"\"creating the datetime index for our predictions to be just after our actual data\"\"\"\n",
    "    predicted_index = pd.date_range(start=data.index[-1], #start 1 day beyond existing data\n",
    "                                    periods=DAYS_TO_PREDICT+1, #run time interval through days predicted\n",
    "                                    closed='right') #include the last value of the time frame\n",
    "    return predicted_index\n",
    "\n",
    "def make_pred_series(preds, predicted_index):\n",
    "    \"\"\"create new series of predicted prices with corresponding dates predicted\"\"\"\n",
    "    predicted_price = pd.Series(data=preds,\n",
    "                                index=predicted_index)\n",
    "    return predicted_price"
   ]
  },
  {
   "cell_type": "code",
   "execution_count": 24,
   "metadata": {
    "colab": {},
    "colab_type": "code",
    "id": "FDp7KKRZnH0Y"
   },
   "outputs": [],
   "source": [
    "predicted_index = make_pred_index(df, predicted_price)\n",
    "predicted_price = make_pred_series(predicted_price, predicted_index)"
   ]
  },
  {
   "cell_type": "markdown",
   "metadata": {
    "colab_type": "text",
    "id": "e_pybKzZDycD"
   },
   "source": [
    "### Visualizing the predictions"
   ]
  },
  {
   "cell_type": "code",
   "execution_count": 25,
   "metadata": {
    "colab": {},
    "colab_type": "code",
    "id": "VE0hMXaRtvfQ"
   },
   "outputs": [],
   "source": [
    "def plot_predictions(data, predictions):\n",
    "    \"\"\"Takes the dataframe of historical data and Series of predictions as input\"\"\"\n",
    "    plt.figure(figsize=(15,6))\n",
    "    plt.plot(data['4. close'][:-1], #plot data used for training the model\n",
    "         label='Historical Daily Price')\n",
    "    \n",
    "    plt.plot(predictions, '.-', #plot predictions\n",
    "             label='Predicted Daily Price')\n",
    "    plt.title(\"MSFT daily closing price (2020)\\nPrediction for \"+str(predictions.index[0].date())+\" to \"+str(predictions.index[-1].date()))\n",
    "    plt.legend()\n",
    "    plt.show()"
   ]
  },
  {
   "cell_type": "code",
   "execution_count": 26,
   "metadata": {
    "colab": {
     "base_uri": "https://localhost:8080/",
     "height": 408
    },
    "colab_type": "code",
    "id": "l6T2ny92cW3r",
    "outputId": "9d240f24-e1fd-4386-841e-9bc4b6c7be71"
   },
   "outputs": [
    {
     "data": {
      "image/png": "[encoded data removed]",
      "text/plain": [
       "<Figure size 1080x432 with 1 Axes>"
      ]
     },
     "metadata": {
      "needs_background": "light",
      "tags": []
     },
     "output_type": "display_data"
    }
   ],
   "source": [
    "plot_predictions(df, predicted_price)"
   ]
  },
  {
   "cell_type": "code",
   "execution_count": 27,
   "metadata": {
    "colab": {},
    "colab_type": "code",
    "id": "oyGi0RFOu1lR"
   },
   "outputs": [],
   "source": [
    "def plot_predictions_recent(data, predictions):\n",
    "    plt.figure(figsize=(15,6))\n",
    "    #plot data used for training the model\n",
    "    plt.plot(data[data.index>=\"2020-08-01\"]['4. close'][:-1],\n",
    "            label='Historical Daily Price')\n",
    "\n",
    "    #add the predcited prices to the plot\n",
    "    plt.plot(predictions, '.-',\n",
    "            label='Predicted Daily Price')\n",
    "    plt.title(\"MSFT daily closing price (2020)\\nPrediction for \"+str(predictions.index[0].date())+\" to \"+str(predictions.index[-1].date()))\n",
    "    plt.legend()\n",
    "    plt.show()"
   ]
  },
  {
   "cell_type": "code",
   "execution_count": 28,
   "metadata": {
    "colab": {
     "base_uri": "https://localhost:8080/",
     "height": 408
    },
    "colab_type": "code",
    "id": "WrFAHxEyn24F",
    "outputId": "ca614059-6a7e-4e46-f978-3c1548efebe6"
   },
   "outputs": [
    {
     "data": {
      "image/png": "[encoded data removed]",
      "text/plain": [
       "<Figure size 1080x432 with 1 Axes>"
      ]
     },
     "metadata": {
      "needs_background": "light",
      "tags": []
     },
     "output_type": "display_data"
    }
   ],
   "source": [
    "plot_predictions_recent(df, predicted_price)"
   ]
  },
  {
   "cell_type": "markdown",
   "metadata": {
    "colab_type": "text",
    "id": "ntn8tHP5GHfn"
   },
   "source": [
    "Interpretation:\n",
    "\n",
    "In blue we see the historical price stock price and in orange we see the prediction for 7 days into the future.  As one can see since the shut down becuase of COVID, Microsoft stock has risen steadily over time.  This is expected as many big tech stocks have seen an increase in stock price because in this virtual world because there is an even greater reliance on their products. \n",
    "\n",
    "Microsoft dropped from a little above 230 to just above 200 during the first week of September.  Our model predicts a slight increase within the next week to at about 207. "
   ]
  },
  {
   "cell_type": "markdown",
   "metadata": {
    "colab_type": "text",
    "id": "fKA08ivyHKX2"
   },
   "source": [
    "### Backtesting"
   ]
  },
  {
   "cell_type": "markdown",
   "metadata": {
    "colab_type": "text",
    "id": "QiEEnwumSxQl"
   },
   "source": [
    "We had to do break up our data for backtesting in an untraditional way.  This is because the way the stocks behave, they are to eradict to predict from just an 80 20 test split. What we ended up doing is removing the last week's worth of data, running that dataframe through the model then comparing the predicted to the actual."
   ]
  },
  {
   "cell_type": "code",
   "execution_count": 29,
   "metadata": {
    "colab": {},
    "colab_type": "code",
    "id": "rBFQsfZmHM3B"
   },
   "outputs": [],
   "source": [
    "df_backtest = df[:-5] # remove the last 5 data points to keep the most recent full week"
   ]
  },
  {
   "cell_type": "code",
   "execution_count": 30,
   "metadata": {
    "colab": {
     "base_uri": "https://localhost:8080/",
     "height": 446
    },
    "colab_type": "code",
    "id": "3pQy6_ekHMrD",
    "outputId": "439a2f24-fee2-410c-8379-7e470f5b8af6"
   },
   "outputs": [
    {
     "data": {
      "text/html": [
       "<div>\n",
       "<style scoped>\n",
       "    .dataframe tbody tr th:only-of-type {\n",
       "        vertical-align: middle;\n",
       "    }\n",
       "\n",
       "    .dataframe tbody tr th {\n",
       "        vertical-align: top;\n",
       "    }\n",
       "\n",
       "    .dataframe thead th {\n",
       "        text-align: right;\n",
       "    }\n",
       "</style>\n",
       "<table border=\"1\" class=\"dataframe\">\n",
       "  <thead>\n",
       "    <tr style=\"text-align: right;\">\n",
       "      <th></th>\n",
       "      <th>1. open</th>\n",
       "      <th>2. high</th>\n",
       "      <th>3. low</th>\n",
       "      <th>4. close</th>\n",
       "      <th>5. volume</th>\n",
       "    </tr>\n",
       "    <tr>\n",
       "      <th>Index</th>\n",
       "      <th></th>\n",
       "      <th></th>\n",
       "      <th></th>\n",
       "      <th></th>\n",
       "      <th></th>\n",
       "    </tr>\n",
       "  </thead>\n",
       "  <tbody>\n",
       "    <tr>\n",
       "      <th>2020-04-29</th>\n",
       "      <td>173.22</td>\n",
       "      <td>177.6800</td>\n",
       "      <td>171.88</td>\n",
       "      <td>177.43</td>\n",
       "      <td>51286559</td>\n",
       "    </tr>\n",
       "    <tr>\n",
       "      <th>2020-04-30</th>\n",
       "      <td>180.00</td>\n",
       "      <td>180.4000</td>\n",
       "      <td>176.23</td>\n",
       "      <td>179.21</td>\n",
       "      <td>53875857</td>\n",
       "    </tr>\n",
       "    <tr>\n",
       "      <th>2020-05-01</th>\n",
       "      <td>175.80</td>\n",
       "      <td>178.6400</td>\n",
       "      <td>174.01</td>\n",
       "      <td>174.57</td>\n",
       "      <td>39370474</td>\n",
       "    </tr>\n",
       "    <tr>\n",
       "      <th>2020-05-04</th>\n",
       "      <td>174.49</td>\n",
       "      <td>179.0000</td>\n",
       "      <td>173.80</td>\n",
       "      <td>178.84</td>\n",
       "      <td>30372862</td>\n",
       "    </tr>\n",
       "    <tr>\n",
       "      <th>2020-05-05</th>\n",
       "      <td>180.62</td>\n",
       "      <td>183.6500</td>\n",
       "      <td>179.90</td>\n",
       "      <td>180.76</td>\n",
       "      <td>36839168</td>\n",
       "    </tr>\n",
       "    <tr>\n",
       "      <th>...</th>\n",
       "      <td>...</td>\n",
       "      <td>...</td>\n",
       "      <td>...</td>\n",
       "      <td>...</td>\n",
       "      <td>...</td>\n",
       "    </tr>\n",
       "    <tr>\n",
       "      <th>2020-09-04</th>\n",
       "      <td>215.10</td>\n",
       "      <td>218.3599</td>\n",
       "      <td>205.19</td>\n",
       "      <td>214.25</td>\n",
       "      <td>59664072</td>\n",
       "    </tr>\n",
       "    <tr>\n",
       "      <th>2020-09-08</th>\n",
       "      <td>206.50</td>\n",
       "      <td>210.0300</td>\n",
       "      <td>202.20</td>\n",
       "      <td>202.66</td>\n",
       "      <td>52924330</td>\n",
       "    </tr>\n",
       "    <tr>\n",
       "      <th>2020-09-09</th>\n",
       "      <td>207.60</td>\n",
       "      <td>214.8399</td>\n",
       "      <td>206.70</td>\n",
       "      <td>211.29</td>\n",
       "      <td>45678986</td>\n",
       "    </tr>\n",
       "    <tr>\n",
       "      <th>2020-09-10</th>\n",
       "      <td>213.40</td>\n",
       "      <td>214.7400</td>\n",
       "      <td>204.11</td>\n",
       "      <td>205.37</td>\n",
       "      <td>35461514</td>\n",
       "    </tr>\n",
       "    <tr>\n",
       "      <th>2020-09-11</th>\n",
       "      <td>207.20</td>\n",
       "      <td>208.6300</td>\n",
       "      <td>201.24</td>\n",
       "      <td>204.03</td>\n",
       "      <td>33620073</td>\n",
       "    </tr>\n",
       "  </tbody>\n",
       "</table>\n",
       "<p>95 rows × 5 columns</p>\n",
       "</div>"
      ],
      "text/plain": [
       "            1. open   2. high  3. low  4. close  5. volume\n",
       "Index                                                     \n",
       "2020-04-29   173.22  177.6800  171.88    177.43   51286559\n",
       "2020-04-30   180.00  180.4000  176.23    179.21   53875857\n",
       "2020-05-01   175.80  178.6400  174.01    174.57   39370474\n",
       "2020-05-04   174.49  179.0000  173.80    178.84   30372862\n",
       "2020-05-05   180.62  183.6500  179.90    180.76   36839168\n",
       "...             ...       ...     ...       ...        ...\n",
       "2020-09-04   215.10  218.3599  205.19    214.25   59664072\n",
       "2020-09-08   206.50  210.0300  202.20    202.66   52924330\n",
       "2020-09-09   207.60  214.8399  206.70    211.29   45678986\n",
       "2020-09-10   213.40  214.7400  204.11    205.37   35461514\n",
       "2020-09-11   207.20  208.6300  201.24    204.03   33620073\n",
       "\n",
       "[95 rows x 5 columns]"
      ]
     },
     "execution_count": 30,
     "metadata": {
      "tags": []
     },
     "output_type": "execute_result"
    }
   ],
   "source": [
    "df_backtest"
   ]
  },
  {
   "cell_type": "code",
   "execution_count": 31,
   "metadata": {
    "colab": {},
    "colab_type": "code",
    "id": "PizsyjfiHMvZ"
   },
   "outputs": [],
   "source": [
    "#we only need the close price data for our model\n",
    "data_bt = np.array(df_backtest['4. close'])\n",
    "\n",
    "#splitting the data with our helper function\n",
    "X_bt, y_bt = split_sequence(data_bt, seq_length)"
   ]
  },
  {
   "cell_type": "code",
   "execution_count": 32,
   "metadata": {
    "colab": {},
    "colab_type": "code",
    "id": "ouddYguMHMfu"
   },
   "outputs": [],
   "source": [
    "#reshape from [samples, timesteps] into [samples, timesteps, features] for training the model\n",
    "#the model requires these three values for input\n",
    "n_features = 1 #our only feature, or input variable, is the closing stock price\n",
    "X_bt = X_bt.reshape((X_bt.shape[0], X_bt.shape[1], n_features))"
   ]
  },
  {
   "cell_type": "code",
   "execution_count": 33,
   "metadata": {
    "colab": {},
    "colab_type": "code",
    "id": "xfKCOjlALNZP"
   },
   "outputs": [],
   "source": [
    "#define/setup model\n",
    "model_bt = Sequential()\n",
    "\n",
    "#add a 1d convolutional layer\n",
    "#64 filters used in the convolution operation (a somewhat arbitrary choice)\n",
    "#kernel_size of 2 means the convolutional layer reads 2 data points at a time, applies the filters, and outputs it to the next layer\n",
    "model_bt.add(Conv1D(filters=64, kernel_size=2, activation='relu', input_shape=(seq_length, n_features)))\n",
    "\n",
    "#add a pooling layer, which reduces the dimensionality of the input size\n",
    "#takes the max value of each window of length 2\n",
    "model_bt.add(MaxPooling1D(pool_size=2))\n",
    "\n",
    "#flattens the data into a 1d vector - first layer of the fully connected layers\n",
    "model_bt.add(Flatten())\n",
    "\n",
    "#dense layer with relu activation\n",
    "#outputs zero for values less than or equal to zero and keeps positive values the same\n",
    "model_bt.add(Dense(50, activation='relu'))\n",
    "\n",
    "#1d dense layer to generate the predicted value\n",
    "#only 1 dimensional because only one value is being predicted at each time point\n",
    "model_bt.add(Dense(1))\n",
    "\n",
    "model_bt.compile(optimizer='adam', loss='mse')"
   ]
  },
  {
   "cell_type": "code",
   "execution_count": 34,
   "metadata": {
    "colab": {
     "base_uri": "https://localhost:8080/",
     "height": 1000
    },
    "colab_type": "code",
    "id": "RWxM7CV4HMdG",
    "outputId": "f145047c-4502-4304-a9e3-cd93ca8b94e6"
   },
   "outputs": [
    {
     "name": "stdout",
     "output_type": "stream",
     "text": [
      "Epoch 1/100\n",
      "3/3 [==============================] - 0s 2ms/step - loss: 31519.3164\n",
      "Epoch 2/100\n",
      "3/3 [==============================] - 0s 3ms/step - loss: 22126.4336\n",
      "Epoch 3/100\n",
      "3/3 [==============================] - 0s 2ms/step - loss: 14761.1094\n",
      "Epoch 4/100\n",
      "3/3 [==============================] - 0s 2ms/step - loss: 9491.2100\n",
      "Epoch 5/100\n",
      "3/3 [==============================] - 0s 2ms/step - loss: 5835.9360\n",
      "Epoch 6/100\n",
      "3/3 [==============================] - 0s 2ms/step - loss: 3236.4368\n",
      "Epoch 7/100\n",
      "3/3 [==============================] - 0s 2ms/step - loss: 1633.5087\n",
      "Epoch 8/100\n",
      "3/3 [==============================] - 0s 2ms/step - loss: 606.1121\n",
      "Epoch 9/100\n",
      "3/3 [==============================] - 0s 2ms/step - loss: 134.6972\n",
      "Epoch 10/100\n",
      "3/3 [==============================] - 0s 2ms/step - loss: 57.0329\n",
      "Epoch 11/100\n",
      "3/3 [==============================] - 0s 2ms/step - loss: 186.4630\n",
      "Epoch 12/100\n",
      "3/3 [==============================] - 0s 2ms/step - loss: 355.2154\n",
      "Epoch 13/100\n",
      "3/3 [==============================] - 0s 2ms/step - loss: 426.2122\n",
      "Epoch 14/100\n",
      "3/3 [==============================] - 0s 2ms/step - loss: 381.3496\n",
      "Epoch 15/100\n",
      "3/3 [==============================] - 0s 3ms/step - loss: 266.8486\n",
      "Epoch 16/100\n",
      "3/3 [==============================] - 0s 2ms/step - loss: 150.8579\n",
      "Epoch 17/100\n",
      "3/3 [==============================] - 0s 3ms/step - loss: 70.4553\n",
      "Epoch 18/100\n",
      "3/3 [==============================] - 0s 2ms/step - loss: 40.1419\n",
      "Epoch 19/100\n",
      "3/3 [==============================] - 0s 2ms/step - loss: 38.4098\n",
      "Epoch 20/100\n",
      "3/3 [==============================] - 0s 2ms/step - loss: 52.4814\n",
      "Epoch 21/100\n",
      "3/3 [==============================] - 0s 2ms/step - loss: 62.3337\n",
      "Epoch 22/100\n",
      "3/3 [==============================] - 0s 2ms/step - loss: 63.4090\n",
      "Epoch 23/100\n",
      "3/3 [==============================] - 0s 2ms/step - loss: 56.7841\n",
      "Epoch 24/100\n",
      "3/3 [==============================] - 0s 3ms/step - loss: 46.9061\n",
      "Epoch 25/100\n",
      "3/3 [==============================] - 0s 2ms/step - loss: 38.8390\n",
      "Epoch 26/100\n",
      "3/3 [==============================] - 0s 2ms/step - loss: 34.6067\n",
      "Epoch 27/100\n",
      "3/3 [==============================] - 0s 2ms/step - loss: 34.8160\n",
      "Epoch 28/100\n",
      "3/3 [==============================] - 0s 2ms/step - loss: 36.6332\n",
      "Epoch 29/100\n",
      "3/3 [==============================] - 0s 3ms/step - loss: 37.6603\n",
      "Epoch 30/100\n",
      "3/3 [==============================] - 0s 2ms/step - loss: 37.6282\n",
      "Epoch 31/100\n",
      "3/3 [==============================] - 0s 2ms/step - loss: 36.7511\n",
      "Epoch 32/100\n",
      "3/3 [==============================] - 0s 2ms/step - loss: 35.4746\n",
      "Epoch 33/100\n",
      "3/3 [==============================] - 0s 2ms/step - loss: 34.7983\n",
      "Epoch 34/100\n",
      "3/3 [==============================] - 0s 2ms/step - loss: 34.8365\n",
      "Epoch 35/100\n",
      "3/3 [==============================] - 0s 2ms/step - loss: 34.8712\n",
      "Epoch 36/100\n",
      "3/3 [==============================] - 0s 2ms/step - loss: 35.0214\n",
      "Epoch 37/100\n",
      "3/3 [==============================] - 0s 2ms/step - loss: 35.1561\n",
      "Epoch 38/100\n",
      "3/3 [==============================] - 0s 2ms/step - loss: 35.0525\n",
      "Epoch 39/100\n",
      "3/3 [==============================] - 0s 2ms/step - loss: 34.9474\n",
      "Epoch 40/100\n",
      "3/3 [==============================] - 0s 2ms/step - loss: 34.7998\n",
      "Epoch 41/100\n",
      "3/3 [==============================] - 0s 2ms/step - loss: 34.7134\n",
      "Epoch 42/100\n",
      "3/3 [==============================] - 0s 2ms/step - loss: 34.8317\n",
      "Epoch 43/100\n",
      "3/3 [==============================] - 0s 2ms/step - loss: 34.8017\n",
      "Epoch 44/100\n",
      "3/3 [==============================] - 0s 1ms/step - loss: 34.8439\n",
      "Epoch 45/100\n",
      "3/3 [==============================] - 0s 2ms/step - loss: 34.8207\n",
      "Epoch 46/100\n",
      "3/3 [==============================] - 0s 2ms/step - loss: 34.7480\n",
      "Epoch 47/100\n",
      "3/3 [==============================] - 0s 2ms/step - loss: 34.7496\n",
      "Epoch 48/100\n",
      "3/3 [==============================] - 0s 2ms/step - loss: 34.7496\n",
      "Epoch 49/100\n",
      "3/3 [==============================] - 0s 2ms/step - loss: 34.7583\n",
      "Epoch 50/100\n",
      "3/3 [==============================] - 0s 2ms/step - loss: 34.7378\n",
      "Epoch 51/100\n",
      "3/3 [==============================] - 0s 2ms/step - loss: 34.7401\n",
      "Epoch 52/100\n",
      "3/3 [==============================] - 0s 2ms/step - loss: 34.7615\n",
      "Epoch 53/100\n",
      "3/3 [==============================] - 0s 2ms/step - loss: 34.8026\n",
      "Epoch 54/100\n",
      "3/3 [==============================] - 0s 2ms/step - loss: 34.7351\n",
      "Epoch 55/100\n",
      "3/3 [==============================] - 0s 2ms/step - loss: 34.7315\n",
      "Epoch 56/100\n",
      "3/3 [==============================] - 0s 2ms/step - loss: 34.7344\n",
      "Epoch 57/100\n",
      "3/3 [==============================] - 0s 3ms/step - loss: 34.7199\n",
      "Epoch 58/100\n",
      "3/3 [==============================] - 0s 2ms/step - loss: 34.7327\n",
      "Epoch 59/100\n",
      "3/3 [==============================] - 0s 2ms/step - loss: 34.7197\n",
      "Epoch 60/100\n",
      "3/3 [==============================] - 0s 2ms/step - loss: 34.7192\n",
      "Epoch 61/100\n",
      "3/3 [==============================] - 0s 2ms/step - loss: 34.7405\n",
      "Epoch 62/100\n",
      "3/3 [==============================] - 0s 2ms/step - loss: 34.7422\n",
      "Epoch 63/100\n",
      "3/3 [==============================] - 0s 4ms/step - loss: 34.8296\n",
      "Epoch 64/100\n",
      "3/3 [==============================] - 0s 2ms/step - loss: 34.7047\n",
      "Epoch 65/100\n",
      "3/3 [==============================] - 0s 3ms/step - loss: 34.7630\n",
      "Epoch 66/100\n",
      "3/3 [==============================] - 0s 2ms/step - loss: 34.7819\n",
      "Epoch 67/100\n",
      "3/3 [==============================] - 0s 2ms/step - loss: 34.7042\n",
      "Epoch 68/100\n",
      "3/3 [==============================] - 0s 2ms/step - loss: 34.6920\n",
      "Epoch 69/100\n",
      "3/3 [==============================] - 0s 2ms/step - loss: 34.6922\n",
      "Epoch 70/100\n",
      "3/3 [==============================] - 0s 2ms/step - loss: 34.7242\n",
      "Epoch 71/100\n",
      "3/3 [==============================] - 0s 2ms/step - loss: 34.7220\n",
      "Epoch 72/100\n",
      "3/3 [==============================] - 0s 2ms/step - loss: 34.7331\n",
      "Epoch 73/100\n",
      "3/3 [==============================] - 0s 2ms/step - loss: 34.7437\n",
      "Epoch 74/100\n",
      "3/3 [==============================] - 0s 2ms/step - loss: 34.6966\n",
      "Epoch 75/100\n",
      "3/3 [==============================] - 0s 2ms/step - loss: 34.6776\n",
      "Epoch 76/100\n",
      "3/3 [==============================] - 0s 2ms/step - loss: 34.6784\n",
      "Epoch 77/100\n",
      "3/3 [==============================] - 0s 2ms/step - loss: 34.6817\n",
      "Epoch 78/100\n",
      "3/3 [==============================] - 0s 2ms/step - loss: 34.6663\n",
      "Epoch 79/100\n",
      "3/3 [==============================] - 0s 2ms/step - loss: 34.7480\n",
      "Epoch 80/100\n",
      "3/3 [==============================] - 0s 2ms/step - loss: 34.6982\n",
      "Epoch 81/100\n",
      "3/3 [==============================] - 0s 2ms/step - loss: 34.7773\n",
      "Epoch 82/100\n",
      "3/3 [==============================] - 0s 2ms/step - loss: 34.6945\n",
      "Epoch 83/100\n",
      "3/3 [==============================] - 0s 2ms/step - loss: 34.6638\n",
      "Epoch 84/100\n",
      "3/3 [==============================] - 0s 2ms/step - loss: 34.6545\n",
      "Epoch 85/100\n",
      "3/3 [==============================] - 0s 1ms/step - loss: 34.6858\n",
      "Epoch 86/100\n",
      "3/3 [==============================] - 0s 2ms/step - loss: 34.7053\n",
      "Epoch 87/100\n",
      "3/3 [==============================] - 0s 2ms/step - loss: 34.7054\n",
      "Epoch 88/100\n",
      "3/3 [==============================] - 0s 2ms/step - loss: 34.6494\n",
      "Epoch 89/100\n",
      "3/3 [==============================] - 0s 2ms/step - loss: 34.7498\n",
      "Epoch 90/100\n",
      "3/3 [==============================] - 0s 2ms/step - loss: 34.6416\n",
      "Epoch 91/100\n",
      "3/3 [==============================] - 0s 2ms/step - loss: 34.6682\n",
      "Epoch 92/100\n",
      "3/3 [==============================] - 0s 2ms/step - loss: 34.6515\n",
      "Epoch 93/100\n",
      "3/3 [==============================] - 0s 2ms/step - loss: 34.6251\n",
      "Epoch 94/100\n",
      "3/3 [==============================] - 0s 2ms/step - loss: 34.6680\n",
      "Epoch 95/100\n",
      "3/3 [==============================] - 0s 2ms/step - loss: 34.6132\n",
      "Epoch 96/100\n",
      "3/3 [==============================] - 0s 2ms/step - loss: 34.7273\n",
      "Epoch 97/100\n",
      "3/3 [==============================] - 0s 2ms/step - loss: 34.6392\n",
      "Epoch 98/100\n",
      "3/3 [==============================] - 0s 2ms/step - loss: 34.6277\n",
      "Epoch 99/100\n",
      "3/3 [==============================] - 0s 2ms/step - loss: 34.6325\n",
      "Epoch 100/100\n",
      "3/3 [==============================] - 0s 2ms/step - loss: 34.7350\n"
     ]
    },
    {
     "data": {
      "text/plain": [
       "<tensorflow.python.keras.callbacks.History at 0x7f6f1d2fbe48>"
      ]
     },
     "execution_count": 34,
     "metadata": {
      "tags": []
     },
     "output_type": "execute_result"
    }
   ],
   "source": [
    "model_bt.fit(X_bt, y_bt, epochs=100)"
   ]
  },
  {
   "cell_type": "code",
   "execution_count": 35,
   "metadata": {
    "colab": {},
    "colab_type": "code",
    "id": "fjkWeMGBKHz-"
   },
   "outputs": [],
   "source": [
    "DAYS_TO_PREDICT = 7\n",
    "def make_predictions_bt(X, DAYS_TO_PREDICT):\n",
    "    test_seq = X[-1:] #set the test sequence to start at the most recent stock values\n",
    "    preds = [] #create empty list to store predictions\n",
    "    #create predictions using most recent 5 data points\n",
    "    #the first prediction will assist in making the second prediction, and so on\n",
    "    for _ in range(DAYS_TO_PREDICT):\n",
    "        y_test_pred = model_bt(test_seq) #outputs the prediction from our test sequence\n",
    "        pred = y_test_pred #assign pred to the raw output of the model for rebuilding new_seq and test_seq\n",
    "        preds.append(y_test_pred) #add the prediction to the list we will use for plotting\n",
    "        new_seq = test_seq.flatten() #flatten the output from the model into a 1d array\n",
    "        new_seq = np.append(new_seq, [pred]) #add prediction to the list the model is using to make predictions\n",
    "        new_seq = new_seq[1:] #exclude the first element from the list; use our most recent prediction for the next prediction instead\n",
    "        test_seq = new_seq.reshape(1, seq_length, 1) #reshape for the model\n",
    "    preds=np.array(preds).reshape(DAYS_TO_PREDICT,) #reshape the prediction array for plotting\n",
    "    return preds"
   ]
  },
  {
   "cell_type": "code",
   "execution_count": 36,
   "metadata": {
    "colab": {},
    "colab_type": "code",
    "id": "wFcdoR23PApR"
   },
   "outputs": [],
   "source": [
    "predicted_price_bt = make_predictions_bt(X_bt, 7)"
   ]
  },
  {
   "cell_type": "code",
   "execution_count": 37,
   "metadata": {
    "colab": {},
    "colab_type": "code",
    "id": "Fwd9fFQSK0S3"
   },
   "outputs": [],
   "source": [
    "predicted_index_bt = make_pred_index(df_backtest, predicted_price_bt)\n",
    "predicted_price_bt = make_pred_series(predicted_price_bt, predicted_index_bt)"
   ]
  },
  {
   "cell_type": "code",
   "execution_count": 38,
   "metadata": {
    "colab": {
     "base_uri": "https://localhost:8080/",
     "height": 408
    },
    "colab_type": "code",
    "id": "q1b0ZVSjOvR6",
    "outputId": "87de4fef-c0db-4034-8107-495a1357b1b8"
   },
   "outputs": [
    {
     "data": {
      "image/png": "[encoded data removed]",
      "text/plain": [
       "<Figure size 1080x432 with 1 Axes>"
      ]
     },
     "metadata": {
      "needs_background": "light",
      "tags": []
     },
     "output_type": "display_data"
    }
   ],
   "source": [
    "plot_predictions(df_backtest, predicted_price_bt)"
   ]
  },
  {
   "cell_type": "code",
   "execution_count": 39,
   "metadata": {
    "colab": {
     "base_uri": "https://localhost:8080/",
     "height": 408
    },
    "colab_type": "code",
    "id": "P6_otoCmK0MG",
    "outputId": "9b866373-eb5c-4a3b-bbfd-1d63883af7e7"
   },
   "outputs": [
    {
     "data": {
      "image/png": "[encoded data removed]",
      "text/plain": [
       "<Figure size 1080x432 with 1 Axes>"
      ]
     },
     "metadata": {
      "needs_background": "light",
      "tags": []
     },
     "output_type": "display_data"
    }
   ],
   "source": [
    "plot_predictions_recent(df_backtest, predicted_price_bt)"
   ]
  },
  {
   "cell_type": "markdown",
   "metadata": {
    "colab_type": "text",
    "id": "t2e_V8-LRejt"
   },
   "source": [
    "#### Comparing our predicion to the true values"
   ]
  },
  {
   "cell_type": "code",
   "execution_count": 40,
   "metadata": {
    "colab": {
     "base_uri": "https://localhost:8080/",
     "height": 408
    },
    "colab_type": "code",
    "id": "9Wq6KTsWMz3e",
    "outputId": "b89f324a-6ec1-4d10-c4ec-4aba2244ddb8"
   },
   "outputs": [
    {
     "data": {
      "image/png": "[encoded data removed]",
      "text/plain": [
       "<Figure size 1080x432 with 1 Axes>"
      ]
     },
     "metadata": {
      "needs_background": "light",
      "tags": []
     },
     "output_type": "display_data"
    }
   ],
   "source": [
    "plt.figure(figsize=(15,6))\n",
    "plt.plot(df[(df.index<=\"2020-09-11\") & (df.index>=\"2020-07-01\")]['4. close'], label='True Historical Price')\n",
    "plt.plot(df[df.index>=\"2020-09-14\"]['4. close'], label='True Future Price', color='green')\n",
    "plt.plot(predicted_price_bt, label='Predicted Price')\n",
    "plt.title(\"MSFT daily closing price (2020)\\nPrediction for \"+str(predicted_price_bt.index[0].date())+\" to \"+str(predicted_price_bt.index[-1].date()))\n",
    "plt.legend()\n",
    "plt.show()"
   ]
  },
  {
   "cell_type": "code",
   "execution_count": 40,
   "metadata": {
    "colab": {},
    "colab_type": "code",
    "id": "Ys5GmjA2Mzj1"
   },
   "outputs": [],
   "source": []
  },
  {
   "cell_type": "code",
   "execution_count": 40,
   "metadata": {
    "colab": {},
    "colab_type": "code",
    "id": "5BPL30lPKHt5"
   },
   "outputs": [],
   "source": []
  },
  {
   "cell_type": "markdown",
   "metadata": {
    "colab_type": "text",
    "id": "WY3JOFqpMPjt"
   },
   "source": [
    "### Deploy"
   ]
  },
  {
   "cell_type": "code",
   "execution_count": 41,
   "metadata": {
    "colab": {
     "base_uri": "https://localhost:8080/",
     "height": 297
    },
    "colab_type": "code",
    "id": "RnhvDbNZM5gF",
    "outputId": "381667cd-2210-481f-af68-a683f199c350"
   },
   "outputs": [
    {
     "name": "stdout",
     "output_type": "stream",
     "text": [
      "Collecting flask_ngrok\n",
      "  Downloading https://files.pythonhosted.org/packages/af/6c/f54cb686ad1129e27d125d182f90f52b32f284e6c8df58c1bae54fa1adbc/flask_ngrok-0.0.25-py3-none-any.whl\n",
      "Requirement already satisfied: Flask>=0.8 in /usr/local/lib/python3.6/dist-packages (from flask_ngrok) (1.1.2)\n",
      "Requirement already satisfied: requests in /usr/local/lib/python3.6/dist-packages (from flask_ngrok) (2.23.0)\n",
      "Requirement already satisfied: Werkzeug>=0.15 in /usr/local/lib/python3.6/dist-packages (from Flask>=0.8->flask_ngrok) (1.0.1)\n",
      "Requirement already satisfied: Jinja2>=2.10.1 in /usr/local/lib/python3.6/dist-packages (from Flask>=0.8->flask_ngrok) (2.11.2)\n",
      "Requirement already satisfied: itsdangerous>=0.24 in /usr/local/lib/python3.6/dist-packages (from Flask>=0.8->flask_ngrok) (1.1.0)\n",
      "Requirement already satisfied: click>=5.1 in /usr/local/lib/python3.6/dist-packages (from Flask>=0.8->flask_ngrok) (7.1.2)\n",
      "Requirement already satisfied: urllib3!=1.25.0,!=1.25.1,<1.26,>=1.21.1 in /usr/local/lib/python3.6/dist-packages (from requests->flask_ngrok) (1.24.3)\n",
      "Requirement already satisfied: chardet<4,>=3.0.2 in /usr/local/lib/python3.6/dist-packages (from requests->flask_ngrok) (3.0.4)\n",
      "Requirement already satisfied: certifi>=2017.4.17 in /usr/local/lib/python3.6/dist-packages (from requests->flask_ngrok) (2020.6.20)\n",
      "Requirement already satisfied: idna<3,>=2.5 in /usr/local/lib/python3.6/dist-packages (from requests->flask_ngrok) (2.10)\n",
      "Requirement already satisfied: MarkupSafe>=0.23 in /usr/local/lib/python3.6/dist-packages (from Jinja2>=2.10.1->Flask>=0.8->flask_ngrok) (1.1.1)\n",
      "Installing collected packages: flask-ngrok\n",
      "Successfully installed flask-ngrok-0.0.25\n"
     ]
    }
   ],
   "source": [
    "# Importing the essential libraries\n",
    "!pip install flask_ngrok\n",
    "import numpy as np #fast computations with arrays\n",
    "import pandas as pd #save data into optimized dataframes\n",
    "import matplotlib.pyplot as plt #create custom visualizations/plots of the data\n",
    "import seaborn as sns; sns.set() #sets the style of plots"
   ]
  },
  {
   "cell_type": "code",
   "execution_count": 42,
   "metadata": {
    "colab": {},
    "colab_type": "code",
    "id": "j0hZKoR3NrmC"
   },
   "outputs": [],
   "source": [
    "#This code pulls the data from the alpavantage api \n",
    "#Right now it is just microsoft's data\n",
    "import requests\n",
    "\n",
    "#helper function to split the time series (explained in next block of code)\n",
    "def split_sequence(sequence, n_steps):\n",
    "\tX, y = list(), list() #create empty lists to store X and y variables\n",
    "\tfor i in range(len(sequence)):\n",
    "\n",
    "\t\t# find the end of this pattern\n",
    "\t\tend_ix = i + n_steps\n",
    "\n",
    "\t\t# check if we are beyond the sequence\n",
    "\t\t#if we are, simply stop executing this block of code\n",
    "\t\tif end_ix > len(sequence)-1:\n",
    "\t\t\tbreak\n",
    "\n",
    "\t\t# gather input and output parts of the pattern\n",
    "\t\tseq_x, seq_y = sequence[i:end_ix], sequence[end_ix]\n",
    "\t\tX.append(seq_x)\n",
    "\t\ty.append(seq_y)\n",
    "  \n",
    "\treturn np.array(X), np.array(y)\n",
    " \n",
    "def our_model(ticker, DAYS_TO_PREDICT):\n",
    "  API_KEY = 'FYEEXVSKRKYAO1VI'\n",
    "  r = requests.get('https://www.alphavantage.co/query?function=TIME_SERIES_DAILY&symbol='+ticker+'&apikey='+API_KEY)\n",
    "  #Raw data from API \n",
    "  df = pd.DataFrame.from_dict(r.json(), orient=\"index\")\n",
    "  #Transposing Data and Taking column with data\n",
    "  df2 = (df.T['Time Series (Daily)'])\n",
    "  #Dropping all NAs\n",
    "  df2 = df2.dropna()\n",
    "  df_convert = df2.to_frame()\n",
    "  #We will take the data from this and use it to index our dataframe \n",
    "  df_index = list(df_convert.index)\n",
    "  #Convert to cleaned dataframe \n",
    "  df2 = pd.json_normalize(df2)\n",
    "  #We add this list to the dataframe with our actual data\n",
    "  df2['Index'] = df_index\n",
    "  #We then set the index column as our actual index\n",
    "  df2 = df2.set_index('Index')\n",
    "  #Put the data in the correct order\n",
    "  df2 = df2[::-1] #reverse the order of the dataframe\n",
    "  df2.index=pd.to_datetime(df2.index) #convert the index to a datetime object for plotting\n",
    "  #convert each column to integers for plotting and model input\n",
    "  df2['1. open']=pd.to_numeric(df2['1. open'])\n",
    "  df2['2. high']=pd.to_numeric(df2['2. high'])\n",
    "  df2['3. low']=pd.to_numeric(df2['3. low'])\n",
    "  df2['4. close']=pd.to_numeric(df2['4. close'])\n",
    "  df2['5. volume']=pd.to_numeric(df2['5. volume'])\n",
    "\n",
    "  seq_length = 5 #seq_length tells how many sequential data points are used for each element of the array\n",
    "  #5 means 5 data points will be used at a time\n",
    "  #for instance, the first element of the array will be data points 1-5\n",
    "  #the second element of the array will be data points 2-6\n",
    "  #third element will be data points 3-7, and so on\n",
    "\n",
    "  #we only need the close price data for our model\n",
    "  data = np.array(df2['4. close'])\n",
    "\n",
    "  #splitting the data with our helper function\n",
    "  X, y = split_sequence(data, seq_length)\n",
    "\n",
    "  #reshape from [samples, timesteps] into [samples, timesteps, features] for training the model\n",
    "  #the model requires these three values for input\n",
    "  n_features = 1 #our only feature, or input variable, is the closing stock price\n",
    "  X = X.reshape((X.shape[0], X.shape[1], n_features))\n",
    "\n",
    "  import tensorflow as tf #backend for keras\n",
    "  from tensorflow import keras #used for creating the CNN model\n",
    "  from keras.models import Sequential\n",
    "  from keras.layers import Flatten, Dense\n",
    "  from keras.layers.convolutional import Conv1D, MaxPooling1D #the data is 1-dimensional so we will use a 1d convolution layer\n",
    "\n",
    "  #define/setup model\n",
    "  model = Sequential()\n",
    "\n",
    "  #add a 1d convolutional layer\n",
    "  #64 filters used in the convolution operation (a somewhat arbitrary choice)\n",
    "  #kernel_size of 2 means the convolutional layer reads 2 data points at a time, applies the filters, and outputs it to the next layer\n",
    "  model.add(Conv1D(filters=64, kernel_size=2, activation='relu', input_shape=(seq_length, n_features)))\n",
    "\n",
    "  #add a pooling layer, which reduces the dimensionality of the input size\n",
    "  #takes the max value of each window of length 2\n",
    "  model.add(MaxPooling1D(pool_size=2))\n",
    "\n",
    "  #flattens the data into a 1d vector - first layer of the fully connected layers\n",
    "  model.add(Flatten())\n",
    "\n",
    "  #dense layer with relu activation\n",
    "  #outputs zero for values less than or equal to zero and keeps positive values the same\n",
    "  model.add(Dense(50, activation='relu'))\n",
    "\n",
    "  #1d dense layer to generate the predicted value\n",
    "  #only 1 dimensional because only one value is being predicted at each time point\n",
    "  model.add(Dense(1))\n",
    "\n",
    "  model.compile(optimizer='adam', loss='mse')\n",
    "\n",
    "  #the model is fitted on the training data over 100 epochs to improve and update its parameters\n",
    "  #verbose controls how detailed the output is when training the model\n",
    "  model.fit(X, y, epochs=100)\n",
    "\n",
    "  test_seq = X[-1:] #set the test sequence to start at the most recent stock values\n",
    "  preds = [] #create empty list to store predictions\n",
    "  #DAYS_TO_PREDICT=7 #number of future days to predict\n",
    "\n",
    "  #create predictions using most recent 5 data points\n",
    "  #the first prediction will assist in making the second prediction, and so on\n",
    "  for _ in range(DAYS_TO_PREDICT):\n",
    "      y_test_pred = model(test_seq) #outputs the prediction from our test sequence\n",
    "      pred = y_test_pred #assign pred to the raw output of the model for rebuilding new_seq and test_seq\n",
    "      preds.append(y_test_pred) #add the prediction to the list we will use for plotting\n",
    "      new_seq = test_seq.flatten() #flatten the output from the model into a 1d array\n",
    "      new_seq = np.append(new_seq, [pred]) #add prediction to the list the model is using to make predictions\n",
    "      new_seq = new_seq[1:] #exclude the first element from the list; use our most recent prediction for the next prediction instead\n",
    "      test_seq = new_seq.reshape(1, seq_length, 1) #reshape for the model\n",
    "  preds=np.array(preds).reshape(DAYS_TO_PREDICT,) #reshape the prediction array for plotting\n",
    "\n",
    "  #creating the datetime index for our predictions to be just after our actual data\n",
    "  predicted_index = pd.date_range(\n",
    "    start=df2.index[-2], #start 1 day beyond existing data\n",
    "    periods=DAYS_TO_PREDICT+1, #run time interval through days ahead predicted\n",
    "    closed='right') #include the last value of the time frame\n",
    "\n",
    "  #create new series with predicted prices for corresponding dates predicted\n",
    "  predicted_price = pd.Series(\n",
    "    data=preds,\n",
    "    index=predicted_index)\n",
    "  \n",
    "#   plt.figure(figsize=(15,6))\n",
    "#   plt.plot(df2['4. close'][:-1], #plot data used for training the model\n",
    "#          label='Historical Daily Price')\n",
    "#   plt.plot(predicted_price, #plot predictions\n",
    "#          label='Predicted Daily Price')\n",
    "#   plt.title(label=ticker+\" daily closing price\")\n",
    "#   plt.legend()\n",
    "#   plt.savefig(\"pred_prices.png\")\n",
    "  \n",
    "  return predicted_price\n",
    "  \n",
    "\n",
    "  #plt.figure(figsize=(15,6))\n",
    "  #plot data used for training the model\n",
    "  #plt.plot(df2[df2.index>=\"2020-08-01\"]['4. close'][:-1],\n",
    "         #label='Historical Daily Price')\n",
    "\n",
    "  #add the predcited prices to the plot\n",
    "  #plt.plot(predicted_price,\n",
    "          #label='Predicted Daily Price')\n",
    "  #plt.title(ticker + \" daily closing price (2020)\\nPredction for \"+str(predicted_price.index[0].date())+\" to \"+str(predicted_price.index[-1].date()))\n",
    "  #plt.legend()\n",
    "  #return plt.show()\n"
   ]
  },
  {
   "cell_type": "code",
   "execution_count": null,
   "metadata": {
    "colab": {
     "base_uri": "https://localhost:8080/",
     "height": 1000
    },
    "colab_type": "code",
    "id": "m03NoKa6uW1R",
    "outputId": "86bc444d-777f-4ec9-fd67-0073e9aff3c6"
   },
   "outputs": [
    {
     "name": "stdout",
     "output_type": "stream",
     "text": [
      " * Serving Flask app \"__main__\" (lazy loading)\n",
      " * Environment: production\n",
      "\u001b[31m   WARNING: This is a development server. Do not use it in a production deployment.\u001b[0m\n",
      "\u001b[2m   Use a production WSGI server instead.\u001b[0m\n",
      " * Debug mode: off\n"
     ]
    },
    {
     "name": "stderr",
     "output_type": "stream",
     "text": [
      " * Running on http://127.0.0.1:5000/ (Press CTRL+C to quit)\n"
     ]
    },
    {
     "name": "stdout",
     "output_type": "stream",
     "text": [
      " * Running on http://7a8fa6852461.ngrok.io\n",
      " * Traffic stats available on http://127.0.0.1:4040\n"
     ]
    },
    {
     "name": "stderr",
     "output_type": "stream",
     "text": [
      "127.0.0.1 - - [21/Sep/2020 15:33:06] \"\u001b[37mGET / HTTP/1.1\u001b[0m\" 200 -\n",
      "127.0.0.1 - - [21/Sep/2020 15:33:07] \"\u001b[33mGET /favicon.ico HTTP/1.1\u001b[0m\" 404 -\n",
      "[2020-09-21 15:33:16,234] ERROR in app: Exception on /predict [POST]\n",
      "Traceback (most recent call last):\n",
      "  File \"/usr/local/lib/python3.6/dist-packages/pandas/core/indexes/base.py\", line 2646, in get_loc\n",
      "    return self._engine.get_loc(key)\n",
      "  File \"pandas/_libs/index.pyx\", line 111, in pandas._libs.index.IndexEngine.get_loc\n",
      "  File \"pandas/_libs/index.pyx\", line 138, in pandas._libs.index.IndexEngine.get_loc\n",
      "  File \"pandas/_libs/hashtable_class_helper.pxi\", line 1619, in pandas._libs.hashtable.PyObjectHashTable.get_item\n",
      "  File \"pandas/_libs/hashtable_class_helper.pxi\", line 1627, in pandas._libs.hashtable.PyObjectHashTable.get_item\n",
      "KeyError: 'Time Series (Daily)'\n",
      "\n",
      "During handling of the above exception, another exception occurred:\n",
      "\n",
      "Traceback (most recent call last):\n",
      "  File \"/usr/local/lib/python3.6/dist-packages/flask/app.py\", line 2447, in wsgi_app\n",
      "    response = self.full_dispatch_request()\n",
      "  File \"/usr/local/lib/python3.6/dist-packages/flask/app.py\", line 1952, in full_dispatch_request\n",
      "    rv = self.handle_user_exception(e)\n",
      "  File \"/usr/local/lib/python3.6/dist-packages/flask/app.py\", line 1821, in handle_user_exception\n",
      "    reraise(exc_type, exc_value, tb)\n",
      "  File \"/usr/local/lib/python3.6/dist-packages/flask/_compat.py\", line 39, in reraise\n",
      "    raise value\n",
      "  File \"/usr/local/lib/python3.6/dist-packages/flask/app.py\", line 1950, in full_dispatch_request\n",
      "    rv = self.dispatch_request()\n",
      "  File \"/usr/local/lib/python3.6/dist-packages/flask/app.py\", line 1936, in dispatch_request\n",
      "    return self.view_functions[rule.endpoint](**req.view_args)\n",
      "  File \"<ipython-input-43-26a7a272412a>\", line 27, in predict\n",
      "    prediction = our_model(ticker, 7) #supply the ticker to the model and get the 7-day prediction from the model\n",
      "  File \"<ipython-input-42-79c6ff773524>\", line 31, in our_model\n",
      "    df2 = (df.T['Time Series (Daily)'])\n",
      "  File \"/usr/local/lib/python3.6/dist-packages/pandas/core/frame.py\", line 2800, in __getitem__\n",
      "    indexer = self.columns.get_loc(key)\n",
      "  File \"/usr/local/lib/python3.6/dist-packages/pandas/core/indexes/base.py\", line 2648, in get_loc\n",
      "    return self._engine.get_loc(self._maybe_cast_indexer(key))\n",
      "  File \"pandas/_libs/index.pyx\", line 111, in pandas._libs.index.IndexEngine.get_loc\n",
      "  File \"pandas/_libs/index.pyx\", line 138, in pandas._libs.index.IndexEngine.get_loc\n",
      "  File \"pandas/_libs/hashtable_class_helper.pxi\", line 1619, in pandas._libs.hashtable.PyObjectHashTable.get_item\n",
      "  File \"pandas/_libs/hashtable_class_helper.pxi\", line 1627, in pandas._libs.hashtable.PyObjectHashTable.get_item\n",
      "KeyError: 'Time Series (Daily)'\n",
      "127.0.0.1 - - [21/Sep/2020 15:33:16] \"\u001b[35m\u001b[1mPOST /predict HTTP/1.1\u001b[0m\" 500 -\n"
     ]
    },
    {
     "name": "stdout",
     "output_type": "stream",
     "text": [
      "Epoch 1/100\n",
      "3/3 [==============================] - 0s 2ms/step - loss: 36573.3281\n",
      "Epoch 2/100\n",
      "3/3 [==============================] - 0s 2ms/step - loss: 16994.4258\n",
      "Epoch 3/100\n",
      "3/3 [==============================] - 0s 2ms/step - loss: 6865.2803\n",
      "Epoch 4/100\n",
      "3/3 [==============================] - 0s 2ms/step - loss: 4067.5237\n",
      "Epoch 5/100\n",
      "3/3 [==============================] - 0s 1ms/step - loss: 5721.8198\n",
      "Epoch 6/100\n",
      "3/3 [==============================] - 0s 2ms/step - loss: 6536.5527\n",
      "Epoch 7/100\n",
      "3/3 [==============================] - 0s 2ms/step - loss: 5533.9341\n",
      "Epoch 8/100\n",
      "3/3 [==============================] - 0s 2ms/step - loss: 4267.0747\n",
      "Epoch 9/100\n",
      "3/3 [==============================] - 0s 2ms/step - loss: 3946.0737\n",
      "Epoch 10/100\n",
      "3/3 [==============================] - 0s 2ms/step - loss: 4246.1294\n",
      "Epoch 11/100\n",
      "3/3 [==============================] - 0s 2ms/step - loss: 4135.2412\n",
      "Epoch 12/100\n",
      "3/3 [==============================] - 0s 2ms/step - loss: 4033.7861\n",
      "Epoch 13/100\n",
      "3/3 [==============================] - 0s 2ms/step - loss: 3862.1309\n",
      "Epoch 14/100\n",
      "3/3 [==============================] - 0s 2ms/step - loss: 3830.8450\n",
      "Epoch 15/100\n",
      "3/3 [==============================] - 0s 2ms/step - loss: 3762.7791\n",
      "Epoch 16/100\n",
      "3/3 [==============================] - 0s 2ms/step - loss: 3642.0796\n",
      "Epoch 17/100\n",
      "3/3 [==============================] - 0s 2ms/step - loss: 3643.7986\n",
      "Epoch 18/100\n",
      "3/3 [==============================] - 0s 2ms/step - loss: 3582.7139\n",
      "Epoch 19/100\n",
      "3/3 [==============================] - 0s 2ms/step - loss: 3505.6282\n",
      "Epoch 20/100\n",
      "3/3 [==============================] - 0s 2ms/step - loss: 3431.6702\n",
      "Epoch 21/100\n",
      "3/3 [==============================] - 0s 2ms/step - loss: 3406.3809\n",
      "Epoch 22/100\n",
      "3/3 [==============================] - 0s 2ms/step - loss: 3373.0806\n",
      "Epoch 23/100\n",
      "3/3 [==============================] - 0s 2ms/step - loss: 3256.6667\n",
      "Epoch 24/100\n",
      "3/3 [==============================] - 0s 2ms/step - loss: 3224.9575\n",
      "Epoch 25/100\n",
      "3/3 [==============================] - 0s 2ms/step - loss: 3166.2007\n",
      "Epoch 26/100\n",
      "3/3 [==============================] - 0s 2ms/step - loss: 3116.6213\n",
      "Epoch 27/100\n",
      "3/3 [==============================] - 0s 2ms/step - loss: 3079.5645\n",
      "Epoch 28/100\n",
      "3/3 [==============================] - 0s 2ms/step - loss: 3015.1116\n",
      "Epoch 29/100\n",
      "3/3 [==============================] - 0s 4ms/step - loss: 3034.6455\n",
      "Epoch 30/100\n",
      "3/3 [==============================] - 0s 2ms/step - loss: 2985.2708\n",
      "Epoch 31/100\n",
      "3/3 [==============================] - 0s 2ms/step - loss: 2935.5691\n",
      "Epoch 32/100\n",
      "3/3 [==============================] - 0s 4ms/step - loss: 2897.9136\n",
      "Epoch 33/100\n",
      "3/3 [==============================] - 0s 2ms/step - loss: 2852.7417\n",
      "Epoch 34/100\n",
      "3/3 [==============================] - 0s 2ms/step - loss: 2782.3501\n",
      "Epoch 35/100\n",
      "3/3 [==============================] - 0s 2ms/step - loss: 2725.7126\n",
      "Epoch 36/100\n",
      "3/3 [==============================] - 0s 2ms/step - loss: 2711.3865\n",
      "Epoch 37/100\n",
      "3/3 [==============================] - 0s 2ms/step - loss: 2659.2983\n",
      "Epoch 38/100\n",
      "3/3 [==============================] - 0s 2ms/step - loss: 2649.5994\n",
      "Epoch 39/100\n",
      "3/3 [==============================] - 0s 3ms/step - loss: 2641.9297\n",
      "Epoch 40/100\n",
      "3/3 [==============================] - 0s 2ms/step - loss: 2614.7385\n",
      "Epoch 41/100\n",
      "3/3 [==============================] - 0s 2ms/step - loss: 2536.0964\n",
      "Epoch 42/100\n",
      "3/3 [==============================] - 0s 3ms/step - loss: 2489.2004\n",
      "Epoch 43/100\n",
      "3/3 [==============================] - 0s 3ms/step - loss: 2477.9719\n",
      "Epoch 44/100\n",
      "3/3 [==============================] - 0s 2ms/step - loss: 2442.6619\n",
      "Epoch 45/100\n",
      "3/3 [==============================] - 0s 2ms/step - loss: 2402.0122\n",
      "Epoch 46/100\n",
      "3/3 [==============================] - 0s 2ms/step - loss: 2451.4270\n",
      "Epoch 47/100\n",
      "3/3 [==============================] - 0s 2ms/step - loss: 2382.0125\n",
      "Epoch 48/100\n",
      "3/3 [==============================] - 0s 2ms/step - loss: 2327.1296\n",
      "Epoch 49/100\n",
      "3/3 [==============================] - 0s 2ms/step - loss: 2367.6084\n",
      "Epoch 50/100\n",
      "3/3 [==============================] - 0s 3ms/step - loss: 2329.6504\n",
      "Epoch 51/100\n",
      "3/3 [==============================] - 0s 2ms/step - loss: 2251.4487\n",
      "Epoch 52/100\n",
      "3/3 [==============================] - 0s 2ms/step - loss: 2218.6067\n",
      "Epoch 53/100\n",
      "3/3 [==============================] - 0s 2ms/step - loss: 2199.9827\n",
      "Epoch 54/100\n",
      "3/3 [==============================] - 0s 2ms/step - loss: 2230.9956\n",
      "Epoch 55/100\n",
      "3/3 [==============================] - 0s 2ms/step - loss: 2161.8582\n",
      "Epoch 56/100\n",
      "3/3 [==============================] - 0s 2ms/step - loss: 2172.7109\n",
      "Epoch 57/100\n",
      "3/3 [==============================] - 0s 2ms/step - loss: 2134.6204\n",
      "Epoch 58/100\n",
      "3/3 [==============================] - 0s 2ms/step - loss: 2094.9321\n",
      "Epoch 59/100\n",
      "3/3 [==============================] - 0s 2ms/step - loss: 2083.0056\n",
      "Epoch 60/100\n",
      "3/3 [==============================] - 0s 2ms/step - loss: 2086.8230\n",
      "Epoch 61/100\n",
      "3/3 [==============================] - 0s 1ms/step - loss: 2110.5737\n",
      "Epoch 62/100\n",
      "3/3 [==============================] - 0s 1ms/step - loss: 2048.3657\n",
      "Epoch 63/100\n",
      "3/3 [==============================] - 0s 2ms/step - loss: 2042.6022\n",
      "Epoch 64/100\n",
      "3/3 [==============================] - 0s 2ms/step - loss: 1988.1154\n",
      "Epoch 65/100\n",
      "3/3 [==============================] - 0s 3ms/step - loss: 2009.7676\n",
      "Epoch 66/100\n",
      "3/3 [==============================] - 0s 2ms/step - loss: 2007.6074\n",
      "Epoch 67/100\n",
      "3/3 [==============================] - 0s 2ms/step - loss: 1980.3673\n",
      "Epoch 68/100\n",
      "3/3 [==============================] - 0s 2ms/step - loss: 2004.1833\n",
      "Epoch 69/100\n",
      "3/3 [==============================] - 0s 2ms/step - loss: 2016.7150\n",
      "Epoch 70/100\n",
      "3/3 [==============================] - 0s 2ms/step - loss: 1966.6779\n",
      "Epoch 71/100\n",
      "3/3 [==============================] - 0s 2ms/step - loss: 1911.2627\n",
      "Epoch 72/100\n",
      "3/3 [==============================] - 0s 2ms/step - loss: 1936.3728\n",
      "Epoch 73/100\n",
      "3/3 [==============================] - 0s 2ms/step - loss: 1897.0431\n",
      "Epoch 74/100\n",
      "3/3 [==============================] - 0s 2ms/step - loss: 1882.6876\n",
      "Epoch 75/100\n",
      "3/3 [==============================] - 0s 2ms/step - loss: 1866.6995\n",
      "Epoch 76/100\n",
      "3/3 [==============================] - 0s 2ms/step - loss: 1863.8964\n",
      "Epoch 77/100\n",
      "3/3 [==============================] - 0s 2ms/step - loss: 1896.0496\n",
      "Epoch 78/100\n",
      "3/3 [==============================] - 0s 2ms/step - loss: 1872.4404\n",
      "Epoch 79/100\n",
      "3/3 [==============================] - 0s 2ms/step - loss: 1861.7874\n",
      "Epoch 80/100\n",
      "3/3 [==============================] - 0s 2ms/step - loss: 1854.6637\n",
      "Epoch 81/100\n",
      "3/3 [==============================] - 0s 3ms/step - loss: 1804.2814\n",
      "Epoch 82/100\n",
      "3/3 [==============================] - 0s 2ms/step - loss: 1841.5621\n",
      "Epoch 83/100\n",
      "3/3 [==============================] - 0s 6ms/step - loss: 1800.3253\n",
      "Epoch 84/100\n",
      "3/3 [==============================] - 0s 2ms/step - loss: 1809.1538\n",
      "Epoch 85/100\n",
      "3/3 [==============================] - 0s 2ms/step - loss: 1808.3749\n",
      "Epoch 86/100\n",
      "3/3 [==============================] - 0s 2ms/step - loss: 1788.6334\n",
      "Epoch 87/100\n",
      "3/3 [==============================] - 0s 2ms/step - loss: 1857.2650\n",
      "Epoch 88/100\n",
      "3/3 [==============================] - 0s 2ms/step - loss: 1861.7214\n",
      "Epoch 89/100\n",
      "3/3 [==============================] - 0s 2ms/step - loss: 1791.0721\n",
      "Epoch 90/100\n",
      "3/3 [==============================] - 0s 2ms/step - loss: 1863.7354\n",
      "Epoch 91/100\n",
      "3/3 [==============================] - 0s 2ms/step - loss: 1808.7794\n",
      "Epoch 92/100\n",
      "3/3 [==============================] - 0s 2ms/step - loss: 1815.4440\n",
      "Epoch 93/100\n",
      "3/3 [==============================] - 0s 2ms/step - loss: 1853.2766\n",
      "Epoch 94/100\n",
      "3/3 [==============================] - 0s 2ms/step - loss: 1767.7404\n",
      "Epoch 95/100\n",
      "3/3 [==============================] - 0s 2ms/step - loss: 1765.4329\n",
      "Epoch 96/100\n",
      "3/3 [==============================] - 0s 2ms/step - loss: 1740.5906\n",
      "Epoch 97/100\n",
      "3/3 [==============================] - 0s 2ms/step - loss: 1748.2415\n",
      "Epoch 98/100\n",
      "3/3 [==============================] - 0s 2ms/step - loss: 1754.3995\n",
      "Epoch 99/100\n",
      "3/3 [==============================] - 0s 2ms/step - loss: 1747.6809\n",
      "Epoch 100/100\n",
      "3/3 [==============================] - 0s 2ms/step - loss: 1760.1460\n"
     ]
    },
    {
     "name": "stderr",
     "output_type": "stream",
     "text": [
      "127.0.0.1 - - [21/Sep/2020 15:33:27] \"\u001b[37mPOST /predict HTTP/1.1\u001b[0m\" 200 -\n"
     ]
    },
    {
     "name": "stdout",
     "output_type": "stream",
     "text": [
      "Epoch 1/100\n",
      "3/3 [==============================] - 0s 2ms/step - loss: 1848686.6250\n",
      "Epoch 2/100\n",
      "3/3 [==============================] - 0s 2ms/step - loss: 1370077.3750\n",
      "Epoch 3/100\n",
      "3/3 [==============================] - 0s 2ms/step - loss: 1003752.9375\n",
      "Epoch 4/100\n",
      "3/3 [==============================] - 0s 2ms/step - loss: 748714.1875\n",
      "Epoch 5/100\n",
      "3/3 [==============================] - 0s 2ms/step - loss: 584398.4375\n",
      "Epoch 6/100\n",
      "3/3 [==============================] - 0s 2ms/step - loss: 436623.6250\n",
      "Epoch 7/100\n",
      "3/3 [==============================] - 0s 2ms/step - loss: 315174.3750\n",
      "Epoch 8/100\n",
      "3/3 [==============================] - 0s 2ms/step - loss: 216315.5625\n",
      "Epoch 9/100\n",
      "3/3 [==============================] - 0s 2ms/step - loss: 154303.4531\n",
      "Epoch 10/100\n",
      "3/3 [==============================] - 0s 3ms/step - loss: 118427.7031\n",
      "Epoch 11/100\n",
      "3/3 [==============================] - 0s 3ms/step - loss: 107036.3125\n",
      "Epoch 12/100\n",
      "3/3 [==============================] - 0s 2ms/step - loss: 105333.9062\n",
      "Epoch 13/100\n",
      "3/3 [==============================] - 0s 2ms/step - loss: 105464.5781\n",
      "Epoch 14/100\n",
      "3/3 [==============================] - 0s 2ms/step - loss: 102610.3125\n",
      "Epoch 15/100\n",
      "3/3 [==============================] - 0s 2ms/step - loss: 97562.8203\n",
      "Epoch 16/100\n",
      "3/3 [==============================] - 0s 2ms/step - loss: 88708.7891\n",
      "Epoch 17/100\n",
      "3/3 [==============================] - 0s 2ms/step - loss: 83831.0156\n",
      "Epoch 18/100\n",
      "3/3 [==============================] - 0s 2ms/step - loss: 83133.9141\n",
      "Epoch 19/100\n",
      "3/3 [==============================] - 0s 1ms/step - loss: 81320.4453\n",
      "Epoch 20/100\n",
      "3/3 [==============================] - 0s 2ms/step - loss: 79234.3594\n",
      "Epoch 21/100\n",
      "3/3 [==============================] - 0s 2ms/step - loss: 75726.8203\n",
      "Epoch 22/100\n",
      "3/3 [==============================] - 0s 2ms/step - loss: 73864.1797\n",
      "Epoch 23/100\n",
      "3/3 [==============================] - 0s 2ms/step - loss: 72966.3828\n",
      "Epoch 24/100\n",
      "3/3 [==============================] - 0s 2ms/step - loss: 71653.4062\n",
      "Epoch 25/100\n",
      "3/3 [==============================] - 0s 2ms/step - loss: 69043.9609\n",
      "Epoch 26/100\n",
      "3/3 [==============================] - 0s 2ms/step - loss: 67413.6875\n",
      "Epoch 27/100\n",
      "3/3 [==============================] - 0s 2ms/step - loss: 66586.5938\n",
      "Epoch 28/100\n",
      "3/3 [==============================] - 0s 2ms/step - loss: 64100.6016\n",
      "Epoch 29/100\n",
      "3/3 [==============================] - 0s 3ms/step - loss: 62836.7617\n",
      "Epoch 30/100\n",
      "3/3 [==============================] - 0s 3ms/step - loss: 61058.8203\n",
      "Epoch 31/100\n",
      "3/3 [==============================] - 0s 2ms/step - loss: 59551.2383\n",
      "Epoch 32/100\n",
      "3/3 [==============================] - 0s 3ms/step - loss: 58424.3789\n",
      "Epoch 33/100\n",
      "3/3 [==============================] - 0s 2ms/step - loss: 57858.9375\n",
      "Epoch 34/100\n",
      "3/3 [==============================] - 0s 2ms/step - loss: 56102.2617\n",
      "Epoch 35/100\n",
      "3/3 [==============================] - 0s 2ms/step - loss: 55516.7148\n",
      "Epoch 36/100\n",
      "3/3 [==============================] - 0s 2ms/step - loss: 55360.4219\n",
      "Epoch 37/100\n",
      "3/3 [==============================] - 0s 2ms/step - loss: 53384.8906\n",
      "Epoch 38/100\n",
      "3/3 [==============================] - 0s 2ms/step - loss: 52080.3359\n",
      "Epoch 39/100\n",
      "3/3 [==============================] - 0s 2ms/step - loss: 51321.8984\n",
      "Epoch 40/100\n",
      "3/3 [==============================] - 0s 2ms/step - loss: 50451.2227\n",
      "Epoch 41/100\n",
      "3/3 [==============================] - 0s 2ms/step - loss: 49155.1367\n",
      "Epoch 42/100\n",
      "3/3 [==============================] - 0s 2ms/step - loss: 48412.8984\n",
      "Epoch 43/100\n",
      "3/3 [==============================] - 0s 2ms/step - loss: 48073.4219\n",
      "Epoch 44/100\n",
      "3/3 [==============================] - 0s 2ms/step - loss: 47669.6250\n",
      "Epoch 45/100\n",
      "3/3 [==============================] - 0s 2ms/step - loss: 46754.0703\n",
      "Epoch 46/100\n",
      "3/3 [==============================] - 0s 2ms/step - loss: 45955.2461\n",
      "Epoch 47/100\n",
      "3/3 [==============================] - 0s 2ms/step - loss: 45881.3906\n",
      "Epoch 48/100\n",
      "3/3 [==============================] - 0s 2ms/step - loss: 45284.1250\n",
      "Epoch 49/100\n",
      "3/3 [==============================] - 0s 2ms/step - loss: 44306.7148\n",
      "Epoch 50/100\n",
      "3/3 [==============================] - 0s 2ms/step - loss: 43877.2383\n",
      "Epoch 51/100\n",
      "3/3 [==============================] - 0s 2ms/step - loss: 43371.3711\n",
      "Epoch 52/100\n",
      "3/3 [==============================] - 0s 2ms/step - loss: 43001.5508\n",
      "Epoch 53/100\n",
      "3/3 [==============================] - 0s 2ms/step - loss: 43678.6328\n",
      "Epoch 54/100\n",
      "3/3 [==============================] - 0s 2ms/step - loss: 43007.8086\n",
      "Epoch 55/100\n",
      "3/3 [==============================] - 0s 2ms/step - loss: 42155.3359\n",
      "Epoch 56/100\n",
      "3/3 [==============================] - 0s 2ms/step - loss: 41400.3750\n",
      "Epoch 57/100\n",
      "3/3 [==============================] - 0s 2ms/step - loss: 41336.6016\n",
      "Epoch 58/100\n",
      "3/3 [==============================] - 0s 2ms/step - loss: 41294.7031\n",
      "Epoch 59/100\n",
      "3/3 [==============================] - 0s 2ms/step - loss: 41136.9141\n",
      "Epoch 60/100\n",
      "3/3 [==============================] - 0s 2ms/step - loss: 40473.8242\n",
      "Epoch 61/100\n",
      "3/3 [==============================] - 0s 2ms/step - loss: 40502.1484\n",
      "Epoch 62/100\n",
      "3/3 [==============================] - 0s 2ms/step - loss: 40230.7852\n",
      "Epoch 63/100\n",
      "3/3 [==============================] - 0s 2ms/step - loss: 40326.5781\n",
      "Epoch 64/100\n",
      "3/3 [==============================] - 0s 2ms/step - loss: 39890.1367\n",
      "Epoch 65/100\n",
      "3/3 [==============================] - 0s 2ms/step - loss: 40155.0352\n",
      "Epoch 66/100\n",
      "3/3 [==============================] - 0s 2ms/step - loss: 39832.1016\n",
      "Epoch 67/100\n",
      "3/3 [==============================] - 0s 2ms/step - loss: 39598.5586\n",
      "Epoch 68/100\n",
      "3/3 [==============================] - 0s 2ms/step - loss: 39271.8359\n",
      "Epoch 69/100\n",
      "3/3 [==============================] - 0s 2ms/step - loss: 39218.7305\n",
      "Epoch 70/100\n",
      "3/3 [==============================] - 0s 2ms/step - loss: 39388.5039\n",
      "Epoch 71/100\n",
      "3/3 [==============================] - 0s 2ms/step - loss: 39241.1172\n",
      "Epoch 72/100\n",
      "3/3 [==============================] - 0s 2ms/step - loss: 39074.6250\n",
      "Epoch 73/100\n",
      "3/3 [==============================] - 0s 2ms/step - loss: 39644.0508\n",
      "Epoch 74/100\n",
      "3/3 [==============================] - 0s 2ms/step - loss: 38932.9766\n",
      "Epoch 75/100\n",
      "3/3 [==============================] - 0s 2ms/step - loss: 39706.6797\n",
      "Epoch 76/100\n",
      "3/3 [==============================] - 0s 2ms/step - loss: 39244.3164\n",
      "Epoch 77/100\n",
      "3/3 [==============================] - 0s 2ms/step - loss: 38810.3438\n",
      "Epoch 78/100\n",
      "3/3 [==============================] - 0s 2ms/step - loss: 38765.7188\n",
      "Epoch 79/100\n",
      "3/3 [==============================] - 0s 2ms/step - loss: 38884.2266\n",
      "Epoch 80/100\n",
      "3/3 [==============================] - 0s 2ms/step - loss: 38714.8438\n",
      "Epoch 81/100\n",
      "3/3 [==============================] - 0s 2ms/step - loss: 38910.6719\n",
      "Epoch 82/100\n",
      "3/3 [==============================] - 0s 2ms/step - loss: 38485.8750\n",
      "Epoch 83/100\n",
      "3/3 [==============================] - 0s 2ms/step - loss: 38489.5273\n",
      "Epoch 84/100\n",
      "3/3 [==============================] - 0s 2ms/step - loss: 38445.1367\n",
      "Epoch 85/100\n",
      "3/3 [==============================] - 0s 2ms/step - loss: 38358.0195\n",
      "Epoch 86/100\n",
      "3/3 [==============================] - 0s 2ms/step - loss: 38704.2188\n",
      "Epoch 87/100\n",
      "3/3 [==============================] - 0s 2ms/step - loss: 38335.7617\n",
      "Epoch 88/100\n",
      "3/3 [==============================] - 0s 2ms/step - loss: 38448.2969\n",
      "Epoch 89/100\n",
      "3/3 [==============================] - 0s 2ms/step - loss: 38233.3906\n",
      "Epoch 90/100\n",
      "3/3 [==============================] - 0s 2ms/step - loss: 38547.6523\n",
      "Epoch 91/100\n",
      "3/3 [==============================] - 0s 2ms/step - loss: 37984.9961\n",
      "Epoch 92/100\n",
      "3/3 [==============================] - 0s 2ms/step - loss: 37734.7422\n",
      "Epoch 93/100\n",
      "3/3 [==============================] - 0s 2ms/step - loss: 38389.6875\n",
      "Epoch 94/100\n",
      "3/3 [==============================] - 0s 2ms/step - loss: 38984.8516\n",
      "Epoch 95/100\n",
      "3/3 [==============================] - 0s 2ms/step - loss: 38077.3867\n",
      "Epoch 96/100\n",
      "3/3 [==============================] - 0s 2ms/step - loss: 38313.5742\n",
      "Epoch 97/100\n",
      "3/3 [==============================] - 0s 2ms/step - loss: 38038.7422\n",
      "Epoch 98/100\n",
      "3/3 [==============================] - 0s 2ms/step - loss: 38209.9570\n",
      "Epoch 99/100\n",
      "3/3 [==============================] - 0s 2ms/step - loss: 38068.2109\n",
      "Epoch 100/100\n",
      "3/3 [==============================] - 0s 2ms/step - loss: 37748.6367\n"
     ]
    },
    {
     "name": "stderr",
     "output_type": "stream",
     "text": [
      "127.0.0.1 - - [21/Sep/2020 15:33:34] \"\u001b[37mPOST /predict HTTP/1.1\u001b[0m\" 200 -\n"
     ]
    },
    {
     "name": "stdout",
     "output_type": "stream",
     "text": [
      "Epoch 1/100\n",
      "3/3 [==============================] - 0s 2ms/step - loss: 2036295.1250\n",
      "Epoch 2/100\n",
      "3/3 [==============================] - 0s 2ms/step - loss: 1566638.5000\n",
      "Epoch 3/100\n",
      "3/3 [==============================] - 0s 2ms/step - loss: 1176815.3750\n",
      "Epoch 4/100\n",
      "3/3 [==============================] - 0s 1ms/step - loss: 889921.3750\n",
      "Epoch 5/100\n",
      "3/3 [==============================] - 0s 2ms/step - loss: 625037.6250\n",
      "Epoch 6/100\n",
      "3/3 [==============================] - 0s 2ms/step - loss: 444593.9375\n",
      "Epoch 7/100\n",
      "3/3 [==============================] - 0s 2ms/step - loss: 317245.5625\n",
      "Epoch 8/100\n",
      "3/3 [==============================] - 0s 2ms/step - loss: 230096.0469\n",
      "Epoch 9/100\n",
      "3/3 [==============================] - 0s 2ms/step - loss: 170973.9531\n",
      "Epoch 10/100\n",
      "3/3 [==============================] - 0s 1ms/step - loss: 135818.8750\n",
      "Epoch 11/100\n",
      "3/3 [==============================] - 0s 2ms/step - loss: 113881.1484\n",
      "Epoch 12/100\n",
      "3/3 [==============================] - 0s 2ms/step - loss: 107406.8984\n",
      "Epoch 13/100\n",
      "3/3 [==============================] - 0s 2ms/step - loss: 113420.0859\n",
      "Epoch 14/100\n",
      "3/3 [==============================] - 0s 2ms/step - loss: 115134.3828\n",
      "Epoch 15/100\n",
      "3/3 [==============================] - 0s 2ms/step - loss: 117490.3906\n",
      "Epoch 16/100\n",
      "3/3 [==============================] - 0s 2ms/step - loss: 115951.7891\n",
      "Epoch 17/100\n",
      "3/3 [==============================] - 0s 2ms/step - loss: 111890.5234\n",
      "Epoch 18/100\n",
      "3/3 [==============================] - 0s 2ms/step - loss: 107980.0000\n",
      "Epoch 19/100\n",
      "3/3 [==============================] - 0s 2ms/step - loss: 102076.9922\n",
      "Epoch 20/100\n",
      "3/3 [==============================] - 0s 2ms/step - loss: 100083.0938\n",
      "Epoch 21/100\n",
      "3/3 [==============================] - 0s 2ms/step - loss: 98452.5703\n",
      "Epoch 22/100\n",
      "3/3 [==============================] - 0s 2ms/step - loss: 97767.0938\n",
      "Epoch 23/100\n",
      "3/3 [==============================] - 0s 1ms/step - loss: 96530.9141\n",
      "Epoch 24/100\n",
      "3/3 [==============================] - 0s 2ms/step - loss: 95443.2734\n",
      "Epoch 25/100\n",
      "3/3 [==============================] - 0s 1ms/step - loss: 93303.9688\n",
      "Epoch 26/100\n",
      "3/3 [==============================] - 0s 1ms/step - loss: 91472.0859\n",
      "Epoch 27/100\n",
      "3/3 [==============================] - 0s 1ms/step - loss: 88919.2188\n",
      "Epoch 28/100\n",
      "3/3 [==============================] - 0s 2ms/step - loss: 87155.4922\n",
      "Epoch 29/100\n",
      "3/3 [==============================] - 0s 2ms/step - loss: 85453.3281\n",
      "Epoch 30/100\n",
      "3/3 [==============================] - 0s 2ms/step - loss: 84454.9297\n",
      "Epoch 31/100\n",
      "3/3 [==============================] - 0s 2ms/step - loss: 82308.5781\n",
      "Epoch 32/100\n",
      "3/3 [==============================] - 0s 2ms/step - loss: 80793.4453\n",
      "Epoch 33/100\n",
      "3/3 [==============================] - 0s 2ms/step - loss: 78720.3047\n",
      "Epoch 34/100\n",
      "3/3 [==============================] - 0s 2ms/step - loss: 77781.1484\n",
      "Epoch 35/100\n",
      "3/3 [==============================] - 0s 2ms/step - loss: 75673.3672\n",
      "Epoch 36/100\n",
      "3/3 [==============================] - 0s 2ms/step - loss: 74393.2500\n",
      "Epoch 37/100\n",
      "3/3 [==============================] - 0s 2ms/step - loss: 72749.6094\n",
      "Epoch 38/100\n",
      "3/3 [==============================] - 0s 2ms/step - loss: 71130.0859\n",
      "Epoch 39/100\n",
      "3/3 [==============================] - 0s 2ms/step - loss: 69908.2734\n",
      "Epoch 40/100\n",
      "3/3 [==============================] - 0s 2ms/step - loss: 68714.3281\n",
      "Epoch 41/100\n",
      "3/3 [==============================] - 0s 2ms/step - loss: 66256.5234\n",
      "Epoch 42/100\n",
      "3/3 [==============================] - 0s 2ms/step - loss: 64756.3164\n",
      "Epoch 43/100\n",
      "3/3 [==============================] - 0s 2ms/step - loss: 62500.9961\n",
      "Epoch 44/100\n",
      "3/3 [==============================] - 0s 2ms/step - loss: 61261.8008\n",
      "Epoch 45/100\n",
      "3/3 [==============================] - 0s 2ms/step - loss: 60312.8789\n",
      "Epoch 46/100\n",
      "3/3 [==============================] - 0s 2ms/step - loss: 58242.0352\n",
      "Epoch 47/100\n",
      "3/3 [==============================] - 0s 2ms/step - loss: 56489.2109\n",
      "Epoch 48/100\n",
      "3/3 [==============================] - 0s 2ms/step - loss: 55891.9805\n",
      "Epoch 49/100\n",
      "3/3 [==============================] - 0s 2ms/step - loss: 54901.8164\n",
      "Epoch 50/100\n",
      "3/3 [==============================] - 0s 2ms/step - loss: 53312.0586\n",
      "Epoch 51/100\n",
      "3/3 [==============================] - 0s 2ms/step - loss: 52657.3086\n",
      "Epoch 52/100\n",
      "3/3 [==============================] - 0s 2ms/step - loss: 52109.9141\n",
      "Epoch 53/100\n",
      "3/3 [==============================] - 0s 2ms/step - loss: 50754.5273\n",
      "Epoch 54/100\n",
      "3/3 [==============================] - 0s 2ms/step - loss: 49685.3828\n",
      "Epoch 55/100\n",
      "3/3 [==============================] - 0s 2ms/step - loss: 49258.6367\n",
      "Epoch 56/100\n",
      "3/3 [==============================] - 0s 2ms/step - loss: 49130.4141\n",
      "Epoch 57/100\n",
      "3/3 [==============================] - 0s 2ms/step - loss: 47845.7734\n",
      "Epoch 58/100\n",
      "3/3 [==============================] - 0s 2ms/step - loss: 47130.6250\n",
      "Epoch 59/100\n",
      "3/3 [==============================] - 0s 2ms/step - loss: 46530.5938\n",
      "Epoch 60/100\n",
      "3/3 [==============================] - 0s 2ms/step - loss: 46658.5938\n",
      "Epoch 61/100\n",
      "3/3 [==============================] - 0s 2ms/step - loss: 45492.1406\n",
      "Epoch 62/100\n",
      "3/3 [==============================] - 0s 2ms/step - loss: 44504.3594\n",
      "Epoch 63/100\n",
      "3/3 [==============================] - 0s 2ms/step - loss: 43890.7227\n",
      "Epoch 64/100\n",
      "3/3 [==============================] - 0s 2ms/step - loss: 44047.0508\n",
      "Epoch 65/100\n",
      "3/3 [==============================] - 0s 2ms/step - loss: 43348.0234\n",
      "Epoch 66/100\n",
      "3/3 [==============================] - 0s 2ms/step - loss: 43051.3438\n",
      "Epoch 67/100\n",
      "3/3 [==============================] - 0s 2ms/step - loss: 42313.8359\n",
      "Epoch 68/100\n",
      "3/3 [==============================] - 0s 2ms/step - loss: 42287.2266\n",
      "Epoch 69/100\n",
      "3/3 [==============================] - 0s 3ms/step - loss: 41800.4766\n",
      "Epoch 70/100\n",
      "3/3 [==============================] - 0s 3ms/step - loss: 41491.9531\n",
      "Epoch 71/100\n",
      "3/3 [==============================] - 0s 2ms/step - loss: 41591.6719\n",
      "Epoch 72/100\n",
      "3/3 [==============================] - 0s 2ms/step - loss: 40970.4375\n",
      "Epoch 73/100\n",
      "3/3 [==============================] - 0s 2ms/step - loss: 41143.0195\n",
      "Epoch 74/100\n",
      "3/3 [==============================] - 0s 2ms/step - loss: 40841.9492\n",
      "Epoch 75/100\n",
      "3/3 [==============================] - 0s 2ms/step - loss: 40276.6562\n",
      "Epoch 76/100\n",
      "3/3 [==============================] - 0s 2ms/step - loss: 40237.7578\n",
      "Epoch 77/100\n",
      "3/3 [==============================] - 0s 2ms/step - loss: 40086.0703\n",
      "Epoch 78/100\n",
      "3/3 [==============================] - 0s 2ms/step - loss: 39717.8516\n",
      "Epoch 79/100\n",
      "3/3 [==============================] - 0s 2ms/step - loss: 39799.2695\n",
      "Epoch 80/100\n",
      "3/3 [==============================] - 0s 2ms/step - loss: 39660.4805\n",
      "Epoch 81/100\n",
      "3/3 [==============================] - 0s 2ms/step - loss: 39484.6523\n",
      "Epoch 82/100\n",
      "3/3 [==============================] - 0s 2ms/step - loss: 39272.5430\n",
      "Epoch 83/100\n",
      "3/3 [==============================] - 0s 2ms/step - loss: 39883.8828\n",
      "Epoch 84/100\n",
      "3/3 [==============================] - 0s 3ms/step - loss: 39479.9414\n",
      "Epoch 85/100\n",
      "3/3 [==============================] - 0s 2ms/step - loss: 39050.8320\n",
      "Epoch 86/100\n",
      "3/3 [==============================] - 0s 2ms/step - loss: 39033.8633\n",
      "Epoch 87/100\n",
      "3/3 [==============================] - 0s 2ms/step - loss: 38614.9492\n",
      "Epoch 88/100\n",
      "3/3 [==============================] - 0s 2ms/step - loss: 39107.6211\n",
      "Epoch 89/100\n",
      "3/3 [==============================] - 0s 2ms/step - loss: 39311.4258\n",
      "Epoch 90/100\n",
      "3/3 [==============================] - 0s 2ms/step - loss: 38871.7383\n",
      "Epoch 91/100\n",
      "3/3 [==============================] - 0s 2ms/step - loss: 38844.0234\n",
      "Epoch 92/100\n",
      "3/3 [==============================] - 0s 2ms/step - loss: 38817.4961\n",
      "Epoch 93/100\n",
      "3/3 [==============================] - 0s 2ms/step - loss: 38612.9570\n",
      "Epoch 94/100\n",
      "3/3 [==============================] - 0s 2ms/step - loss: 38285.3125\n",
      "Epoch 95/100\n",
      "3/3 [==============================] - 0s 2ms/step - loss: 38344.9219\n",
      "Epoch 96/100\n",
      "3/3 [==============================] - 0s 2ms/step - loss: 38499.1250\n",
      "Epoch 97/100\n",
      "3/3 [==============================] - 0s 2ms/step - loss: 38566.0273\n",
      "Epoch 98/100\n",
      "3/3 [==============================] - 0s 2ms/step - loss: 38512.2422\n",
      "Epoch 99/100\n",
      "3/3 [==============================] - 0s 2ms/step - loss: 38290.1406\n",
      "Epoch 100/100\n",
      "3/3 [==============================] - 0s 2ms/step - loss: 38181.0859\n"
     ]
    },
    {
     "name": "stderr",
     "output_type": "stream",
     "text": [
      "127.0.0.1 - - [21/Sep/2020 15:33:47] \"\u001b[37mPOST /predict HTTP/1.1\u001b[0m\" 200 -\n"
     ]
    },
    {
     "name": "stdout",
     "output_type": "stream",
     "text": [
      "Epoch 1/100\n",
      "3/3 [==============================] - 0s 3ms/step - loss: 126.0073\n",
      "Epoch 2/100\n",
      "3/3 [==============================] - 0s 2ms/step - loss: 97.5683\n",
      "Epoch 3/100\n",
      "3/3 [==============================] - 0s 2ms/step - loss: 74.2373\n",
      "Epoch 4/100\n",
      "3/3 [==============================] - 0s 2ms/step - loss: 55.5136\n",
      "Epoch 5/100\n",
      "3/3 [==============================] - 0s 2ms/step - loss: 40.1646\n",
      "Epoch 6/100\n",
      "3/3 [==============================] - 0s 2ms/step - loss: 28.3564\n",
      "Epoch 7/100\n",
      "3/3 [==============================] - 0s 2ms/step - loss: 19.4071\n",
      "Epoch 8/100\n",
      "3/3 [==============================] - 0s 3ms/step - loss: 12.5157\n",
      "Epoch 9/100\n",
      "3/3 [==============================] - 0s 2ms/step - loss: 7.3351\n",
      "Epoch 10/100\n",
      "3/3 [==============================] - 0s 2ms/step - loss: 3.6181\n",
      "Epoch 11/100\n",
      "3/3 [==============================] - 0s 2ms/step - loss: 1.3036\n",
      "Epoch 12/100\n",
      "3/3 [==============================] - 0s 2ms/step - loss: 0.2552\n",
      "Epoch 13/100\n",
      "3/3 [==============================] - 0s 2ms/step - loss: 0.0430\n",
      "Epoch 14/100\n",
      "3/3 [==============================] - 0s 3ms/step - loss: 0.2731\n",
      "Epoch 15/100\n",
      "3/3 [==============================] - 0s 3ms/step - loss: 0.6038\n",
      "Epoch 16/100\n",
      "3/3 [==============================] - 0s 2ms/step - loss: 0.7914\n",
      "Epoch 17/100\n",
      "3/3 [==============================] - 0s 2ms/step - loss: 0.7653\n",
      "Epoch 18/100\n",
      "3/3 [==============================] - 0s 3ms/step - loss: 0.5842\n",
      "Epoch 19/100\n",
      "3/3 [==============================] - 0s 2ms/step - loss: 0.3588\n",
      "Epoch 20/100\n",
      "3/3 [==============================] - 0s 2ms/step - loss: 0.1694\n",
      "Epoch 21/100\n",
      "3/3 [==============================] - 0s 2ms/step - loss: 0.0575\n",
      "Epoch 22/100\n",
      "3/3 [==============================] - 0s 2ms/step - loss: 0.0169\n",
      "Epoch 23/100\n",
      "3/3 [==============================] - 0s 2ms/step - loss: 0.0231\n",
      "Epoch 24/100\n",
      "3/3 [==============================] - 0s 2ms/step - loss: 0.0444\n",
      "Epoch 25/100\n",
      "3/3 [==============================] - 0s 3ms/step - loss: 0.0586\n",
      "Epoch 26/100\n",
      "3/3 [==============================] - 0s 2ms/step - loss: 0.0605\n",
      "Epoch 27/100\n",
      "3/3 [==============================] - 0s 2ms/step - loss: 0.0514\n",
      "Epoch 28/100\n",
      "3/3 [==============================] - 0s 2ms/step - loss: 0.0373\n",
      "Epoch 29/100\n",
      "3/3 [==============================] - 0s 1ms/step - loss: 0.0252\n",
      "Epoch 30/100\n",
      "3/3 [==============================] - 0s 2ms/step - loss: 0.0175\n",
      "Epoch 31/100\n",
      "3/3 [==============================] - 0s 2ms/step - loss: 0.0153\n",
      "Epoch 32/100\n",
      "3/3 [==============================] - 0s 2ms/step - loss: 0.0159\n",
      "Epoch 33/100\n",
      "3/3 [==============================] - 0s 2ms/step - loss: 0.0171\n",
      "Epoch 34/100\n",
      "3/3 [==============================] - 0s 2ms/step - loss: 0.0181\n",
      "Epoch 35/100\n",
      "3/3 [==============================] - 0s 2ms/step - loss: 0.0178\n",
      "Epoch 36/100\n",
      "3/3 [==============================] - 0s 2ms/step - loss: 0.0168\n",
      "Epoch 37/100\n",
      "3/3 [==============================] - 0s 2ms/step - loss: 0.0158\n",
      "Epoch 38/100\n",
      "3/3 [==============================] - 0s 3ms/step - loss: 0.0151\n",
      "Epoch 39/100\n",
      "3/3 [==============================] - 0s 2ms/step - loss: 0.0150\n",
      "Epoch 40/100\n",
      "3/3 [==============================] - 0s 2ms/step - loss: 0.0149\n",
      "Epoch 41/100\n",
      "3/3 [==============================] - 0s 2ms/step - loss: 0.0151\n",
      "Epoch 42/100\n",
      "3/3 [==============================] - 0s 2ms/step - loss: 0.0152\n",
      "Epoch 43/100\n",
      "3/3 [==============================] - 0s 2ms/step - loss: 0.0151\n",
      "Epoch 44/100\n",
      "3/3 [==============================] - 0s 2ms/step - loss: 0.0150\n",
      "Epoch 45/100\n",
      "3/3 [==============================] - 0s 2ms/step - loss: 0.0149\n",
      "Epoch 46/100\n",
      "3/3 [==============================] - 0s 2ms/step - loss: 0.0148\n",
      "Epoch 47/100\n",
      "3/3 [==============================] - 0s 3ms/step - loss: 0.0148\n",
      "Epoch 48/100\n",
      "3/3 [==============================] - 0s 2ms/step - loss: 0.0149\n",
      "Epoch 49/100\n",
      "3/3 [==============================] - 0s 3ms/step - loss: 0.0149\n",
      "Epoch 50/100\n",
      "3/3 [==============================] - 0s 2ms/step - loss: 0.0149\n",
      "Epoch 51/100\n",
      "3/3 [==============================] - 0s 3ms/step - loss: 0.0149\n",
      "Epoch 52/100\n",
      "3/3 [==============================] - 0s 3ms/step - loss: 0.0149\n",
      "Epoch 53/100\n",
      "3/3 [==============================] - 0s 2ms/step - loss: 0.0148\n",
      "Epoch 54/100\n",
      "3/3 [==============================] - 0s 2ms/step - loss: 0.0148\n",
      "Epoch 55/100\n",
      "3/3 [==============================] - 0s 2ms/step - loss: 0.0148\n",
      "Epoch 56/100\n",
      "3/3 [==============================] - 0s 2ms/step - loss: 0.0149\n",
      "Epoch 57/100\n",
      "3/3 [==============================] - 0s 2ms/step - loss: 0.0149\n",
      "Epoch 58/100\n",
      "3/3 [==============================] - 0s 3ms/step - loss: 0.0148\n",
      "Epoch 59/100\n",
      "3/3 [==============================] - 0s 2ms/step - loss: 0.0149\n",
      "Epoch 60/100\n",
      "3/3 [==============================] - 0s 3ms/step - loss: 0.0149\n",
      "Epoch 61/100\n",
      "3/3 [==============================] - 0s 2ms/step - loss: 0.0148\n",
      "Epoch 62/100\n",
      "3/3 [==============================] - 0s 2ms/step - loss: 0.0148\n",
      "Epoch 63/100\n",
      "3/3 [==============================] - 0s 2ms/step - loss: 0.0148\n",
      "Epoch 64/100\n",
      "3/3 [==============================] - 0s 3ms/step - loss: 0.0148\n",
      "Epoch 65/100\n",
      "3/3 [==============================] - 0s 3ms/step - loss: 0.0148\n",
      "Epoch 66/100\n",
      "3/3 [==============================] - 0s 2ms/step - loss: 0.0149\n",
      "Epoch 67/100\n",
      "3/3 [==============================] - 0s 4ms/step - loss: 0.0148\n",
      "Epoch 68/100\n",
      "3/3 [==============================] - 0s 3ms/step - loss: 0.0149\n",
      "Epoch 69/100\n",
      "3/3 [==============================] - 0s 2ms/step - loss: 0.0148\n",
      "Epoch 70/100\n",
      "3/3 [==============================] - 0s 2ms/step - loss: 0.0148\n",
      "Epoch 71/100\n",
      "3/3 [==============================] - 0s 2ms/step - loss: 0.0148\n",
      "Epoch 72/100\n",
      "3/3 [==============================] - 0s 2ms/step - loss: 0.0148\n",
      "Epoch 73/100\n",
      "3/3 [==============================] - 0s 2ms/step - loss: 0.0148\n",
      "Epoch 74/100\n",
      "3/3 [==============================] - 0s 2ms/step - loss: 0.0148\n",
      "Epoch 75/100\n",
      "3/3 [==============================] - 0s 2ms/step - loss: 0.0149\n",
      "Epoch 76/100\n",
      "3/3 [==============================] - 0s 2ms/step - loss: 0.0148\n",
      "Epoch 77/100\n",
      "3/3 [==============================] - 0s 2ms/step - loss: 0.0148\n",
      "Epoch 78/100\n",
      "3/3 [==============================] - 0s 3ms/step - loss: 0.0149\n",
      "Epoch 79/100\n",
      "3/3 [==============================] - 0s 3ms/step - loss: 0.0148\n",
      "Epoch 80/100\n",
      "3/3 [==============================] - 0s 3ms/step - loss: 0.0149\n",
      "Epoch 81/100\n",
      "3/3 [==============================] - 0s 2ms/step - loss: 0.0148\n",
      "Epoch 82/100\n",
      "3/3 [==============================] - 0s 2ms/step - loss: 0.0148\n",
      "Epoch 83/100\n",
      "3/3 [==============================] - 0s 2ms/step - loss: 0.0149\n",
      "Epoch 84/100\n",
      "3/3 [==============================] - 0s 2ms/step - loss: 0.0148\n",
      "Epoch 85/100\n",
      "3/3 [==============================] - 0s 2ms/step - loss: 0.0149\n",
      "Epoch 86/100\n",
      "3/3 [==============================] - 0s 2ms/step - loss: 0.0148\n",
      "Epoch 87/100\n",
      "3/3 [==============================] - 0s 2ms/step - loss: 0.0148\n",
      "Epoch 88/100\n",
      "3/3 [==============================] - 0s 2ms/step - loss: 0.0149\n",
      "Epoch 89/100\n",
      "3/3 [==============================] - 0s 2ms/step - loss: 0.0148\n",
      "Epoch 90/100\n",
      "3/3 [==============================] - 0s 2ms/step - loss: 0.0148\n",
      "Epoch 91/100\n",
      "3/3 [==============================] - 0s 2ms/step - loss: 0.0148\n",
      "Epoch 92/100\n",
      "3/3 [==============================] - 0s 2ms/step - loss: 0.0148\n",
      "Epoch 93/100\n",
      "3/3 [==============================] - 0s 2ms/step - loss: 0.0149\n",
      "Epoch 94/100\n",
      "3/3 [==============================] - 0s 2ms/step - loss: 0.0148\n",
      "Epoch 95/100\n",
      "3/3 [==============================] - 0s 2ms/step - loss: 0.0148\n",
      "Epoch 96/100\n",
      "3/3 [==============================] - 0s 2ms/step - loss: 0.0148\n",
      "Epoch 97/100\n",
      "3/3 [==============================] - 0s 2ms/step - loss: 0.0149\n",
      "Epoch 98/100\n",
      "3/3 [==============================] - 0s 2ms/step - loss: 0.0149\n",
      "Epoch 99/100\n",
      "3/3 [==============================] - 0s 2ms/step - loss: 0.0148\n",
      "Epoch 100/100\n",
      "3/3 [==============================] - 0s 2ms/step - loss: 0.0148\n"
     ]
    },
    {
     "name": "stderr",
     "output_type": "stream",
     "text": [
      "127.0.0.1 - - [21/Sep/2020 15:34:03] \"\u001b[37mPOST /predict HTTP/1.1\u001b[0m\" 200 -\n",
      "127.0.0.1 - - [21/Sep/2020 15:34:46] \"\u001b[31m\u001b[1mGET /predict HTTP/1.1\u001b[0m\" 400 -\n"
     ]
    }
   ],
   "source": [
    "#source: https://medium.com/@kshitijvijay271199/flask-on-google-colab-f6525986797b\n",
    "#other source: https://www.youtube.com/watch?v=Pc8WdnIdXZg\n",
    "from flask import Flask, request #importing Flask to run the model on a host\n",
    "from flask_ngrok import run_with_ngrok #importing ngrok to make Flask apps available on the internet (in this case, temporarily)\n",
    "app = Flask(__name__)\n",
    "run_with_ngrok(app)   #starts ngrok when the app is run\n",
    "@app.route(\"/\") #Assigns \"/\" as the URL for the home function, using Flask\n",
    "def home():\n",
    "  #return a simple form with a title and place for ticker and a button named \"Predict\"\n",
    "    return '''<form action='/predict' method=\"post\" class=\"col s12\">\n",
    "      <div class=\"row\">\n",
    "        <div class=\"input-field col s4\">\n",
    "            <label for=\"first_name\"><b>Ticker</b></label>\n",
    "            <br>\n",
    "          <input placeholder=\"Ticker\" name=\"Ticker\" id=\"first_name\" type=\"text\" class=\"validate\">\n",
    "        </div> \n",
    "        <div class=\"row center\">\n",
    "\n",
    "          <button type=\"submit\" class=\"btn-large waves-effect waves-light orange\">Predict</button>\n",
    "        </div>\n",
    "      </div>\n",
    "      </form>\n",
    "        '''\n",
    "@app.route('/predict',methods=['POST','GET']) #Assigns \"/predict\" as the URL for the predict function, using Flask\n",
    "def predict():\n",
    "  ticker = request.form[\"Ticker\"] #extract the ticker \n",
    "  prediction = our_model(ticker, 7) #supply the ticker to the model and get the 7-day prediction from the model\n",
    "  table = prediction.to_frame() #convert the predicted results in pandas series to pandas dataframe\n",
    "  table.columns = [\"Predicted Close Price\"] #add a column named \"Predicted Close Price\"\n",
    "  html = table.to_html() #convert the dataframe into the html version\n",
    "  #next, return the table of dates along with the Predicted Close Prices\n",
    "  return '''<form action='/predict' method=\"post\" class=\"col s12\">\n",
    "      <div class=\"row\">\n",
    "        <div class=\"input-field col s4\">\n",
    "            <label for=\"first_name\"><b>Ticker</b></label>\n",
    "            <br>\n",
    "          <input placeholder=\"Ticker\" name=\"Ticker\" id=\"first_name\" type=\"text\" class=\"validate\">\n",
    "        </div> \n",
    "        <div class=\"row center\">\n",
    "\n",
    "          <button type=\"submit\" class=\"btn-large waves-effect waves-light orange\">Predict</button>\n",
    "        </div>\n",
    "      </div>\n",
    "      </form>\n",
    "      </div>\n",
    "\n",
    "      <br>\n",
    "        '''+ html + '''<br>\n",
    "\n",
    "    </div>\n",
    "        ''' \n",
    "app.run() #run the Flask app"
   ]
  }
 ],
 "metadata": {
  "colab": {
   "collapsed_sections": [],
   "include_colab_link": true,
   "name": "Stock Prediction Data Science Project - Team 1 .ipynb",
   "provenance": []
  },
  "kernelspec": {
   "display_name": "Python 3 (ipykernel)",
   "language": "python",
   "name": "python3"
  },
  "language_info": {
   "codemirror_mode": {
    "name": "ipython",
    "version": 3
   },
   "file_extension": ".py",
   "mimetype": "text/x-python",
   "name": "python",
   "nbconvert_exporter": "python",
   "pygments_lexer": "ipython3",
   "version": "3.9.13"
  }
 },
 "nbformat": 4,
 "nbformat_minor": 1
}
