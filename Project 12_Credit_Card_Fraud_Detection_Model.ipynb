{
  "nbformat": 4,
  "nbformat_minor": 0,
  "metadata": {
    "colab": {
      "name": "12 Credit Card Fraud Detection Model.ipynb",
      "provenance": [],
      "collapsed_sections": [
        "VDFSO7th7v-K",
        "Kk6AO3wH5cJo",
        "wUSYTFo6jb30",
        "43ciCwFrjeDH",
        "wZWB-DNTqiHW",
        "lTHtqZCVZ4pF",
        "TcDl0qSB2PgW"
      ],
      "include_colab_link": true
    },
    "kernelspec": {
      "name": "python3",
      "display_name": "Python 3"
    },
    "accelerator": "GPU"
  },
  "cells": [
    {
      "cell_type": "markdown",
      "metadata": {
        "id": "view-in-github",
        "colab_type": "text"
      },
      "source": [
        "<a href=\"https://colab.research.google.com/github/Worlddatascience/DataScienceCohort/blob/master/Project%2012_Credit_Card_Fraud_Detection_Model.ipynb\" target=\"_parent\"><img src=\"https://colab.research.google.com/assets/colab-badge.svg\" alt=\"Open In Colab\"/></a>"
      ]
    },
    {
      "cell_type": "markdown",
      "metadata": {
        "id": "ILHFEE_8cU28"
      },
      "source": [
        "**DATA SCIENCE TEAM 1**\n",
        "\n",
        "Anade Davis - Data Science Manager\n",
        "\n",
        "Christopher Rutherford - Data Scientist \n",
        "\n",
        "Tanjeel Ahmed - Data Science Researcher\n",
        "\n",
        "Gabe Smithline - Quantitative Analyst\n",
        "\n",
        "Berkalp Altay - Data Analyst\n",
        "\n",
        "Zain Dwiat - Data Scientist"
      ]
    },
    {
      "cell_type": "markdown",
      "metadata": {
        "id": "kjznwyuEjfR0"
      },
      "source": [
        "## Overview of Problem"
      ]
    },
    {
      "cell_type": "markdown",
      "metadata": {
        "id": "GlBvKFDhYOht"
      },
      "source": [
        "In this team project, we will use machine and deep learning algorithms to attempt to identify fraudulent credit card transactions.\n",
        "\n",
        "The detection of a fraudulent transaction can be quite difficult, as the amount of fraudulent transactions is far outnumbered by the number of legitimate transactions. In a typical day of recorded transactions, less than 1% of the transactions are fraudulent.\n"
      ]
    },
    {
      "cell_type": "markdown",
      "metadata": {
        "id": "i4lhzzURB-oW"
      },
      "source": [
        "## We begin by importing the essential libraries and the dataset:"
      ]
    },
    {
      "cell_type": "code",
      "metadata": {
        "id": "hZmpUEczB4Dm"
      },
      "source": [
        "import numpy as np #save data in arrays for quick computations\n",
        "import pandas as pd #save data in dataframes to quickly and conveniently manipulate and access large amounts of data\n",
        "import matplotlib.pyplot as plt #create visualizations/plots of the data\n",
        "import seaborn as sns #sets the style of plots\n",
        "import json #reading the database of kaggle datasets"
      ],
      "execution_count": null,
      "outputs": []
    },
    {
      "cell_type": "code",
      "metadata": {
        "id": "X2DEGJZfGjuJ"
      },
      "source": [
        "sns.set()"
      ],
      "execution_count": null,
      "outputs": []
    },
    {
      "cell_type": "markdown",
      "metadata": {
        "id": "ZAn-n7NNOzYg"
      },
      "source": [
        "### Importing the data"
      ]
    },
    {
      "cell_type": "code",
      "metadata": {
        "id": "_yJrACkeNgXd",
        "outputId": "15fe4947-4be2-41e5-eaf0-a0504c3c80bf",
        "colab": {
          "base_uri": "https://localhost:8080/",
          "height": 478
        }
      },
      "source": [
        "!wget https://www.dropbox.com/s/kufo0es183lb03z/creditcard.csv?raw=1"
      ],
      "execution_count": null,
      "outputs": [
        {
          "output_type": "stream",
          "text": [
            "--2020-10-13 00:49:53--  https://www.dropbox.com/s/kufo0es183lb03z/creditcard.csv?raw=1\n",
            "Resolving www.dropbox.com (www.dropbox.com)... 162.125.1.1, 2620:100:6016:1::a27d:101\n",
            "Connecting to www.dropbox.com (www.dropbox.com)|162.125.1.1|:443... connected.\n",
            "HTTP request sent, awaiting response... 301 Moved Permanently\n",
            "Location: /s/raw/kufo0es183lb03z/creditcard.csv [following]\n",
            "--2020-10-13 00:49:54--  https://www.dropbox.com/s/raw/kufo0es183lb03z/creditcard.csv\n",
            "Reusing existing connection to www.dropbox.com:443.\n",
            "HTTP request sent, awaiting response... 302 Found\n",
            "Location: https://uc5bcc40a3d2994cd80240afec95.dl.dropboxusercontent.com/cd/0/inline/BBL6UmyV_6S4e-ygxTkM6DCdAyT5HWkMy95HXlaiCBLIoGpfMHsjPiaPJdzzITSXtZoB-mr_DLr0eDHQP3C5x40hivXs5GxPe7ZnErR1ZERgnR0JisuFVzUsGWUUutVToS8/file# [following]\n",
            "--2020-10-13 00:49:54--  https://uc5bcc40a3d2994cd80240afec95.dl.dropboxusercontent.com/cd/0/inline/BBL6UmyV_6S4e-ygxTkM6DCdAyT5HWkMy95HXlaiCBLIoGpfMHsjPiaPJdzzITSXtZoB-mr_DLr0eDHQP3C5x40hivXs5GxPe7ZnErR1ZERgnR0JisuFVzUsGWUUutVToS8/file\n",
            "Resolving uc5bcc40a3d2994cd80240afec95.dl.dropboxusercontent.com (uc5bcc40a3d2994cd80240afec95.dl.dropboxusercontent.com)... 162.125.1.15, 2620:100:6016:15::a27d:10f\n",
            "Connecting to uc5bcc40a3d2994cd80240afec95.dl.dropboxusercontent.com (uc5bcc40a3d2994cd80240afec95.dl.dropboxusercontent.com)|162.125.1.15|:443... connected.\n",
            "HTTP request sent, awaiting response... 200 OK\n",
            "Length: 150828752 (144M) [text/plain]\n",
            "Saving to: ‘creditcard.csv?raw=1’\n",
            "\n",
            "creditcard.csv?raw= 100%[===================>] 143.84M  83.2MB/s    in 1.7s    \n",
            "\n",
            "2020-10-13 00:49:56 (83.2 MB/s) - ‘creditcard.csv?raw=1’ saved [150828752/150828752]\n",
            "\n"
          ],
          "name": "stdout"
        }
      ]
    },
    {
      "cell_type": "markdown",
      "metadata": {
        "id": "9hI7oxfqPAdQ"
      },
      "source": [
        "We can now bring in our data as a pandas dataframe and ensure it imported correctly:"
      ]
    },
    {
      "cell_type": "code",
      "metadata": {
        "id": "YZMwzwdaOm-P"
      },
      "source": [
        "df = pd.read_csv('creditcard.csv?raw=1') #import our data from the csv file"
      ],
      "execution_count": null,
      "outputs": []
    },
    {
      "cell_type": "code",
      "metadata": {
        "id": "v2kgOtzS6582",
        "outputId": "c24a0df3-8da7-450d-95fa-9c255b76eebe",
        "colab": {
          "base_uri": "https://localhost:8080/",
          "height": 244
        }
      },
      "source": [
        "df.head() #print the first 5 entries in our dataframe"
      ],
      "execution_count": null,
      "outputs": [
        {
          "output_type": "execute_result",
          "data": {
            "text/html": [
              "<div>\n",
              "<style scoped>\n",
              "    .dataframe tbody tr th:only-of-type {\n",
              "        vertical-align: middle;\n",
              "    }\n",
              "\n",
              "    .dataframe tbody tr th {\n",
              "        vertical-align: top;\n",
              "    }\n",
              "\n",
              "    .dataframe thead th {\n",
              "        text-align: right;\n",
              "    }\n",
              "</style>\n",
              "<table border=\"1\" class=\"dataframe\">\n",
              "  <thead>\n",
              "    <tr style=\"text-align: right;\">\n",
              "      <th></th>\n",
              "      <th>Time</th>\n",
              "      <th>V1</th>\n",
              "      <th>V2</th>\n",
              "      <th>V3</th>\n",
              "      <th>V4</th>\n",
              "      <th>V5</th>\n",
              "      <th>V6</th>\n",
              "      <th>V7</th>\n",
              "      <th>V8</th>\n",
              "      <th>V9</th>\n",
              "      <th>V10</th>\n",
              "      <th>V11</th>\n",
              "      <th>V12</th>\n",
              "      <th>V13</th>\n",
              "      <th>V14</th>\n",
              "      <th>V15</th>\n",
              "      <th>V16</th>\n",
              "      <th>V17</th>\n",
              "      <th>V18</th>\n",
              "      <th>V19</th>\n",
              "      <th>V20</th>\n",
              "      <th>V21</th>\n",
              "      <th>V22</th>\n",
              "      <th>V23</th>\n",
              "      <th>V24</th>\n",
              "      <th>V25</th>\n",
              "      <th>V26</th>\n",
              "      <th>V27</th>\n",
              "      <th>V28</th>\n",
              "      <th>Amount</th>\n",
              "      <th>Class</th>\n",
              "    </tr>\n",
              "  </thead>\n",
              "  <tbody>\n",
              "    <tr>\n",
              "      <th>0</th>\n",
              "      <td>0.0</td>\n",
              "      <td>-1.359807</td>\n",
              "      <td>-0.072781</td>\n",
              "      <td>2.536347</td>\n",
              "      <td>1.378155</td>\n",
              "      <td>-0.338321</td>\n",
              "      <td>0.462388</td>\n",
              "      <td>0.239599</td>\n",
              "      <td>0.098698</td>\n",
              "      <td>0.363787</td>\n",
              "      <td>0.090794</td>\n",
              "      <td>-0.551600</td>\n",
              "      <td>-0.617801</td>\n",
              "      <td>-0.991390</td>\n",
              "      <td>-0.311169</td>\n",
              "      <td>1.468177</td>\n",
              "      <td>-0.470401</td>\n",
              "      <td>0.207971</td>\n",
              "      <td>0.025791</td>\n",
              "      <td>0.403993</td>\n",
              "      <td>0.251412</td>\n",
              "      <td>-0.018307</td>\n",
              "      <td>0.277838</td>\n",
              "      <td>-0.110474</td>\n",
              "      <td>0.066928</td>\n",
              "      <td>0.128539</td>\n",
              "      <td>-0.189115</td>\n",
              "      <td>0.133558</td>\n",
              "      <td>-0.021053</td>\n",
              "      <td>149.62</td>\n",
              "      <td>0</td>\n",
              "    </tr>\n",
              "    <tr>\n",
              "      <th>1</th>\n",
              "      <td>0.0</td>\n",
              "      <td>1.191857</td>\n",
              "      <td>0.266151</td>\n",
              "      <td>0.166480</td>\n",
              "      <td>0.448154</td>\n",
              "      <td>0.060018</td>\n",
              "      <td>-0.082361</td>\n",
              "      <td>-0.078803</td>\n",
              "      <td>0.085102</td>\n",
              "      <td>-0.255425</td>\n",
              "      <td>-0.166974</td>\n",
              "      <td>1.612727</td>\n",
              "      <td>1.065235</td>\n",
              "      <td>0.489095</td>\n",
              "      <td>-0.143772</td>\n",
              "      <td>0.635558</td>\n",
              "      <td>0.463917</td>\n",
              "      <td>-0.114805</td>\n",
              "      <td>-0.183361</td>\n",
              "      <td>-0.145783</td>\n",
              "      <td>-0.069083</td>\n",
              "      <td>-0.225775</td>\n",
              "      <td>-0.638672</td>\n",
              "      <td>0.101288</td>\n",
              "      <td>-0.339846</td>\n",
              "      <td>0.167170</td>\n",
              "      <td>0.125895</td>\n",
              "      <td>-0.008983</td>\n",
              "      <td>0.014724</td>\n",
              "      <td>2.69</td>\n",
              "      <td>0</td>\n",
              "    </tr>\n",
              "    <tr>\n",
              "      <th>2</th>\n",
              "      <td>1.0</td>\n",
              "      <td>-1.358354</td>\n",
              "      <td>-1.340163</td>\n",
              "      <td>1.773209</td>\n",
              "      <td>0.379780</td>\n",
              "      <td>-0.503198</td>\n",
              "      <td>1.800499</td>\n",
              "      <td>0.791461</td>\n",
              "      <td>0.247676</td>\n",
              "      <td>-1.514654</td>\n",
              "      <td>0.207643</td>\n",
              "      <td>0.624501</td>\n",
              "      <td>0.066084</td>\n",
              "      <td>0.717293</td>\n",
              "      <td>-0.165946</td>\n",
              "      <td>2.345865</td>\n",
              "      <td>-2.890083</td>\n",
              "      <td>1.109969</td>\n",
              "      <td>-0.121359</td>\n",
              "      <td>-2.261857</td>\n",
              "      <td>0.524980</td>\n",
              "      <td>0.247998</td>\n",
              "      <td>0.771679</td>\n",
              "      <td>0.909412</td>\n",
              "      <td>-0.689281</td>\n",
              "      <td>-0.327642</td>\n",
              "      <td>-0.139097</td>\n",
              "      <td>-0.055353</td>\n",
              "      <td>-0.059752</td>\n",
              "      <td>378.66</td>\n",
              "      <td>0</td>\n",
              "    </tr>\n",
              "    <tr>\n",
              "      <th>3</th>\n",
              "      <td>1.0</td>\n",
              "      <td>-0.966272</td>\n",
              "      <td>-0.185226</td>\n",
              "      <td>1.792993</td>\n",
              "      <td>-0.863291</td>\n",
              "      <td>-0.010309</td>\n",
              "      <td>1.247203</td>\n",
              "      <td>0.237609</td>\n",
              "      <td>0.377436</td>\n",
              "      <td>-1.387024</td>\n",
              "      <td>-0.054952</td>\n",
              "      <td>-0.226487</td>\n",
              "      <td>0.178228</td>\n",
              "      <td>0.507757</td>\n",
              "      <td>-0.287924</td>\n",
              "      <td>-0.631418</td>\n",
              "      <td>-1.059647</td>\n",
              "      <td>-0.684093</td>\n",
              "      <td>1.965775</td>\n",
              "      <td>-1.232622</td>\n",
              "      <td>-0.208038</td>\n",
              "      <td>-0.108300</td>\n",
              "      <td>0.005274</td>\n",
              "      <td>-0.190321</td>\n",
              "      <td>-1.175575</td>\n",
              "      <td>0.647376</td>\n",
              "      <td>-0.221929</td>\n",
              "      <td>0.062723</td>\n",
              "      <td>0.061458</td>\n",
              "      <td>123.50</td>\n",
              "      <td>0</td>\n",
              "    </tr>\n",
              "    <tr>\n",
              "      <th>4</th>\n",
              "      <td>2.0</td>\n",
              "      <td>-1.158233</td>\n",
              "      <td>0.877737</td>\n",
              "      <td>1.548718</td>\n",
              "      <td>0.403034</td>\n",
              "      <td>-0.407193</td>\n",
              "      <td>0.095921</td>\n",
              "      <td>0.592941</td>\n",
              "      <td>-0.270533</td>\n",
              "      <td>0.817739</td>\n",
              "      <td>0.753074</td>\n",
              "      <td>-0.822843</td>\n",
              "      <td>0.538196</td>\n",
              "      <td>1.345852</td>\n",
              "      <td>-1.119670</td>\n",
              "      <td>0.175121</td>\n",
              "      <td>-0.451449</td>\n",
              "      <td>-0.237033</td>\n",
              "      <td>-0.038195</td>\n",
              "      <td>0.803487</td>\n",
              "      <td>0.408542</td>\n",
              "      <td>-0.009431</td>\n",
              "      <td>0.798278</td>\n",
              "      <td>-0.137458</td>\n",
              "      <td>0.141267</td>\n",
              "      <td>-0.206010</td>\n",
              "      <td>0.502292</td>\n",
              "      <td>0.219422</td>\n",
              "      <td>0.215153</td>\n",
              "      <td>69.99</td>\n",
              "      <td>0</td>\n",
              "    </tr>\n",
              "  </tbody>\n",
              "</table>\n",
              "</div>"
            ],
            "text/plain": [
              "   Time        V1        V2        V3  ...       V27       V28  Amount  Class\n",
              "0   0.0 -1.359807 -0.072781  2.536347  ...  0.133558 -0.021053  149.62      0\n",
              "1   0.0  1.191857  0.266151  0.166480  ... -0.008983  0.014724    2.69      0\n",
              "2   1.0 -1.358354 -1.340163  1.773209  ... -0.055353 -0.059752  378.66      0\n",
              "3   1.0 -0.966272 -0.185226  1.792993  ...  0.062723  0.061458  123.50      0\n",
              "4   2.0 -1.158233  0.877737  1.548718  ...  0.219422  0.215153   69.99      0\n",
              "\n",
              "[5 rows x 31 columns]"
            ]
          },
          "metadata": {
            "tags": []
          },
          "execution_count": 5
        }
      ]
    },
    {
      "cell_type": "code",
      "metadata": {
        "id": "c_rgXkTiOv7y",
        "outputId": "d9f77b18-5b0f-4de2-973f-45ca85ceaebd",
        "colab": {
          "base_uri": "https://localhost:8080/",
          "height": 34
        }
      },
      "source": [
        "df.isna().sum().sum() #check for any missing data"
      ],
      "execution_count": null,
      "outputs": [
        {
          "output_type": "execute_result",
          "data": {
            "text/plain": [
              "0"
            ]
          },
          "metadata": {
            "tags": []
          },
          "execution_count": 6
        }
      ]
    },
    {
      "cell_type": "code",
      "metadata": {
        "id": "V0GGnyhFPGRZ",
        "outputId": "eb6fe424-9310-4a30-9396-b8dfff1d2538",
        "colab": {
          "base_uri": "https://localhost:8080/",
          "height": 561
        }
      },
      "source": [
        "df.dtypes #verify that each column is the correct data type"
      ],
      "execution_count": null,
      "outputs": [
        {
          "output_type": "execute_result",
          "data": {
            "text/plain": [
              "Time      float64\n",
              "V1        float64\n",
              "V2        float64\n",
              "V3        float64\n",
              "V4        float64\n",
              "V5        float64\n",
              "V6        float64\n",
              "V7        float64\n",
              "V8        float64\n",
              "V9        float64\n",
              "V10       float64\n",
              "V11       float64\n",
              "V12       float64\n",
              "V13       float64\n",
              "V14       float64\n",
              "V15       float64\n",
              "V16       float64\n",
              "V17       float64\n",
              "V18       float64\n",
              "V19       float64\n",
              "V20       float64\n",
              "V21       float64\n",
              "V22       float64\n",
              "V23       float64\n",
              "V24       float64\n",
              "V25       float64\n",
              "V26       float64\n",
              "V27       float64\n",
              "V28       float64\n",
              "Amount    float64\n",
              "Class       int64\n",
              "dtype: object"
            ]
          },
          "metadata": {
            "tags": []
          },
          "execution_count": 7
        }
      ]
    },
    {
      "cell_type": "code",
      "metadata": {
        "id": "6FftIw0n45az",
        "outputId": "f1df7010-04a0-4a82-8a6e-0a4fce3ab6e0",
        "colab": {
          "base_uri": "https://localhost:8080/",
          "height": 337
        }
      },
      "source": [
        "df.describe()"
      ],
      "execution_count": null,
      "outputs": [
        {
          "output_type": "execute_result",
          "data": {
            "text/html": [
              "<div>\n",
              "<style scoped>\n",
              "    .dataframe tbody tr th:only-of-type {\n",
              "        vertical-align: middle;\n",
              "    }\n",
              "\n",
              "    .dataframe tbody tr th {\n",
              "        vertical-align: top;\n",
              "    }\n",
              "\n",
              "    .dataframe thead th {\n",
              "        text-align: right;\n",
              "    }\n",
              "</style>\n",
              "<table border=\"1\" class=\"dataframe\">\n",
              "  <thead>\n",
              "    <tr style=\"text-align: right;\">\n",
              "      <th></th>\n",
              "      <th>Time</th>\n",
              "      <th>V1</th>\n",
              "      <th>V2</th>\n",
              "      <th>V3</th>\n",
              "      <th>V4</th>\n",
              "      <th>V5</th>\n",
              "      <th>V6</th>\n",
              "      <th>V7</th>\n",
              "      <th>V8</th>\n",
              "      <th>V9</th>\n",
              "      <th>V10</th>\n",
              "      <th>V11</th>\n",
              "      <th>V12</th>\n",
              "      <th>V13</th>\n",
              "      <th>V14</th>\n",
              "      <th>V15</th>\n",
              "      <th>V16</th>\n",
              "      <th>V17</th>\n",
              "      <th>V18</th>\n",
              "      <th>V19</th>\n",
              "      <th>V20</th>\n",
              "      <th>V21</th>\n",
              "      <th>V22</th>\n",
              "      <th>V23</th>\n",
              "      <th>V24</th>\n",
              "      <th>V25</th>\n",
              "      <th>V26</th>\n",
              "      <th>V27</th>\n",
              "      <th>V28</th>\n",
              "      <th>Amount</th>\n",
              "      <th>Class</th>\n",
              "    </tr>\n",
              "  </thead>\n",
              "  <tbody>\n",
              "    <tr>\n",
              "      <th>count</th>\n",
              "      <td>284807.000000</td>\n",
              "      <td>2.848070e+05</td>\n",
              "      <td>2.848070e+05</td>\n",
              "      <td>2.848070e+05</td>\n",
              "      <td>2.848070e+05</td>\n",
              "      <td>2.848070e+05</td>\n",
              "      <td>2.848070e+05</td>\n",
              "      <td>2.848070e+05</td>\n",
              "      <td>2.848070e+05</td>\n",
              "      <td>2.848070e+05</td>\n",
              "      <td>2.848070e+05</td>\n",
              "      <td>2.848070e+05</td>\n",
              "      <td>2.848070e+05</td>\n",
              "      <td>2.848070e+05</td>\n",
              "      <td>2.848070e+05</td>\n",
              "      <td>2.848070e+05</td>\n",
              "      <td>2.848070e+05</td>\n",
              "      <td>2.848070e+05</td>\n",
              "      <td>2.848070e+05</td>\n",
              "      <td>2.848070e+05</td>\n",
              "      <td>2.848070e+05</td>\n",
              "      <td>2.848070e+05</td>\n",
              "      <td>2.848070e+05</td>\n",
              "      <td>2.848070e+05</td>\n",
              "      <td>2.848070e+05</td>\n",
              "      <td>2.848070e+05</td>\n",
              "      <td>2.848070e+05</td>\n",
              "      <td>2.848070e+05</td>\n",
              "      <td>2.848070e+05</td>\n",
              "      <td>284807.000000</td>\n",
              "      <td>284807.000000</td>\n",
              "    </tr>\n",
              "    <tr>\n",
              "      <th>mean</th>\n",
              "      <td>94813.859575</td>\n",
              "      <td>3.919560e-15</td>\n",
              "      <td>5.688174e-16</td>\n",
              "      <td>-8.769071e-15</td>\n",
              "      <td>2.782312e-15</td>\n",
              "      <td>-1.552563e-15</td>\n",
              "      <td>2.010663e-15</td>\n",
              "      <td>-1.694249e-15</td>\n",
              "      <td>-1.927028e-16</td>\n",
              "      <td>-3.137024e-15</td>\n",
              "      <td>1.768627e-15</td>\n",
              "      <td>9.170318e-16</td>\n",
              "      <td>-1.810658e-15</td>\n",
              "      <td>1.693438e-15</td>\n",
              "      <td>1.479045e-15</td>\n",
              "      <td>3.482336e-15</td>\n",
              "      <td>1.392007e-15</td>\n",
              "      <td>-7.528491e-16</td>\n",
              "      <td>4.328772e-16</td>\n",
              "      <td>9.049732e-16</td>\n",
              "      <td>5.085503e-16</td>\n",
              "      <td>1.537294e-16</td>\n",
              "      <td>7.959909e-16</td>\n",
              "      <td>5.367590e-16</td>\n",
              "      <td>4.458112e-15</td>\n",
              "      <td>1.453003e-15</td>\n",
              "      <td>1.699104e-15</td>\n",
              "      <td>-3.660161e-16</td>\n",
              "      <td>-1.206049e-16</td>\n",
              "      <td>88.349619</td>\n",
              "      <td>0.001727</td>\n",
              "    </tr>\n",
              "    <tr>\n",
              "      <th>std</th>\n",
              "      <td>47488.145955</td>\n",
              "      <td>1.958696e+00</td>\n",
              "      <td>1.651309e+00</td>\n",
              "      <td>1.516255e+00</td>\n",
              "      <td>1.415869e+00</td>\n",
              "      <td>1.380247e+00</td>\n",
              "      <td>1.332271e+00</td>\n",
              "      <td>1.237094e+00</td>\n",
              "      <td>1.194353e+00</td>\n",
              "      <td>1.098632e+00</td>\n",
              "      <td>1.088850e+00</td>\n",
              "      <td>1.020713e+00</td>\n",
              "      <td>9.992014e-01</td>\n",
              "      <td>9.952742e-01</td>\n",
              "      <td>9.585956e-01</td>\n",
              "      <td>9.153160e-01</td>\n",
              "      <td>8.762529e-01</td>\n",
              "      <td>8.493371e-01</td>\n",
              "      <td>8.381762e-01</td>\n",
              "      <td>8.140405e-01</td>\n",
              "      <td>7.709250e-01</td>\n",
              "      <td>7.345240e-01</td>\n",
              "      <td>7.257016e-01</td>\n",
              "      <td>6.244603e-01</td>\n",
              "      <td>6.056471e-01</td>\n",
              "      <td>5.212781e-01</td>\n",
              "      <td>4.822270e-01</td>\n",
              "      <td>4.036325e-01</td>\n",
              "      <td>3.300833e-01</td>\n",
              "      <td>250.120109</td>\n",
              "      <td>0.041527</td>\n",
              "    </tr>\n",
              "    <tr>\n",
              "      <th>min</th>\n",
              "      <td>0.000000</td>\n",
              "      <td>-5.640751e+01</td>\n",
              "      <td>-7.271573e+01</td>\n",
              "      <td>-4.832559e+01</td>\n",
              "      <td>-5.683171e+00</td>\n",
              "      <td>-1.137433e+02</td>\n",
              "      <td>-2.616051e+01</td>\n",
              "      <td>-4.355724e+01</td>\n",
              "      <td>-7.321672e+01</td>\n",
              "      <td>-1.343407e+01</td>\n",
              "      <td>-2.458826e+01</td>\n",
              "      <td>-4.797473e+00</td>\n",
              "      <td>-1.868371e+01</td>\n",
              "      <td>-5.791881e+00</td>\n",
              "      <td>-1.921433e+01</td>\n",
              "      <td>-4.498945e+00</td>\n",
              "      <td>-1.412985e+01</td>\n",
              "      <td>-2.516280e+01</td>\n",
              "      <td>-9.498746e+00</td>\n",
              "      <td>-7.213527e+00</td>\n",
              "      <td>-5.449772e+01</td>\n",
              "      <td>-3.483038e+01</td>\n",
              "      <td>-1.093314e+01</td>\n",
              "      <td>-4.480774e+01</td>\n",
              "      <td>-2.836627e+00</td>\n",
              "      <td>-1.029540e+01</td>\n",
              "      <td>-2.604551e+00</td>\n",
              "      <td>-2.256568e+01</td>\n",
              "      <td>-1.543008e+01</td>\n",
              "      <td>0.000000</td>\n",
              "      <td>0.000000</td>\n",
              "    </tr>\n",
              "    <tr>\n",
              "      <th>25%</th>\n",
              "      <td>54201.500000</td>\n",
              "      <td>-9.203734e-01</td>\n",
              "      <td>-5.985499e-01</td>\n",
              "      <td>-8.903648e-01</td>\n",
              "      <td>-8.486401e-01</td>\n",
              "      <td>-6.915971e-01</td>\n",
              "      <td>-7.682956e-01</td>\n",
              "      <td>-5.540759e-01</td>\n",
              "      <td>-2.086297e-01</td>\n",
              "      <td>-6.430976e-01</td>\n",
              "      <td>-5.354257e-01</td>\n",
              "      <td>-7.624942e-01</td>\n",
              "      <td>-4.055715e-01</td>\n",
              "      <td>-6.485393e-01</td>\n",
              "      <td>-4.255740e-01</td>\n",
              "      <td>-5.828843e-01</td>\n",
              "      <td>-4.680368e-01</td>\n",
              "      <td>-4.837483e-01</td>\n",
              "      <td>-4.988498e-01</td>\n",
              "      <td>-4.562989e-01</td>\n",
              "      <td>-2.117214e-01</td>\n",
              "      <td>-2.283949e-01</td>\n",
              "      <td>-5.423504e-01</td>\n",
              "      <td>-1.618463e-01</td>\n",
              "      <td>-3.545861e-01</td>\n",
              "      <td>-3.171451e-01</td>\n",
              "      <td>-3.269839e-01</td>\n",
              "      <td>-7.083953e-02</td>\n",
              "      <td>-5.295979e-02</td>\n",
              "      <td>5.600000</td>\n",
              "      <td>0.000000</td>\n",
              "    </tr>\n",
              "    <tr>\n",
              "      <th>50%</th>\n",
              "      <td>84692.000000</td>\n",
              "      <td>1.810880e-02</td>\n",
              "      <td>6.548556e-02</td>\n",
              "      <td>1.798463e-01</td>\n",
              "      <td>-1.984653e-02</td>\n",
              "      <td>-5.433583e-02</td>\n",
              "      <td>-2.741871e-01</td>\n",
              "      <td>4.010308e-02</td>\n",
              "      <td>2.235804e-02</td>\n",
              "      <td>-5.142873e-02</td>\n",
              "      <td>-9.291738e-02</td>\n",
              "      <td>-3.275735e-02</td>\n",
              "      <td>1.400326e-01</td>\n",
              "      <td>-1.356806e-02</td>\n",
              "      <td>5.060132e-02</td>\n",
              "      <td>4.807155e-02</td>\n",
              "      <td>6.641332e-02</td>\n",
              "      <td>-6.567575e-02</td>\n",
              "      <td>-3.636312e-03</td>\n",
              "      <td>3.734823e-03</td>\n",
              "      <td>-6.248109e-02</td>\n",
              "      <td>-2.945017e-02</td>\n",
              "      <td>6.781943e-03</td>\n",
              "      <td>-1.119293e-02</td>\n",
              "      <td>4.097606e-02</td>\n",
              "      <td>1.659350e-02</td>\n",
              "      <td>-5.213911e-02</td>\n",
              "      <td>1.342146e-03</td>\n",
              "      <td>1.124383e-02</td>\n",
              "      <td>22.000000</td>\n",
              "      <td>0.000000</td>\n",
              "    </tr>\n",
              "    <tr>\n",
              "      <th>75%</th>\n",
              "      <td>139320.500000</td>\n",
              "      <td>1.315642e+00</td>\n",
              "      <td>8.037239e-01</td>\n",
              "      <td>1.027196e+00</td>\n",
              "      <td>7.433413e-01</td>\n",
              "      <td>6.119264e-01</td>\n",
              "      <td>3.985649e-01</td>\n",
              "      <td>5.704361e-01</td>\n",
              "      <td>3.273459e-01</td>\n",
              "      <td>5.971390e-01</td>\n",
              "      <td>4.539234e-01</td>\n",
              "      <td>7.395934e-01</td>\n",
              "      <td>6.182380e-01</td>\n",
              "      <td>6.625050e-01</td>\n",
              "      <td>4.931498e-01</td>\n",
              "      <td>6.488208e-01</td>\n",
              "      <td>5.232963e-01</td>\n",
              "      <td>3.996750e-01</td>\n",
              "      <td>5.008067e-01</td>\n",
              "      <td>4.589494e-01</td>\n",
              "      <td>1.330408e-01</td>\n",
              "      <td>1.863772e-01</td>\n",
              "      <td>5.285536e-01</td>\n",
              "      <td>1.476421e-01</td>\n",
              "      <td>4.395266e-01</td>\n",
              "      <td>3.507156e-01</td>\n",
              "      <td>2.409522e-01</td>\n",
              "      <td>9.104512e-02</td>\n",
              "      <td>7.827995e-02</td>\n",
              "      <td>77.165000</td>\n",
              "      <td>0.000000</td>\n",
              "    </tr>\n",
              "    <tr>\n",
              "      <th>max</th>\n",
              "      <td>172792.000000</td>\n",
              "      <td>2.454930e+00</td>\n",
              "      <td>2.205773e+01</td>\n",
              "      <td>9.382558e+00</td>\n",
              "      <td>1.687534e+01</td>\n",
              "      <td>3.480167e+01</td>\n",
              "      <td>7.330163e+01</td>\n",
              "      <td>1.205895e+02</td>\n",
              "      <td>2.000721e+01</td>\n",
              "      <td>1.559499e+01</td>\n",
              "      <td>2.374514e+01</td>\n",
              "      <td>1.201891e+01</td>\n",
              "      <td>7.848392e+00</td>\n",
              "      <td>7.126883e+00</td>\n",
              "      <td>1.052677e+01</td>\n",
              "      <td>8.877742e+00</td>\n",
              "      <td>1.731511e+01</td>\n",
              "      <td>9.253526e+00</td>\n",
              "      <td>5.041069e+00</td>\n",
              "      <td>5.591971e+00</td>\n",
              "      <td>3.942090e+01</td>\n",
              "      <td>2.720284e+01</td>\n",
              "      <td>1.050309e+01</td>\n",
              "      <td>2.252841e+01</td>\n",
              "      <td>4.584549e+00</td>\n",
              "      <td>7.519589e+00</td>\n",
              "      <td>3.517346e+00</td>\n",
              "      <td>3.161220e+01</td>\n",
              "      <td>3.384781e+01</td>\n",
              "      <td>25691.160000</td>\n",
              "      <td>1.000000</td>\n",
              "    </tr>\n",
              "  </tbody>\n",
              "</table>\n",
              "</div>"
            ],
            "text/plain": [
              "                Time            V1  ...         Amount          Class\n",
              "count  284807.000000  2.848070e+05  ...  284807.000000  284807.000000\n",
              "mean    94813.859575  3.919560e-15  ...      88.349619       0.001727\n",
              "std     47488.145955  1.958696e+00  ...     250.120109       0.041527\n",
              "min         0.000000 -5.640751e+01  ...       0.000000       0.000000\n",
              "25%     54201.500000 -9.203734e-01  ...       5.600000       0.000000\n",
              "50%     84692.000000  1.810880e-02  ...      22.000000       0.000000\n",
              "75%    139320.500000  1.315642e+00  ...      77.165000       0.000000\n",
              "max    172792.000000  2.454930e+00  ...   25691.160000       1.000000\n",
              "\n",
              "[8 rows x 31 columns]"
            ]
          },
          "metadata": {
            "tags": []
          },
          "execution_count": 8
        }
      ]
    },
    {
      "cell_type": "code",
      "metadata": {
        "id": "vdff5f9thhfP",
        "outputId": "8602bc20-c305-407a-8bb8-5829c0e97831",
        "colab": {
          "base_uri": "https://localhost:8080/",
          "height": 51
        }
      },
      "source": [
        "fraud_count=sum(df['Class'].values==1)\n",
        "legit_count=sum(df['Class'].values==0)\n",
        "print(\"Number of legitimate transactions: {} ({:.3f}% of total)\".format(legit_count, 100*legit_count/(fraud_count+legit_count)))\n",
        "print(\"Number of fraudulent transactions: {}    ({:.3f}% of total)\".format(fraud_count, 100*fraud_count/(fraud_count+legit_count)))\n"
      ],
      "execution_count": null,
      "outputs": [
        {
          "output_type": "stream",
          "text": [
            "Number of legitimate transactions: 284315 (99.827% of total)\n",
            "Number of fraudulent transactions: 492    (0.173% of total)\n"
          ],
          "name": "stdout"
        }
      ]
    },
    {
      "cell_type": "markdown",
      "metadata": {
        "id": "ts6laGENbQ45"
      },
      "source": [
        "Clearly, the number of fraudulent transactions is extremely outnumbered by the number of legitimate transactions. Traditional machine learning algorithms/methods will likely have trouble being able to accurately learn from such imbalanced data.\n",
        "\n",
        "Unsupervised machine learning models are typically the optimal choice for learning from and classifying data with a large class imbalance."
      ]
    },
    {
      "cell_type": "markdown",
      "metadata": {
        "id": "d7ugYsPGD7h7"
      },
      "source": [
        "There are several unsupervised model options for us to attempt to identify these fraudulent transactions (https://spd.group/machine-learning/credit-card-fraud-detection/):\n",
        "- Local Outlier Factor (LOF)\n",
        "- One-class Support Vector Machine (SVM)\n",
        "- Isolation Forest\n",
        "\n",
        "A few supervised classifiers we can use include:\n",
        "- Logistic Regression\n",
        "- Random Forest\n",
        "- k-Nearest Neighbors (kNN)\n",
        "\n",
        "Before diving right into modeling, we can perform some more EDA to get a better picture of what our data looks like, which may help us make a more informed decision on which model(s) could be appropriate."
      ]
    },
    {
      "cell_type": "markdown",
      "metadata": {
        "id": "-nLbyKx9zPIK"
      },
      "source": [
        "We can look at the two variables we do have information for, `Time` and `Amount`:"
      ]
    },
    {
      "cell_type": "code",
      "metadata": {
        "id": "5UIyE8CwvQpj",
        "outputId": "f1fd3cd0-164b-4470-8afc-2233255a2f54",
        "colab": {
          "base_uri": "https://localhost:8080/",
          "height": 585
        }
      },
      "source": [
        "plt.hist(df['Time'], bins=50)\n",
        "plt.title(\"Distribution of time variable\")\n",
        "plt.xlabel(\"Time\")\n",
        "plt.ylabel(\"Frequency\")\n",
        "plt.show()\n",
        "plt.hist(df['Amount'], bins=100)\n",
        "plt.title(\"Distribution of amount variable\")\n",
        "plt.xlabel(\"Amount\")\n",
        "plt.ylabel(\"Frequency\")\n",
        "plt.show()"
      ],
      "execution_count": null,
      "outputs": [
        {
          "output_type": "display_data",
          "data": {
            "image/png": "[encoded data removed]",
            "text/plain": [
              "<Figure size 432x288 with 1 Axes>"
            ]
          },
          "metadata": {
            "tags": []
          }
        },
        {
          "output_type": "display_data",
          "data": {
            "image/png": "[encoded data removed]",
            "text/plain": [
              "<Figure size 432x288 with 1 Axes>"
            ]
          },
          "metadata": {
            "tags": []
          }
        }
      ]
    },
    {
      "cell_type": "markdown",
      "metadata": {
        "id": "um2tSVEYEwJ0"
      },
      "source": [
        "Due to how these two variables are distributed (`Time` is bimodal while `Amount` is very right skewed), it would be ideal to normalize them, such as mapping them to the interval $[0,1]$. We can apply this transformation to the entire dataset as well since each variable (except `Class`) is continuous."
      ]
    },
    {
      "cell_type": "markdown",
      "metadata": {
        "id": "th0a6icP40cP"
      },
      "source": [
        "We can look at how correlated each of these variables are with each other:"
      ]
    },
    {
      "cell_type": "code",
      "metadata": {
        "id": "xdcUEhqkPeSG"
      },
      "source": [
        "plt.figure(figsize=(14,12))\n",
        "#create a heatmap of the correlation between each pair of variables\n",
        "sns.heatmap(df.corr(),\n",
        "            square=True, #make each box in the heatmap square\n",
        "            annot=True, #include correlation value inside each square\n",
        "            fmt=\".1f\", #round correlations to 1 decimal place\n",
        "            annot_kws={\"size\": 9})\n",
        "plt.show()"
      ],
      "execution_count": null,
      "outputs": []
    },
    {
      "cell_type": "markdown",
      "metadata": {
        "id": "i56gT4plyZY-"
      },
      "source": [
        "The variable `V17` has the strongest correlation with `Class`, so it is worth investigating a bit more:"
      ]
    },
    {
      "cell_type": "code",
      "metadata": {
        "id": "0dxRfKAQyAuZ",
        "outputId": "de8e65d8-5ce2-45c3-c227-9d1495349935",
        "colab": {
          "base_uri": "https://localhost:8080/",
          "height": 917
        }
      },
      "source": [
        "df.boxplot(column='V17', by='Class', figsize=(8,7))\n",
        "plt.xlabel(\"V17\")\n",
        "plt.ylabel(\"Class\")\n",
        "plt.show()\n",
        "plt.figure(figsize=(8,7))\n",
        "plt.scatter(x=df['V17'], y=df['Class'])\n",
        "plt.xlabel(\"V17\")\n",
        "plt.ylabel(\"Class\")\n",
        "plt.show()"
      ],
      "execution_count": null,
      "outputs": [
        {
          "output_type": "display_data",
          "data": {
            "image/png": "[encoded data removed]",
            "text/plain": [
              "<Figure size 576x504 with 1 Axes>"
            ]
          },
          "metadata": {
            "tags": []
          }
        },
        {
          "output_type": "display_data",
          "data": {
            "image/png": "[encoded data removed]",
            "text/plain": [
              "<Figure size 576x504 with 1 Axes>"
            ]
          },
          "metadata": {
            "tags": []
          }
        }
      ]
    },
    {
      "cell_type": "markdown",
      "metadata": {
        "id": "6KmYYm3tE_Q8"
      },
      "source": [
        "A plot like this already makes a pattern jump out: more negative values of `V17` seem to be more connected to fraudulent transactions."
      ]
    },
    {
      "cell_type": "markdown",
      "metadata": {
        "id": "0ftleMYuAlS6"
      },
      "source": [
        "With no data missing, no highly correlated X variables (i.e. no multicollinearity), and pre-transformed data, there is not much else to do in this case. We can begin preparing the data and training our models."
      ]
    },
    {
      "cell_type": "markdown",
      "metadata": {
        "id": "VDFSO7th7v-K"
      },
      "source": [
        "## Data prep"
      ]
    },
    {
      "cell_type": "code",
      "metadata": {
        "id": "QEwjEQb4_gBB",
        "outputId": "c8bb17dc-31ab-4f83-b52c-46ec534e0647",
        "colab": {
          "base_uri": "https://localhost:8080/",
          "height": 181
        }
      },
      "source": [
        "x = df.iloc[0:, 0:30] # use every variable except Class as X\n",
        "y = df['Class'] # class is used as the Y variable"
      ],
      "execution_count": null,
      "outputs": [
        {
          "output_type": "error",
          "ename": "NameError",
          "evalue": "ignored",
          "traceback": [
            "\u001b[0;31m---------------------------------------------------------------------------\u001b[0m",
            "\u001b[0;31mNameError\u001b[0m                                 Traceback (most recent call last)",
            "\u001b[0;32m<ipython-input-1-01bb259f7a99>\u001b[0m in \u001b[0;36m<module>\u001b[0;34m()\u001b[0m\n\u001b[0;32m----> 1\u001b[0;31m \u001b[0mx\u001b[0m \u001b[0;34m=\u001b[0m \u001b[0mdf\u001b[0m\u001b[0;34m.\u001b[0m\u001b[0miloc\u001b[0m\u001b[0;34m[\u001b[0m\u001b[0;36m0\u001b[0m\u001b[0;34m:\u001b[0m\u001b[0;34m,\u001b[0m \u001b[0;36m0\u001b[0m\u001b[0;34m:\u001b[0m\u001b[0;36m30\u001b[0m\u001b[0;34m]\u001b[0m \u001b[0;31m# use every variable except Class as X\u001b[0m\u001b[0;34m\u001b[0m\u001b[0;34m\u001b[0m\u001b[0m\n\u001b[0m\u001b[1;32m      2\u001b[0m \u001b[0my\u001b[0m \u001b[0;34m=\u001b[0m \u001b[0mdf\u001b[0m\u001b[0;34m[\u001b[0m\u001b[0;34m'Class'\u001b[0m\u001b[0;34m]\u001b[0m \u001b[0;31m# class is used as the Y variable\u001b[0m\u001b[0;34m\u001b[0m\u001b[0;34m\u001b[0m\u001b[0m\n",
            "\u001b[0;31mNameError\u001b[0m: name 'df' is not defined"
          ]
        }
      ]
    },
    {
      "cell_type": "code",
      "metadata": {
        "id": "wQuiEG2f_ftS",
        "outputId": "4c0e51c4-468d-423b-cfd3-d09a6594198a",
        "colab": {
          "base_uri": "https://localhost:8080/",
          "height": 164
        }
      },
      "source": [
        "x # printing to verify X is properly assigned"
      ],
      "execution_count": null,
      "outputs": [
        {
          "output_type": "error",
          "ename": "NameError",
          "evalue": "ignored",
          "traceback": [
            "\u001b[0;31m---------------------------------------------------------------------------\u001b[0m",
            "\u001b[0;31mNameError\u001b[0m                                 Traceback (most recent call last)",
            "\u001b[0;32m<ipython-input-2-f676b1d5c6ff>\u001b[0m in \u001b[0;36m<module>\u001b[0;34m()\u001b[0m\n\u001b[0;32m----> 1\u001b[0;31m \u001b[0mx\u001b[0m \u001b[0;31m# printing to verify X is properly assigned\u001b[0m\u001b[0;34m\u001b[0m\u001b[0;34m\u001b[0m\u001b[0m\n\u001b[0m",
            "\u001b[0;31mNameError\u001b[0m: name 'x' is not defined"
          ]
        }
      ]
    },
    {
      "cell_type": "code",
      "metadata": {
        "id": "diIWexjC_fxF"
      },
      "source": [
        "y #verify Y is properly assigned"
      ],
      "execution_count": null,
      "outputs": []
    },
    {
      "cell_type": "markdown",
      "metadata": {
        "id": "-hzfHOn5LvwB"
      },
      "source": [
        "Before we can begin plugging our data into our classifiers, we need to properly split our data into train/test splits. Due to how imbalanced it is, we can use stratified sampling to ensure that the proportions are maintained when creating the splits. Otherwise, we may end up having no fraudulent cases in one of our sets."
      ]
    },
    {
      "cell_type": "code",
      "metadata": {
        "id": "Rrggm791L_7N"
      },
      "source": [
        "from sklearn.model_selection import train_test_split, StratifiedKFold\n",
        "#train test split gives us our splits\n",
        "#StraifiedKFold lets us perform stratified cross-validation, if we need to\n",
        "from sklearn.metrics import classification_report, confusion_matrix, f1_score #view detailed metrics for model performance"
      ],
      "execution_count": null,
      "outputs": []
    },
    {
      "cell_type": "code",
      "metadata": {
        "id": "uonAOprcR_bq"
      },
      "source": [
        "X_train, X_test, y_train, y_test = train_test_split(x, y, stratify=y)"
      ],
      "execution_count": null,
      "outputs": []
    },
    {
      "cell_type": "markdown",
      "metadata": {
        "id": "kbcMIAAIJ1-h"
      },
      "source": [
        "Now, we can apply our scaler to the X variables:"
      ]
    },
    {
      "cell_type": "code",
      "metadata": {
        "id": "8no--8r0Gu7l"
      },
      "source": [
        "from sklearn.preprocessing import MinMaxScaler\n",
        "scaler = MinMaxScaler() #scale down Time and Amount variables to interval (0, 1)\n",
        "scaler.fit(X_train) #fit the scaler to the training data"
      ],
      "execution_count": null,
      "outputs": []
    },
    {
      "cell_type": "code",
      "metadata": {
        "id": "-G7TSGFmG-8U"
      },
      "source": [
        "X_train_scaled = scaler.transform(X_train) #apply the scaler to the training data\n",
        "X_test_scaled = scaler.transform(X_test) #apply the scaler to the testing data\n",
        "#x.loc[:,'Time']=scaler.fit_transform(np.array(x['Time']).reshape(-1, 1))\n",
        "#x.loc[:,'Amount']=scaler.fit_transform(np.array(x['Amount']).reshape(-1, 1))"
      ],
      "execution_count": null,
      "outputs": []
    },
    {
      "cell_type": "code",
      "metadata": {
        "id": "BCoD0BAAZ0ss"
      },
      "source": [
        "y_train, y_test = np.array(y_train), np.array(y_test) # convert y variables to numpy arrays"
      ],
      "execution_count": null,
      "outputs": []
    },
    {
      "cell_type": "code",
      "metadata": {
        "id": "33HDD0JnWAWO"
      },
      "source": [
        "# calculate percentage of fraudulent cases in each y array\n",
        "sum(y_train==1)/(sum(y_train==0)+sum(y_train==1)), sum(y_test==1)/(sum(y_test==0)+sum(y_test==1))"
      ],
      "execution_count": null,
      "outputs": []
    },
    {
      "cell_type": "markdown",
      "metadata": {
        "id": "xR431P27WQcn"
      },
      "source": [
        "Stratifying on `y` allows us to maintain the existing proportionality from the original data."
      ]
    },
    {
      "cell_type": "markdown",
      "metadata": {
        "id": "zM4tpSD7DCWL"
      },
      "source": [
        "## Contamination Rate"
      ]
    },
    {
      "cell_type": "markdown",
      "metadata": {
        "id": "wUSYTFo6jb30"
      },
      "source": [
        "### Local Outlier Factor"
      ]
    },
    {
      "cell_type": "code",
      "metadata": {
        "id": "qnL3Q0FifEkv"
      },
      "source": [
        "from sklearn.neighbors import LocalOutlierFactor"
      ],
      "execution_count": null,
      "outputs": []
    },
    {
      "cell_type": "code",
      "metadata": {
        "id": "6cgUrk5GLhXy"
      },
      "source": [
        "contamination_rate=fraud_count/(fraud_count+legit_count)"
      ],
      "execution_count": null,
      "outputs": []
    },
    {
      "cell_type": "code",
      "metadata": {
        "id": "Aad7_AGqfE5d"
      },
      "source": [
        "# set up the model\n",
        "lof = LocalOutlierFactor(n_neighbors = 20,\n",
        "                         contamination = contamination_rate, # how much of the data is \"contaminated\" with fraudulent cases\n",
        "                         n_jobs = -1)"
      ],
      "execution_count": null,
      "outputs": []
    },
    {
      "cell_type": "code",
      "metadata": {
        "id": "CcsU3AGSfEoG"
      },
      "source": [
        "y_pred = lof.fit_predict(X_train_scaled) #fitting the model to the training data, can take a few minutes"
      ],
      "execution_count": null,
      "outputs": []
    },
    {
      "cell_type": "code",
      "metadata": {
        "id": "KuH4qHgwe-Sj",
        "outputId": "c3199a2d-4a67-4955-f7f8-48ea4f89f2a4",
        "colab": {
          "base_uri": "https://localhost:8080/",
          "height": 34
        }
      },
      "source": [
        "y_pred"
      ],
      "execution_count": null,
      "outputs": [
        {
          "output_type": "execute_result",
          "data": {
            "text/plain": [
              "array([1, 1, 1, ..., 1, 1, 1])"
            ]
          },
          "metadata": {
            "tags": []
          },
          "execution_count": 26
        }
      ]
    },
    {
      "cell_type": "markdown",
      "metadata": {
        "id": "ZbfQ0ELNOAix"
      },
      "source": [
        "The local forest outlier outputs `1` for \"normal\" (legitimate cases) data points and `-1` for outliers (fraudulent cases). In convention with the data set and to easily compare this prediction to the test set, we perform the following conversion:\n",
        "- `1` set to `0`\n",
        "- `-1` set to `1`"
      ]
    },
    {
      "cell_type": "code",
      "metadata": {
        "id": "Jj1_5j_TOAiz"
      },
      "source": [
        "np.place(y_pred, y_pred==1, 0) #replace 1's with 0's"
      ],
      "execution_count": null,
      "outputs": []
    },
    {
      "cell_type": "code",
      "metadata": {
        "id": "zL2eRVmWOAi1"
      },
      "source": [
        "np.place(y_pred, y_pred==-1, 1) #replace -1's with 1's"
      ],
      "execution_count": null,
      "outputs": []
    },
    {
      "cell_type": "code",
      "metadata": {
        "id": "Hlw7bnmmQM8b",
        "outputId": "f216b00b-311d-4e49-e55f-41295b66eaa2",
        "colab": {
          "base_uri": "https://localhost:8080/",
          "height": 34
        }
      },
      "source": [
        "y_pred.mean(), y_test.mean()"
      ],
      "execution_count": null,
      "outputs": [
        {
          "output_type": "execute_result",
          "data": {
            "text/plain": [
              "(0.0017274876524425926, 0.0017274795651807534)"
            ]
          },
          "metadata": {
            "tags": []
          },
          "execution_count": 37
        }
      ]
    },
    {
      "cell_type": "code",
      "metadata": {
        "id": "-Wtoh1G2JNA3",
        "outputId": "e9a8466e-975d-4e33-cc59-e486dc06f51e",
        "colab": {
          "base_uri": "https://localhost:8080/",
          "height": 170
        }
      },
      "source": [
        "print(classification_report(y_train, y_pred,\n",
        "                            labels=[0, 1], target_names=['Legitimate', 'Fraudulent'],\n",
        "                            zero_division=0))"
      ],
      "execution_count": null,
      "outputs": [
        {
          "output_type": "stream",
          "text": [
            "              precision    recall  f1-score   support\n",
            "\n",
            "  Legitimate       1.00      1.00      1.00    213236\n",
            "  Fraudulent       0.01      0.01      0.01       369\n",
            "\n",
            "    accuracy                           1.00    213605\n",
            "   macro avg       0.50      0.50      0.50    213605\n",
            "weighted avg       1.00      1.00      1.00    213605\n",
            "\n"
          ],
          "name": "stdout"
        }
      ]
    },
    {
      "cell_type": "code",
      "metadata": {
        "id": "wT0tyyojZopE",
        "outputId": "e2cbcaea-59c8-4dc6-fa6d-a9907748cccc",
        "colab": {
          "base_uri": "https://localhost:8080/",
          "height": 51
        }
      },
      "source": [
        "conf_mat=confusion_matrix(y_train, y_pred, labels=[0, 1])\n",
        "print(conf_mat)"
      ],
      "execution_count": null,
      "outputs": [
        {
          "output_type": "stream",
          "text": [
            "[[212870    366]\n",
            " [   366      3]]\n"
          ],
          "name": "stdout"
        }
      ]
    },
    {
      "cell_type": "code",
      "metadata": {
        "id": "AIfsodwebHsu",
        "outputId": "8ccded0b-7aa8-4952-e9df-51c038c84bb8",
        "colab": {
          "base_uri": "https://localhost:8080/",
          "height": 285
        }
      },
      "source": [
        "plt.figure(figsize=(4, 4))\n",
        "sns.heatmap(conf_mat, square=True, annot=True, fmt='d', cbar=False)\n",
        "plt.xlabel('Predicted label')\n",
        "plt.ylabel('True label')\n",
        "plt.show()"
      ],
      "execution_count": null,
      "outputs": [
        {
          "output_type": "display_data",
          "data": {
            "image/png": "[encoded data removed]",
            "text/plain": [
              "<Figure size 288x288 with 1 Axes>"
            ]
          },
          "metadata": {
            "tags": []
          }
        }
      ]
    },
    {
      "cell_type": "markdown",
      "metadata": {
        "id": "H4Emk8_DodN5"
      },
      "source": [
        "Unfortunately, our current strategy/model has a difficult time with the fraudulent class."
      ]
    },
    {
      "cell_type": "markdown",
      "metadata": {
        "id": "43ciCwFrjeDH"
      },
      "source": [
        "### Isolation Forest"
      ]
    },
    {
      "cell_type": "code",
      "metadata": {
        "id": "XWZEmzkEocs4"
      },
      "source": [
        "from sklearn.ensemble import IsolationForest"
      ],
      "execution_count": null,
      "outputs": []
    },
    {
      "cell_type": "code",
      "metadata": {
        "id": "cSnBMmENbWDV"
      },
      "source": [
        "if_model = IsolationForest(contamination = contamination_rate)"
      ],
      "execution_count": null,
      "outputs": []
    },
    {
      "cell_type": "code",
      "metadata": {
        "id": "ut5PqEgiLmIw",
        "outputId": "4a8cf193-df70-46e7-87f2-799fad6ee5a6",
        "colab": {
          "base_uri": "https://localhost:8080/",
          "height": 85
        }
      },
      "source": [
        "if_model.fit(X_train_scaled)"
      ],
      "execution_count": null,
      "outputs": [
        {
          "output_type": "execute_result",
          "data": {
            "text/plain": [
              "IsolationForest(behaviour='deprecated', bootstrap=False,\n",
              "                contamination=0.001727485630620034, max_features=1.0,\n",
              "                max_samples='auto', n_estimators=100, n_jobs=None,\n",
              "                random_state=None, verbose=0, warm_start=False)"
            ]
          },
          "metadata": {
            "tags": []
          },
          "execution_count": 25
        }
      ]
    },
    {
      "cell_type": "code",
      "metadata": {
        "id": "po5tWykXNFR6"
      },
      "source": [
        "y_pred_train = if_model.predict(X_train_scaled)"
      ],
      "execution_count": null,
      "outputs": []
    },
    {
      "cell_type": "code",
      "metadata": {
        "id": "ZOmvWjkOQvE-"
      },
      "source": [
        "np.place(y_pred_train, y_pred_train==1, 0) #replace 1's with 0's"
      ],
      "execution_count": null,
      "outputs": []
    },
    {
      "cell_type": "code",
      "metadata": {
        "id": "alWYA3omQvFN"
      },
      "source": [
        "np.place(y_pred_train, y_pred_train==-1, 1) #replace -1's with 1's"
      ],
      "execution_count": null,
      "outputs": []
    },
    {
      "cell_type": "code",
      "metadata": {
        "id": "OZESCDPnNJeI",
        "outputId": "d334d203-763e-4d5f-991f-bab8dc811a2e",
        "colab": {
          "base_uri": "https://localhost:8080/",
          "height": 170
        }
      },
      "source": [
        "print(classification_report(y_train, y_pred_train,\n",
        "                            labels=[0, 1], target_names=['Legitimate', 'Fraudulent'],\n",
        "                            zero_division=0))"
      ],
      "execution_count": null,
      "outputs": [
        {
          "output_type": "stream",
          "text": [
            "              precision    recall  f1-score   support\n",
            "\n",
            "  Legitimate       1.00      1.00      1.00    213236\n",
            "  Fraudulent       0.27      0.27      0.27       369\n",
            "\n",
            "    accuracy                           1.00    213605\n",
            "   macro avg       0.63      0.63      0.63    213605\n",
            "weighted avg       1.00      1.00      1.00    213605\n",
            "\n"
          ],
          "name": "stdout"
        }
      ]
    },
    {
      "cell_type": "code",
      "metadata": {
        "id": "DY3z3UPmNOuC",
        "outputId": "1e9b468a-1702-4db1-c2f3-2a894a898d7c",
        "colab": {
          "base_uri": "https://localhost:8080/",
          "height": 285
        }
      },
      "source": [
        "conf_mat=confusion_matrix(y_train, y_pred_train, labels=[0, 1])\n",
        "plt.figure(figsize=(4, 4))\n",
        "sns.heatmap(conf_mat, square=True, annot=True, fmt='d', cbar=False)\n",
        "plt.xlabel('Predicted label')\n",
        "plt.ylabel('True label')\n",
        "plt.show()"
      ],
      "execution_count": null,
      "outputs": [
        {
          "output_type": "display_data",
          "data": {
            "image/png": "[encoded data removed]",
            "text/plain": [
              "<Figure size 288x288 with 1 Axes>"
            ]
          },
          "metadata": {
            "tags": []
          }
        }
      ]
    },
    {
      "cell_type": "code",
      "metadata": {
        "id": "A1UAwJ4ELqKM"
      },
      "source": [
        "y_pred_if = if_model.predict(X_test_scaled)"
      ],
      "execution_count": null,
      "outputs": []
    },
    {
      "cell_type": "code",
      "metadata": {
        "id": "FB-mfSnH8PTj"
      },
      "source": [
        "np.place(y_pred_if, y_pred_if==1, 0) #replace 1's with 0's"
      ],
      "execution_count": null,
      "outputs": []
    },
    {
      "cell_type": "code",
      "metadata": {
        "id": "iJAaB8Ta8PTm"
      },
      "source": [
        "np.place(y_pred_if, y_pred_if==-1, 1) #replace -1's with 1's"
      ],
      "execution_count": null,
      "outputs": []
    },
    {
      "cell_type": "code",
      "metadata": {
        "id": "_fE4MlaALzOm",
        "outputId": "e8cd08bf-b58d-4808-b685-86dae5e00d56",
        "colab": {
          "base_uri": "https://localhost:8080/",
          "height": 170
        }
      },
      "source": [
        "print(classification_report(y_test, y_pred_if,\n",
        "                            labels=[0, 1], target_names=['Legitimate', 'Fraudulent'],\n",
        "                            zero_division=0))"
      ],
      "execution_count": null,
      "outputs": [
        {
          "output_type": "stream",
          "text": [
            "              precision    recall  f1-score   support\n",
            "\n",
            "  Legitimate       1.00      1.00      1.00     71079\n",
            "  Fraudulent       0.23      0.26      0.24       123\n",
            "\n",
            "    accuracy                           1.00     71202\n",
            "   macro avg       0.61      0.63      0.62     71202\n",
            "weighted avg       1.00      1.00      1.00     71202\n",
            "\n"
          ],
          "name": "stdout"
        }
      ]
    },
    {
      "cell_type": "code",
      "metadata": {
        "id": "Nj-_qtnsL5Ek",
        "outputId": "d7fb1374-a73c-428f-c9be-0a0b1c87b5ee",
        "colab": {
          "base_uri": "https://localhost:8080/",
          "height": 285
        }
      },
      "source": [
        "conf_mat=confusion_matrix(y_test, y_pred_if, labels=[0, 1])\n",
        "plt.figure(figsize=(4, 4))\n",
        "sns.heatmap(conf_mat, square=True, annot=True, fmt='d', cbar=False)\n",
        "plt.xlabel('Predicted label')\n",
        "plt.ylabel('True label')\n",
        "plt.show()"
      ],
      "execution_count": null,
      "outputs": [
        {
          "output_type": "display_data",
          "data": {
            "image/png": "[encoded data removed]",
            "text/plain": [
              "<Figure size 288x288 with 1 Axes>"
            ]
          },
          "metadata": {
            "tags": []
          }
        }
      ]
    },
    {
      "cell_type": "markdown",
      "metadata": {
        "id": "ztKjOwzAVeIs"
      },
      "source": [
        "Once again, our models are having trouble being able to accurately classify the transactions. The next course of action should be attempting SMOTE (synthetic minority oversampling technique). This generates synthetic samples of the minority (fraudulent) classes to help the model have an easier time training and predicting new cases.\n",
        "\n",
        "Note that when preparing the data, we only perform SMOTE on the training data. While we want the model to get a better idea of how fraudulent transactions look, we also want it to test on realistic data - data with a very small percentage of the transactions are fraudulent."
      ]
    },
    {
      "cell_type": "markdown",
      "metadata": {
        "id": "wZWB-DNTqiHW"
      },
      "source": [
        "## SMOTE"
      ]
    },
    {
      "cell_type": "markdown",
      "metadata": {
        "id": "qoNQjjKzBsze"
      },
      "source": [
        "SMOTE enables us to generate synthetic versions of fraudulent transactions in order to make up for the lack of such transactions in our data."
      ]
    },
    {
      "cell_type": "code",
      "metadata": {
        "id": "OXi7CViRMa97"
      },
      "source": [
        "from imblearn.over_sampling import SMOTE #library for performing synthetic oversampling\n",
        "from collections import Counter #count number of cases before and after oversampling"
      ],
      "execution_count": null,
      "outputs": []
    },
    {
      "cell_type": "code",
      "metadata": {
        "id": "Wo1liBZJkgyu"
      },
      "source": [
        "X_train_sm, X_test_sm, y_train_sm, y_test_sm = train_test_split(x, y)"
      ],
      "execution_count": null,
      "outputs": []
    },
    {
      "cell_type": "code",
      "metadata": {
        "id": "74MmEVs4nP4l"
      },
      "source": [
        "y_train_sm, y_test_sm = np.array(y_train_sm), np.array(y_test_sm)"
      ],
      "execution_count": null,
      "outputs": []
    },
    {
      "cell_type": "code",
      "metadata": {
        "id": "jSGMxoigntuh",
        "outputId": "f75669fc-3d7c-4ad4-fdbc-33384f54859e",
        "colab": {
          "base_uri": "https://localhost:8080/",
          "height": 34
        }
      },
      "source": [
        "X_train_sm.shape, X_test_sm.shape, y_train_sm.shape, y_test_sm.shape"
      ],
      "execution_count": null,
      "outputs": [
        {
          "output_type": "execute_result",
          "data": {
            "text/plain": [
              "((213605, 30), (71202, 30), (213605,), (71202,))"
            ]
          },
          "metadata": {
            "tags": []
          },
          "execution_count": 156
        }
      ]
    },
    {
      "cell_type": "code",
      "metadata": {
        "id": "z4uGehQwjoi1"
      },
      "source": [
        "sm = SMOTE(sampling_strategy='minority')"
      ],
      "execution_count": null,
      "outputs": []
    },
    {
      "cell_type": "code",
      "metadata": {
        "id": "bFhbaUS1WJi1",
        "outputId": "c36ce500-4aae-4846-fd2f-237caf360869",
        "colab": {
          "base_uri": "https://localhost:8080/",
          "height": 85
        }
      },
      "source": [
        "print(\"y before SMOTE:\", Counter(y_train_sm)) #count how many of each type of transaction are in the original training set\n",
        "X_train_res, y_train_res = sm.fit_resample(X_train_sm, y_train_sm)\n",
        "print(\"y after SMOTE:\", Counter(y_train_res)) #count how many of each type of transaction are in the resampled training set"
      ],
      "execution_count": null,
      "outputs": [
        {
          "output_type": "stream",
          "text": [
            "y before SMOTE: Counter({0: 213222, 1: 383})\n"
          ],
          "name": "stdout"
        },
        {
          "output_type": "stream",
          "text": [
            "/usr/local/lib/python3.6/dist-packages/sklearn/utils/deprecation.py:87: FutureWarning: Function safe_indexing is deprecated; safe_indexing is deprecated in version 0.22 and will be removed in version 0.24.\n",
            "  warnings.warn(msg, category=FutureWarning)\n"
          ],
          "name": "stderr"
        },
        {
          "output_type": "stream",
          "text": [
            "y after SMOTE: Counter({0: 213222, 1: 213222})\n"
          ],
          "name": "stdout"
        }
      ]
    },
    {
      "cell_type": "markdown",
      "metadata": {
        "id": "4iNHvow8F0G0"
      },
      "source": [
        "## Random Undersampling"
      ]
    },
    {
      "cell_type": "markdown",
      "metadata": {
        "id": "Mu1Rc8-wGJFk"
      },
      "source": [
        "Another resampling technique is random undersampling, which randomly chooses just enough samples from the majority class so that there are a balanced amount of samples from each class."
      ]
    },
    {
      "cell_type": "code",
      "metadata": {
        "id": "rXZsJkSzgZF5"
      },
      "source": [
        "from imblearn.under_sampling import RandomUnderSampler"
      ],
      "execution_count": null,
      "outputs": []
    },
    {
      "cell_type": "code",
      "metadata": {
        "id": "pPmq5XDghS6R"
      },
      "source": [
        "rus = RandomUnderSampler() #initialize the undersampler"
      ],
      "execution_count": null,
      "outputs": []
    },
    {
      "cell_type": "markdown",
      "metadata": {
        "id": "6ZIe3-Nv5wMj"
      },
      "source": [
        "We can reuse the train/test split from the stratified sampling method:"
      ]
    },
    {
      "cell_type": "code",
      "metadata": {
        "id": "vXpc5rEfhrio",
        "outputId": "2c95f74b-8c28-43e7-f339-b8b75827a9d7",
        "colab": {
          "base_uri": "https://localhost:8080/",
          "height": 51
        }
      },
      "source": [
        "X_train_rs, y_train_rs = rus.fit_resample(X_train_scaled, y_train) #resample a new training set from the existing one"
      ],
      "execution_count": null,
      "outputs": [
        {
          "output_type": "stream",
          "text": [
            "/usr/local/lib/python3.6/dist-packages/sklearn/utils/deprecation.py:87: FutureWarning: Function safe_indexing is deprecated; safe_indexing is deprecated in version 0.22 and will be removed in version 0.24.\n",
            "  warnings.warn(msg, category=FutureWarning)\n"
          ],
          "name": "stderr"
        }
      ]
    },
    {
      "cell_type": "markdown",
      "metadata": {
        "id": "NlfxAf8iLTlB"
      },
      "source": [
        "We only perform this undersampling on the training set in order to keep the proportion of fraudulent transactions in our testing set realistic."
      ]
    },
    {
      "cell_type": "code",
      "metadata": {
        "id": "-19opoDVhuko",
        "outputId": "65028c86-bbeb-4797-da32-0092bc8b25ea",
        "colab": {
          "base_uri": "https://localhost:8080/",
          "height": 34
        }
      },
      "source": [
        "X_train_rs.shape, y_train_rs.shape #verify size of training sets"
      ],
      "execution_count": null,
      "outputs": [
        {
          "output_type": "execute_result",
          "data": {
            "text/plain": [
              "((738, 30), (738,))"
            ]
          },
          "metadata": {
            "tags": []
          },
          "execution_count": 25
        }
      ]
    },
    {
      "cell_type": "code",
      "metadata": {
        "id": "ux2JelyLh3fs",
        "outputId": "97ebf175-76a1-49e5-83d7-e2b7e1be0c54",
        "colab": {
          "base_uri": "https://localhost:8080/",
          "height": 51
        }
      },
      "source": [
        "fraud_count_rus=sum(y_train_rs==1)\n",
        "legit_count_rus=sum(y_train_rs==0)\n",
        "print(\"Number of legitimate transactions: {} ({:.0f}% of total)\".format(legit_count_rus, 100*legit_count_rus/(fraud_count_rus+legit_count_rus)))\n",
        "print(\"Number of fraudulent transactions: {} ({:.0f}% of total)\".format(fraud_count_rus, 100*fraud_count_rus/(fraud_count_rus+legit_count_rus)))"
      ],
      "execution_count": null,
      "outputs": [
        {
          "output_type": "stream",
          "text": [
            "Number of legitimate transactions: 369 (50% of total)\n",
            "Number of fraudulent transactions: 369 (50% of total)\n"
          ],
          "name": "stdout"
        }
      ]
    },
    {
      "cell_type": "markdown",
      "metadata": {
        "id": "lTHtqZCVZ4pF"
      },
      "source": [
        "### Local Outlier Factor"
      ]
    },
    {
      "cell_type": "code",
      "metadata": {
        "id": "XzqoKj74Z83c"
      },
      "source": [
        "from sklearn.neighbors import LocalOutlierFactor"
      ],
      "execution_count": null,
      "outputs": []
    },
    {
      "cell_type": "code",
      "metadata": {
        "id": "ZX3GsolNibIM"
      },
      "source": [
        "neighbors=7 #hyperparameter for LOF to decide threshold for being an outlier\n",
        "lof_rus = LocalOutlierFactor(n_neighbors=neighbors, novelty=True)"
      ],
      "execution_count": null,
      "outputs": []
    },
    {
      "cell_type": "code",
      "metadata": {
        "id": "QZ8dv2wvvMTv",
        "outputId": "8a1c48fa-a63e-4b62-88f9-60aef43de0e0",
        "colab": {
          "base_uri": "https://localhost:8080/",
          "height": 68
        }
      },
      "source": [
        "lof_rus.fit(X_train_rs)"
      ],
      "execution_count": null,
      "outputs": [
        {
          "output_type": "execute_result",
          "data": {
            "text/plain": [
              "LocalOutlierFactor(algorithm='auto', contamination='auto', leaf_size=30,\n",
              "                   metric='minkowski', metric_params=None, n_jobs=None,\n",
              "                   n_neighbors=7, novelty=True, p=2)"
            ]
          },
          "metadata": {
            "tags": []
          },
          "execution_count": 65
        }
      ]
    },
    {
      "cell_type": "code",
      "metadata": {
        "id": "80_DQNLklzNH"
      },
      "source": [
        "y_pred = lof_rus.predict(X_test_scaled) #create predictions on the testing data"
      ],
      "execution_count": null,
      "outputs": []
    },
    {
      "cell_type": "markdown",
      "metadata": {
        "id": "Bl92bo0LSSTl"
      },
      "source": [
        "The local forest outlier outputs `1` for \"normal\" (legitimate cases) data points and `-1` for outliers (fraudulent cases). In convention with the data set and to easily compare this prediction to the test set, we perform the following conversion:\n",
        "- `1` set to `0`\n",
        "- `-1` set to `1`"
      ]
    },
    {
      "cell_type": "code",
      "metadata": {
        "id": "1uRVQX6OQLXs"
      },
      "source": [
        "np.place(y_pred, y_pred==1, 0) #replace 1's with 0's"
      ],
      "execution_count": null,
      "outputs": []
    },
    {
      "cell_type": "code",
      "metadata": {
        "id": "vLtEtujJQUut"
      },
      "source": [
        "np.place(y_pred, y_pred==-1, 1) #replace -1's with 1's"
      ],
      "execution_count": null,
      "outputs": []
    },
    {
      "cell_type": "code",
      "metadata": {
        "id": "CpaGb5U17fJT",
        "outputId": "9f7d6ce3-eb3a-4874-ef5a-e79dfdbcc2e3",
        "colab": {
          "base_uri": "https://localhost:8080/",
          "height": 464
        }
      },
      "source": [
        "preds = [sum(y_pred==0), sum(y_pred == 1)]\n",
        "plt.figure(figsize = (7,7))\n",
        "splot = sns.barplot(x = ['Legit','Fraud'], y = preds)\n",
        "plt.title(\"Predictions on test data (Local Outlier Factor, undersampled\")\n",
        "plt.xlabel(\"Predictions\")\n",
        "plt.ylabel(\"Count\")\n",
        "for p in splot.patches:\n",
        "    splot.annotate(format(p.get_height(), '.0f'), \n",
        "                   (p.get_x() + p.get_width() / 2., p.get_height() - 800), \n",
        "                   ha = 'center', va = 'center', \n",
        "                   xytext = (0, 9), \n",
        "                   textcoords = 'offset points')\n",
        "plt.show()"
      ],
      "execution_count": null,
      "outputs": [
        {
          "output_type": "display_data",
          "data": {
            "image/png": "[encoded data removed]",
            "text/plain": [
              "<Figure size 504x504 with 1 Axes>"
            ]
          },
          "metadata": {
            "tags": []
          }
        }
      ]
    },
    {
      "cell_type": "code",
      "metadata": {
        "id": "9vgdam7n6Sap",
        "outputId": "a9ea20ae-25c0-42b7-bb3f-03916e5f79b3",
        "colab": {
          "base_uri": "https://localhost:8080/",
          "height": 170
        }
      },
      "source": [
        "print(classification_report(y_test, y_pred, zero_division=0))"
      ],
      "execution_count": null,
      "outputs": [
        {
          "output_type": "stream",
          "text": [
            "              precision    recall  f1-score   support\n",
            "\n",
            "           0       1.00      0.96      0.98     71079\n",
            "           1       0.00      0.02      0.00       123\n",
            "\n",
            "    accuracy                           0.96     71202\n",
            "   macro avg       0.50      0.49      0.49     71202\n",
            "weighted avg       1.00      0.96      0.98     71202\n",
            "\n"
          ],
          "name": "stdout"
        }
      ]
    },
    {
      "cell_type": "code",
      "metadata": {
        "id": "PUBglT2PV0GN"
      },
      "source": [
        "conf_mat=confusion_matrix(y_test, y_pred)"
      ],
      "execution_count": null,
      "outputs": []
    },
    {
      "cell_type": "code",
      "metadata": {
        "id": "hdJ5-zBm7B_U",
        "outputId": "a3830b5e-954c-465e-e708-f5b49ff79354",
        "colab": {
          "base_uri": "https://localhost:8080/",
          "height": 285
        }
      },
      "source": [
        "plt.figure(figsize=(4, 4))\n",
        "sns.heatmap(conf_mat, square=True, annot=True, fmt='d', cbar=False)\n",
        "plt.xlabel('Predicted label')\n",
        "plt.ylabel('True label')\n",
        "plt.show()"
      ],
      "execution_count": null,
      "outputs": [
        {
          "output_type": "display_data",
          "data": {
            "image/png": "[encoded data removed]",
            "text/plain": [
              "<Figure size 288x288 with 1 Axes>"
            ]
          },
          "metadata": {
            "tags": []
          }
        }
      ]
    },
    {
      "cell_type": "markdown",
      "metadata": {
        "id": "iRjz21THh8bJ"
      },
      "source": [
        "### Isolation Forest"
      ]
    },
    {
      "cell_type": "code",
      "metadata": {
        "id": "Nb8Cy4foCOzB"
      },
      "source": [
        "from sklearn.ensemble import IsolationForest"
      ],
      "execution_count": null,
      "outputs": []
    },
    {
      "cell_type": "markdown",
      "metadata": {
        "id": "TcDl0qSB2PgW"
      },
      "source": [
        "#### Training set"
      ]
    },
    {
      "cell_type": "code",
      "metadata": {
        "id": "mwEEn7FR7Lzj"
      },
      "source": [
        "if_rus = IsolationForest()"
      ],
      "execution_count": null,
      "outputs": []
    },
    {
      "cell_type": "code",
      "metadata": {
        "id": "TP1wDBRmjZ42"
      },
      "source": [
        "y_pred_train = if_rus.fit_predict(X_train_rs)"
      ],
      "execution_count": null,
      "outputs": []
    },
    {
      "cell_type": "code",
      "metadata": {
        "id": "146R-Ngnsdj8"
      },
      "source": [
        "np.place(y_pred_train, y_pred_train == 1, 0)"
      ],
      "execution_count": null,
      "outputs": []
    },
    {
      "cell_type": "code",
      "metadata": {
        "id": "GaE8AzUIsdkG"
      },
      "source": [
        "np.place(y_pred_train, y_pred_train == -1, 1)"
      ],
      "execution_count": null,
      "outputs": []
    },
    {
      "cell_type": "code",
      "metadata": {
        "id": "anaCf5STvfFd",
        "outputId": "6cdec449-0e15-4fbf-ff50-15a96b5aa8c3",
        "colab": {
          "base_uri": "https://localhost:8080/",
          "height": 464
        }
      },
      "source": [
        "#count how many transactions were predicted to be legit and how many predicted fraud\n",
        "preds = [sum(y_pred_train == 0), sum(y_pred_train == 1)]\n",
        "plt.figure(figsize = (7,7))\n",
        "#create a barplot to visualize prediction count\n",
        "splot = sns.barplot(x = ['Legit','Fraud'], y = preds)\n",
        "plt.title(\"Predictions on train data (Isolation Forest, undersampled)\")\n",
        "plt.xlabel(\"Predictions\")\n",
        "plt.ylabel(\"Count\")\n",
        "\n",
        "# adds numbers above each bar\n",
        "for p in splot.patches:\n",
        "    splot.annotate(format(p.get_height(), '.0f'), \n",
        "                   (p.get_x() + p.get_width() / 2., p.get_height()), \n",
        "                   ha = 'center', va = 'center', \n",
        "                   xytext = (0, 9), \n",
        "                   textcoords = 'offset points')\n",
        "plt.show()"
      ],
      "execution_count": null,
      "outputs": [
        {
          "output_type": "display_data",
          "data": {
            "image/png": "[encoded data removed]",
            "text/plain": [
              "<Figure size 504x504 with 1 Axes>"
            ]
          },
          "metadata": {
            "tags": []
          }
        }
      ]
    },
    {
      "cell_type": "code",
      "metadata": {
        "id": "0hRfGyKbve-h",
        "outputId": "e77f4454-175c-4d1a-8c84-db8f1c0c8958",
        "colab": {
          "base_uri": "https://localhost:8080/",
          "height": 170
        }
      },
      "source": [
        "print(classification_report(y_train_rs, y_pred_train, zero_division=0))"
      ],
      "execution_count": null,
      "outputs": [
        {
          "output_type": "stream",
          "text": [
            "              precision    recall  f1-score   support\n",
            "\n",
            "           0       0.56      0.98      0.71       369\n",
            "           1       0.92      0.22      0.36       369\n",
            "\n",
            "    accuracy                           0.60       738\n",
            "   macro avg       0.74      0.60      0.53       738\n",
            "weighted avg       0.74      0.60      0.53       738\n",
            "\n"
          ],
          "name": "stdout"
        }
      ]
    },
    {
      "cell_type": "code",
      "metadata": {
        "id": "F8Kusujfvvwm"
      },
      "source": [
        "conf_mat=confusion_matrix(y_train_rs, y_pred_train)"
      ],
      "execution_count": null,
      "outputs": []
    },
    {
      "cell_type": "code",
      "metadata": {
        "id": "1JHjbxiAvvww",
        "outputId": "4007eef2-98ab-43a2-d88f-9caf49814ac8",
        "colab": {
          "base_uri": "https://localhost:8080/",
          "height": 316
        }
      },
      "source": [
        "plt.figure(figsize=(4, 4))\n",
        "sns.heatmap(conf_mat, square=True, annot=True, fmt='d', cbar=False)\n",
        "plt.title(\"Confusion matrix - train set \\nIsolation forest - undersampling\")\n",
        "plt.xlabel('Predicted label')\n",
        "plt.ylabel('True label')\n",
        "plt.show()"
      ],
      "execution_count": null,
      "outputs": [
        {
          "output_type": "display_data",
          "data": {
            "image/png": "[encoded data removed]",
            "text/plain": [
              "<Figure size 288x288 with 1 Axes>"
            ]
          },
          "metadata": {
            "tags": []
          }
        }
      ]
    },
    {
      "cell_type": "markdown",
      "metadata": {
        "id": "HA-0RIT82SzC"
      },
      "source": [
        "#### Testing set"
      ]
    },
    {
      "cell_type": "code",
      "metadata": {
        "id": "91n3dLTVvopU"
      },
      "source": [
        "y_pred_if = if_rus.fit(X_train_scaled)"
      ],
      "execution_count": null,
      "outputs": []
    },
    {
      "cell_type": "code",
      "metadata": {
        "id": "8SrQ4ejYjc1N"
      },
      "source": [
        "y_pred_if = if_rus.predict(X_test_scaled)"
      ],
      "execution_count": null,
      "outputs": []
    },
    {
      "cell_type": "code",
      "metadata": {
        "id": "0znOQkNSjiNR",
        "outputId": "01497fee-f4cf-4ee1-f31d-f63c05bed4c5",
        "colab": {
          "base_uri": "https://localhost:8080/",
          "height": 34
        }
      },
      "source": [
        "y_pred_if"
      ],
      "execution_count": null,
      "outputs": [
        {
          "output_type": "execute_result",
          "data": {
            "text/plain": [
              "array([1, 1, 1, ..., 1, 1, 1])"
            ]
          },
          "metadata": {
            "tags": []
          },
          "execution_count": 61
        }
      ]
    },
    {
      "cell_type": "code",
      "metadata": {
        "id": "9UHWeTAkjvGh"
      },
      "source": [
        "np.place(y_pred_if, y_pred_if == 1, 0)"
      ],
      "execution_count": null,
      "outputs": []
    },
    {
      "cell_type": "code",
      "metadata": {
        "id": "6tmbj4NijvGp"
      },
      "source": [
        "np.place(y_pred_if, y_pred_if == -1, 1)"
      ],
      "execution_count": null,
      "outputs": []
    },
    {
      "cell_type": "code",
      "metadata": {
        "id": "sMMynCy_jzdj",
        "outputId": "c784177c-413b-4fcb-f2a6-f56e8670f9fa",
        "colab": {
          "base_uri": "https://localhost:8080/",
          "height": 464
        }
      },
      "source": [
        "#count how many transactions were predicted to be legit and how many predicted fraud\n",
        "preds = [sum(y_pred_if == 0), sum(y_pred_if == 1)]\n",
        "plt.figure(figsize = (7,7))\n",
        "#create a barplot to visualize prediction count\n",
        "splot = sns.barplot(x = ['Legit','Fraud'], y = preds)\n",
        "plt.title(\"Predictions on test data (Isolation Forest, undersampled)\")\n",
        "plt.xlabel(\"Predictions\")\n",
        "plt.ylabel(\"Count\")\n",
        "\n",
        "# adds numbers above each bar\n",
        "for p in splot.patches:\n",
        "    splot.annotate(format(p.get_height(), '.0f'), \n",
        "                   (p.get_x() + p.get_width() / 2., p.get_height() - 200), \n",
        "                   ha = 'center', va = 'center', \n",
        "                   xytext = (0, 9), \n",
        "                   textcoords = 'offset points')\n",
        "plt.show()"
      ],
      "execution_count": null,
      "outputs": [
        {
          "output_type": "display_data",
          "data": {
            "image/png": "[encoded data removed]",
            "text/plain": [
              "<Figure size 504x504 with 1 Axes>"
            ]
          },
          "metadata": {
            "tags": []
          }
        }
      ]
    },
    {
      "cell_type": "code",
      "metadata": {
        "id": "mJX3xXx_25n2"
      },
      "source": [
        "from sklearn.metrics import balanced_accuracy_score"
      ],
      "execution_count": null,
      "outputs": []
    },
    {
      "cell_type": "code",
      "metadata": {
        "id": "hJMHRbkYj9a4",
        "outputId": "00fbcaa3-442e-4259-c4c6-0d4c06a50114",
        "colab": {
          "base_uri": "https://localhost:8080/",
          "height": 187
        }
      },
      "source": [
        "print(classification_report(y_test, y_pred_if, zero_division=0, digits=2))\n",
        "print(\"Balanced accuracy:\",balanced_accuracy_score(y_test, y_pred_if))"
      ],
      "execution_count": null,
      "outputs": [
        {
          "output_type": "stream",
          "text": [
            "              precision    recall  f1-score   support\n",
            "\n",
            "           0       1.00      0.96      0.98     71079\n",
            "           1       0.04      0.82      0.07       123\n",
            "\n",
            "    accuracy                           0.96     71202\n",
            "   macro avg       0.52      0.89      0.53     71202\n",
            "weighted avg       1.00      0.96      0.98     71202\n",
            "\n",
            "Balanced accuracy: 0.891878634525171\n"
          ],
          "name": "stdout"
        }
      ]
    },
    {
      "cell_type": "code",
      "metadata": {
        "id": "-2GS7gyRj9bA"
      },
      "source": [
        "conf_mat=confusion_matrix(y_test, y_pred_if)"
      ],
      "execution_count": null,
      "outputs": []
    },
    {
      "cell_type": "code",
      "metadata": {
        "id": "d77XwAFFj9bB",
        "outputId": "4ffc4f69-3777-4f59-9260-68ba52e30f35",
        "colab": {
          "base_uri": "https://localhost:8080/",
          "height": 316
        }
      },
      "source": [
        "plt.figure(figsize=(4, 4))\n",
        "sns.heatmap(conf_mat, square=True, annot=True, fmt='d', cbar=False)\n",
        "plt.title(\"Confusion matrix - test set\\nIsolation forest - undersampling\")\n",
        "plt.xlabel('Predicted label')\n",
        "plt.ylabel('True label')\n",
        "plt.show()"
      ],
      "execution_count": null,
      "outputs": [
        {
          "output_type": "display_data",
          "data": {
            "image/png": "[encoded data removed]",
            "text/plain": [
              "<Figure size 288x288 with 1 Axes>"
            ]
          },
          "metadata": {
            "tags": []
          }
        }
      ]
    },
    {
      "cell_type": "markdown",
      "metadata": {
        "id": "2feFn3iflWR9"
      },
      "source": [
        "While we do have a marked improvement over the local outlier factor, we still have a handful of fraudulent transactions being classified as legit - about 100 of the 123 fraudulent transactions were correctly identified. Undersampling seems to be helping, but making it a perfect 50/50 split between legit and fraud may be causing the model to overestimate the prevalence of fraud, as a handful of legit ones are being classified as fraud."
      ]
    },
    {
      "cell_type": "markdown",
      "metadata": {
        "id": "DmLp8h7EGud7"
      },
      "source": [
        "## CatBoost"
      ]
    },
    {
      "cell_type": "markdown",
      "metadata": {
        "id": "JSQR7-CxG3_l"
      },
      "source": [
        "[CatBoost](https://catboost.ai/) boasts both a great reduction in computation time and improved decision tree performance.\n"
      ]
    },
    {
      "cell_type": "code",
      "metadata": {
        "id": "Jhxu-nTYGwMc",
        "outputId": "4e947755-7b99-4864-a042-5513dd3f6de2",
        "colab": {
          "base_uri": "https://localhost:8080/",
          "height": 323
        }
      },
      "source": [
        "pip install catboost"
      ],
      "execution_count": null,
      "outputs": [
        {
          "output_type": "stream",
          "text": [
            "Collecting catboost\n",
            "\u001b[?25l  Downloading https://files.pythonhosted.org/packages/52/39/128fff65072c8327371e3c594f3c826d29c85b21cb6485980353b168e0e4/catboost-0.24.2-cp36-none-manylinux1_x86_64.whl (66.1MB)\n",
            "\u001b[K     |████████████████████████████████| 66.2MB 46kB/s \n",
            "\u001b[?25hRequirement already satisfied: pandas>=0.24.0 in /usr/local/lib/python3.6/dist-packages (from catboost) (1.1.2)\n",
            "Requirement already satisfied: six in /usr/local/lib/python3.6/dist-packages (from catboost) (1.15.0)\n",
            "Requirement already satisfied: plotly in /usr/local/lib/python3.6/dist-packages (from catboost) (4.4.1)\n",
            "Requirement already satisfied: numpy>=1.16.0 in /usr/local/lib/python3.6/dist-packages (from catboost) (1.18.5)\n",
            "Requirement already satisfied: graphviz in /usr/local/lib/python3.6/dist-packages (from catboost) (0.10.1)\n",
            "Requirement already satisfied: matplotlib in /usr/local/lib/python3.6/dist-packages (from catboost) (3.2.2)\n",
            "Requirement already satisfied: scipy in /usr/local/lib/python3.6/dist-packages (from catboost) (1.4.1)\n",
            "Requirement already satisfied: pytz>=2017.2 in /usr/local/lib/python3.6/dist-packages (from pandas>=0.24.0->catboost) (2018.9)\n",
            "Requirement already satisfied: python-dateutil>=2.7.3 in /usr/local/lib/python3.6/dist-packages (from pandas>=0.24.0->catboost) (2.8.1)\n",
            "Requirement already satisfied: retrying>=1.3.3 in /usr/local/lib/python3.6/dist-packages (from plotly->catboost) (1.3.3)\n",
            "Requirement already satisfied: cycler>=0.10 in /usr/local/lib/python3.6/dist-packages (from matplotlib->catboost) (0.10.0)\n",
            "Requirement already satisfied: pyparsing!=2.0.4,!=2.1.2,!=2.1.6,>=2.0.1 in /usr/local/lib/python3.6/dist-packages (from matplotlib->catboost) (2.4.7)\n",
            "Requirement already satisfied: kiwisolver>=1.0.1 in /usr/local/lib/python3.6/dist-packages (from matplotlib->catboost) (1.2.0)\n",
            "Installing collected packages: catboost\n",
            "Successfully installed catboost-0.24.2\n"
          ],
          "name": "stdout"
        }
      ]
    },
    {
      "cell_type": "code",
      "metadata": {
        "id": "cWk9J7tKGv6D"
      },
      "source": [
        "from catboost import CatBoostClassifier"
      ],
      "execution_count": null,
      "outputs": []
    },
    {
      "cell_type": "markdown",
      "metadata": {
        "id": "A3h7pduBAlC9"
      },
      "source": [
        "We adjust the class weights so the model learns that fraudulent transactions are more costly than legitimate ones. The costs incurred from a fraudulent transaction misclassified as legitimate are much higher than a legit one classified as fraud."
      ]
    },
    {
      "cell_type": "code",
      "metadata": {
        "id": "0URnFqdpHcRs"
      },
      "source": [
        "cbc = CatBoostClassifier(class_weights=[1, 10])"
      ],
      "execution_count": null,
      "outputs": []
    },
    {
      "cell_type": "markdown",
      "metadata": {
        "id": "asI3Mojyqolg"
      },
      "source": [
        "### Fitting the model"
      ]
    },
    {
      "cell_type": "code",
      "metadata": {
        "id": "8giSmW9JGv8n",
        "outputId": "5b45766c-b51a-49a1-d8f7-d1c5c49383d3",
        "colab": {
          "base_uri": "https://localhost:8080/",
          "height": 1000
        }
      },
      "source": [
        "cbc.fit(X_train_rs, y_train_rs)"
      ],
      "execution_count": null,
      "outputs": [
        {
          "output_type": "stream",
          "text": [
            "Learning rate set to 0.009049\n",
            "0:\tlearn: 0.6808937\ttotal: 7.46ms\tremaining: 7.46s\n",
            "1:\tlearn: 0.6649987\ttotal: 14ms\tremaining: 6.99s\n",
            "2:\tlearn: 0.6486871\ttotal: 20.4ms\tremaining: 6.79s\n",
            "3:\tlearn: 0.6370938\ttotal: 27ms\tremaining: 6.72s\n",
            "4:\tlearn: 0.6230203\ttotal: 34.1ms\tremaining: 6.79s\n",
            "5:\tlearn: 0.6084316\ttotal: 41.2ms\tremaining: 6.82s\n",
            "6:\tlearn: 0.5963027\ttotal: 49.1ms\tremaining: 6.97s\n",
            "7:\tlearn: 0.5802690\ttotal: 57ms\tremaining: 7.06s\n",
            "8:\tlearn: 0.5685000\ttotal: 64.8ms\tremaining: 7.14s\n",
            "9:\tlearn: 0.5563935\ttotal: 72.7ms\tremaining: 7.2s\n",
            "10:\tlearn: 0.5437311\ttotal: 80.4ms\tremaining: 7.23s\n",
            "11:\tlearn: 0.5338627\ttotal: 88.1ms\tremaining: 7.25s\n",
            "12:\tlearn: 0.5241687\ttotal: 95.9ms\tremaining: 7.28s\n",
            "13:\tlearn: 0.5135766\ttotal: 104ms\tremaining: 7.3s\n",
            "14:\tlearn: 0.5013493\ttotal: 116ms\tremaining: 7.61s\n",
            "15:\tlearn: 0.4926088\ttotal: 126ms\tremaining: 7.78s\n",
            "16:\tlearn: 0.4834320\ttotal: 134ms\tremaining: 7.76s\n",
            "17:\tlearn: 0.4707328\ttotal: 142ms\tremaining: 7.75s\n",
            "18:\tlearn: 0.4625178\ttotal: 149ms\tremaining: 7.7s\n",
            "19:\tlearn: 0.4555458\ttotal: 156ms\tremaining: 7.62s\n",
            "20:\tlearn: 0.4457867\ttotal: 162ms\tremaining: 7.55s\n",
            "21:\tlearn: 0.4388496\ttotal: 168ms\tremaining: 7.48s\n",
            "22:\tlearn: 0.4295436\ttotal: 175ms\tremaining: 7.42s\n",
            "23:\tlearn: 0.4215386\ttotal: 181ms\tremaining: 7.37s\n",
            "24:\tlearn: 0.4131337\ttotal: 188ms\tremaining: 7.33s\n",
            "25:\tlearn: 0.4035072\ttotal: 194ms\tremaining: 7.28s\n",
            "26:\tlearn: 0.3977934\ttotal: 203ms\tremaining: 7.33s\n",
            "27:\tlearn: 0.3905606\ttotal: 210ms\tremaining: 7.29s\n",
            "28:\tlearn: 0.3811028\ttotal: 216ms\tremaining: 7.24s\n",
            "29:\tlearn: 0.3758831\ttotal: 223ms\tremaining: 7.2s\n",
            "30:\tlearn: 0.3677742\ttotal: 229ms\tremaining: 7.16s\n",
            "31:\tlearn: 0.3615602\ttotal: 236ms\tremaining: 7.13s\n",
            "32:\tlearn: 0.3555043\ttotal: 242ms\tremaining: 7.09s\n",
            "33:\tlearn: 0.3490262\ttotal: 248ms\tremaining: 7.05s\n",
            "34:\tlearn: 0.3445807\ttotal: 256ms\tremaining: 7.06s\n",
            "35:\tlearn: 0.3414055\ttotal: 263ms\tremaining: 7.03s\n",
            "36:\tlearn: 0.3362741\ttotal: 269ms\tremaining: 7s\n",
            "37:\tlearn: 0.3298525\ttotal: 276ms\tremaining: 6.97s\n",
            "38:\tlearn: 0.3242798\ttotal: 282ms\tremaining: 6.95s\n",
            "39:\tlearn: 0.3177458\ttotal: 290ms\tremaining: 6.96s\n",
            "40:\tlearn: 0.3137317\ttotal: 296ms\tremaining: 6.93s\n",
            "41:\tlearn: 0.3093127\ttotal: 303ms\tremaining: 6.9s\n",
            "42:\tlearn: 0.3037368\ttotal: 309ms\tremaining: 6.88s\n",
            "43:\tlearn: 0.2991901\ttotal: 316ms\tremaining: 6.86s\n",
            "44:\tlearn: 0.2951981\ttotal: 322ms\tremaining: 6.83s\n",
            "45:\tlearn: 0.2906356\ttotal: 328ms\tremaining: 6.81s\n",
            "46:\tlearn: 0.2855847\ttotal: 335ms\tremaining: 6.79s\n",
            "47:\tlearn: 0.2807346\ttotal: 341ms\tremaining: 6.76s\n",
            "48:\tlearn: 0.2780926\ttotal: 348ms\tremaining: 6.75s\n",
            "49:\tlearn: 0.2738552\ttotal: 354ms\tremaining: 6.72s\n",
            "50:\tlearn: 0.2702522\ttotal: 360ms\tremaining: 6.71s\n",
            "51:\tlearn: 0.2661699\ttotal: 367ms\tremaining: 6.7s\n",
            "52:\tlearn: 0.2622653\ttotal: 374ms\tremaining: 6.68s\n",
            "53:\tlearn: 0.2589870\ttotal: 381ms\tremaining: 6.67s\n",
            "54:\tlearn: 0.2559488\ttotal: 387ms\tremaining: 6.66s\n",
            "55:\tlearn: 0.2520420\ttotal: 394ms\tremaining: 6.65s\n",
            "56:\tlearn: 0.2495298\ttotal: 401ms\tremaining: 6.63s\n",
            "57:\tlearn: 0.2453404\ttotal: 411ms\tremaining: 6.67s\n",
            "58:\tlearn: 0.2420050\ttotal: 418ms\tremaining: 6.66s\n",
            "59:\tlearn: 0.2394274\ttotal: 424ms\tremaining: 6.64s\n",
            "60:\tlearn: 0.2364481\ttotal: 431ms\tremaining: 6.63s\n",
            "61:\tlearn: 0.2343451\ttotal: 437ms\tremaining: 6.61s\n",
            "62:\tlearn: 0.2317170\ttotal: 443ms\tremaining: 6.59s\n",
            "63:\tlearn: 0.2282192\ttotal: 450ms\tremaining: 6.58s\n",
            "64:\tlearn: 0.2254365\ttotal: 458ms\tremaining: 6.58s\n",
            "65:\tlearn: 0.2227033\ttotal: 464ms\tremaining: 6.57s\n",
            "66:\tlearn: 0.2191997\ttotal: 471ms\tremaining: 6.55s\n",
            "67:\tlearn: 0.2161595\ttotal: 477ms\tremaining: 6.54s\n",
            "68:\tlearn: 0.2128444\ttotal: 484ms\tremaining: 6.53s\n",
            "69:\tlearn: 0.2101942\ttotal: 492ms\tremaining: 6.54s\n",
            "70:\tlearn: 0.2076891\ttotal: 499ms\tremaining: 6.53s\n",
            "71:\tlearn: 0.2059257\ttotal: 505ms\tremaining: 6.51s\n",
            "72:\tlearn: 0.2040013\ttotal: 512ms\tremaining: 6.5s\n",
            "73:\tlearn: 0.2014967\ttotal: 518ms\tremaining: 6.48s\n",
            "74:\tlearn: 0.1994990\ttotal: 524ms\tremaining: 6.47s\n",
            "75:\tlearn: 0.1977352\ttotal: 531ms\tremaining: 6.45s\n",
            "76:\tlearn: 0.1954619\ttotal: 537ms\tremaining: 6.44s\n",
            "77:\tlearn: 0.1934100\ttotal: 543ms\tremaining: 6.42s\n",
            "78:\tlearn: 0.1911799\ttotal: 550ms\tremaining: 6.41s\n",
            "79:\tlearn: 0.1896553\ttotal: 556ms\tremaining: 6.39s\n",
            "80:\tlearn: 0.1872876\ttotal: 563ms\tremaining: 6.38s\n",
            "81:\tlearn: 0.1848061\ttotal: 569ms\tremaining: 6.37s\n",
            "82:\tlearn: 0.1831949\ttotal: 576ms\tremaining: 6.36s\n",
            "83:\tlearn: 0.1813031\ttotal: 582ms\tremaining: 6.34s\n",
            "84:\tlearn: 0.1795297\ttotal: 588ms\tremaining: 6.33s\n",
            "85:\tlearn: 0.1771893\ttotal: 595ms\tremaining: 6.32s\n",
            "86:\tlearn: 0.1760164\ttotal: 601ms\tremaining: 6.31s\n",
            "87:\tlearn: 0.1751870\ttotal: 607ms\tremaining: 6.29s\n",
            "88:\tlearn: 0.1740864\ttotal: 617ms\tremaining: 6.31s\n",
            "89:\tlearn: 0.1727504\ttotal: 623ms\tremaining: 6.3s\n",
            "90:\tlearn: 0.1705096\ttotal: 630ms\tremaining: 6.29s\n",
            "91:\tlearn: 0.1696256\ttotal: 636ms\tremaining: 6.28s\n",
            "92:\tlearn: 0.1680374\ttotal: 643ms\tremaining: 6.27s\n",
            "93:\tlearn: 0.1668539\ttotal: 649ms\tremaining: 6.26s\n",
            "94:\tlearn: 0.1655898\ttotal: 656ms\tremaining: 6.25s\n",
            "95:\tlearn: 0.1645501\ttotal: 664ms\tremaining: 6.25s\n",
            "96:\tlearn: 0.1632618\ttotal: 673ms\tremaining: 6.26s\n",
            "97:\tlearn: 0.1620771\ttotal: 687ms\tremaining: 6.32s\n",
            "98:\tlearn: 0.1606751\ttotal: 693ms\tremaining: 6.31s\n",
            "99:\tlearn: 0.1589778\ttotal: 700ms\tremaining: 6.3s\n",
            "100:\tlearn: 0.1577603\ttotal: 706ms\tremaining: 6.29s\n",
            "101:\tlearn: 0.1565511\ttotal: 713ms\tremaining: 6.27s\n",
            "102:\tlearn: 0.1548766\ttotal: 719ms\tremaining: 6.26s\n",
            "103:\tlearn: 0.1533767\ttotal: 725ms\tremaining: 6.25s\n",
            "104:\tlearn: 0.1525063\ttotal: 732ms\tremaining: 6.24s\n",
            "105:\tlearn: 0.1514659\ttotal: 738ms\tremaining: 6.22s\n",
            "106:\tlearn: 0.1507610\ttotal: 744ms\tremaining: 6.21s\n",
            "107:\tlearn: 0.1496837\ttotal: 750ms\tremaining: 6.2s\n",
            "108:\tlearn: 0.1486487\ttotal: 757ms\tremaining: 6.19s\n",
            "109:\tlearn: 0.1478670\ttotal: 764ms\tremaining: 6.18s\n",
            "110:\tlearn: 0.1463581\ttotal: 770ms\tremaining: 6.17s\n",
            "111:\tlearn: 0.1452917\ttotal: 777ms\tremaining: 6.16s\n",
            "112:\tlearn: 0.1438243\ttotal: 783ms\tremaining: 6.15s\n",
            "113:\tlearn: 0.1426239\ttotal: 790ms\tremaining: 6.14s\n",
            "114:\tlearn: 0.1414584\ttotal: 796ms\tremaining: 6.13s\n",
            "115:\tlearn: 0.1403283\ttotal: 803ms\tremaining: 6.12s\n",
            "116:\tlearn: 0.1391976\ttotal: 809ms\tremaining: 6.11s\n",
            "117:\tlearn: 0.1379480\ttotal: 816ms\tremaining: 6.1s\n",
            "118:\tlearn: 0.1367950\ttotal: 826ms\tremaining: 6.11s\n",
            "119:\tlearn: 0.1359631\ttotal: 832ms\tremaining: 6.1s\n",
            "120:\tlearn: 0.1351804\ttotal: 839ms\tremaining: 6.09s\n",
            "121:\tlearn: 0.1343988\ttotal: 845ms\tremaining: 6.08s\n",
            "122:\tlearn: 0.1337380\ttotal: 852ms\tremaining: 6.07s\n",
            "123:\tlearn: 0.1327890\ttotal: 858ms\tremaining: 6.06s\n",
            "124:\tlearn: 0.1317220\ttotal: 864ms\tremaining: 6.05s\n",
            "125:\tlearn: 0.1306971\ttotal: 871ms\tremaining: 6.04s\n",
            "126:\tlearn: 0.1295329\ttotal: 885ms\tremaining: 6.08s\n",
            "127:\tlearn: 0.1283017\ttotal: 892ms\tremaining: 6.08s\n",
            "128:\tlearn: 0.1271162\ttotal: 899ms\tremaining: 6.07s\n",
            "129:\tlearn: 0.1259907\ttotal: 905ms\tremaining: 6.06s\n",
            "130:\tlearn: 0.1249041\ttotal: 912ms\tremaining: 6.05s\n",
            "131:\tlearn: 0.1242281\ttotal: 919ms\tremaining: 6.04s\n",
            "132:\tlearn: 0.1232360\ttotal: 925ms\tremaining: 6.03s\n",
            "133:\tlearn: 0.1225563\ttotal: 932ms\tremaining: 6.02s\n",
            "134:\tlearn: 0.1217639\ttotal: 938ms\tremaining: 6.01s\n",
            "135:\tlearn: 0.1208792\ttotal: 945ms\tremaining: 6s\n",
            "136:\tlearn: 0.1203699\ttotal: 951ms\tremaining: 5.99s\n",
            "137:\tlearn: 0.1197119\ttotal: 958ms\tremaining: 5.98s\n",
            "138:\tlearn: 0.1186949\ttotal: 964ms\tremaining: 5.97s\n",
            "139:\tlearn: 0.1179200\ttotal: 971ms\tremaining: 5.96s\n",
            "140:\tlearn: 0.1170561\ttotal: 978ms\tremaining: 5.96s\n",
            "141:\tlearn: 0.1163865\ttotal: 985ms\tremaining: 5.95s\n",
            "142:\tlearn: 0.1158961\ttotal: 992ms\tremaining: 5.94s\n",
            "143:\tlearn: 0.1150032\ttotal: 998ms\tremaining: 5.93s\n",
            "144:\tlearn: 0.1140584\ttotal: 1s\tremaining: 5.92s\n",
            "145:\tlearn: 0.1135955\ttotal: 1.01s\tremaining: 5.92s\n",
            "146:\tlearn: 0.1131343\ttotal: 1.02s\tremaining: 5.92s\n",
            "147:\tlearn: 0.1126366\ttotal: 1.03s\tremaining: 5.91s\n",
            "148:\tlearn: 0.1117150\ttotal: 1.03s\tremaining: 5.9s\n",
            "149:\tlearn: 0.1111274\ttotal: 1.04s\tremaining: 5.89s\n",
            "150:\tlearn: 0.1104480\ttotal: 1.05s\tremaining: 5.88s\n",
            "151:\tlearn: 0.1099623\ttotal: 1.05s\tremaining: 5.87s\n",
            "152:\tlearn: 0.1092487\ttotal: 1.06s\tremaining: 5.86s\n",
            "153:\tlearn: 0.1086590\ttotal: 1.06s\tremaining: 5.86s\n",
            "154:\tlearn: 0.1082227\ttotal: 1.07s\tremaining: 5.85s\n",
            "155:\tlearn: 0.1076306\ttotal: 1.08s\tremaining: 5.84s\n",
            "156:\tlearn: 0.1071937\ttotal: 1.08s\tremaining: 5.83s\n",
            "157:\tlearn: 0.1066336\ttotal: 1.09s\tremaining: 5.82s\n",
            "158:\tlearn: 0.1061589\ttotal: 1.1s\tremaining: 5.81s\n",
            "159:\tlearn: 0.1053418\ttotal: 1.1s\tremaining: 5.8s\n",
            "160:\tlearn: 0.1045841\ttotal: 1.12s\tremaining: 5.82s\n",
            "161:\tlearn: 0.1040892\ttotal: 1.12s\tremaining: 5.82s\n",
            "162:\tlearn: 0.1034447\ttotal: 1.13s\tremaining: 5.81s\n",
            "163:\tlearn: 0.1029300\ttotal: 1.14s\tremaining: 5.8s\n",
            "164:\tlearn: 0.1023947\ttotal: 1.14s\tremaining: 5.79s\n",
            "165:\tlearn: 0.1018670\ttotal: 1.15s\tremaining: 5.78s\n",
            "166:\tlearn: 0.1014040\ttotal: 1.16s\tremaining: 5.77s\n",
            "167:\tlearn: 0.1009199\ttotal: 1.16s\tremaining: 5.76s\n",
            "168:\tlearn: 0.1004981\ttotal: 1.17s\tremaining: 5.75s\n",
            "169:\tlearn: 0.0998507\ttotal: 1.18s\tremaining: 5.74s\n",
            "170:\tlearn: 0.0993407\ttotal: 1.18s\tremaining: 5.73s\n",
            "171:\tlearn: 0.0988226\ttotal: 1.19s\tremaining: 5.72s\n",
            "172:\tlearn: 0.0982520\ttotal: 1.2s\tremaining: 5.72s\n",
            "173:\tlearn: 0.0979051\ttotal: 1.2s\tremaining: 5.71s\n",
            "174:\tlearn: 0.0974665\ttotal: 1.21s\tremaining: 5.7s\n",
            "175:\tlearn: 0.0972181\ttotal: 1.21s\tremaining: 5.69s\n",
            "176:\tlearn: 0.0967796\ttotal: 1.22s\tremaining: 5.69s\n",
            "177:\tlearn: 0.0961646\ttotal: 1.23s\tremaining: 5.68s\n",
            "178:\tlearn: 0.0958072\ttotal: 1.24s\tremaining: 5.67s\n",
            "179:\tlearn: 0.0954050\ttotal: 1.24s\tremaining: 5.66s\n",
            "180:\tlearn: 0.0950247\ttotal: 1.25s\tremaining: 5.65s\n",
            "181:\tlearn: 0.0944808\ttotal: 1.25s\tremaining: 5.64s\n",
            "182:\tlearn: 0.0940393\ttotal: 1.26s\tremaining: 5.64s\n",
            "183:\tlearn: 0.0936982\ttotal: 1.27s\tremaining: 5.63s\n",
            "184:\tlearn: 0.0931360\ttotal: 1.27s\tremaining: 5.62s\n",
            "185:\tlearn: 0.0925758\ttotal: 1.28s\tremaining: 5.61s\n",
            "186:\tlearn: 0.0921747\ttotal: 1.29s\tremaining: 5.6s\n",
            "187:\tlearn: 0.0918654\ttotal: 1.29s\tremaining: 5.59s\n",
            "188:\tlearn: 0.0915091\ttotal: 1.3s\tremaining: 5.58s\n",
            "189:\tlearn: 0.0911248\ttotal: 1.31s\tremaining: 5.58s\n",
            "190:\tlearn: 0.0906346\ttotal: 1.31s\tremaining: 5.57s\n",
            "191:\tlearn: 0.0902332\ttotal: 1.32s\tremaining: 5.56s\n",
            "192:\tlearn: 0.0897580\ttotal: 1.33s\tremaining: 5.55s\n",
            "193:\tlearn: 0.0893390\ttotal: 1.33s\tremaining: 5.55s\n",
            "194:\tlearn: 0.0888741\ttotal: 1.34s\tremaining: 5.54s\n",
            "195:\tlearn: 0.0884126\ttotal: 1.35s\tremaining: 5.53s\n",
            "196:\tlearn: 0.0882406\ttotal: 1.35s\tremaining: 5.52s\n",
            "197:\tlearn: 0.0878358\ttotal: 1.36s\tremaining: 5.51s\n",
            "198:\tlearn: 0.0874644\ttotal: 1.37s\tremaining: 5.5s\n",
            "199:\tlearn: 0.0870788\ttotal: 1.38s\tremaining: 5.51s\n",
            "200:\tlearn: 0.0866998\ttotal: 1.38s\tremaining: 5.5s\n",
            "201:\tlearn: 0.0863793\ttotal: 1.39s\tremaining: 5.49s\n",
            "202:\tlearn: 0.0859946\ttotal: 1.4s\tremaining: 5.49s\n",
            "203:\tlearn: 0.0855877\ttotal: 1.4s\tremaining: 5.48s\n",
            "204:\tlearn: 0.0852455\ttotal: 1.41s\tremaining: 5.47s\n",
            "205:\tlearn: 0.0849230\ttotal: 1.42s\tremaining: 5.46s\n",
            "206:\tlearn: 0.0847345\ttotal: 1.43s\tremaining: 5.47s\n",
            "207:\tlearn: 0.0843284\ttotal: 1.43s\tremaining: 5.46s\n",
            "208:\tlearn: 0.0839347\ttotal: 1.44s\tremaining: 5.45s\n",
            "209:\tlearn: 0.0837121\ttotal: 1.45s\tremaining: 5.44s\n",
            "210:\tlearn: 0.0832984\ttotal: 1.45s\tremaining: 5.43s\n",
            "211:\tlearn: 0.0831877\ttotal: 1.46s\tremaining: 5.42s\n",
            "212:\tlearn: 0.0828896\ttotal: 1.47s\tremaining: 5.42s\n",
            "213:\tlearn: 0.0827012\ttotal: 1.47s\tremaining: 5.41s\n",
            "214:\tlearn: 0.0824735\ttotal: 1.48s\tremaining: 5.4s\n",
            "215:\tlearn: 0.0821385\ttotal: 1.49s\tremaining: 5.39s\n",
            "216:\tlearn: 0.0819231\ttotal: 1.49s\tremaining: 5.38s\n",
            "217:\tlearn: 0.0816768\ttotal: 1.5s\tremaining: 5.37s\n",
            "218:\tlearn: 0.0813015\ttotal: 1.5s\tremaining: 5.36s\n",
            "219:\tlearn: 0.0809599\ttotal: 1.51s\tremaining: 5.36s\n",
            "220:\tlearn: 0.0808114\ttotal: 1.52s\tremaining: 5.35s\n",
            "221:\tlearn: 0.0805814\ttotal: 1.52s\tremaining: 5.34s\n",
            "222:\tlearn: 0.0804442\ttotal: 1.53s\tremaining: 5.33s\n",
            "223:\tlearn: 0.0801339\ttotal: 1.54s\tremaining: 5.32s\n",
            "224:\tlearn: 0.0798941\ttotal: 1.54s\tremaining: 5.31s\n",
            "225:\tlearn: 0.0795469\ttotal: 1.55s\tremaining: 5.31s\n",
            "226:\tlearn: 0.0791680\ttotal: 1.56s\tremaining: 5.3s\n",
            "227:\tlearn: 0.0789059\ttotal: 1.56s\tremaining: 5.29s\n",
            "228:\tlearn: 0.0786457\ttotal: 1.57s\tremaining: 5.29s\n",
            "229:\tlearn: 0.0783396\ttotal: 1.58s\tremaining: 5.28s\n",
            "230:\tlearn: 0.0781080\ttotal: 1.58s\tremaining: 5.27s\n",
            "231:\tlearn: 0.0777968\ttotal: 1.59s\tremaining: 5.26s\n",
            "232:\tlearn: 0.0774822\ttotal: 1.6s\tremaining: 5.26s\n",
            "233:\tlearn: 0.0771970\ttotal: 1.6s\tremaining: 5.25s\n",
            "234:\tlearn: 0.0768534\ttotal: 1.61s\tremaining: 5.24s\n",
            "235:\tlearn: 0.0765600\ttotal: 1.62s\tremaining: 5.23s\n",
            "236:\tlearn: 0.0763248\ttotal: 1.62s\tremaining: 5.22s\n",
            "237:\tlearn: 0.0760088\ttotal: 1.63s\tremaining: 5.23s\n",
            "238:\tlearn: 0.0757428\ttotal: 1.64s\tremaining: 5.22s\n",
            "239:\tlearn: 0.0754303\ttotal: 1.65s\tremaining: 5.21s\n",
            "240:\tlearn: 0.0751199\ttotal: 1.65s\tremaining: 5.21s\n",
            "241:\tlearn: 0.0747388\ttotal: 1.66s\tremaining: 5.2s\n",
            "242:\tlearn: 0.0744607\ttotal: 1.67s\tremaining: 5.2s\n",
            "243:\tlearn: 0.0741784\ttotal: 1.68s\tremaining: 5.2s\n",
            "244:\tlearn: 0.0738066\ttotal: 1.69s\tremaining: 5.2s\n",
            "245:\tlearn: 0.0735735\ttotal: 1.69s\tremaining: 5.19s\n",
            "246:\tlearn: 0.0733598\ttotal: 1.7s\tremaining: 5.18s\n",
            "247:\tlearn: 0.0731099\ttotal: 1.71s\tremaining: 5.17s\n",
            "248:\tlearn: 0.0728239\ttotal: 1.71s\tremaining: 5.16s\n",
            "249:\tlearn: 0.0726458\ttotal: 1.72s\tremaining: 5.15s\n",
            "250:\tlearn: 0.0724160\ttotal: 1.72s\tremaining: 5.15s\n",
            "251:\tlearn: 0.0721696\ttotal: 1.73s\tremaining: 5.14s\n",
            "252:\tlearn: 0.0719484\ttotal: 1.74s\tremaining: 5.13s\n",
            "253:\tlearn: 0.0716800\ttotal: 1.74s\tremaining: 5.12s\n",
            "254:\tlearn: 0.0714217\ttotal: 1.75s\tremaining: 5.11s\n",
            "255:\tlearn: 0.0711938\ttotal: 1.76s\tremaining: 5.1s\n",
            "256:\tlearn: 0.0709769\ttotal: 1.76s\tremaining: 5.1s\n",
            "257:\tlearn: 0.0707278\ttotal: 1.77s\tremaining: 5.1s\n",
            "258:\tlearn: 0.0705310\ttotal: 1.78s\tremaining: 5.09s\n",
            "259:\tlearn: 0.0703099\ttotal: 1.78s\tremaining: 5.08s\n",
            "260:\tlearn: 0.0701434\ttotal: 1.79s\tremaining: 5.07s\n",
            "261:\tlearn: 0.0699059\ttotal: 1.8s\tremaining: 5.06s\n",
            "262:\tlearn: 0.0697054\ttotal: 1.8s\tremaining: 5.05s\n",
            "263:\tlearn: 0.0695307\ttotal: 1.81s\tremaining: 5.05s\n",
            "264:\tlearn: 0.0693779\ttotal: 1.82s\tremaining: 5.04s\n",
            "265:\tlearn: 0.0692942\ttotal: 1.82s\tremaining: 5.03s\n",
            "266:\tlearn: 0.0691059\ttotal: 1.83s\tremaining: 5.02s\n",
            "267:\tlearn: 0.0688021\ttotal: 1.84s\tremaining: 5.02s\n",
            "268:\tlearn: 0.0685268\ttotal: 1.84s\tremaining: 5.01s\n",
            "269:\tlearn: 0.0682755\ttotal: 1.85s\tremaining: 5.01s\n",
            "270:\tlearn: 0.0681537\ttotal: 1.86s\tremaining: 5s\n",
            "271:\tlearn: 0.0679805\ttotal: 1.86s\tremaining: 4.99s\n",
            "272:\tlearn: 0.0677458\ttotal: 1.87s\tremaining: 4.98s\n",
            "273:\tlearn: 0.0674457\ttotal: 1.88s\tremaining: 4.97s\n",
            "274:\tlearn: 0.0672618\ttotal: 1.88s\tremaining: 4.97s\n",
            "275:\tlearn: 0.0671180\ttotal: 1.89s\tremaining: 4.96s\n",
            "276:\tlearn: 0.0669311\ttotal: 1.9s\tremaining: 4.95s\n",
            "277:\tlearn: 0.0667947\ttotal: 1.9s\tremaining: 4.94s\n",
            "278:\tlearn: 0.0665821\ttotal: 1.91s\tremaining: 4.93s\n",
            "279:\tlearn: 0.0663487\ttotal: 1.92s\tremaining: 4.93s\n",
            "280:\tlearn: 0.0661246\ttotal: 1.92s\tremaining: 4.92s\n",
            "281:\tlearn: 0.0658493\ttotal: 1.93s\tremaining: 4.91s\n",
            "282:\tlearn: 0.0656845\ttotal: 1.93s\tremaining: 4.9s\n",
            "283:\tlearn: 0.0653633\ttotal: 1.94s\tremaining: 4.89s\n",
            "284:\tlearn: 0.0651806\ttotal: 1.95s\tremaining: 4.89s\n",
            "285:\tlearn: 0.0649657\ttotal: 1.95s\tremaining: 4.88s\n",
            "286:\tlearn: 0.0647807\ttotal: 1.96s\tremaining: 4.87s\n",
            "287:\tlearn: 0.0646075\ttotal: 1.97s\tremaining: 4.86s\n",
            "288:\tlearn: 0.0644381\ttotal: 1.97s\tremaining: 4.85s\n",
            "289:\tlearn: 0.0641793\ttotal: 1.98s\tremaining: 4.85s\n",
            "290:\tlearn: 0.0640354\ttotal: 1.99s\tremaining: 4.84s\n",
            "291:\tlearn: 0.0638975\ttotal: 1.99s\tremaining: 4.83s\n",
            "292:\tlearn: 0.0637608\ttotal: 2s\tremaining: 4.83s\n",
            "293:\tlearn: 0.0635634\ttotal: 2.01s\tremaining: 4.82s\n",
            "294:\tlearn: 0.0633265\ttotal: 2.01s\tremaining: 4.81s\n",
            "295:\tlearn: 0.0631895\ttotal: 2.02s\tremaining: 4.8s\n",
            "296:\tlearn: 0.0630720\ttotal: 2.03s\tremaining: 4.8s\n",
            "297:\tlearn: 0.0628671\ttotal: 2.03s\tremaining: 4.79s\n",
            "298:\tlearn: 0.0627175\ttotal: 2.04s\tremaining: 4.79s\n",
            "299:\tlearn: 0.0625133\ttotal: 2.05s\tremaining: 4.78s\n",
            "300:\tlearn: 0.0623975\ttotal: 2.05s\tremaining: 4.77s\n",
            "301:\tlearn: 0.0622719\ttotal: 2.06s\tremaining: 4.76s\n",
            "302:\tlearn: 0.0621645\ttotal: 2.07s\tremaining: 4.76s\n",
            "303:\tlearn: 0.0620586\ttotal: 2.08s\tremaining: 4.75s\n",
            "304:\tlearn: 0.0618621\ttotal: 2.08s\tremaining: 4.74s\n",
            "305:\tlearn: 0.0616611\ttotal: 2.09s\tremaining: 4.74s\n",
            "306:\tlearn: 0.0615042\ttotal: 2.09s\tremaining: 4.73s\n",
            "307:\tlearn: 0.0613112\ttotal: 2.1s\tremaining: 4.72s\n",
            "308:\tlearn: 0.0611902\ttotal: 2.11s\tremaining: 4.71s\n",
            "309:\tlearn: 0.0609071\ttotal: 2.12s\tremaining: 4.71s\n",
            "310:\tlearn: 0.0607894\ttotal: 2.13s\tremaining: 4.71s\n",
            "311:\tlearn: 0.0606970\ttotal: 2.13s\tremaining: 4.7s\n",
            "312:\tlearn: 0.0604523\ttotal: 2.14s\tremaining: 4.7s\n",
            "313:\tlearn: 0.0602870\ttotal: 2.15s\tremaining: 4.69s\n",
            "314:\tlearn: 0.0600795\ttotal: 2.15s\tremaining: 4.68s\n",
            "315:\tlearn: 0.0598911\ttotal: 2.16s\tremaining: 4.67s\n",
            "316:\tlearn: 0.0596394\ttotal: 2.17s\tremaining: 4.67s\n",
            "317:\tlearn: 0.0594777\ttotal: 2.17s\tremaining: 4.66s\n",
            "318:\tlearn: 0.0593622\ttotal: 2.18s\tremaining: 4.65s\n",
            "319:\tlearn: 0.0591691\ttotal: 2.19s\tremaining: 4.64s\n",
            "320:\tlearn: 0.0589896\ttotal: 2.19s\tremaining: 4.64s\n",
            "321:\tlearn: 0.0587926\ttotal: 2.2s\tremaining: 4.63s\n",
            "322:\tlearn: 0.0587272\ttotal: 2.21s\tremaining: 4.62s\n",
            "323:\tlearn: 0.0586638\ttotal: 2.21s\tremaining: 4.62s\n",
            "324:\tlearn: 0.0584838\ttotal: 2.22s\tremaining: 4.61s\n",
            "325:\tlearn: 0.0583208\ttotal: 2.22s\tremaining: 4.6s\n",
            "326:\tlearn: 0.0581167\ttotal: 2.23s\tremaining: 4.59s\n",
            "327:\tlearn: 0.0579776\ttotal: 2.24s\tremaining: 4.58s\n",
            "328:\tlearn: 0.0578488\ttotal: 2.25s\tremaining: 4.58s\n",
            "329:\tlearn: 0.0577282\ttotal: 2.25s\tremaining: 4.58s\n",
            "330:\tlearn: 0.0576184\ttotal: 2.26s\tremaining: 4.57s\n",
            "331:\tlearn: 0.0575355\ttotal: 2.27s\tremaining: 4.57s\n",
            "332:\tlearn: 0.0573663\ttotal: 2.27s\tremaining: 4.56s\n",
            "333:\tlearn: 0.0572525\ttotal: 2.28s\tremaining: 4.55s\n",
            "334:\tlearn: 0.0571671\ttotal: 2.29s\tremaining: 4.54s\n",
            "335:\tlearn: 0.0570748\ttotal: 2.29s\tremaining: 4.53s\n",
            "336:\tlearn: 0.0568886\ttotal: 2.3s\tremaining: 4.53s\n",
            "337:\tlearn: 0.0567365\ttotal: 2.31s\tremaining: 4.52s\n",
            "338:\tlearn: 0.0565643\ttotal: 2.31s\tremaining: 4.51s\n",
            "339:\tlearn: 0.0564606\ttotal: 2.32s\tremaining: 4.5s\n",
            "340:\tlearn: 0.0563350\ttotal: 2.33s\tremaining: 4.5s\n",
            "341:\tlearn: 0.0562149\ttotal: 2.33s\tremaining: 4.49s\n",
            "342:\tlearn: 0.0560828\ttotal: 2.34s\tremaining: 4.48s\n",
            "343:\tlearn: 0.0558808\ttotal: 2.35s\tremaining: 4.47s\n",
            "344:\tlearn: 0.0556622\ttotal: 2.35s\tremaining: 4.46s\n",
            "345:\tlearn: 0.0554774\ttotal: 2.36s\tremaining: 4.46s\n",
            "346:\tlearn: 0.0553927\ttotal: 2.36s\tremaining: 4.45s\n",
            "347:\tlearn: 0.0552271\ttotal: 2.37s\tremaining: 4.44s\n",
            "348:\tlearn: 0.0551850\ttotal: 2.38s\tremaining: 4.43s\n",
            "349:\tlearn: 0.0549940\ttotal: 2.38s\tremaining: 4.43s\n",
            "350:\tlearn: 0.0548234\ttotal: 2.39s\tremaining: 4.42s\n",
            "351:\tlearn: 0.0546474\ttotal: 2.4s\tremaining: 4.41s\n",
            "352:\tlearn: 0.0544748\ttotal: 2.4s\tremaining: 4.41s\n",
            "353:\tlearn: 0.0543773\ttotal: 2.41s\tremaining: 4.4s\n",
            "354:\tlearn: 0.0542750\ttotal: 2.42s\tremaining: 4.39s\n",
            "355:\tlearn: 0.0541273\ttotal: 2.42s\tremaining: 4.38s\n",
            "356:\tlearn: 0.0539589\ttotal: 2.43s\tremaining: 4.38s\n",
            "357:\tlearn: 0.0538062\ttotal: 2.44s\tremaining: 4.37s\n",
            "358:\tlearn: 0.0536710\ttotal: 2.44s\tremaining: 4.36s\n",
            "359:\tlearn: 0.0535824\ttotal: 2.45s\tremaining: 4.36s\n",
            "360:\tlearn: 0.0533844\ttotal: 2.46s\tremaining: 4.36s\n",
            "361:\tlearn: 0.0532041\ttotal: 2.47s\tremaining: 4.35s\n",
            "362:\tlearn: 0.0531002\ttotal: 2.48s\tremaining: 4.34s\n",
            "363:\tlearn: 0.0528927\ttotal: 2.48s\tremaining: 4.34s\n",
            "364:\tlearn: 0.0527782\ttotal: 2.49s\tremaining: 4.33s\n",
            "365:\tlearn: 0.0526739\ttotal: 2.49s\tremaining: 4.32s\n",
            "366:\tlearn: 0.0526044\ttotal: 2.5s\tremaining: 4.31s\n",
            "367:\tlearn: 0.0525199\ttotal: 2.51s\tremaining: 4.31s\n",
            "368:\tlearn: 0.0523537\ttotal: 2.51s\tremaining: 4.3s\n",
            "369:\tlearn: 0.0522103\ttotal: 2.52s\tremaining: 4.29s\n",
            "370:\tlearn: 0.0521147\ttotal: 2.53s\tremaining: 4.28s\n",
            "371:\tlearn: 0.0519801\ttotal: 2.53s\tremaining: 4.28s\n",
            "372:\tlearn: 0.0518786\ttotal: 2.54s\tremaining: 4.27s\n",
            "373:\tlearn: 0.0517975\ttotal: 2.55s\tremaining: 4.26s\n",
            "374:\tlearn: 0.0517063\ttotal: 2.55s\tremaining: 4.25s\n",
            "375:\tlearn: 0.0515818\ttotal: 2.56s\tremaining: 4.25s\n",
            "376:\tlearn: 0.0514778\ttotal: 2.56s\tremaining: 4.24s\n",
            "377:\tlearn: 0.0514461\ttotal: 2.57s\tremaining: 4.23s\n",
            "378:\tlearn: 0.0513774\ttotal: 2.58s\tremaining: 4.22s\n",
            "379:\tlearn: 0.0512070\ttotal: 2.58s\tremaining: 4.22s\n",
            "380:\tlearn: 0.0510946\ttotal: 2.59s\tremaining: 4.21s\n",
            "381:\tlearn: 0.0509629\ttotal: 2.6s\tremaining: 4.2s\n",
            "382:\tlearn: 0.0507972\ttotal: 2.6s\tremaining: 4.19s\n",
            "383:\tlearn: 0.0506886\ttotal: 2.61s\tremaining: 4.19s\n",
            "384:\tlearn: 0.0505510\ttotal: 2.62s\tremaining: 4.18s\n",
            "385:\tlearn: 0.0504019\ttotal: 2.63s\tremaining: 4.18s\n",
            "386:\tlearn: 0.0502960\ttotal: 2.63s\tremaining: 4.17s\n",
            "387:\tlearn: 0.0501964\ttotal: 2.64s\tremaining: 4.16s\n",
            "388:\tlearn: 0.0500839\ttotal: 2.65s\tremaining: 4.16s\n",
            "389:\tlearn: 0.0499900\ttotal: 2.66s\tremaining: 4.16s\n",
            "390:\tlearn: 0.0498474\ttotal: 2.68s\tremaining: 4.17s\n",
            "391:\tlearn: 0.0497429\ttotal: 2.68s\tremaining: 4.16s\n",
            "392:\tlearn: 0.0496569\ttotal: 2.69s\tremaining: 4.16s\n",
            "393:\tlearn: 0.0495772\ttotal: 2.7s\tremaining: 4.15s\n",
            "394:\tlearn: 0.0494614\ttotal: 2.7s\tremaining: 4.14s\n",
            "395:\tlearn: 0.0493063\ttotal: 2.71s\tremaining: 4.13s\n",
            "396:\tlearn: 0.0491901\ttotal: 2.72s\tremaining: 4.13s\n",
            "397:\tlearn: 0.0490526\ttotal: 2.72s\tremaining: 4.12s\n",
            "398:\tlearn: 0.0489508\ttotal: 2.73s\tremaining: 4.11s\n",
            "399:\tlearn: 0.0488460\ttotal: 2.74s\tremaining: 4.1s\n",
            "400:\tlearn: 0.0487444\ttotal: 2.74s\tremaining: 4.1s\n",
            "401:\tlearn: 0.0486646\ttotal: 2.75s\tremaining: 4.09s\n",
            "402:\tlearn: 0.0485904\ttotal: 2.76s\tremaining: 4.08s\n",
            "403:\tlearn: 0.0484908\ttotal: 2.76s\tremaining: 4.08s\n",
            "404:\tlearn: 0.0483443\ttotal: 2.77s\tremaining: 4.07s\n",
            "405:\tlearn: 0.0481982\ttotal: 2.77s\tremaining: 4.06s\n",
            "406:\tlearn: 0.0480033\ttotal: 2.78s\tremaining: 4.05s\n",
            "407:\tlearn: 0.0479188\ttotal: 2.79s\tremaining: 4.04s\n",
            "408:\tlearn: 0.0478263\ttotal: 2.79s\tremaining: 4.04s\n",
            "409:\tlearn: 0.0477142\ttotal: 2.8s\tremaining: 4.03s\n",
            "410:\tlearn: 0.0476372\ttotal: 2.81s\tremaining: 4.02s\n",
            "411:\tlearn: 0.0475845\ttotal: 2.81s\tremaining: 4.02s\n",
            "412:\tlearn: 0.0474382\ttotal: 2.82s\tremaining: 4.01s\n",
            "413:\tlearn: 0.0473773\ttotal: 2.83s\tremaining: 4s\n",
            "414:\tlearn: 0.0473525\ttotal: 2.83s\tremaining: 3.99s\n",
            "415:\tlearn: 0.0472571\ttotal: 2.84s\tremaining: 3.99s\n",
            "416:\tlearn: 0.0471450\ttotal: 2.85s\tremaining: 3.98s\n",
            "417:\tlearn: 0.0470571\ttotal: 2.85s\tremaining: 3.97s\n",
            "418:\tlearn: 0.0469461\ttotal: 2.86s\tremaining: 3.97s\n",
            "419:\tlearn: 0.0467836\ttotal: 2.87s\tremaining: 3.96s\n",
            "420:\tlearn: 0.0467547\ttotal: 2.88s\tremaining: 3.95s\n",
            "421:\tlearn: 0.0466427\ttotal: 2.88s\tremaining: 3.95s\n",
            "422:\tlearn: 0.0465082\ttotal: 2.89s\tremaining: 3.94s\n",
            "423:\tlearn: 0.0464543\ttotal: 2.89s\tremaining: 3.93s\n",
            "424:\tlearn: 0.0463402\ttotal: 2.9s\tremaining: 3.93s\n",
            "425:\tlearn: 0.0461686\ttotal: 2.91s\tremaining: 3.92s\n",
            "426:\tlearn: 0.0460499\ttotal: 2.92s\tremaining: 3.91s\n",
            "427:\tlearn: 0.0459965\ttotal: 2.92s\tremaining: 3.9s\n",
            "428:\tlearn: 0.0459357\ttotal: 2.93s\tremaining: 3.9s\n",
            "429:\tlearn: 0.0458243\ttotal: 2.94s\tremaining: 3.89s\n",
            "430:\tlearn: 0.0456900\ttotal: 2.94s\tremaining: 3.89s\n",
            "431:\tlearn: 0.0455738\ttotal: 2.95s\tremaining: 3.88s\n",
            "432:\tlearn: 0.0454617\ttotal: 2.96s\tremaining: 3.88s\n",
            "433:\tlearn: 0.0453325\ttotal: 2.96s\tremaining: 3.87s\n",
            "434:\tlearn: 0.0452649\ttotal: 2.97s\tremaining: 3.86s\n",
            "435:\tlearn: 0.0451442\ttotal: 2.98s\tremaining: 3.85s\n",
            "436:\tlearn: 0.0450561\ttotal: 2.98s\tremaining: 3.85s\n",
            "437:\tlearn: 0.0449360\ttotal: 2.99s\tremaining: 3.84s\n",
            "438:\tlearn: 0.0448406\ttotal: 3s\tremaining: 3.83s\n",
            "439:\tlearn: 0.0447774\ttotal: 3s\tremaining: 3.82s\n",
            "440:\tlearn: 0.0446879\ttotal: 3.01s\tremaining: 3.82s\n",
            "441:\tlearn: 0.0446070\ttotal: 3.02s\tremaining: 3.81s\n",
            "442:\tlearn: 0.0445646\ttotal: 3.02s\tremaining: 3.8s\n",
            "443:\tlearn: 0.0444813\ttotal: 3.03s\tremaining: 3.79s\n",
            "444:\tlearn: 0.0443836\ttotal: 3.04s\tremaining: 3.79s\n",
            "445:\tlearn: 0.0443487\ttotal: 3.04s\tremaining: 3.78s\n",
            "446:\tlearn: 0.0442688\ttotal: 3.05s\tremaining: 3.77s\n",
            "447:\tlearn: 0.0441711\ttotal: 3.06s\tremaining: 3.77s\n",
            "448:\tlearn: 0.0440827\ttotal: 3.07s\tremaining: 3.76s\n",
            "449:\tlearn: 0.0439745\ttotal: 3.07s\tremaining: 3.75s\n",
            "450:\tlearn: 0.0439404\ttotal: 3.08s\tremaining: 3.75s\n",
            "451:\tlearn: 0.0438897\ttotal: 3.08s\tremaining: 3.74s\n",
            "452:\tlearn: 0.0437908\ttotal: 3.09s\tremaining: 3.73s\n",
            "453:\tlearn: 0.0437397\ttotal: 3.1s\tremaining: 3.73s\n",
            "454:\tlearn: 0.0437046\ttotal: 3.1s\tremaining: 3.72s\n",
            "455:\tlearn: 0.0436138\ttotal: 3.11s\tremaining: 3.71s\n",
            "456:\tlearn: 0.0435128\ttotal: 3.12s\tremaining: 3.71s\n",
            "457:\tlearn: 0.0434520\ttotal: 3.13s\tremaining: 3.7s\n",
            "458:\tlearn: 0.0433972\ttotal: 3.14s\tremaining: 3.7s\n",
            "459:\tlearn: 0.0433424\ttotal: 3.14s\tremaining: 3.69s\n",
            "460:\tlearn: 0.0432560\ttotal: 3.15s\tremaining: 3.68s\n",
            "461:\tlearn: 0.0431474\ttotal: 3.16s\tremaining: 3.67s\n",
            "462:\tlearn: 0.0430258\ttotal: 3.16s\tremaining: 3.67s\n",
            "463:\tlearn: 0.0429147\ttotal: 3.17s\tremaining: 3.66s\n",
            "464:\tlearn: 0.0428229\ttotal: 3.17s\tremaining: 3.65s\n",
            "465:\tlearn: 0.0427430\ttotal: 3.18s\tremaining: 3.65s\n",
            "466:\tlearn: 0.0426583\ttotal: 3.19s\tremaining: 3.64s\n",
            "467:\tlearn: 0.0425893\ttotal: 3.19s\tremaining: 3.63s\n",
            "468:\tlearn: 0.0425222\ttotal: 3.2s\tremaining: 3.62s\n",
            "469:\tlearn: 0.0424795\ttotal: 3.21s\tremaining: 3.62s\n",
            "470:\tlearn: 0.0424475\ttotal: 3.21s\tremaining: 3.61s\n",
            "471:\tlearn: 0.0423789\ttotal: 3.22s\tremaining: 3.6s\n",
            "472:\tlearn: 0.0423452\ttotal: 3.23s\tremaining: 3.6s\n",
            "473:\tlearn: 0.0422590\ttotal: 3.23s\tremaining: 3.59s\n",
            "474:\tlearn: 0.0422044\ttotal: 3.24s\tremaining: 3.58s\n",
            "475:\tlearn: 0.0421148\ttotal: 3.25s\tremaining: 3.58s\n",
            "476:\tlearn: 0.0420413\ttotal: 3.26s\tremaining: 3.57s\n",
            "477:\tlearn: 0.0419516\ttotal: 3.26s\tremaining: 3.56s\n",
            "478:\tlearn: 0.0419217\ttotal: 3.27s\tremaining: 3.56s\n",
            "479:\tlearn: 0.0418295\ttotal: 3.28s\tremaining: 3.55s\n",
            "480:\tlearn: 0.0417831\ttotal: 3.29s\tremaining: 3.55s\n",
            "481:\tlearn: 0.0416838\ttotal: 3.29s\tremaining: 3.54s\n",
            "482:\tlearn: 0.0415990\ttotal: 3.3s\tremaining: 3.53s\n",
            "483:\tlearn: 0.0415009\ttotal: 3.31s\tremaining: 3.53s\n",
            "484:\tlearn: 0.0414099\ttotal: 3.31s\tremaining: 3.52s\n",
            "485:\tlearn: 0.0413424\ttotal: 3.32s\tremaining: 3.51s\n",
            "486:\tlearn: 0.0412333\ttotal: 3.33s\tremaining: 3.5s\n",
            "487:\tlearn: 0.0411563\ttotal: 3.33s\tremaining: 3.5s\n",
            "488:\tlearn: 0.0411205\ttotal: 3.34s\tremaining: 3.49s\n",
            "489:\tlearn: 0.0410451\ttotal: 3.35s\tremaining: 3.48s\n",
            "490:\tlearn: 0.0409349\ttotal: 3.35s\tremaining: 3.48s\n",
            "491:\tlearn: 0.0408450\ttotal: 3.36s\tremaining: 3.47s\n",
            "492:\tlearn: 0.0407788\ttotal: 3.36s\tremaining: 3.46s\n",
            "493:\tlearn: 0.0406919\ttotal: 3.37s\tremaining: 3.45s\n",
            "494:\tlearn: 0.0406449\ttotal: 3.38s\tremaining: 3.45s\n",
            "495:\tlearn: 0.0405867\ttotal: 3.38s\tremaining: 3.44s\n",
            "496:\tlearn: 0.0405529\ttotal: 3.39s\tremaining: 3.43s\n",
            "497:\tlearn: 0.0405079\ttotal: 3.4s\tremaining: 3.42s\n",
            "498:\tlearn: 0.0403888\ttotal: 3.4s\tremaining: 3.42s\n",
            "499:\tlearn: 0.0403128\ttotal: 3.41s\tremaining: 3.41s\n",
            "500:\tlearn: 0.0402513\ttotal: 3.42s\tremaining: 3.4s\n",
            "501:\tlearn: 0.0402032\ttotal: 3.42s\tremaining: 3.4s\n",
            "502:\tlearn: 0.0401206\ttotal: 3.43s\tremaining: 3.39s\n",
            "503:\tlearn: 0.0399996\ttotal: 3.44s\tremaining: 3.38s\n",
            "504:\tlearn: 0.0399276\ttotal: 3.44s\tremaining: 3.38s\n",
            "505:\tlearn: 0.0398378\ttotal: 3.45s\tremaining: 3.37s\n",
            "506:\tlearn: 0.0397139\ttotal: 3.46s\tremaining: 3.36s\n",
            "507:\tlearn: 0.0396425\ttotal: 3.46s\tremaining: 3.35s\n",
            "508:\tlearn: 0.0395895\ttotal: 3.47s\tremaining: 3.35s\n",
            "509:\tlearn: 0.0395571\ttotal: 3.48s\tremaining: 3.34s\n",
            "510:\tlearn: 0.0395084\ttotal: 3.48s\tremaining: 3.33s\n",
            "511:\tlearn: 0.0394226\ttotal: 3.49s\tremaining: 3.33s\n",
            "512:\tlearn: 0.0394043\ttotal: 3.5s\tremaining: 3.32s\n",
            "513:\tlearn: 0.0393714\ttotal: 3.5s\tremaining: 3.31s\n",
            "514:\tlearn: 0.0393109\ttotal: 3.51s\tremaining: 3.31s\n",
            "515:\tlearn: 0.0391692\ttotal: 3.52s\tremaining: 3.3s\n",
            "516:\tlearn: 0.0391259\ttotal: 3.52s\tremaining: 3.29s\n",
            "517:\tlearn: 0.0390563\ttotal: 3.53s\tremaining: 3.28s\n",
            "518:\tlearn: 0.0390234\ttotal: 3.54s\tremaining: 3.28s\n",
            "519:\tlearn: 0.0389718\ttotal: 3.54s\tremaining: 3.27s\n",
            "520:\tlearn: 0.0389105\ttotal: 3.55s\tremaining: 3.26s\n",
            "521:\tlearn: 0.0388880\ttotal: 3.56s\tremaining: 3.26s\n",
            "522:\tlearn: 0.0387928\ttotal: 3.56s\tremaining: 3.25s\n",
            "523:\tlearn: 0.0387372\ttotal: 3.57s\tremaining: 3.24s\n",
            "524:\tlearn: 0.0386711\ttotal: 3.58s\tremaining: 3.23s\n",
            "525:\tlearn: 0.0385730\ttotal: 3.58s\tremaining: 3.23s\n",
            "526:\tlearn: 0.0384926\ttotal: 3.59s\tremaining: 3.22s\n",
            "527:\tlearn: 0.0384270\ttotal: 3.59s\tremaining: 3.21s\n",
            "528:\tlearn: 0.0383575\ttotal: 3.6s\tremaining: 3.21s\n",
            "529:\tlearn: 0.0382726\ttotal: 3.61s\tremaining: 3.2s\n",
            "530:\tlearn: 0.0382201\ttotal: 3.61s\tremaining: 3.19s\n",
            "531:\tlearn: 0.0381443\ttotal: 3.62s\tremaining: 3.18s\n",
            "532:\tlearn: 0.0380879\ttotal: 3.63s\tremaining: 3.18s\n",
            "533:\tlearn: 0.0380574\ttotal: 3.63s\tremaining: 3.17s\n",
            "534:\tlearn: 0.0379706\ttotal: 3.64s\tremaining: 3.16s\n",
            "535:\tlearn: 0.0379411\ttotal: 3.65s\tremaining: 3.16s\n",
            "536:\tlearn: 0.0378339\ttotal: 3.65s\tremaining: 3.15s\n",
            "537:\tlearn: 0.0377709\ttotal: 3.66s\tremaining: 3.14s\n",
            "538:\tlearn: 0.0377055\ttotal: 3.67s\tremaining: 3.14s\n",
            "539:\tlearn: 0.0376209\ttotal: 3.69s\tremaining: 3.14s\n",
            "540:\tlearn: 0.0375533\ttotal: 3.69s\tremaining: 3.13s\n",
            "541:\tlearn: 0.0375274\ttotal: 3.7s\tremaining: 3.13s\n",
            "542:\tlearn: 0.0374406\ttotal: 3.7s\tremaining: 3.12s\n",
            "543:\tlearn: 0.0373825\ttotal: 3.71s\tremaining: 3.11s\n",
            "544:\tlearn: 0.0373124\ttotal: 3.72s\tremaining: 3.1s\n",
            "545:\tlearn: 0.0371986\ttotal: 3.72s\tremaining: 3.1s\n",
            "546:\tlearn: 0.0371655\ttotal: 3.73s\tremaining: 3.09s\n",
            "547:\tlearn: 0.0371051\ttotal: 3.74s\tremaining: 3.08s\n",
            "548:\tlearn: 0.0369788\ttotal: 3.75s\tremaining: 3.08s\n",
            "549:\tlearn: 0.0369195\ttotal: 3.75s\tremaining: 3.07s\n",
            "550:\tlearn: 0.0368577\ttotal: 3.76s\tremaining: 3.06s\n",
            "551:\tlearn: 0.0367655\ttotal: 3.76s\tremaining: 3.06s\n",
            "552:\tlearn: 0.0366799\ttotal: 3.77s\tremaining: 3.05s\n",
            "553:\tlearn: 0.0366153\ttotal: 3.78s\tremaining: 3.04s\n",
            "554:\tlearn: 0.0365521\ttotal: 3.78s\tremaining: 3.03s\n",
            "555:\tlearn: 0.0365403\ttotal: 3.79s\tremaining: 3.03s\n",
            "556:\tlearn: 0.0364351\ttotal: 3.8s\tremaining: 3.02s\n",
            "557:\tlearn: 0.0363735\ttotal: 3.8s\tremaining: 3.01s\n",
            "558:\tlearn: 0.0362964\ttotal: 3.81s\tremaining: 3s\n",
            "559:\tlearn: 0.0362670\ttotal: 3.81s\tremaining: 3s\n",
            "560:\tlearn: 0.0361954\ttotal: 3.82s\tremaining: 2.99s\n",
            "561:\tlearn: 0.0360898\ttotal: 3.83s\tremaining: 2.98s\n",
            "562:\tlearn: 0.0360103\ttotal: 3.83s\tremaining: 2.98s\n",
            "563:\tlearn: 0.0359597\ttotal: 3.84s\tremaining: 2.97s\n",
            "564:\tlearn: 0.0359341\ttotal: 3.85s\tremaining: 2.96s\n",
            "565:\tlearn: 0.0358849\ttotal: 3.85s\tremaining: 2.96s\n",
            "566:\tlearn: 0.0358070\ttotal: 3.86s\tremaining: 2.95s\n",
            "567:\tlearn: 0.0357294\ttotal: 3.87s\tremaining: 2.94s\n",
            "568:\tlearn: 0.0356559\ttotal: 3.87s\tremaining: 2.93s\n",
            "569:\tlearn: 0.0355797\ttotal: 3.88s\tremaining: 2.93s\n",
            "570:\tlearn: 0.0355179\ttotal: 3.89s\tremaining: 2.92s\n",
            "571:\tlearn: 0.0354753\ttotal: 3.9s\tremaining: 2.92s\n",
            "572:\tlearn: 0.0354039\ttotal: 3.91s\tremaining: 2.91s\n",
            "573:\tlearn: 0.0353141\ttotal: 3.91s\tremaining: 2.9s\n",
            "574:\tlearn: 0.0352533\ttotal: 3.92s\tremaining: 2.9s\n",
            "575:\tlearn: 0.0351900\ttotal: 3.93s\tremaining: 2.89s\n",
            "576:\tlearn: 0.0351602\ttotal: 3.93s\tremaining: 2.88s\n",
            "577:\tlearn: 0.0351192\ttotal: 3.94s\tremaining: 2.88s\n",
            "578:\tlearn: 0.0350955\ttotal: 3.95s\tremaining: 2.87s\n",
            "579:\tlearn: 0.0350817\ttotal: 3.96s\tremaining: 2.87s\n",
            "580:\tlearn: 0.0350228\ttotal: 3.96s\tremaining: 2.86s\n",
            "581:\tlearn: 0.0349822\ttotal: 3.97s\tremaining: 2.85s\n",
            "582:\tlearn: 0.0349407\ttotal: 3.98s\tremaining: 2.84s\n",
            "583:\tlearn: 0.0348718\ttotal: 3.98s\tremaining: 2.84s\n",
            "584:\tlearn: 0.0348113\ttotal: 3.99s\tremaining: 2.83s\n",
            "585:\tlearn: 0.0347521\ttotal: 4s\tremaining: 2.82s\n",
            "586:\tlearn: 0.0346879\ttotal: 4s\tremaining: 2.82s\n",
            "587:\tlearn: 0.0346325\ttotal: 4.01s\tremaining: 2.81s\n",
            "588:\tlearn: 0.0345883\ttotal: 4.02s\tremaining: 2.8s\n",
            "589:\tlearn: 0.0345304\ttotal: 4.02s\tremaining: 2.79s\n",
            "590:\tlearn: 0.0344777\ttotal: 4.03s\tremaining: 2.79s\n",
            "591:\tlearn: 0.0343983\ttotal: 4.04s\tremaining: 2.78s\n",
            "592:\tlearn: 0.0343204\ttotal: 4.04s\tremaining: 2.77s\n",
            "593:\tlearn: 0.0342632\ttotal: 4.05s\tremaining: 2.77s\n",
            "594:\tlearn: 0.0342465\ttotal: 4.05s\tremaining: 2.76s\n",
            "595:\tlearn: 0.0341999\ttotal: 4.06s\tremaining: 2.75s\n",
            "596:\tlearn: 0.0341410\ttotal: 4.07s\tremaining: 2.75s\n",
            "597:\tlearn: 0.0340994\ttotal: 4.07s\tremaining: 2.74s\n",
            "598:\tlearn: 0.0340761\ttotal: 4.08s\tremaining: 2.73s\n",
            "599:\tlearn: 0.0340317\ttotal: 4.09s\tremaining: 2.72s\n",
            "600:\tlearn: 0.0339941\ttotal: 4.09s\tremaining: 2.72s\n",
            "601:\tlearn: 0.0339612\ttotal: 4.1s\tremaining: 2.71s\n",
            "602:\tlearn: 0.0339243\ttotal: 4.11s\tremaining: 2.71s\n",
            "603:\tlearn: 0.0338461\ttotal: 4.12s\tremaining: 2.7s\n",
            "604:\tlearn: 0.0337644\ttotal: 4.13s\tremaining: 2.69s\n",
            "605:\tlearn: 0.0337279\ttotal: 4.13s\tremaining: 2.69s\n",
            "606:\tlearn: 0.0336683\ttotal: 4.14s\tremaining: 2.68s\n",
            "607:\tlearn: 0.0336343\ttotal: 4.15s\tremaining: 2.67s\n",
            "608:\tlearn: 0.0336179\ttotal: 4.15s\tremaining: 2.67s\n",
            "609:\tlearn: 0.0335723\ttotal: 4.16s\tremaining: 2.66s\n",
            "610:\tlearn: 0.0334736\ttotal: 4.17s\tremaining: 2.65s\n",
            "611:\tlearn: 0.0334045\ttotal: 4.17s\tremaining: 2.65s\n",
            "612:\tlearn: 0.0333523\ttotal: 4.18s\tremaining: 2.64s\n",
            "613:\tlearn: 0.0332729\ttotal: 4.19s\tremaining: 2.63s\n",
            "614:\tlearn: 0.0332161\ttotal: 4.19s\tremaining: 2.62s\n",
            "615:\tlearn: 0.0331808\ttotal: 4.2s\tremaining: 2.62s\n",
            "616:\tlearn: 0.0331521\ttotal: 4.21s\tremaining: 2.61s\n",
            "617:\tlearn: 0.0331136\ttotal: 4.21s\tremaining: 2.6s\n",
            "618:\tlearn: 0.0330566\ttotal: 4.22s\tremaining: 2.6s\n",
            "619:\tlearn: 0.0330141\ttotal: 4.22s\tremaining: 2.59s\n",
            "620:\tlearn: 0.0329572\ttotal: 4.23s\tremaining: 2.58s\n",
            "621:\tlearn: 0.0328676\ttotal: 4.24s\tremaining: 2.58s\n",
            "622:\tlearn: 0.0328208\ttotal: 4.25s\tremaining: 2.57s\n",
            "623:\tlearn: 0.0327775\ttotal: 4.25s\tremaining: 2.56s\n",
            "624:\tlearn: 0.0327318\ttotal: 4.26s\tremaining: 2.55s\n",
            "625:\tlearn: 0.0326723\ttotal: 4.26s\tremaining: 2.55s\n",
            "626:\tlearn: 0.0326252\ttotal: 4.27s\tremaining: 2.54s\n",
            "627:\tlearn: 0.0325672\ttotal: 4.28s\tremaining: 2.53s\n",
            "628:\tlearn: 0.0325189\ttotal: 4.28s\tremaining: 2.53s\n",
            "629:\tlearn: 0.0325108\ttotal: 4.29s\tremaining: 2.52s\n",
            "630:\tlearn: 0.0324694\ttotal: 4.3s\tremaining: 2.51s\n",
            "631:\tlearn: 0.0324622\ttotal: 4.31s\tremaining: 2.51s\n",
            "632:\tlearn: 0.0323722\ttotal: 4.31s\tremaining: 2.5s\n",
            "633:\tlearn: 0.0323179\ttotal: 4.32s\tremaining: 2.49s\n",
            "634:\tlearn: 0.0322869\ttotal: 4.33s\tremaining: 2.49s\n",
            "635:\tlearn: 0.0322491\ttotal: 4.33s\tremaining: 2.48s\n",
            "636:\tlearn: 0.0322268\ttotal: 4.34s\tremaining: 2.47s\n",
            "637:\tlearn: 0.0321913\ttotal: 4.34s\tremaining: 2.46s\n",
            "638:\tlearn: 0.0321454\ttotal: 4.35s\tremaining: 2.46s\n",
            "639:\tlearn: 0.0320772\ttotal: 4.36s\tremaining: 2.45s\n",
            "640:\tlearn: 0.0320685\ttotal: 4.36s\tremaining: 2.44s\n",
            "641:\tlearn: 0.0319574\ttotal: 4.37s\tremaining: 2.44s\n",
            "642:\tlearn: 0.0319027\ttotal: 4.38s\tremaining: 2.43s\n",
            "643:\tlearn: 0.0318248\ttotal: 4.38s\tremaining: 2.42s\n",
            "644:\tlearn: 0.0318154\ttotal: 4.39s\tremaining: 2.42s\n",
            "645:\tlearn: 0.0317667\ttotal: 4.39s\tremaining: 2.41s\n",
            "646:\tlearn: 0.0317449\ttotal: 4.4s\tremaining: 2.4s\n",
            "647:\tlearn: 0.0317016\ttotal: 4.41s\tremaining: 2.4s\n",
            "648:\tlearn: 0.0316555\ttotal: 4.42s\tremaining: 2.39s\n",
            "649:\tlearn: 0.0315900\ttotal: 4.42s\tremaining: 2.38s\n",
            "650:\tlearn: 0.0315671\ttotal: 4.43s\tremaining: 2.38s\n",
            "651:\tlearn: 0.0314947\ttotal: 4.44s\tremaining: 2.37s\n",
            "652:\tlearn: 0.0314731\ttotal: 4.44s\tremaining: 2.36s\n",
            "653:\tlearn: 0.0314402\ttotal: 4.45s\tremaining: 2.35s\n",
            "654:\tlearn: 0.0313919\ttotal: 4.46s\tremaining: 2.35s\n",
            "655:\tlearn: 0.0313648\ttotal: 4.46s\tremaining: 2.34s\n",
            "656:\tlearn: 0.0313200\ttotal: 4.47s\tremaining: 2.33s\n",
            "657:\tlearn: 0.0312745\ttotal: 4.47s\tremaining: 2.33s\n",
            "658:\tlearn: 0.0312138\ttotal: 4.48s\tremaining: 2.32s\n",
            "659:\tlearn: 0.0311714\ttotal: 4.49s\tremaining: 2.31s\n",
            "660:\tlearn: 0.0311239\ttotal: 4.49s\tremaining: 2.31s\n",
            "661:\tlearn: 0.0310796\ttotal: 4.5s\tremaining: 2.3s\n",
            "662:\tlearn: 0.0310110\ttotal: 4.51s\tremaining: 2.29s\n",
            "663:\tlearn: 0.0309794\ttotal: 4.52s\tremaining: 2.29s\n",
            "664:\tlearn: 0.0309519\ttotal: 4.52s\tremaining: 2.28s\n",
            "665:\tlearn: 0.0308956\ttotal: 4.53s\tremaining: 2.27s\n",
            "666:\tlearn: 0.0308235\ttotal: 4.54s\tremaining: 2.27s\n",
            "667:\tlearn: 0.0307341\ttotal: 4.55s\tremaining: 2.26s\n",
            "668:\tlearn: 0.0306935\ttotal: 4.55s\tremaining: 2.25s\n",
            "669:\tlearn: 0.0306710\ttotal: 4.56s\tremaining: 2.25s\n",
            "670:\tlearn: 0.0306421\ttotal: 4.57s\tremaining: 2.24s\n",
            "671:\tlearn: 0.0306203\ttotal: 4.57s\tremaining: 2.23s\n",
            "672:\tlearn: 0.0305590\ttotal: 4.58s\tremaining: 2.22s\n",
            "673:\tlearn: 0.0304971\ttotal: 4.58s\tremaining: 2.22s\n",
            "674:\tlearn: 0.0304508\ttotal: 4.59s\tremaining: 2.21s\n",
            "675:\tlearn: 0.0304274\ttotal: 4.6s\tremaining: 2.2s\n",
            "676:\tlearn: 0.0303711\ttotal: 4.6s\tremaining: 2.2s\n",
            "677:\tlearn: 0.0303332\ttotal: 4.61s\tremaining: 2.19s\n",
            "678:\tlearn: 0.0303104\ttotal: 4.62s\tremaining: 2.18s\n",
            "679:\tlearn: 0.0302643\ttotal: 4.62s\tremaining: 2.17s\n",
            "680:\tlearn: 0.0302205\ttotal: 4.63s\tremaining: 2.17s\n",
            "681:\tlearn: 0.0301585\ttotal: 4.64s\tremaining: 2.16s\n",
            "682:\tlearn: 0.0301024\ttotal: 4.65s\tremaining: 2.16s\n",
            "683:\tlearn: 0.0300776\ttotal: 4.66s\tremaining: 2.15s\n",
            "684:\tlearn: 0.0300406\ttotal: 4.67s\tremaining: 2.15s\n",
            "685:\tlearn: 0.0299874\ttotal: 4.67s\tremaining: 2.14s\n",
            "686:\tlearn: 0.0299611\ttotal: 4.68s\tremaining: 2.13s\n",
            "687:\tlearn: 0.0299029\ttotal: 4.69s\tremaining: 2.13s\n",
            "688:\tlearn: 0.0298450\ttotal: 4.69s\tremaining: 2.12s\n",
            "689:\tlearn: 0.0298065\ttotal: 4.7s\tremaining: 2.11s\n",
            "690:\tlearn: 0.0297883\ttotal: 4.71s\tremaining: 2.11s\n",
            "691:\tlearn: 0.0297577\ttotal: 4.72s\tremaining: 2.1s\n",
            "692:\tlearn: 0.0297166\ttotal: 4.72s\tremaining: 2.09s\n",
            "693:\tlearn: 0.0296938\ttotal: 4.73s\tremaining: 2.09s\n",
            "694:\tlearn: 0.0296185\ttotal: 4.74s\tremaining: 2.08s\n",
            "695:\tlearn: 0.0296049\ttotal: 4.75s\tremaining: 2.07s\n",
            "696:\tlearn: 0.0295479\ttotal: 4.75s\tremaining: 2.06s\n",
            "697:\tlearn: 0.0295120\ttotal: 4.76s\tremaining: 2.06s\n",
            "698:\tlearn: 0.0294921\ttotal: 4.76s\tremaining: 2.05s\n",
            "699:\tlearn: 0.0294303\ttotal: 4.77s\tremaining: 2.04s\n",
            "700:\tlearn: 0.0293777\ttotal: 4.78s\tremaining: 2.04s\n",
            "701:\tlearn: 0.0293658\ttotal: 4.78s\tremaining: 2.03s\n",
            "702:\tlearn: 0.0293165\ttotal: 4.79s\tremaining: 2.02s\n",
            "703:\tlearn: 0.0292869\ttotal: 4.8s\tremaining: 2.02s\n",
            "704:\tlearn: 0.0292346\ttotal: 4.8s\tremaining: 2.01s\n",
            "705:\tlearn: 0.0291933\ttotal: 4.81s\tremaining: 2s\n",
            "706:\tlearn: 0.0291884\ttotal: 4.82s\tremaining: 2s\n",
            "707:\tlearn: 0.0290689\ttotal: 4.82s\tremaining: 1.99s\n",
            "708:\tlearn: 0.0290398\ttotal: 4.83s\tremaining: 1.98s\n",
            "709:\tlearn: 0.0289450\ttotal: 4.83s\tremaining: 1.98s\n",
            "710:\tlearn: 0.0288943\ttotal: 4.84s\tremaining: 1.97s\n",
            "711:\tlearn: 0.0288294\ttotal: 4.85s\tremaining: 1.96s\n",
            "712:\tlearn: 0.0288149\ttotal: 4.85s\tremaining: 1.95s\n",
            "713:\tlearn: 0.0287958\ttotal: 4.86s\tremaining: 1.95s\n",
            "714:\tlearn: 0.0287056\ttotal: 4.87s\tremaining: 1.94s\n",
            "715:\tlearn: 0.0286758\ttotal: 4.87s\tremaining: 1.93s\n",
            "716:\tlearn: 0.0286545\ttotal: 4.88s\tremaining: 1.93s\n",
            "717:\tlearn: 0.0286454\ttotal: 4.89s\tremaining: 1.92s\n",
            "718:\tlearn: 0.0285913\ttotal: 4.89s\tremaining: 1.91s\n",
            "719:\tlearn: 0.0285382\ttotal: 4.9s\tremaining: 1.91s\n",
            "720:\tlearn: 0.0284904\ttotal: 4.91s\tremaining: 1.9s\n",
            "721:\tlearn: 0.0284356\ttotal: 4.92s\tremaining: 1.89s\n",
            "722:\tlearn: 0.0283664\ttotal: 4.92s\tremaining: 1.89s\n",
            "723:\tlearn: 0.0283329\ttotal: 4.93s\tremaining: 1.88s\n",
            "724:\tlearn: 0.0283045\ttotal: 4.93s\tremaining: 1.87s\n",
            "725:\tlearn: 0.0282713\ttotal: 4.94s\tremaining: 1.86s\n",
            "726:\tlearn: 0.0282483\ttotal: 4.95s\tremaining: 1.86s\n",
            "727:\tlearn: 0.0281643\ttotal: 4.96s\tremaining: 1.85s\n",
            "728:\tlearn: 0.0281303\ttotal: 4.96s\tremaining: 1.84s\n",
            "729:\tlearn: 0.0280775\ttotal: 4.97s\tremaining: 1.84s\n",
            "730:\tlearn: 0.0280584\ttotal: 4.98s\tremaining: 1.83s\n",
            "731:\tlearn: 0.0280367\ttotal: 4.98s\tremaining: 1.82s\n",
            "732:\tlearn: 0.0279700\ttotal: 4.99s\tremaining: 1.82s\n",
            "733:\tlearn: 0.0279643\ttotal: 5s\tremaining: 1.81s\n",
            "734:\tlearn: 0.0279499\ttotal: 5s\tremaining: 1.8s\n",
            "735:\tlearn: 0.0279460\ttotal: 5.01s\tremaining: 1.8s\n",
            "736:\tlearn: 0.0278612\ttotal: 5.02s\tremaining: 1.79s\n",
            "737:\tlearn: 0.0278189\ttotal: 5.03s\tremaining: 1.78s\n",
            "738:\tlearn: 0.0277856\ttotal: 5.03s\tremaining: 1.78s\n",
            "739:\tlearn: 0.0277252\ttotal: 5.04s\tremaining: 1.77s\n",
            "740:\tlearn: 0.0276634\ttotal: 5.05s\tremaining: 1.76s\n",
            "741:\tlearn: 0.0276449\ttotal: 5.05s\tremaining: 1.76s\n",
            "742:\tlearn: 0.0275631\ttotal: 5.06s\tremaining: 1.75s\n",
            "743:\tlearn: 0.0275383\ttotal: 5.07s\tremaining: 1.74s\n",
            "744:\tlearn: 0.0275237\ttotal: 5.07s\tremaining: 1.74s\n",
            "745:\tlearn: 0.0274812\ttotal: 5.08s\tremaining: 1.73s\n",
            "746:\tlearn: 0.0274102\ttotal: 5.09s\tremaining: 1.72s\n",
            "747:\tlearn: 0.0273573\ttotal: 5.09s\tremaining: 1.72s\n",
            "748:\tlearn: 0.0273262\ttotal: 5.1s\tremaining: 1.71s\n",
            "749:\tlearn: 0.0273113\ttotal: 5.11s\tremaining: 1.7s\n",
            "750:\tlearn: 0.0272858\ttotal: 5.12s\tremaining: 1.7s\n",
            "751:\tlearn: 0.0272462\ttotal: 5.13s\tremaining: 1.69s\n",
            "752:\tlearn: 0.0272107\ttotal: 5.13s\tremaining: 1.68s\n",
            "753:\tlearn: 0.0271674\ttotal: 5.14s\tremaining: 1.68s\n",
            "754:\tlearn: 0.0271351\ttotal: 5.14s\tremaining: 1.67s\n",
            "755:\tlearn: 0.0270945\ttotal: 5.15s\tremaining: 1.66s\n",
            "756:\tlearn: 0.0270492\ttotal: 5.16s\tremaining: 1.66s\n",
            "757:\tlearn: 0.0269929\ttotal: 5.16s\tremaining: 1.65s\n",
            "758:\tlearn: 0.0269667\ttotal: 5.17s\tremaining: 1.64s\n",
            "759:\tlearn: 0.0269598\ttotal: 5.18s\tremaining: 1.64s\n",
            "760:\tlearn: 0.0269273\ttotal: 5.18s\tremaining: 1.63s\n",
            "761:\tlearn: 0.0269104\ttotal: 5.19s\tremaining: 1.62s\n",
            "762:\tlearn: 0.0268783\ttotal: 5.2s\tremaining: 1.61s\n",
            "763:\tlearn: 0.0268335\ttotal: 5.2s\tremaining: 1.61s\n",
            "764:\tlearn: 0.0268075\ttotal: 5.21s\tremaining: 1.6s\n",
            "765:\tlearn: 0.0267963\ttotal: 5.22s\tremaining: 1.59s\n",
            "766:\tlearn: 0.0267508\ttotal: 5.22s\tremaining: 1.59s\n",
            "767:\tlearn: 0.0266964\ttotal: 5.23s\tremaining: 1.58s\n",
            "768:\tlearn: 0.0266868\ttotal: 5.24s\tremaining: 1.57s\n",
            "769:\tlearn: 0.0266001\ttotal: 5.24s\tremaining: 1.57s\n",
            "770:\tlearn: 0.0265736\ttotal: 5.25s\tremaining: 1.56s\n",
            "771:\tlearn: 0.0265577\ttotal: 5.26s\tremaining: 1.55s\n",
            "772:\tlearn: 0.0265191\ttotal: 5.26s\tremaining: 1.54s\n",
            "773:\tlearn: 0.0264818\ttotal: 5.27s\tremaining: 1.54s\n",
            "774:\tlearn: 0.0264619\ttotal: 5.28s\tremaining: 1.53s\n",
            "775:\tlearn: 0.0264465\ttotal: 5.28s\tremaining: 1.52s\n",
            "776:\tlearn: 0.0263915\ttotal: 5.29s\tremaining: 1.52s\n",
            "777:\tlearn: 0.0263654\ttotal: 5.29s\tremaining: 1.51s\n",
            "778:\tlearn: 0.0263238\ttotal: 5.3s\tremaining: 1.5s\n",
            "779:\tlearn: 0.0263122\ttotal: 5.31s\tremaining: 1.5s\n",
            "780:\tlearn: 0.0263073\ttotal: 5.32s\tremaining: 1.49s\n",
            "781:\tlearn: 0.0262675\ttotal: 5.32s\tremaining: 1.48s\n",
            "782:\tlearn: 0.0262223\ttotal: 5.33s\tremaining: 1.48s\n",
            "783:\tlearn: 0.0261890\ttotal: 5.34s\tremaining: 1.47s\n",
            "784:\tlearn: 0.0261890\ttotal: 5.34s\tremaining: 1.46s\n",
            "785:\tlearn: 0.0261745\ttotal: 5.35s\tremaining: 1.46s\n",
            "786:\tlearn: 0.0261490\ttotal: 5.36s\tremaining: 1.45s\n",
            "787:\tlearn: 0.0261274\ttotal: 5.36s\tremaining: 1.44s\n",
            "788:\tlearn: 0.0260719\ttotal: 5.37s\tremaining: 1.44s\n",
            "789:\tlearn: 0.0260330\ttotal: 5.38s\tremaining: 1.43s\n",
            "790:\tlearn: 0.0259849\ttotal: 5.38s\tremaining: 1.42s\n",
            "791:\tlearn: 0.0259775\ttotal: 5.39s\tremaining: 1.42s\n",
            "792:\tlearn: 0.0259483\ttotal: 5.4s\tremaining: 1.41s\n",
            "793:\tlearn: 0.0259314\ttotal: 5.41s\tremaining: 1.4s\n",
            "794:\tlearn: 0.0258826\ttotal: 5.41s\tremaining: 1.4s\n",
            "795:\tlearn: 0.0258810\ttotal: 5.42s\tremaining: 1.39s\n",
            "796:\tlearn: 0.0258390\ttotal: 5.43s\tremaining: 1.38s\n",
            "797:\tlearn: 0.0258390\ttotal: 5.43s\tremaining: 1.37s\n",
            "798:\tlearn: 0.0257970\ttotal: 5.43s\tremaining: 1.37s\n",
            "799:\tlearn: 0.0257891\ttotal: 5.44s\tremaining: 1.36s\n",
            "800:\tlearn: 0.0257488\ttotal: 5.45s\tremaining: 1.35s\n",
            "801:\tlearn: 0.0257443\ttotal: 5.45s\tremaining: 1.35s\n",
            "802:\tlearn: 0.0257363\ttotal: 5.46s\tremaining: 1.34s\n",
            "803:\tlearn: 0.0257171\ttotal: 5.47s\tremaining: 1.33s\n",
            "804:\tlearn: 0.0257135\ttotal: 5.47s\tremaining: 1.32s\n",
            "805:\tlearn: 0.0256740\ttotal: 5.48s\tremaining: 1.32s\n",
            "806:\tlearn: 0.0256364\ttotal: 5.49s\tremaining: 1.31s\n",
            "807:\tlearn: 0.0256097\ttotal: 5.49s\tremaining: 1.3s\n",
            "808:\tlearn: 0.0255942\ttotal: 5.5s\tremaining: 1.3s\n",
            "809:\tlearn: 0.0255495\ttotal: 5.5s\tremaining: 1.29s\n",
            "810:\tlearn: 0.0255318\ttotal: 5.51s\tremaining: 1.28s\n",
            "811:\tlearn: 0.0255054\ttotal: 5.52s\tremaining: 1.28s\n",
            "812:\tlearn: 0.0254753\ttotal: 5.53s\tremaining: 1.27s\n",
            "813:\tlearn: 0.0254474\ttotal: 5.53s\tremaining: 1.26s\n",
            "814:\tlearn: 0.0254375\ttotal: 5.54s\tremaining: 1.26s\n",
            "815:\tlearn: 0.0254117\ttotal: 5.54s\tremaining: 1.25s\n",
            "816:\tlearn: 0.0253702\ttotal: 5.55s\tremaining: 1.24s\n",
            "817:\tlearn: 0.0253238\ttotal: 5.56s\tremaining: 1.24s\n",
            "818:\tlearn: 0.0253098\ttotal: 5.56s\tremaining: 1.23s\n",
            "819:\tlearn: 0.0252931\ttotal: 5.57s\tremaining: 1.22s\n",
            "820:\tlearn: 0.0252815\ttotal: 5.58s\tremaining: 1.22s\n",
            "821:\tlearn: 0.0252651\ttotal: 5.58s\tremaining: 1.21s\n",
            "822:\tlearn: 0.0252320\ttotal: 5.59s\tremaining: 1.2s\n",
            "823:\tlearn: 0.0252097\ttotal: 5.6s\tremaining: 1.2s\n",
            "824:\tlearn: 0.0252036\ttotal: 5.6s\tremaining: 1.19s\n",
            "825:\tlearn: 0.0251894\ttotal: 5.61s\tremaining: 1.18s\n",
            "826:\tlearn: 0.0251805\ttotal: 5.62s\tremaining: 1.17s\n",
            "827:\tlearn: 0.0251261\ttotal: 5.62s\tremaining: 1.17s\n",
            "828:\tlearn: 0.0251111\ttotal: 5.63s\tremaining: 1.16s\n",
            "829:\tlearn: 0.0250927\ttotal: 5.63s\tremaining: 1.15s\n",
            "830:\tlearn: 0.0250788\ttotal: 5.64s\tremaining: 1.15s\n",
            "831:\tlearn: 0.0250634\ttotal: 5.65s\tremaining: 1.14s\n",
            "832:\tlearn: 0.0250204\ttotal: 5.66s\tremaining: 1.14s\n",
            "833:\tlearn: 0.0249752\ttotal: 5.67s\tremaining: 1.13s\n",
            "834:\tlearn: 0.0249555\ttotal: 5.67s\tremaining: 1.12s\n",
            "835:\tlearn: 0.0249247\ttotal: 5.68s\tremaining: 1.11s\n",
            "836:\tlearn: 0.0249230\ttotal: 5.69s\tremaining: 1.11s\n",
            "837:\tlearn: 0.0248475\ttotal: 5.69s\tremaining: 1.1s\n",
            "838:\tlearn: 0.0248294\ttotal: 5.7s\tremaining: 1.09s\n",
            "839:\tlearn: 0.0248067\ttotal: 5.71s\tremaining: 1.09s\n",
            "840:\tlearn: 0.0247746\ttotal: 5.71s\tremaining: 1.08s\n",
            "841:\tlearn: 0.0246815\ttotal: 5.72s\tremaining: 1.07s\n",
            "842:\tlearn: 0.0246709\ttotal: 5.73s\tremaining: 1.07s\n",
            "843:\tlearn: 0.0246207\ttotal: 5.74s\tremaining: 1.06s\n",
            "844:\tlearn: 0.0245972\ttotal: 5.74s\tremaining: 1.05s\n",
            "845:\tlearn: 0.0245877\ttotal: 5.75s\tremaining: 1.05s\n",
            "846:\tlearn: 0.0245576\ttotal: 5.75s\tremaining: 1.04s\n",
            "847:\tlearn: 0.0245512\ttotal: 5.76s\tremaining: 1.03s\n",
            "848:\tlearn: 0.0245089\ttotal: 5.77s\tremaining: 1.02s\n",
            "849:\tlearn: 0.0244848\ttotal: 5.77s\tremaining: 1.02s\n",
            "850:\tlearn: 0.0244392\ttotal: 5.78s\tremaining: 1.01s\n",
            "851:\tlearn: 0.0244229\ttotal: 5.79s\tremaining: 1s\n",
            "852:\tlearn: 0.0243836\ttotal: 5.79s\tremaining: 998ms\n",
            "853:\tlearn: 0.0243634\ttotal: 5.8s\tremaining: 992ms\n",
            "854:\tlearn: 0.0243474\ttotal: 5.81s\tremaining: 985ms\n",
            "855:\tlearn: 0.0243425\ttotal: 5.82s\tremaining: 978ms\n",
            "856:\tlearn: 0.0243371\ttotal: 5.82s\tremaining: 971ms\n",
            "857:\tlearn: 0.0243319\ttotal: 5.83s\tremaining: 965ms\n",
            "858:\tlearn: 0.0243058\ttotal: 5.83s\tremaining: 958ms\n",
            "859:\tlearn: 0.0242953\ttotal: 5.84s\tremaining: 951ms\n",
            "860:\tlearn: 0.0242560\ttotal: 5.85s\tremaining: 944ms\n",
            "861:\tlearn: 0.0242516\ttotal: 5.85s\tremaining: 937ms\n",
            "862:\tlearn: 0.0242321\ttotal: 5.86s\tremaining: 930ms\n",
            "863:\tlearn: 0.0242140\ttotal: 5.87s\tremaining: 923ms\n",
            "864:\tlearn: 0.0241891\ttotal: 5.87s\tremaining: 917ms\n",
            "865:\tlearn: 0.0241576\ttotal: 5.88s\tremaining: 910ms\n",
            "866:\tlearn: 0.0240982\ttotal: 5.88s\tremaining: 903ms\n",
            "867:\tlearn: 0.0240674\ttotal: 5.89s\tremaining: 896ms\n",
            "868:\tlearn: 0.0240321\ttotal: 5.9s\tremaining: 889ms\n",
            "869:\tlearn: 0.0240081\ttotal: 5.9s\tremaining: 882ms\n",
            "870:\tlearn: 0.0240003\ttotal: 5.91s\tremaining: 875ms\n",
            "871:\tlearn: 0.0239483\ttotal: 5.92s\tremaining: 869ms\n",
            "872:\tlearn: 0.0239450\ttotal: 5.92s\tremaining: 862ms\n",
            "873:\tlearn: 0.0239136\ttotal: 5.93s\tremaining: 855ms\n",
            "874:\tlearn: 0.0238883\ttotal: 5.94s\tremaining: 849ms\n",
            "875:\tlearn: 0.0238399\ttotal: 5.95s\tremaining: 842ms\n",
            "876:\tlearn: 0.0238051\ttotal: 5.95s\tremaining: 835ms\n",
            "877:\tlearn: 0.0237634\ttotal: 5.96s\tremaining: 828ms\n",
            "878:\tlearn: 0.0236993\ttotal: 5.97s\tremaining: 821ms\n",
            "879:\tlearn: 0.0236411\ttotal: 5.97s\tremaining: 815ms\n",
            "880:\tlearn: 0.0236238\ttotal: 5.98s\tremaining: 808ms\n",
            "881:\tlearn: 0.0236132\ttotal: 5.99s\tremaining: 801ms\n",
            "882:\tlearn: 0.0236129\ttotal: 5.99s\tremaining: 794ms\n",
            "883:\tlearn: 0.0235743\ttotal: 6s\tremaining: 787ms\n",
            "884:\tlearn: 0.0235675\ttotal: 6.01s\tremaining: 781ms\n",
            "885:\tlearn: 0.0235584\ttotal: 6.01s\tremaining: 774ms\n",
            "886:\tlearn: 0.0235438\ttotal: 6.02s\tremaining: 767ms\n",
            "887:\tlearn: 0.0235273\ttotal: 6.03s\tremaining: 760ms\n",
            "888:\tlearn: 0.0234801\ttotal: 6.03s\tremaining: 753ms\n",
            "889:\tlearn: 0.0234578\ttotal: 6.04s\tremaining: 746ms\n",
            "890:\tlearn: 0.0234455\ttotal: 6.04s\tremaining: 740ms\n",
            "891:\tlearn: 0.0234370\ttotal: 6.05s\tremaining: 733ms\n",
            "892:\tlearn: 0.0233936\ttotal: 6.06s\tremaining: 726ms\n",
            "893:\tlearn: 0.0233837\ttotal: 6.06s\tremaining: 719ms\n",
            "894:\tlearn: 0.0233414\ttotal: 6.07s\tremaining: 712ms\n",
            "895:\tlearn: 0.0233253\ttotal: 6.08s\tremaining: 705ms\n",
            "896:\tlearn: 0.0232578\ttotal: 6.08s\tremaining: 699ms\n",
            "897:\tlearn: 0.0231954\ttotal: 6.09s\tremaining: 692ms\n",
            "898:\tlearn: 0.0231571\ttotal: 6.1s\tremaining: 685ms\n",
            "899:\tlearn: 0.0230899\ttotal: 6.1s\tremaining: 678ms\n",
            "900:\tlearn: 0.0230267\ttotal: 6.11s\tremaining: 672ms\n",
            "901:\tlearn: 0.0229921\ttotal: 6.12s\tremaining: 665ms\n",
            "902:\tlearn: 0.0229570\ttotal: 6.13s\tremaining: 658ms\n",
            "903:\tlearn: 0.0229424\ttotal: 6.14s\tremaining: 652ms\n",
            "904:\tlearn: 0.0229385\ttotal: 6.15s\tremaining: 645ms\n",
            "905:\tlearn: 0.0229298\ttotal: 6.15s\tremaining: 639ms\n",
            "906:\tlearn: 0.0229222\ttotal: 6.16s\tremaining: 632ms\n",
            "907:\tlearn: 0.0229222\ttotal: 6.17s\tremaining: 625ms\n",
            "908:\tlearn: 0.0229106\ttotal: 6.17s\tremaining: 618ms\n",
            "909:\tlearn: 0.0228715\ttotal: 6.18s\tremaining: 611ms\n",
            "910:\tlearn: 0.0228153\ttotal: 6.19s\tremaining: 604ms\n",
            "911:\tlearn: 0.0227818\ttotal: 6.19s\tremaining: 598ms\n",
            "912:\tlearn: 0.0227631\ttotal: 6.2s\tremaining: 591ms\n",
            "913:\tlearn: 0.0227238\ttotal: 6.21s\tremaining: 584ms\n",
            "914:\tlearn: 0.0226837\ttotal: 6.21s\tremaining: 577ms\n",
            "915:\tlearn: 0.0226737\ttotal: 6.22s\tremaining: 570ms\n",
            "916:\tlearn: 0.0226712\ttotal: 6.23s\tremaining: 564ms\n",
            "917:\tlearn: 0.0226289\ttotal: 6.23s\tremaining: 557ms\n",
            "918:\tlearn: 0.0226156\ttotal: 6.24s\tremaining: 550ms\n",
            "919:\tlearn: 0.0225784\ttotal: 6.25s\tremaining: 543ms\n",
            "920:\tlearn: 0.0225705\ttotal: 6.25s\tremaining: 536ms\n",
            "921:\tlearn: 0.0225290\ttotal: 6.26s\tremaining: 530ms\n",
            "922:\tlearn: 0.0225131\ttotal: 6.27s\tremaining: 523ms\n",
            "923:\tlearn: 0.0224910\ttotal: 6.27s\tremaining: 516ms\n",
            "924:\tlearn: 0.0224666\ttotal: 6.28s\tremaining: 509ms\n",
            "925:\tlearn: 0.0224314\ttotal: 6.29s\tremaining: 502ms\n",
            "926:\tlearn: 0.0224189\ttotal: 6.29s\tremaining: 496ms\n",
            "927:\tlearn: 0.0223959\ttotal: 6.3s\tremaining: 489ms\n",
            "928:\tlearn: 0.0223879\ttotal: 6.31s\tremaining: 482ms\n",
            "929:\tlearn: 0.0223778\ttotal: 6.31s\tremaining: 475ms\n",
            "930:\tlearn: 0.0223557\ttotal: 6.32s\tremaining: 468ms\n",
            "931:\tlearn: 0.0223080\ttotal: 6.33s\tremaining: 462ms\n",
            "932:\tlearn: 0.0222854\ttotal: 6.33s\tremaining: 455ms\n",
            "933:\tlearn: 0.0222736\ttotal: 6.34s\tremaining: 448ms\n",
            "934:\tlearn: 0.0222562\ttotal: 6.35s\tremaining: 441ms\n",
            "935:\tlearn: 0.0222430\ttotal: 6.35s\tremaining: 434ms\n",
            "936:\tlearn: 0.0222345\ttotal: 6.36s\tremaining: 428ms\n",
            "937:\tlearn: 0.0221836\ttotal: 6.37s\tremaining: 421ms\n",
            "938:\tlearn: 0.0221547\ttotal: 6.38s\tremaining: 414ms\n",
            "939:\tlearn: 0.0221499\ttotal: 6.38s\tremaining: 407ms\n",
            "940:\tlearn: 0.0221107\ttotal: 6.39s\tremaining: 401ms\n",
            "941:\tlearn: 0.0220951\ttotal: 6.39s\tremaining: 394ms\n",
            "942:\tlearn: 0.0220817\ttotal: 6.4s\tremaining: 387ms\n",
            "943:\tlearn: 0.0220594\ttotal: 6.41s\tremaining: 380ms\n",
            "944:\tlearn: 0.0219915\ttotal: 6.42s\tremaining: 373ms\n",
            "945:\tlearn: 0.0219914\ttotal: 6.42s\tremaining: 367ms\n",
            "946:\tlearn: 0.0219565\ttotal: 6.43s\tremaining: 360ms\n",
            "947:\tlearn: 0.0219235\ttotal: 6.43s\tremaining: 353ms\n",
            "948:\tlearn: 0.0219128\ttotal: 6.44s\tremaining: 346ms\n",
            "949:\tlearn: 0.0218806\ttotal: 6.45s\tremaining: 339ms\n",
            "950:\tlearn: 0.0218719\ttotal: 6.45s\tremaining: 333ms\n",
            "951:\tlearn: 0.0218632\ttotal: 6.46s\tremaining: 326ms\n",
            "952:\tlearn: 0.0218352\ttotal: 6.46s\tremaining: 319ms\n",
            "953:\tlearn: 0.0218250\ttotal: 6.47s\tremaining: 312ms\n",
            "954:\tlearn: 0.0218166\ttotal: 6.48s\tremaining: 305ms\n",
            "955:\tlearn: 0.0217968\ttotal: 6.49s\tremaining: 298ms\n",
            "956:\tlearn: 0.0217756\ttotal: 6.49s\tremaining: 292ms\n",
            "957:\tlearn: 0.0217411\ttotal: 6.5s\tremaining: 285ms\n",
            "958:\tlearn: 0.0216960\ttotal: 6.5s\tremaining: 278ms\n",
            "959:\tlearn: 0.0216807\ttotal: 6.51s\tremaining: 271ms\n",
            "960:\tlearn: 0.0216538\ttotal: 6.52s\tremaining: 264ms\n",
            "961:\tlearn: 0.0216194\ttotal: 6.52s\tremaining: 258ms\n",
            "962:\tlearn: 0.0216096\ttotal: 6.53s\tremaining: 251ms\n",
            "963:\tlearn: 0.0215972\ttotal: 6.54s\tremaining: 244ms\n",
            "964:\tlearn: 0.0215598\ttotal: 6.54s\tremaining: 237ms\n",
            "965:\tlearn: 0.0215463\ttotal: 6.55s\tremaining: 231ms\n",
            "966:\tlearn: 0.0214921\ttotal: 6.56s\tremaining: 224ms\n",
            "967:\tlearn: 0.0214541\ttotal: 6.57s\tremaining: 217ms\n",
            "968:\tlearn: 0.0213897\ttotal: 6.57s\tremaining: 210ms\n",
            "969:\tlearn: 0.0213422\ttotal: 6.58s\tremaining: 203ms\n",
            "970:\tlearn: 0.0212996\ttotal: 6.58s\tremaining: 197ms\n",
            "971:\tlearn: 0.0212780\ttotal: 6.59s\tremaining: 190ms\n",
            "972:\tlearn: 0.0212495\ttotal: 6.6s\tremaining: 183ms\n",
            "973:\tlearn: 0.0212329\ttotal: 6.6s\tremaining: 176ms\n",
            "974:\tlearn: 0.0212131\ttotal: 6.61s\tremaining: 169ms\n",
            "975:\tlearn: 0.0211951\ttotal: 6.62s\tremaining: 163ms\n",
            "976:\tlearn: 0.0211815\ttotal: 6.62s\tremaining: 156ms\n",
            "977:\tlearn: 0.0211737\ttotal: 6.63s\tremaining: 149ms\n",
            "978:\tlearn: 0.0211175\ttotal: 6.64s\tremaining: 142ms\n",
            "979:\tlearn: 0.0210988\ttotal: 6.64s\tremaining: 136ms\n",
            "980:\tlearn: 0.0210956\ttotal: 6.65s\tremaining: 129ms\n",
            "981:\tlearn: 0.0210709\ttotal: 6.66s\tremaining: 122ms\n",
            "982:\tlearn: 0.0210295\ttotal: 6.67s\tremaining: 115ms\n",
            "983:\tlearn: 0.0210193\ttotal: 6.67s\tremaining: 109ms\n",
            "984:\tlearn: 0.0209646\ttotal: 6.68s\tremaining: 102ms\n",
            "985:\tlearn: 0.0209580\ttotal: 6.69s\tremaining: 94.9ms\n",
            "986:\tlearn: 0.0209239\ttotal: 6.69s\tremaining: 88.2ms\n",
            "987:\tlearn: 0.0208988\ttotal: 6.7s\tremaining: 81.4ms\n",
            "988:\tlearn: 0.0208698\ttotal: 6.71s\tremaining: 74.6ms\n",
            "989:\tlearn: 0.0208503\ttotal: 6.71s\tremaining: 67.8ms\n",
            "990:\tlearn: 0.0208278\ttotal: 6.72s\tremaining: 61ms\n",
            "991:\tlearn: 0.0207778\ttotal: 6.73s\tremaining: 54.2ms\n",
            "992:\tlearn: 0.0207688\ttotal: 6.73s\tremaining: 47.5ms\n",
            "993:\tlearn: 0.0207592\ttotal: 6.74s\tremaining: 40.7ms\n",
            "994:\tlearn: 0.0207363\ttotal: 6.75s\tremaining: 33.9ms\n",
            "995:\tlearn: 0.0206912\ttotal: 6.75s\tremaining: 27.1ms\n",
            "996:\tlearn: 0.0206479\ttotal: 6.76s\tremaining: 20.3ms\n",
            "997:\tlearn: 0.0206350\ttotal: 6.77s\tremaining: 13.6ms\n",
            "998:\tlearn: 0.0206238\ttotal: 6.77s\tremaining: 6.78ms\n",
            "999:\tlearn: 0.0205851\ttotal: 6.78s\tremaining: 0us\n"
          ],
          "name": "stdout"
        },
        {
          "output_type": "execute_result",
          "data": {
            "text/plain": [
              "<catboost.core.CatBoostClassifier at 0x7f3d6affd898>"
            ]
          },
          "metadata": {
            "tags": []
          },
          "execution_count": 55
        }
      ]
    },
    {
      "cell_type": "markdown",
      "metadata": {
        "id": "nU5wklj-qtxF"
      },
      "source": [
        "### Creating and evaluating predictions on the test data"
      ]
    },
    {
      "cell_type": "code",
      "metadata": {
        "id": "Rdud2vl_Gvzp"
      },
      "source": [
        "preds_class = cbc.predict(X_test_scaled)"
      ],
      "execution_count": null,
      "outputs": []
    },
    {
      "cell_type": "code",
      "metadata": {
        "id": "Bc0RV1wtIXoE",
        "outputId": "39238f0a-3b42-41f7-e581-fe3fbc7670bb",
        "colab": {
          "base_uri": "https://localhost:8080/",
          "height": 479
        }
      },
      "source": [
        "#count how many transactions were predicted to be legit and how many predicted fraud\n",
        "preds = [sum(preds_class == 0), sum(preds_class == 1)]\n",
        "plt.figure(figsize = (7,7))\n",
        "#create a barplot to visualize prediction count\n",
        "splot = sns.barplot(x = ['Legit','Fraud'], y = preds)\n",
        "plt.title(\"Predictions on test data\\nCatBoost, random undersampling\")\n",
        "plt.xlabel(\"Predictions\")\n",
        "plt.ylabel(\"Count\")\n",
        "\n",
        "# adds numbers above each bar\n",
        "for p in splot.patches:\n",
        "    splot.annotate(format(p.get_height(), '.0f'), \n",
        "                   (p.get_x() + p.get_width() / 2., p.get_height() - 300), \n",
        "                   ha = 'center', va = 'center', \n",
        "                   xytext = (0, 9), \n",
        "                   textcoords = 'offset points')\n",
        "plt.show()"
      ],
      "execution_count": null,
      "outputs": [
        {
          "output_type": "display_data",
          "data": {
            "image/png": "[encoded data removed]",
            "text/plain": [
              "<Figure size 504x504 with 1 Axes>"
            ]
          },
          "metadata": {
            "tags": []
          }
        }
      ]
    },
    {
      "cell_type": "code",
      "metadata": {
        "id": "lRl33dezIZHQ",
        "outputId": "f8ae5ca7-2b62-4aff-ce87-9700a810da0f",
        "colab": {
          "base_uri": "https://localhost:8080/",
          "height": 170
        }
      },
      "source": [
        "print(classification_report(y_test, preds_class, zero_division=0))"
      ],
      "execution_count": null,
      "outputs": [
        {
          "output_type": "stream",
          "text": [
            "              precision    recall  f1-score   support\n",
            "\n",
            "           0       1.00      0.93      0.96     71079\n",
            "           1       0.02      0.95      0.04       123\n",
            "\n",
            "    accuracy                           0.93     71202\n",
            "   macro avg       0.51      0.94      0.50     71202\n",
            "weighted avg       1.00      0.93      0.96     71202\n",
            "\n"
          ],
          "name": "stdout"
        }
      ]
    },
    {
      "cell_type": "markdown",
      "metadata": {
        "id": "ZYx_-Q3GNpEE"
      },
      "source": [
        "The recall for both classes is very good, but the precision for the fraud class remains quite poor."
      ]
    },
    {
      "cell_type": "code",
      "metadata": {
        "id": "b171-ECwJKKz"
      },
      "source": [
        "conf_mat=confusion_matrix(y_test, preds_class)"
      ],
      "execution_count": null,
      "outputs": []
    },
    {
      "cell_type": "code",
      "metadata": {
        "id": "UE1mjFG2JKK5",
        "outputId": "a2770a8b-092b-4f63-d487-e69c5f91518f",
        "colab": {
          "base_uri": "https://localhost:8080/",
          "height": 316
        }
      },
      "source": [
        "plt.figure(figsize=(4, 4))\n",
        "sns.heatmap(conf_mat, square=True, annot=True, fmt='d', cbar=False)\n",
        "plt.title(\"Confusion matrix - test set\\nCatBoost - undersampling (50/50)\")\n",
        "plt.xlabel('Predicted label')\n",
        "plt.ylabel('True label')\n",
        "plt.show()"
      ],
      "execution_count": null,
      "outputs": [
        {
          "output_type": "display_data",
          "data": {
            "image/png": "[encoded data removed]",
            "text/plain": [
              "<Figure size 288x288 with 1 Axes>"
            ]
          },
          "metadata": {
            "tags": []
          }
        }
      ]
    },
    {
      "cell_type": "markdown",
      "metadata": {
        "id": "BdTl8ARZNxKw"
      },
      "source": [
        "And here we see what is causing our fraudulent class's precision to tank - a majority of data points that were classified as fraud are actually legit. However, this model still performs even better than any previous model tested thus far."
      ]
    },
    {
      "cell_type": "markdown",
      "metadata": {
        "id": "hcq-V1zcv8x-"
      },
      "source": [
        "### 5% fraud sample"
      ]
    },
    {
      "cell_type": "markdown",
      "metadata": {
        "id": "GvK_OXNxs5XJ"
      },
      "source": [
        "We can adjust the ratio in our random undersampling so that `RandomUnderSampler` samples more legitimate transactions. We want CatBoost to know that legit transactions are more common than fraudulent ones. Here we attempt setting it to 5%:"
      ]
    },
    {
      "cell_type": "code",
      "metadata": {
        "id": "3SUoHjoksr8K"
      },
      "source": [
        "rus_more_legit = RandomUnderSampler(ratio=0.05)"
      ],
      "execution_count": null,
      "outputs": []
    },
    {
      "cell_type": "code",
      "metadata": {
        "id": "ma0-AdQ6IYyi",
        "outputId": "5b6a2cda-4538-4fe2-ccbc-99ee29f9dde5",
        "colab": {
          "base_uri": "https://localhost:8080/",
          "height": 51
        }
      },
      "source": [
        "X_train_rs_2, y_train_rs_2 = rus_more_legit.fit_resample(X_train_scaled, y_train) #resample a new training set from the existing one"
      ],
      "execution_count": null,
      "outputs": [
        {
          "output_type": "stream",
          "text": [
            "/usr/local/lib/python3.6/dist-packages/sklearn/utils/deprecation.py:87: FutureWarning: Function safe_indexing is deprecated; safe_indexing is deprecated in version 0.22 and will be removed in version 0.24.\n",
            "  warnings.warn(msg, category=FutureWarning)\n"
          ],
          "name": "stderr"
        }
      ]
    },
    {
      "cell_type": "code",
      "metadata": {
        "id": "fM0s0w6QtSLf",
        "outputId": "7afab483-5d14-47d5-ad02-a2b930ef33d8",
        "colab": {
          "base_uri": "https://localhost:8080/",
          "height": 34
        }
      },
      "source": [
        "X_train_rs_2.shape, y_train_rs_2.shape #verify size of training sets"
      ],
      "execution_count": null,
      "outputs": [
        {
          "output_type": "execute_result",
          "data": {
            "text/plain": [
              "((7749, 30), (7749,))"
            ]
          },
          "metadata": {
            "tags": []
          },
          "execution_count": 38
        }
      ]
    },
    {
      "cell_type": "code",
      "metadata": {
        "id": "0MnuKXiCtSLl",
        "outputId": "bfe8d4d3-a113-4041-8f90-568e71ac7fbd",
        "colab": {
          "base_uri": "https://localhost:8080/",
          "height": 51
        }
      },
      "source": [
        "fraud_count_rus=sum(y_train_rs_2==1)\n",
        "legit_count_rus=sum(y_train_rs_2==0)\n",
        "print(\"Number of legitimate transactions: {} ({:.0f}% of total)\".format(legit_count_rus, 100*legit_count_rus/(fraud_count_rus+legit_count_rus)))\n",
        "print(\"Number of fraudulent transactions: {} ({:.0f}% of total)\".format(fraud_count_rus, 100*fraud_count_rus/(fraud_count_rus+legit_count_rus)))"
      ],
      "execution_count": null,
      "outputs": [
        {
          "output_type": "stream",
          "text": [
            "Number of legitimate transactions: 7380 (95% of total)\n",
            "Number of fraudulent transactions: 369 (5% of total)\n"
          ],
          "name": "stdout"
        }
      ]
    },
    {
      "cell_type": "code",
      "metadata": {
        "id": "UEIR4RLetZzd"
      },
      "source": [
        "cbc2 = CatBoostClassifier(class_weights=[1, 10])"
      ],
      "execution_count": null,
      "outputs": []
    },
    {
      "cell_type": "code",
      "metadata": {
        "id": "FWpc6lW_tZow",
        "outputId": "e6aec2a4-c63c-4319-e1e3-adf6738d359d",
        "colab": {
          "base_uri": "https://localhost:8080/",
          "height": 1000
        }
      },
      "source": [
        "cbc2.fit(X_train_rs_2, y_train_rs_2)"
      ],
      "execution_count": null,
      "outputs": [
        {
          "output_type": "stream",
          "text": [
            "Learning rate set to 0.024697\n",
            "0:\tlearn: 0.6524309\ttotal: 10.1ms\tremaining: 10s\n",
            "1:\tlearn: 0.6127699\ttotal: 20.1ms\tremaining: 10s\n",
            "2:\tlearn: 0.5703745\ttotal: 31.2ms\tremaining: 10.4s\n",
            "3:\tlearn: 0.5381994\ttotal: 40.4ms\tremaining: 10.1s\n",
            "4:\tlearn: 0.5049646\ttotal: 49.4ms\tremaining: 9.82s\n",
            "5:\tlearn: 0.4757695\ttotal: 58.6ms\tremaining: 9.7s\n",
            "6:\tlearn: 0.4524973\ttotal: 67.5ms\tremaining: 9.57s\n",
            "7:\tlearn: 0.4312354\ttotal: 76.4ms\tremaining: 9.48s\n",
            "8:\tlearn: 0.4098739\ttotal: 85.5ms\tremaining: 9.42s\n",
            "9:\tlearn: 0.3870971\ttotal: 94.4ms\tremaining: 9.34s\n",
            "10:\tlearn: 0.3633777\ttotal: 104ms\tremaining: 9.31s\n",
            "11:\tlearn: 0.3464614\ttotal: 112ms\tremaining: 9.25s\n",
            "12:\tlearn: 0.3298909\ttotal: 122ms\tremaining: 9.24s\n",
            "13:\tlearn: 0.3149913\ttotal: 131ms\tremaining: 9.2s\n",
            "14:\tlearn: 0.3012638\ttotal: 140ms\tremaining: 9.16s\n",
            "15:\tlearn: 0.2888892\ttotal: 148ms\tremaining: 9.13s\n",
            "16:\tlearn: 0.2761737\ttotal: 157ms\tremaining: 9.1s\n",
            "17:\tlearn: 0.2665873\ttotal: 167ms\tremaining: 9.08s\n",
            "18:\tlearn: 0.2557490\ttotal: 175ms\tremaining: 9.06s\n",
            "19:\tlearn: 0.2458044\ttotal: 187ms\tremaining: 9.16s\n",
            "20:\tlearn: 0.2356526\ttotal: 196ms\tremaining: 9.13s\n",
            "21:\tlearn: 0.2285629\ttotal: 207ms\tremaining: 9.21s\n",
            "22:\tlearn: 0.2199762\ttotal: 217ms\tremaining: 9.2s\n",
            "23:\tlearn: 0.2119814\ttotal: 227ms\tremaining: 9.23s\n",
            "24:\tlearn: 0.2043105\ttotal: 236ms\tremaining: 9.2s\n",
            "25:\tlearn: 0.1967075\ttotal: 245ms\tremaining: 9.18s\n",
            "26:\tlearn: 0.1908601\ttotal: 254ms\tremaining: 9.15s\n",
            "27:\tlearn: 0.1862920\ttotal: 263ms\tremaining: 9.12s\n",
            "28:\tlearn: 0.1810629\ttotal: 272ms\tremaining: 9.1s\n",
            "29:\tlearn: 0.1748178\ttotal: 281ms\tremaining: 9.08s\n",
            "30:\tlearn: 0.1691603\ttotal: 290ms\tremaining: 9.06s\n",
            "31:\tlearn: 0.1653192\ttotal: 299ms\tremaining: 9.04s\n",
            "32:\tlearn: 0.1609122\ttotal: 308ms\tremaining: 9.03s\n",
            "33:\tlearn: 0.1577876\ttotal: 319ms\tremaining: 9.05s\n",
            "34:\tlearn: 0.1541464\ttotal: 328ms\tremaining: 9.04s\n",
            "35:\tlearn: 0.1514122\ttotal: 337ms\tremaining: 9.02s\n",
            "36:\tlearn: 0.1488914\ttotal: 346ms\tremaining: 9s\n",
            "37:\tlearn: 0.1460067\ttotal: 355ms\tremaining: 8.98s\n",
            "38:\tlearn: 0.1433119\ttotal: 364ms\tremaining: 8.97s\n",
            "39:\tlearn: 0.1409093\ttotal: 373ms\tremaining: 8.95s\n",
            "40:\tlearn: 0.1390741\ttotal: 382ms\tremaining: 8.95s\n",
            "41:\tlearn: 0.1365699\ttotal: 392ms\tremaining: 8.93s\n",
            "42:\tlearn: 0.1347294\ttotal: 401ms\tremaining: 8.91s\n",
            "43:\tlearn: 0.1331877\ttotal: 413ms\tremaining: 8.96s\n",
            "44:\tlearn: 0.1314578\ttotal: 424ms\tremaining: 8.99s\n",
            "45:\tlearn: 0.1290477\ttotal: 433ms\tremaining: 8.98s\n",
            "46:\tlearn: 0.1264623\ttotal: 442ms\tremaining: 8.97s\n",
            "47:\tlearn: 0.1238515\ttotal: 451ms\tremaining: 8.95s\n",
            "48:\tlearn: 0.1226573\ttotal: 460ms\tremaining: 8.94s\n",
            "49:\tlearn: 0.1215531\ttotal: 470ms\tremaining: 8.93s\n",
            "50:\tlearn: 0.1192670\ttotal: 479ms\tremaining: 8.92s\n",
            "51:\tlearn: 0.1174481\ttotal: 489ms\tremaining: 8.91s\n",
            "52:\tlearn: 0.1157061\ttotal: 498ms\tremaining: 8.89s\n",
            "53:\tlearn: 0.1145301\ttotal: 508ms\tremaining: 8.9s\n",
            "54:\tlearn: 0.1135234\ttotal: 518ms\tremaining: 8.91s\n",
            "55:\tlearn: 0.1121228\ttotal: 527ms\tremaining: 8.89s\n",
            "56:\tlearn: 0.1111463\ttotal: 536ms\tremaining: 8.87s\n",
            "57:\tlearn: 0.1100440\ttotal: 545ms\tremaining: 8.86s\n",
            "58:\tlearn: 0.1084262\ttotal: 554ms\tremaining: 8.84s\n",
            "59:\tlearn: 0.1068894\ttotal: 563ms\tremaining: 8.82s\n",
            "60:\tlearn: 0.1051748\ttotal: 572ms\tremaining: 8.8s\n",
            "61:\tlearn: 0.1038571\ttotal: 582ms\tremaining: 8.8s\n",
            "62:\tlearn: 0.1024789\ttotal: 597ms\tremaining: 8.88s\n",
            "63:\tlearn: 0.1013155\ttotal: 606ms\tremaining: 8.86s\n",
            "64:\tlearn: 0.0998849\ttotal: 618ms\tremaining: 8.88s\n",
            "65:\tlearn: 0.0990780\ttotal: 627ms\tremaining: 8.87s\n",
            "66:\tlearn: 0.0977353\ttotal: 636ms\tremaining: 8.85s\n",
            "67:\tlearn: 0.0970478\ttotal: 645ms\tremaining: 8.84s\n",
            "68:\tlearn: 0.0958290\ttotal: 654ms\tremaining: 8.83s\n",
            "69:\tlearn: 0.0948297\ttotal: 663ms\tremaining: 8.81s\n",
            "70:\tlearn: 0.0939352\ttotal: 672ms\tremaining: 8.8s\n",
            "71:\tlearn: 0.0930719\ttotal: 681ms\tremaining: 8.78s\n",
            "72:\tlearn: 0.0920655\ttotal: 691ms\tremaining: 8.77s\n",
            "73:\tlearn: 0.0913247\ttotal: 702ms\tremaining: 8.78s\n",
            "74:\tlearn: 0.0901691\ttotal: 712ms\tremaining: 8.78s\n",
            "75:\tlearn: 0.0892723\ttotal: 727ms\tremaining: 8.84s\n",
            "76:\tlearn: 0.0883064\ttotal: 738ms\tremaining: 8.85s\n",
            "77:\tlearn: 0.0872180\ttotal: 748ms\tremaining: 8.84s\n",
            "78:\tlearn: 0.0867561\ttotal: 757ms\tremaining: 8.82s\n",
            "79:\tlearn: 0.0861600\ttotal: 765ms\tremaining: 8.8s\n",
            "80:\tlearn: 0.0855384\ttotal: 775ms\tremaining: 8.79s\n",
            "81:\tlearn: 0.0848676\ttotal: 784ms\tremaining: 8.77s\n",
            "82:\tlearn: 0.0841448\ttotal: 793ms\tremaining: 8.76s\n",
            "83:\tlearn: 0.0831053\ttotal: 802ms\tremaining: 8.75s\n",
            "84:\tlearn: 0.0823430\ttotal: 812ms\tremaining: 8.74s\n",
            "85:\tlearn: 0.0814219\ttotal: 824ms\tremaining: 8.75s\n",
            "86:\tlearn: 0.0802979\ttotal: 833ms\tremaining: 8.74s\n",
            "87:\tlearn: 0.0799265\ttotal: 842ms\tremaining: 8.73s\n",
            "88:\tlearn: 0.0792913\ttotal: 851ms\tremaining: 8.71s\n",
            "89:\tlearn: 0.0787095\ttotal: 861ms\tremaining: 8.7s\n",
            "90:\tlearn: 0.0779797\ttotal: 870ms\tremaining: 8.69s\n",
            "91:\tlearn: 0.0773973\ttotal: 879ms\tremaining: 8.67s\n",
            "92:\tlearn: 0.0767988\ttotal: 890ms\tremaining: 8.68s\n",
            "93:\tlearn: 0.0761085\ttotal: 899ms\tremaining: 8.67s\n",
            "94:\tlearn: 0.0755357\ttotal: 909ms\tremaining: 8.66s\n",
            "95:\tlearn: 0.0749701\ttotal: 920ms\tremaining: 8.67s\n",
            "96:\tlearn: 0.0742012\ttotal: 930ms\tremaining: 8.65s\n",
            "97:\tlearn: 0.0736710\ttotal: 940ms\tremaining: 8.65s\n",
            "98:\tlearn: 0.0728679\ttotal: 949ms\tremaining: 8.64s\n",
            "99:\tlearn: 0.0720149\ttotal: 959ms\tremaining: 8.63s\n",
            "100:\tlearn: 0.0711455\ttotal: 969ms\tremaining: 8.62s\n",
            "101:\tlearn: 0.0706274\ttotal: 978ms\tremaining: 8.61s\n",
            "102:\tlearn: 0.0703544\ttotal: 987ms\tremaining: 8.59s\n",
            "103:\tlearn: 0.0697422\ttotal: 996ms\tremaining: 8.58s\n",
            "104:\tlearn: 0.0690620\ttotal: 1s\tremaining: 8.57s\n",
            "105:\tlearn: 0.0686223\ttotal: 1.01s\tremaining: 8.55s\n",
            "106:\tlearn: 0.0683142\ttotal: 1.02s\tremaining: 8.55s\n",
            "107:\tlearn: 0.0678900\ttotal: 1.03s\tremaining: 8.55s\n",
            "108:\tlearn: 0.0673482\ttotal: 1.04s\tremaining: 8.53s\n",
            "109:\tlearn: 0.0667657\ttotal: 1.05s\tremaining: 8.52s\n",
            "110:\tlearn: 0.0662130\ttotal: 1.06s\tremaining: 8.51s\n",
            "111:\tlearn: 0.0658128\ttotal: 1.07s\tremaining: 8.49s\n",
            "112:\tlearn: 0.0652411\ttotal: 1.08s\tremaining: 8.49s\n",
            "113:\tlearn: 0.0646972\ttotal: 1.09s\tremaining: 8.48s\n",
            "114:\tlearn: 0.0642416\ttotal: 1.1s\tremaining: 8.47s\n",
            "115:\tlearn: 0.0635882\ttotal: 1.11s\tremaining: 8.46s\n",
            "116:\tlearn: 0.0631740\ttotal: 1.12s\tremaining: 8.45s\n",
            "117:\tlearn: 0.0626912\ttotal: 1.13s\tremaining: 8.44s\n",
            "118:\tlearn: 0.0624000\ttotal: 1.14s\tremaining: 8.43s\n",
            "119:\tlearn: 0.0619540\ttotal: 1.15s\tremaining: 8.41s\n",
            "120:\tlearn: 0.0614213\ttotal: 1.16s\tremaining: 8.4s\n",
            "121:\tlearn: 0.0610264\ttotal: 1.17s\tremaining: 8.38s\n",
            "122:\tlearn: 0.0607141\ttotal: 1.17s\tremaining: 8.37s\n",
            "123:\tlearn: 0.0604023\ttotal: 1.18s\tremaining: 8.36s\n",
            "124:\tlearn: 0.0597061\ttotal: 1.19s\tremaining: 8.35s\n",
            "125:\tlearn: 0.0594583\ttotal: 1.2s\tremaining: 8.34s\n",
            "126:\tlearn: 0.0590283\ttotal: 1.21s\tremaining: 8.32s\n",
            "127:\tlearn: 0.0583452\ttotal: 1.22s\tremaining: 8.31s\n",
            "128:\tlearn: 0.0579829\ttotal: 1.23s\tremaining: 8.31s\n",
            "129:\tlearn: 0.0577509\ttotal: 1.24s\tremaining: 8.3s\n",
            "130:\tlearn: 0.0571146\ttotal: 1.25s\tremaining: 8.29s\n",
            "131:\tlearn: 0.0568300\ttotal: 1.26s\tremaining: 8.28s\n",
            "132:\tlearn: 0.0565524\ttotal: 1.27s\tremaining: 8.26s\n",
            "133:\tlearn: 0.0561723\ttotal: 1.28s\tremaining: 8.26s\n",
            "134:\tlearn: 0.0555346\ttotal: 1.29s\tremaining: 8.25s\n",
            "135:\tlearn: 0.0550274\ttotal: 1.3s\tremaining: 8.24s\n",
            "136:\tlearn: 0.0547748\ttotal: 1.31s\tremaining: 8.23s\n",
            "137:\tlearn: 0.0540834\ttotal: 1.32s\tremaining: 8.22s\n",
            "138:\tlearn: 0.0538520\ttotal: 1.32s\tremaining: 8.21s\n",
            "139:\tlearn: 0.0534567\ttotal: 1.33s\tremaining: 8.2s\n",
            "140:\tlearn: 0.0530143\ttotal: 1.34s\tremaining: 8.18s\n",
            "141:\tlearn: 0.0525482\ttotal: 1.35s\tremaining: 8.17s\n",
            "142:\tlearn: 0.0521566\ttotal: 1.36s\tremaining: 8.16s\n",
            "143:\tlearn: 0.0518650\ttotal: 1.37s\tremaining: 8.15s\n",
            "144:\tlearn: 0.0512824\ttotal: 1.38s\tremaining: 8.14s\n",
            "145:\tlearn: 0.0509611\ttotal: 1.39s\tremaining: 8.13s\n",
            "146:\tlearn: 0.0506424\ttotal: 1.4s\tremaining: 8.12s\n",
            "147:\tlearn: 0.0501822\ttotal: 1.41s\tremaining: 8.11s\n",
            "148:\tlearn: 0.0498573\ttotal: 1.42s\tremaining: 8.09s\n",
            "149:\tlearn: 0.0494655\ttotal: 1.43s\tremaining: 8.08s\n",
            "150:\tlearn: 0.0490089\ttotal: 1.44s\tremaining: 8.09s\n",
            "151:\tlearn: 0.0485733\ttotal: 1.45s\tremaining: 8.08s\n",
            "152:\tlearn: 0.0482168\ttotal: 1.46s\tremaining: 8.07s\n",
            "153:\tlearn: 0.0479729\ttotal: 1.47s\tremaining: 8.06s\n",
            "154:\tlearn: 0.0476792\ttotal: 1.48s\tremaining: 8.05s\n",
            "155:\tlearn: 0.0471818\ttotal: 1.49s\tremaining: 8.04s\n",
            "156:\tlearn: 0.0468827\ttotal: 1.5s\tremaining: 8.03s\n",
            "157:\tlearn: 0.0464081\ttotal: 1.51s\tremaining: 8.03s\n",
            "158:\tlearn: 0.0460025\ttotal: 1.51s\tremaining: 8.01s\n",
            "159:\tlearn: 0.0457400\ttotal: 1.52s\tremaining: 8s\n",
            "160:\tlearn: 0.0454896\ttotal: 1.53s\tremaining: 7.99s\n",
            "161:\tlearn: 0.0450143\ttotal: 1.54s\tremaining: 7.98s\n",
            "162:\tlearn: 0.0448347\ttotal: 1.55s\tremaining: 7.97s\n",
            "163:\tlearn: 0.0445334\ttotal: 1.56s\tremaining: 7.95s\n",
            "164:\tlearn: 0.0442266\ttotal: 1.57s\tremaining: 7.94s\n",
            "165:\tlearn: 0.0439259\ttotal: 1.58s\tremaining: 7.93s\n",
            "166:\tlearn: 0.0437431\ttotal: 1.59s\tremaining: 7.95s\n",
            "167:\tlearn: 0.0434797\ttotal: 1.6s\tremaining: 7.94s\n",
            "168:\tlearn: 0.0431671\ttotal: 1.61s\tremaining: 7.93s\n",
            "169:\tlearn: 0.0426930\ttotal: 1.62s\tremaining: 7.92s\n",
            "170:\tlearn: 0.0423629\ttotal: 1.63s\tremaining: 7.91s\n",
            "171:\tlearn: 0.0420630\ttotal: 1.64s\tremaining: 7.91s\n",
            "172:\tlearn: 0.0418404\ttotal: 1.65s\tremaining: 7.9s\n",
            "173:\tlearn: 0.0415659\ttotal: 1.66s\tremaining: 7.89s\n",
            "174:\tlearn: 0.0411151\ttotal: 1.67s\tremaining: 7.88s\n",
            "175:\tlearn: 0.0409921\ttotal: 1.68s\tremaining: 7.86s\n",
            "176:\tlearn: 0.0407440\ttotal: 1.69s\tremaining: 7.86s\n",
            "177:\tlearn: 0.0403242\ttotal: 1.7s\tremaining: 7.85s\n",
            "178:\tlearn: 0.0401732\ttotal: 1.71s\tremaining: 7.85s\n",
            "179:\tlearn: 0.0400098\ttotal: 1.72s\tremaining: 7.84s\n",
            "180:\tlearn: 0.0397993\ttotal: 1.74s\tremaining: 7.85s\n",
            "181:\tlearn: 0.0395162\ttotal: 1.74s\tremaining: 7.84s\n",
            "182:\tlearn: 0.0392775\ttotal: 1.75s\tremaining: 7.83s\n",
            "183:\tlearn: 0.0390813\ttotal: 1.76s\tremaining: 7.82s\n",
            "184:\tlearn: 0.0387751\ttotal: 1.77s\tremaining: 7.81s\n",
            "185:\tlearn: 0.0384731\ttotal: 1.78s\tremaining: 7.79s\n",
            "186:\tlearn: 0.0381826\ttotal: 1.79s\tremaining: 7.78s\n",
            "187:\tlearn: 0.0378785\ttotal: 1.8s\tremaining: 7.77s\n",
            "188:\tlearn: 0.0376380\ttotal: 1.81s\tremaining: 7.76s\n",
            "189:\tlearn: 0.0374063\ttotal: 1.82s\tremaining: 7.75s\n",
            "190:\tlearn: 0.0371524\ttotal: 1.83s\tremaining: 7.74s\n",
            "191:\tlearn: 0.0369111\ttotal: 1.83s\tremaining: 7.72s\n",
            "192:\tlearn: 0.0367364\ttotal: 1.85s\tremaining: 7.73s\n",
            "193:\tlearn: 0.0364213\ttotal: 1.86s\tremaining: 7.72s\n",
            "194:\tlearn: 0.0362825\ttotal: 1.87s\tremaining: 7.71s\n",
            "195:\tlearn: 0.0360562\ttotal: 1.88s\tremaining: 7.69s\n",
            "196:\tlearn: 0.0358997\ttotal: 1.88s\tremaining: 7.68s\n",
            "197:\tlearn: 0.0356809\ttotal: 1.89s\tremaining: 7.67s\n",
            "198:\tlearn: 0.0354144\ttotal: 1.9s\tremaining: 7.66s\n",
            "199:\tlearn: 0.0350663\ttotal: 1.91s\tremaining: 7.65s\n",
            "200:\tlearn: 0.0348672\ttotal: 1.92s\tremaining: 7.63s\n",
            "201:\tlearn: 0.0346167\ttotal: 1.93s\tremaining: 7.62s\n",
            "202:\tlearn: 0.0343554\ttotal: 1.94s\tremaining: 7.61s\n",
            "203:\tlearn: 0.0342149\ttotal: 1.95s\tremaining: 7.6s\n",
            "204:\tlearn: 0.0340621\ttotal: 1.96s\tremaining: 7.59s\n",
            "205:\tlearn: 0.0337875\ttotal: 1.97s\tremaining: 7.58s\n",
            "206:\tlearn: 0.0337005\ttotal: 1.98s\tremaining: 7.57s\n",
            "207:\tlearn: 0.0333610\ttotal: 1.98s\tremaining: 7.55s\n",
            "208:\tlearn: 0.0330910\ttotal: 2s\tremaining: 7.55s\n",
            "209:\tlearn: 0.0328685\ttotal: 2.01s\tremaining: 7.55s\n",
            "210:\tlearn: 0.0326661\ttotal: 2.02s\tremaining: 7.54s\n",
            "211:\tlearn: 0.0322655\ttotal: 2.02s\tremaining: 7.53s\n",
            "212:\tlearn: 0.0321216\ttotal: 2.03s\tremaining: 7.51s\n",
            "213:\tlearn: 0.0318974\ttotal: 2.04s\tremaining: 7.5s\n",
            "214:\tlearn: 0.0317196\ttotal: 2.06s\tremaining: 7.5s\n",
            "215:\tlearn: 0.0313675\ttotal: 2.06s\tremaining: 7.5s\n",
            "216:\tlearn: 0.0311356\ttotal: 2.07s\tremaining: 7.48s\n",
            "217:\tlearn: 0.0308129\ttotal: 2.08s\tremaining: 7.47s\n",
            "218:\tlearn: 0.0306387\ttotal: 2.09s\tremaining: 7.46s\n",
            "219:\tlearn: 0.0304712\ttotal: 2.1s\tremaining: 7.45s\n",
            "220:\tlearn: 0.0302959\ttotal: 2.11s\tremaining: 7.44s\n",
            "221:\tlearn: 0.0299695\ttotal: 2.12s\tremaining: 7.43s\n",
            "222:\tlearn: 0.0298713\ttotal: 2.13s\tremaining: 7.42s\n",
            "223:\tlearn: 0.0297425\ttotal: 2.14s\tremaining: 7.41s\n",
            "224:\tlearn: 0.0295738\ttotal: 2.15s\tremaining: 7.4s\n",
            "225:\tlearn: 0.0293441\ttotal: 2.16s\tremaining: 7.39s\n",
            "226:\tlearn: 0.0291134\ttotal: 2.17s\tremaining: 7.38s\n",
            "227:\tlearn: 0.0289468\ttotal: 2.17s\tremaining: 7.36s\n",
            "228:\tlearn: 0.0288191\ttotal: 2.18s\tremaining: 7.35s\n",
            "229:\tlearn: 0.0286902\ttotal: 2.19s\tremaining: 7.34s\n",
            "230:\tlearn: 0.0285323\ttotal: 2.2s\tremaining: 7.34s\n",
            "231:\tlearn: 0.0283171\ttotal: 2.21s\tremaining: 7.33s\n",
            "232:\tlearn: 0.0280840\ttotal: 2.22s\tremaining: 7.31s\n",
            "233:\tlearn: 0.0279188\ttotal: 2.23s\tremaining: 7.3s\n",
            "234:\tlearn: 0.0277524\ttotal: 2.24s\tremaining: 7.29s\n",
            "235:\tlearn: 0.0275063\ttotal: 2.25s\tremaining: 7.28s\n",
            "236:\tlearn: 0.0272438\ttotal: 2.26s\tremaining: 7.28s\n",
            "237:\tlearn: 0.0271182\ttotal: 2.27s\tremaining: 7.27s\n",
            "238:\tlearn: 0.0269815\ttotal: 2.28s\tremaining: 7.26s\n",
            "239:\tlearn: 0.0267991\ttotal: 2.29s\tremaining: 7.25s\n",
            "240:\tlearn: 0.0266954\ttotal: 2.3s\tremaining: 7.24s\n",
            "241:\tlearn: 0.0266264\ttotal: 2.31s\tremaining: 7.23s\n",
            "242:\tlearn: 0.0263987\ttotal: 2.32s\tremaining: 7.22s\n",
            "243:\tlearn: 0.0262943\ttotal: 2.33s\tremaining: 7.21s\n",
            "244:\tlearn: 0.0261852\ttotal: 2.34s\tremaining: 7.2s\n",
            "245:\tlearn: 0.0260075\ttotal: 2.35s\tremaining: 7.19s\n",
            "246:\tlearn: 0.0257224\ttotal: 2.35s\tremaining: 7.18s\n",
            "247:\tlearn: 0.0255779\ttotal: 2.36s\tremaining: 7.17s\n",
            "248:\tlearn: 0.0254572\ttotal: 2.37s\tremaining: 7.16s\n",
            "249:\tlearn: 0.0253600\ttotal: 2.38s\tremaining: 7.15s\n",
            "250:\tlearn: 0.0252317\ttotal: 2.39s\tremaining: 7.14s\n",
            "251:\tlearn: 0.0250070\ttotal: 2.4s\tremaining: 7.13s\n",
            "252:\tlearn: 0.0248727\ttotal: 2.41s\tremaining: 7.12s\n",
            "253:\tlearn: 0.0247663\ttotal: 2.42s\tremaining: 7.1s\n",
            "254:\tlearn: 0.0246828\ttotal: 2.43s\tremaining: 7.09s\n",
            "255:\tlearn: 0.0245835\ttotal: 2.44s\tremaining: 7.08s\n",
            "256:\tlearn: 0.0244222\ttotal: 2.44s\tremaining: 7.07s\n",
            "257:\tlearn: 0.0243160\ttotal: 2.46s\tremaining: 7.06s\n",
            "258:\tlearn: 0.0242182\ttotal: 2.47s\tremaining: 7.06s\n",
            "259:\tlearn: 0.0240226\ttotal: 2.48s\tremaining: 7.05s\n",
            "260:\tlearn: 0.0238280\ttotal: 2.49s\tremaining: 7.04s\n",
            "261:\tlearn: 0.0236778\ttotal: 2.5s\tremaining: 7.04s\n",
            "262:\tlearn: 0.0234777\ttotal: 2.51s\tremaining: 7.03s\n",
            "263:\tlearn: 0.0233527\ttotal: 2.52s\tremaining: 7.02s\n",
            "264:\tlearn: 0.0231206\ttotal: 2.53s\tremaining: 7.01s\n",
            "265:\tlearn: 0.0229742\ttotal: 2.54s\tremaining: 7s\n",
            "266:\tlearn: 0.0228673\ttotal: 2.54s\tremaining: 6.98s\n",
            "267:\tlearn: 0.0227475\ttotal: 2.55s\tremaining: 6.97s\n",
            "268:\tlearn: 0.0225714\ttotal: 2.56s\tremaining: 6.96s\n",
            "269:\tlearn: 0.0223401\ttotal: 2.57s\tremaining: 6.95s\n",
            "270:\tlearn: 0.0221742\ttotal: 2.58s\tremaining: 6.94s\n",
            "271:\tlearn: 0.0220110\ttotal: 2.6s\tremaining: 6.95s\n",
            "272:\tlearn: 0.0218368\ttotal: 2.6s\tremaining: 6.94s\n",
            "273:\tlearn: 0.0216726\ttotal: 2.61s\tremaining: 6.93s\n",
            "274:\tlearn: 0.0215295\ttotal: 2.62s\tremaining: 6.92s\n",
            "275:\tlearn: 0.0212681\ttotal: 2.63s\tremaining: 6.91s\n",
            "276:\tlearn: 0.0211177\ttotal: 2.64s\tremaining: 6.89s\n",
            "277:\tlearn: 0.0210193\ttotal: 2.65s\tremaining: 6.88s\n",
            "278:\tlearn: 0.0209279\ttotal: 2.66s\tremaining: 6.88s\n",
            "279:\tlearn: 0.0208453\ttotal: 2.67s\tremaining: 6.87s\n",
            "280:\tlearn: 0.0206685\ttotal: 2.68s\tremaining: 6.86s\n",
            "281:\tlearn: 0.0206092\ttotal: 2.69s\tremaining: 6.86s\n",
            "282:\tlearn: 0.0205481\ttotal: 2.7s\tremaining: 6.84s\n",
            "283:\tlearn: 0.0204371\ttotal: 2.71s\tremaining: 6.83s\n",
            "284:\tlearn: 0.0203414\ttotal: 2.72s\tremaining: 6.82s\n",
            "285:\tlearn: 0.0202012\ttotal: 2.73s\tremaining: 6.82s\n",
            "286:\tlearn: 0.0201072\ttotal: 2.74s\tremaining: 6.81s\n",
            "287:\tlearn: 0.0199928\ttotal: 2.75s\tremaining: 6.8s\n",
            "288:\tlearn: 0.0198726\ttotal: 2.76s\tremaining: 6.79s\n",
            "289:\tlearn: 0.0196869\ttotal: 2.77s\tremaining: 6.79s\n",
            "290:\tlearn: 0.0195892\ttotal: 2.78s\tremaining: 6.78s\n",
            "291:\tlearn: 0.0195064\ttotal: 2.79s\tremaining: 6.77s\n",
            "292:\tlearn: 0.0194286\ttotal: 2.8s\tremaining: 6.76s\n",
            "293:\tlearn: 0.0192983\ttotal: 2.81s\tremaining: 6.75s\n",
            "294:\tlearn: 0.0191892\ttotal: 2.82s\tremaining: 6.74s\n",
            "295:\tlearn: 0.0190844\ttotal: 2.83s\tremaining: 6.73s\n",
            "296:\tlearn: 0.0189806\ttotal: 2.84s\tremaining: 6.71s\n",
            "297:\tlearn: 0.0188935\ttotal: 2.85s\tremaining: 6.7s\n",
            "298:\tlearn: 0.0188209\ttotal: 2.85s\tremaining: 6.69s\n",
            "299:\tlearn: 0.0186107\ttotal: 2.86s\tremaining: 6.68s\n",
            "300:\tlearn: 0.0185201\ttotal: 2.87s\tremaining: 6.67s\n",
            "301:\tlearn: 0.0184056\ttotal: 2.89s\tremaining: 6.67s\n",
            "302:\tlearn: 0.0182404\ttotal: 2.9s\tremaining: 6.66s\n",
            "303:\tlearn: 0.0181475\ttotal: 2.91s\tremaining: 6.65s\n",
            "304:\tlearn: 0.0179419\ttotal: 2.92s\tremaining: 6.64s\n",
            "305:\tlearn: 0.0178687\ttotal: 2.92s\tremaining: 6.63s\n",
            "306:\tlearn: 0.0178143\ttotal: 2.93s\tremaining: 6.62s\n",
            "307:\tlearn: 0.0177329\ttotal: 2.94s\tremaining: 6.61s\n",
            "308:\tlearn: 0.0176664\ttotal: 2.95s\tremaining: 6.6s\n",
            "309:\tlearn: 0.0174993\ttotal: 2.96s\tremaining: 6.59s\n",
            "310:\tlearn: 0.0174043\ttotal: 2.97s\tremaining: 6.58s\n",
            "311:\tlearn: 0.0173365\ttotal: 2.98s\tremaining: 6.57s\n",
            "312:\tlearn: 0.0171616\ttotal: 2.99s\tremaining: 6.55s\n",
            "313:\tlearn: 0.0170673\ttotal: 3s\tremaining: 6.54s\n",
            "314:\tlearn: 0.0169709\ttotal: 3s\tremaining: 6.53s\n",
            "315:\tlearn: 0.0169047\ttotal: 3.01s\tremaining: 6.52s\n",
            "316:\tlearn: 0.0167705\ttotal: 3.02s\tremaining: 6.51s\n",
            "317:\tlearn: 0.0166756\ttotal: 3.03s\tremaining: 6.5s\n",
            "318:\tlearn: 0.0166068\ttotal: 3.04s\tremaining: 6.49s\n",
            "319:\tlearn: 0.0165547\ttotal: 3.05s\tremaining: 6.48s\n",
            "320:\tlearn: 0.0164601\ttotal: 3.06s\tremaining: 6.47s\n",
            "321:\tlearn: 0.0163874\ttotal: 3.07s\tremaining: 6.46s\n",
            "322:\tlearn: 0.0163410\ttotal: 3.08s\tremaining: 6.46s\n",
            "323:\tlearn: 0.0162563\ttotal: 3.09s\tremaining: 6.45s\n",
            "324:\tlearn: 0.0161466\ttotal: 3.1s\tremaining: 6.44s\n",
            "325:\tlearn: 0.0160707\ttotal: 3.11s\tremaining: 6.43s\n",
            "326:\tlearn: 0.0159817\ttotal: 3.12s\tremaining: 6.42s\n",
            "327:\tlearn: 0.0158683\ttotal: 3.13s\tremaining: 6.41s\n",
            "328:\tlearn: 0.0157847\ttotal: 3.14s\tremaining: 6.4s\n",
            "329:\tlearn: 0.0157342\ttotal: 3.15s\tremaining: 6.39s\n",
            "330:\tlearn: 0.0156866\ttotal: 3.15s\tremaining: 6.38s\n",
            "331:\tlearn: 0.0156019\ttotal: 3.17s\tremaining: 6.37s\n",
            "332:\tlearn: 0.0155502\ttotal: 3.17s\tremaining: 6.36s\n",
            "333:\tlearn: 0.0155175\ttotal: 3.18s\tremaining: 6.35s\n",
            "334:\tlearn: 0.0154233\ttotal: 3.19s\tremaining: 6.34s\n",
            "335:\tlearn: 0.0153076\ttotal: 3.2s\tremaining: 6.33s\n",
            "336:\tlearn: 0.0152116\ttotal: 3.21s\tremaining: 6.32s\n",
            "337:\tlearn: 0.0151160\ttotal: 3.22s\tremaining: 6.3s\n",
            "338:\tlearn: 0.0150412\ttotal: 3.23s\tremaining: 6.29s\n",
            "339:\tlearn: 0.0149189\ttotal: 3.24s\tremaining: 6.29s\n",
            "340:\tlearn: 0.0147842\ttotal: 3.25s\tremaining: 6.27s\n",
            "341:\tlearn: 0.0147210\ttotal: 3.25s\tremaining: 6.26s\n",
            "342:\tlearn: 0.0146478\ttotal: 3.26s\tremaining: 6.25s\n",
            "343:\tlearn: 0.0145851\ttotal: 3.27s\tremaining: 6.25s\n",
            "344:\tlearn: 0.0145170\ttotal: 3.29s\tremaining: 6.24s\n",
            "345:\tlearn: 0.0144631\ttotal: 3.3s\tremaining: 6.23s\n",
            "346:\tlearn: 0.0143646\ttotal: 3.31s\tremaining: 6.22s\n",
            "347:\tlearn: 0.0142792\ttotal: 3.32s\tremaining: 6.21s\n",
            "348:\tlearn: 0.0142297\ttotal: 3.32s\tremaining: 6.2s\n",
            "349:\tlearn: 0.0141345\ttotal: 3.33s\tremaining: 6.19s\n",
            "350:\tlearn: 0.0140552\ttotal: 3.34s\tremaining: 6.18s\n",
            "351:\tlearn: 0.0139898\ttotal: 3.35s\tremaining: 6.17s\n",
            "352:\tlearn: 0.0139031\ttotal: 3.36s\tremaining: 6.16s\n",
            "353:\tlearn: 0.0138423\ttotal: 3.37s\tremaining: 6.15s\n",
            "354:\tlearn: 0.0137676\ttotal: 3.38s\tremaining: 6.14s\n",
            "355:\tlearn: 0.0136945\ttotal: 3.39s\tremaining: 6.13s\n",
            "356:\tlearn: 0.0136132\ttotal: 3.4s\tremaining: 6.12s\n",
            "357:\tlearn: 0.0135024\ttotal: 3.41s\tremaining: 6.11s\n",
            "358:\tlearn: 0.0134480\ttotal: 3.42s\tremaining: 6.1s\n",
            "359:\tlearn: 0.0133858\ttotal: 3.42s\tremaining: 6.09s\n",
            "360:\tlearn: 0.0133369\ttotal: 3.43s\tremaining: 6.08s\n",
            "361:\tlearn: 0.0132920\ttotal: 3.44s\tremaining: 6.07s\n",
            "362:\tlearn: 0.0132132\ttotal: 3.45s\tremaining: 6.06s\n",
            "363:\tlearn: 0.0131749\ttotal: 3.46s\tremaining: 6.05s\n",
            "364:\tlearn: 0.0131194\ttotal: 3.47s\tremaining: 6.04s\n",
            "365:\tlearn: 0.0130893\ttotal: 3.48s\tremaining: 6.03s\n",
            "366:\tlearn: 0.0129919\ttotal: 3.5s\tremaining: 6.03s\n",
            "367:\tlearn: 0.0129396\ttotal: 3.51s\tremaining: 6.02s\n",
            "368:\tlearn: 0.0129001\ttotal: 3.52s\tremaining: 6.01s\n",
            "369:\tlearn: 0.0128487\ttotal: 3.53s\tremaining: 6s\n",
            "370:\tlearn: 0.0127831\ttotal: 3.54s\tremaining: 6s\n",
            "371:\tlearn: 0.0127194\ttotal: 3.54s\tremaining: 5.99s\n",
            "372:\tlearn: 0.0126752\ttotal: 3.55s\tremaining: 5.97s\n",
            "373:\tlearn: 0.0125918\ttotal: 3.56s\tremaining: 5.96s\n",
            "374:\tlearn: 0.0125393\ttotal: 3.57s\tremaining: 5.95s\n",
            "375:\tlearn: 0.0125122\ttotal: 3.58s\tremaining: 5.94s\n",
            "376:\tlearn: 0.0124240\ttotal: 3.6s\tremaining: 5.95s\n",
            "377:\tlearn: 0.0123804\ttotal: 3.61s\tremaining: 5.93s\n",
            "378:\tlearn: 0.0122993\ttotal: 3.62s\tremaining: 5.92s\n",
            "379:\tlearn: 0.0122288\ttotal: 3.63s\tremaining: 5.92s\n",
            "380:\tlearn: 0.0121571\ttotal: 3.63s\tremaining: 5.9s\n",
            "381:\tlearn: 0.0120941\ttotal: 3.64s\tremaining: 5.89s\n",
            "382:\tlearn: 0.0120365\ttotal: 3.65s\tremaining: 5.88s\n",
            "383:\tlearn: 0.0119791\ttotal: 3.66s\tremaining: 5.87s\n",
            "384:\tlearn: 0.0119547\ttotal: 3.67s\tremaining: 5.86s\n",
            "385:\tlearn: 0.0118583\ttotal: 3.68s\tremaining: 5.85s\n",
            "386:\tlearn: 0.0118046\ttotal: 3.69s\tremaining: 5.85s\n",
            "387:\tlearn: 0.0117609\ttotal: 3.71s\tremaining: 5.85s\n",
            "388:\tlearn: 0.0117157\ttotal: 3.71s\tremaining: 5.84s\n",
            "389:\tlearn: 0.0116649\ttotal: 3.72s\tremaining: 5.83s\n",
            "390:\tlearn: 0.0116375\ttotal: 3.74s\tremaining: 5.82s\n",
            "391:\tlearn: 0.0115535\ttotal: 3.75s\tremaining: 5.82s\n",
            "392:\tlearn: 0.0114996\ttotal: 3.76s\tremaining: 5.8s\n",
            "393:\tlearn: 0.0114628\ttotal: 3.77s\tremaining: 5.79s\n",
            "394:\tlearn: 0.0114125\ttotal: 3.78s\tremaining: 5.79s\n",
            "395:\tlearn: 0.0113537\ttotal: 3.79s\tremaining: 5.77s\n",
            "396:\tlearn: 0.0112888\ttotal: 3.79s\tremaining: 5.76s\n",
            "397:\tlearn: 0.0112260\ttotal: 3.8s\tremaining: 5.75s\n",
            "398:\tlearn: 0.0111808\ttotal: 3.81s\tremaining: 5.74s\n",
            "399:\tlearn: 0.0111330\ttotal: 3.82s\tremaining: 5.73s\n",
            "400:\tlearn: 0.0111015\ttotal: 3.83s\tremaining: 5.72s\n",
            "401:\tlearn: 0.0110336\ttotal: 3.84s\tremaining: 5.71s\n",
            "402:\tlearn: 0.0109290\ttotal: 3.85s\tremaining: 5.7s\n",
            "403:\tlearn: 0.0108524\ttotal: 3.86s\tremaining: 5.69s\n",
            "404:\tlearn: 0.0108039\ttotal: 3.87s\tremaining: 5.68s\n",
            "405:\tlearn: 0.0107439\ttotal: 3.88s\tremaining: 5.67s\n",
            "406:\tlearn: 0.0106929\ttotal: 3.89s\tremaining: 5.66s\n",
            "407:\tlearn: 0.0106439\ttotal: 3.89s\tremaining: 5.65s\n",
            "408:\tlearn: 0.0106157\ttotal: 3.9s\tremaining: 5.64s\n",
            "409:\tlearn: 0.0105559\ttotal: 3.92s\tremaining: 5.64s\n",
            "410:\tlearn: 0.0105223\ttotal: 3.93s\tremaining: 5.63s\n",
            "411:\tlearn: 0.0104633\ttotal: 3.94s\tremaining: 5.62s\n",
            "412:\tlearn: 0.0104122\ttotal: 3.94s\tremaining: 5.61s\n",
            "413:\tlearn: 0.0103867\ttotal: 3.96s\tremaining: 5.6s\n",
            "414:\tlearn: 0.0103460\ttotal: 3.96s\tremaining: 5.59s\n",
            "415:\tlearn: 0.0103029\ttotal: 3.97s\tremaining: 5.58s\n",
            "416:\tlearn: 0.0102820\ttotal: 3.98s\tremaining: 5.57s\n",
            "417:\tlearn: 0.0102260\ttotal: 3.99s\tremaining: 5.56s\n",
            "418:\tlearn: 0.0101749\ttotal: 4s\tremaining: 5.55s\n",
            "419:\tlearn: 0.0101438\ttotal: 4.01s\tremaining: 5.54s\n",
            "420:\tlearn: 0.0101091\ttotal: 4.02s\tremaining: 5.53s\n",
            "421:\tlearn: 0.0100577\ttotal: 4.03s\tremaining: 5.52s\n",
            "422:\tlearn: 0.0100168\ttotal: 4.04s\tremaining: 5.51s\n",
            "423:\tlearn: 0.0099754\ttotal: 4.05s\tremaining: 5.5s\n",
            "424:\tlearn: 0.0099292\ttotal: 4.06s\tremaining: 5.49s\n",
            "425:\tlearn: 0.0098808\ttotal: 4.07s\tremaining: 5.48s\n",
            "426:\tlearn: 0.0098028\ttotal: 4.08s\tremaining: 5.47s\n",
            "427:\tlearn: 0.0097690\ttotal: 4.08s\tremaining: 5.46s\n",
            "428:\tlearn: 0.0097384\ttotal: 4.09s\tremaining: 5.45s\n",
            "429:\tlearn: 0.0096823\ttotal: 4.1s\tremaining: 5.44s\n",
            "430:\tlearn: 0.0096502\ttotal: 4.11s\tremaining: 5.43s\n",
            "431:\tlearn: 0.0096078\ttotal: 4.13s\tremaining: 5.42s\n",
            "432:\tlearn: 0.0095818\ttotal: 4.13s\tremaining: 5.41s\n",
            "433:\tlearn: 0.0095349\ttotal: 4.14s\tremaining: 5.4s\n",
            "434:\tlearn: 0.0095129\ttotal: 4.15s\tremaining: 5.39s\n",
            "435:\tlearn: 0.0094730\ttotal: 4.16s\tremaining: 5.38s\n",
            "436:\tlearn: 0.0094352\ttotal: 4.17s\tremaining: 5.37s\n",
            "437:\tlearn: 0.0093895\ttotal: 4.18s\tremaining: 5.37s\n",
            "438:\tlearn: 0.0093602\ttotal: 4.19s\tremaining: 5.35s\n",
            "439:\tlearn: 0.0093207\ttotal: 4.2s\tremaining: 5.34s\n",
            "440:\tlearn: 0.0092934\ttotal: 4.21s\tremaining: 5.33s\n",
            "441:\tlearn: 0.0092693\ttotal: 4.22s\tremaining: 5.32s\n",
            "442:\tlearn: 0.0092549\ttotal: 4.22s\tremaining: 5.31s\n",
            "443:\tlearn: 0.0091999\ttotal: 4.23s\tremaining: 5.3s\n",
            "444:\tlearn: 0.0091568\ttotal: 4.24s\tremaining: 5.29s\n",
            "445:\tlearn: 0.0091152\ttotal: 4.25s\tremaining: 5.28s\n",
            "446:\tlearn: 0.0090814\ttotal: 4.26s\tremaining: 5.27s\n",
            "447:\tlearn: 0.0090554\ttotal: 4.27s\tremaining: 5.26s\n",
            "448:\tlearn: 0.0090118\ttotal: 4.28s\tremaining: 5.25s\n",
            "449:\tlearn: 0.0089319\ttotal: 4.29s\tremaining: 5.24s\n",
            "450:\tlearn: 0.0088848\ttotal: 4.3s\tremaining: 5.23s\n",
            "451:\tlearn: 0.0088399\ttotal: 4.31s\tremaining: 5.22s\n",
            "452:\tlearn: 0.0088147\ttotal: 4.32s\tremaining: 5.21s\n",
            "453:\tlearn: 0.0087783\ttotal: 4.32s\tremaining: 5.2s\n",
            "454:\tlearn: 0.0087337\ttotal: 4.33s\tremaining: 5.19s\n",
            "455:\tlearn: 0.0086953\ttotal: 4.34s\tremaining: 5.18s\n",
            "456:\tlearn: 0.0086605\ttotal: 4.35s\tremaining: 5.17s\n",
            "457:\tlearn: 0.0086201\ttotal: 4.36s\tremaining: 5.16s\n",
            "458:\tlearn: 0.0085827\ttotal: 4.37s\tremaining: 5.15s\n",
            "459:\tlearn: 0.0085434\ttotal: 4.38s\tremaining: 5.14s\n",
            "460:\tlearn: 0.0085026\ttotal: 4.39s\tremaining: 5.13s\n",
            "461:\tlearn: 0.0084766\ttotal: 4.4s\tremaining: 5.12s\n",
            "462:\tlearn: 0.0084516\ttotal: 4.41s\tremaining: 5.11s\n",
            "463:\tlearn: 0.0084154\ttotal: 4.42s\tremaining: 5.1s\n",
            "464:\tlearn: 0.0083788\ttotal: 4.43s\tremaining: 5.09s\n",
            "465:\tlearn: 0.0083497\ttotal: 4.44s\tremaining: 5.08s\n",
            "466:\tlearn: 0.0082872\ttotal: 4.45s\tremaining: 5.07s\n",
            "467:\tlearn: 0.0082667\ttotal: 4.45s\tremaining: 5.06s\n",
            "468:\tlearn: 0.0082322\ttotal: 4.46s\tremaining: 5.05s\n",
            "469:\tlearn: 0.0082225\ttotal: 4.47s\tremaining: 5.04s\n",
            "470:\tlearn: 0.0081940\ttotal: 4.48s\tremaining: 5.03s\n",
            "471:\tlearn: 0.0081683\ttotal: 4.49s\tremaining: 5.02s\n",
            "472:\tlearn: 0.0081477\ttotal: 4.5s\tremaining: 5.01s\n",
            "473:\tlearn: 0.0081124\ttotal: 4.51s\tremaining: 5s\n",
            "474:\tlearn: 0.0080846\ttotal: 4.52s\tremaining: 4.99s\n",
            "475:\tlearn: 0.0080375\ttotal: 4.53s\tremaining: 4.98s\n",
            "476:\tlearn: 0.0080095\ttotal: 4.54s\tremaining: 4.98s\n",
            "477:\tlearn: 0.0079841\ttotal: 4.55s\tremaining: 4.97s\n",
            "478:\tlearn: 0.0079480\ttotal: 4.56s\tremaining: 4.96s\n",
            "479:\tlearn: 0.0079178\ttotal: 4.57s\tremaining: 4.95s\n",
            "480:\tlearn: 0.0078833\ttotal: 4.58s\tremaining: 4.94s\n",
            "481:\tlearn: 0.0078536\ttotal: 4.59s\tremaining: 4.93s\n",
            "482:\tlearn: 0.0078099\ttotal: 4.6s\tremaining: 4.92s\n",
            "483:\tlearn: 0.0077745\ttotal: 4.61s\tremaining: 4.91s\n",
            "484:\tlearn: 0.0077471\ttotal: 4.62s\tremaining: 4.9s\n",
            "485:\tlearn: 0.0077222\ttotal: 4.63s\tremaining: 4.89s\n",
            "486:\tlearn: 0.0076970\ttotal: 4.64s\tremaining: 4.88s\n",
            "487:\tlearn: 0.0076617\ttotal: 4.65s\tremaining: 4.87s\n",
            "488:\tlearn: 0.0076323\ttotal: 4.65s\tremaining: 4.86s\n",
            "489:\tlearn: 0.0075771\ttotal: 4.66s\tremaining: 4.85s\n",
            "490:\tlearn: 0.0075389\ttotal: 4.67s\tremaining: 4.84s\n",
            "491:\tlearn: 0.0075144\ttotal: 4.68s\tremaining: 4.83s\n",
            "492:\tlearn: 0.0074839\ttotal: 4.69s\tremaining: 4.83s\n",
            "493:\tlearn: 0.0074542\ttotal: 4.7s\tremaining: 4.82s\n",
            "494:\tlearn: 0.0074223\ttotal: 4.71s\tremaining: 4.8s\n",
            "495:\tlearn: 0.0073941\ttotal: 4.72s\tremaining: 4.79s\n",
            "496:\tlearn: 0.0073713\ttotal: 4.73s\tremaining: 4.79s\n",
            "497:\tlearn: 0.0073342\ttotal: 4.74s\tremaining: 4.78s\n",
            "498:\tlearn: 0.0073083\ttotal: 4.75s\tremaining: 4.77s\n",
            "499:\tlearn: 0.0072826\ttotal: 4.76s\tremaining: 4.76s\n",
            "500:\tlearn: 0.0072667\ttotal: 4.77s\tremaining: 4.75s\n",
            "501:\tlearn: 0.0072048\ttotal: 4.78s\tremaining: 4.75s\n",
            "502:\tlearn: 0.0071749\ttotal: 4.79s\tremaining: 4.74s\n",
            "503:\tlearn: 0.0071370\ttotal: 4.8s\tremaining: 4.72s\n",
            "504:\tlearn: 0.0071194\ttotal: 4.81s\tremaining: 4.71s\n",
            "505:\tlearn: 0.0070882\ttotal: 4.82s\tremaining: 4.71s\n",
            "506:\tlearn: 0.0070629\ttotal: 4.83s\tremaining: 4.7s\n",
            "507:\tlearn: 0.0070382\ttotal: 4.84s\tremaining: 4.68s\n",
            "508:\tlearn: 0.0070293\ttotal: 4.85s\tremaining: 4.67s\n",
            "509:\tlearn: 0.0070032\ttotal: 4.86s\tremaining: 4.66s\n",
            "510:\tlearn: 0.0069731\ttotal: 4.86s\tremaining: 4.65s\n",
            "511:\tlearn: 0.0069447\ttotal: 4.88s\tremaining: 4.65s\n",
            "512:\tlearn: 0.0069169\ttotal: 4.89s\tremaining: 4.64s\n",
            "513:\tlearn: 0.0068913\ttotal: 4.89s\tremaining: 4.63s\n",
            "514:\tlearn: 0.0068655\ttotal: 4.91s\tremaining: 4.62s\n",
            "515:\tlearn: 0.0068365\ttotal: 4.91s\tremaining: 4.61s\n",
            "516:\tlearn: 0.0068208\ttotal: 4.92s\tremaining: 4.6s\n",
            "517:\tlearn: 0.0067955\ttotal: 4.93s\tremaining: 4.59s\n",
            "518:\tlearn: 0.0067717\ttotal: 4.94s\tremaining: 4.58s\n",
            "519:\tlearn: 0.0067494\ttotal: 4.95s\tremaining: 4.57s\n",
            "520:\tlearn: 0.0067373\ttotal: 4.96s\tremaining: 4.56s\n",
            "521:\tlearn: 0.0067093\ttotal: 4.97s\tremaining: 4.55s\n",
            "522:\tlearn: 0.0066863\ttotal: 4.98s\tremaining: 4.54s\n",
            "523:\tlearn: 0.0066555\ttotal: 4.99s\tremaining: 4.54s\n",
            "524:\tlearn: 0.0066419\ttotal: 5s\tremaining: 4.53s\n",
            "525:\tlearn: 0.0066240\ttotal: 5.01s\tremaining: 4.51s\n",
            "526:\tlearn: 0.0065872\ttotal: 5.02s\tremaining: 4.5s\n",
            "527:\tlearn: 0.0065630\ttotal: 5.03s\tremaining: 4.49s\n",
            "528:\tlearn: 0.0065377\ttotal: 5.04s\tremaining: 4.48s\n",
            "529:\tlearn: 0.0065099\ttotal: 5.04s\tremaining: 4.47s\n",
            "530:\tlearn: 0.0064900\ttotal: 5.05s\tremaining: 4.46s\n",
            "531:\tlearn: 0.0064670\ttotal: 5.06s\tremaining: 4.45s\n",
            "532:\tlearn: 0.0064307\ttotal: 5.07s\tremaining: 4.45s\n",
            "533:\tlearn: 0.0063920\ttotal: 5.08s\tremaining: 4.43s\n",
            "534:\tlearn: 0.0063711\ttotal: 5.09s\tremaining: 4.42s\n",
            "535:\tlearn: 0.0063331\ttotal: 5.1s\tremaining: 4.42s\n",
            "536:\tlearn: 0.0063068\ttotal: 5.11s\tremaining: 4.41s\n",
            "537:\tlearn: 0.0062867\ttotal: 5.12s\tremaining: 4.39s\n",
            "538:\tlearn: 0.0062678\ttotal: 5.13s\tremaining: 4.38s\n",
            "539:\tlearn: 0.0062455\ttotal: 5.14s\tremaining: 4.38s\n",
            "540:\tlearn: 0.0062283\ttotal: 5.14s\tremaining: 4.37s\n",
            "541:\tlearn: 0.0062086\ttotal: 5.16s\tremaining: 4.36s\n",
            "542:\tlearn: 0.0061825\ttotal: 5.17s\tremaining: 4.35s\n",
            "543:\tlearn: 0.0061670\ttotal: 5.17s\tremaining: 4.34s\n",
            "544:\tlearn: 0.0061495\ttotal: 5.18s\tremaining: 4.33s\n",
            "545:\tlearn: 0.0061292\ttotal: 5.19s\tremaining: 4.32s\n",
            "546:\tlearn: 0.0061083\ttotal: 5.2s\tremaining: 4.31s\n",
            "547:\tlearn: 0.0060772\ttotal: 5.21s\tremaining: 4.3s\n",
            "548:\tlearn: 0.0060491\ttotal: 5.22s\tremaining: 4.29s\n",
            "549:\tlearn: 0.0060297\ttotal: 5.23s\tremaining: 4.28s\n",
            "550:\tlearn: 0.0060054\ttotal: 5.24s\tremaining: 4.27s\n",
            "551:\tlearn: 0.0059871\ttotal: 5.25s\tremaining: 4.26s\n",
            "552:\tlearn: 0.0059751\ttotal: 5.26s\tremaining: 4.25s\n",
            "553:\tlearn: 0.0059381\ttotal: 5.27s\tremaining: 4.24s\n",
            "554:\tlearn: 0.0059236\ttotal: 5.28s\tremaining: 4.23s\n",
            "555:\tlearn: 0.0059048\ttotal: 5.29s\tremaining: 4.22s\n",
            "556:\tlearn: 0.0058828\ttotal: 5.3s\tremaining: 4.21s\n",
            "557:\tlearn: 0.0058620\ttotal: 5.31s\tremaining: 4.2s\n",
            "558:\tlearn: 0.0058399\ttotal: 5.32s\tremaining: 4.19s\n",
            "559:\tlearn: 0.0057963\ttotal: 5.32s\tremaining: 4.18s\n",
            "560:\tlearn: 0.0057765\ttotal: 5.33s\tremaining: 4.17s\n",
            "561:\tlearn: 0.0057589\ttotal: 5.34s\tremaining: 4.16s\n",
            "562:\tlearn: 0.0057437\ttotal: 5.35s\tremaining: 4.15s\n",
            "563:\tlearn: 0.0057207\ttotal: 5.36s\tremaining: 4.15s\n",
            "564:\tlearn: 0.0056874\ttotal: 5.37s\tremaining: 4.14s\n",
            "565:\tlearn: 0.0056677\ttotal: 5.38s\tremaining: 4.13s\n",
            "566:\tlearn: 0.0056566\ttotal: 5.39s\tremaining: 4.12s\n",
            "567:\tlearn: 0.0056155\ttotal: 5.4s\tremaining: 4.11s\n",
            "568:\tlearn: 0.0055986\ttotal: 5.41s\tremaining: 4.1s\n",
            "569:\tlearn: 0.0055781\ttotal: 5.42s\tremaining: 4.09s\n",
            "570:\tlearn: 0.0055598\ttotal: 5.43s\tremaining: 4.08s\n",
            "571:\tlearn: 0.0055427\ttotal: 5.44s\tremaining: 4.07s\n",
            "572:\tlearn: 0.0055334\ttotal: 5.44s\tremaining: 4.06s\n",
            "573:\tlearn: 0.0055131\ttotal: 5.45s\tremaining: 4.05s\n",
            "574:\tlearn: 0.0054909\ttotal: 5.46s\tremaining: 4.04s\n",
            "575:\tlearn: 0.0054607\ttotal: 5.47s\tremaining: 4.03s\n",
            "576:\tlearn: 0.0054471\ttotal: 5.48s\tremaining: 4.02s\n",
            "577:\tlearn: 0.0054168\ttotal: 5.49s\tremaining: 4.01s\n",
            "578:\tlearn: 0.0054034\ttotal: 5.5s\tremaining: 4s\n",
            "579:\tlearn: 0.0053829\ttotal: 5.51s\tremaining: 3.99s\n",
            "580:\tlearn: 0.0053716\ttotal: 5.52s\tremaining: 3.98s\n",
            "581:\tlearn: 0.0053627\ttotal: 5.53s\tremaining: 3.97s\n",
            "582:\tlearn: 0.0053503\ttotal: 5.54s\tremaining: 3.96s\n",
            "583:\tlearn: 0.0053348\ttotal: 5.54s\tremaining: 3.95s\n",
            "584:\tlearn: 0.0053137\ttotal: 5.55s\tremaining: 3.94s\n",
            "585:\tlearn: 0.0052997\ttotal: 5.56s\tremaining: 3.93s\n",
            "586:\tlearn: 0.0052665\ttotal: 5.57s\tremaining: 3.92s\n",
            "587:\tlearn: 0.0052555\ttotal: 5.58s\tremaining: 3.91s\n",
            "588:\tlearn: 0.0052413\ttotal: 5.6s\tremaining: 3.91s\n",
            "589:\tlearn: 0.0052230\ttotal: 5.61s\tremaining: 3.9s\n",
            "590:\tlearn: 0.0052113\ttotal: 5.62s\tremaining: 3.89s\n",
            "591:\tlearn: 0.0052026\ttotal: 5.63s\tremaining: 3.88s\n",
            "592:\tlearn: 0.0051886\ttotal: 5.63s\tremaining: 3.87s\n",
            "593:\tlearn: 0.0051690\ttotal: 5.64s\tremaining: 3.86s\n",
            "594:\tlearn: 0.0051594\ttotal: 5.65s\tremaining: 3.85s\n",
            "595:\tlearn: 0.0051474\ttotal: 5.66s\tremaining: 3.84s\n",
            "596:\tlearn: 0.0051277\ttotal: 5.67s\tremaining: 3.83s\n",
            "597:\tlearn: 0.0051089\ttotal: 5.68s\tremaining: 3.82s\n",
            "598:\tlearn: 0.0050920\ttotal: 5.69s\tremaining: 3.81s\n",
            "599:\tlearn: 0.0050652\ttotal: 5.7s\tremaining: 3.8s\n",
            "600:\tlearn: 0.0050520\ttotal: 5.71s\tremaining: 3.79s\n",
            "601:\tlearn: 0.0050412\ttotal: 5.72s\tremaining: 3.78s\n",
            "602:\tlearn: 0.0050273\ttotal: 5.73s\tremaining: 3.77s\n",
            "603:\tlearn: 0.0050088\ttotal: 5.75s\tremaining: 3.77s\n",
            "604:\tlearn: 0.0049880\ttotal: 5.76s\tremaining: 3.76s\n",
            "605:\tlearn: 0.0049613\ttotal: 5.77s\tremaining: 3.75s\n",
            "606:\tlearn: 0.0049482\ttotal: 5.78s\tremaining: 3.74s\n",
            "607:\tlearn: 0.0049300\ttotal: 5.79s\tremaining: 3.73s\n",
            "608:\tlearn: 0.0049212\ttotal: 5.8s\tremaining: 3.72s\n",
            "609:\tlearn: 0.0049018\ttotal: 5.81s\tremaining: 3.71s\n",
            "610:\tlearn: 0.0048894\ttotal: 5.82s\tremaining: 3.7s\n",
            "611:\tlearn: 0.0048702\ttotal: 5.83s\tremaining: 3.69s\n",
            "612:\tlearn: 0.0048525\ttotal: 5.83s\tremaining: 3.68s\n",
            "613:\tlearn: 0.0048370\ttotal: 5.84s\tremaining: 3.67s\n",
            "614:\tlearn: 0.0048222\ttotal: 5.85s\tremaining: 3.66s\n",
            "615:\tlearn: 0.0048081\ttotal: 5.86s\tremaining: 3.65s\n",
            "616:\tlearn: 0.0047952\ttotal: 5.87s\tremaining: 3.65s\n",
            "617:\tlearn: 0.0047828\ttotal: 5.88s\tremaining: 3.63s\n",
            "618:\tlearn: 0.0047624\ttotal: 5.89s\tremaining: 3.63s\n",
            "619:\tlearn: 0.0047487\ttotal: 5.9s\tremaining: 3.62s\n",
            "620:\tlearn: 0.0047364\ttotal: 5.91s\tremaining: 3.61s\n",
            "621:\tlearn: 0.0047198\ttotal: 5.92s\tremaining: 3.6s\n",
            "622:\tlearn: 0.0046878\ttotal: 5.93s\tremaining: 3.59s\n",
            "623:\tlearn: 0.0046787\ttotal: 5.94s\tremaining: 3.58s\n",
            "624:\tlearn: 0.0046714\ttotal: 5.95s\tremaining: 3.57s\n",
            "625:\tlearn: 0.0046603\ttotal: 5.95s\tremaining: 3.56s\n",
            "626:\tlearn: 0.0046511\ttotal: 5.96s\tremaining: 3.55s\n",
            "627:\tlearn: 0.0046409\ttotal: 5.98s\tremaining: 3.54s\n",
            "628:\tlearn: 0.0046281\ttotal: 5.99s\tremaining: 3.53s\n",
            "629:\tlearn: 0.0046153\ttotal: 5.99s\tremaining: 3.52s\n",
            "630:\tlearn: 0.0046042\ttotal: 6s\tremaining: 3.51s\n",
            "631:\tlearn: 0.0045871\ttotal: 6.01s\tremaining: 3.5s\n",
            "632:\tlearn: 0.0045752\ttotal: 6.02s\tremaining: 3.49s\n",
            "633:\tlearn: 0.0045664\ttotal: 6.03s\tremaining: 3.48s\n",
            "634:\tlearn: 0.0045564\ttotal: 6.04s\tremaining: 3.47s\n",
            "635:\tlearn: 0.0045388\ttotal: 6.05s\tremaining: 3.46s\n",
            "636:\tlearn: 0.0045302\ttotal: 6.05s\tremaining: 3.45s\n",
            "637:\tlearn: 0.0045220\ttotal: 6.06s\tremaining: 3.44s\n",
            "638:\tlearn: 0.0045079\ttotal: 6.07s\tremaining: 3.43s\n",
            "639:\tlearn: 0.0045009\ttotal: 6.08s\tremaining: 3.42s\n",
            "640:\tlearn: 0.0044759\ttotal: 6.09s\tremaining: 3.41s\n",
            "641:\tlearn: 0.0044557\ttotal: 6.1s\tremaining: 3.4s\n",
            "642:\tlearn: 0.0044402\ttotal: 6.11s\tremaining: 3.39s\n",
            "643:\tlearn: 0.0044216\ttotal: 6.12s\tremaining: 3.38s\n",
            "644:\tlearn: 0.0044069\ttotal: 6.13s\tremaining: 3.37s\n",
            "645:\tlearn: 0.0043948\ttotal: 6.14s\tremaining: 3.36s\n",
            "646:\tlearn: 0.0043855\ttotal: 6.14s\tremaining: 3.35s\n",
            "647:\tlearn: 0.0043696\ttotal: 6.15s\tremaining: 3.34s\n",
            "648:\tlearn: 0.0043581\ttotal: 6.16s\tremaining: 3.33s\n",
            "649:\tlearn: 0.0043495\ttotal: 6.17s\tremaining: 3.32s\n",
            "650:\tlearn: 0.0043377\ttotal: 6.19s\tremaining: 3.32s\n",
            "651:\tlearn: 0.0043265\ttotal: 6.2s\tremaining: 3.31s\n",
            "652:\tlearn: 0.0043108\ttotal: 6.21s\tremaining: 3.3s\n",
            "653:\tlearn: 0.0042976\ttotal: 6.21s\tremaining: 3.29s\n",
            "654:\tlearn: 0.0042758\ttotal: 6.22s\tremaining: 3.28s\n",
            "655:\tlearn: 0.0042648\ttotal: 6.23s\tremaining: 3.27s\n",
            "656:\tlearn: 0.0042516\ttotal: 6.24s\tremaining: 3.26s\n",
            "657:\tlearn: 0.0042426\ttotal: 6.25s\tremaining: 3.25s\n",
            "658:\tlearn: 0.0042336\ttotal: 6.26s\tremaining: 3.24s\n",
            "659:\tlearn: 0.0042146\ttotal: 6.27s\tremaining: 3.23s\n",
            "660:\tlearn: 0.0042041\ttotal: 6.28s\tremaining: 3.22s\n",
            "661:\tlearn: 0.0041933\ttotal: 6.29s\tremaining: 3.21s\n",
            "662:\tlearn: 0.0041860\ttotal: 6.3s\tremaining: 3.2s\n",
            "663:\tlearn: 0.0041746\ttotal: 6.31s\tremaining: 3.19s\n",
            "664:\tlearn: 0.0041679\ttotal: 6.32s\tremaining: 3.18s\n",
            "665:\tlearn: 0.0041545\ttotal: 6.33s\tremaining: 3.17s\n",
            "666:\tlearn: 0.0041446\ttotal: 6.33s\tremaining: 3.16s\n",
            "667:\tlearn: 0.0041321\ttotal: 6.34s\tremaining: 3.15s\n",
            "668:\tlearn: 0.0041241\ttotal: 6.35s\tremaining: 3.14s\n",
            "669:\tlearn: 0.0041138\ttotal: 6.36s\tremaining: 3.13s\n",
            "670:\tlearn: 0.0040970\ttotal: 6.37s\tremaining: 3.12s\n",
            "671:\tlearn: 0.0040801\ttotal: 6.38s\tremaining: 3.11s\n",
            "672:\tlearn: 0.0040713\ttotal: 6.39s\tremaining: 3.1s\n",
            "673:\tlearn: 0.0040581\ttotal: 6.4s\tremaining: 3.1s\n",
            "674:\tlearn: 0.0040491\ttotal: 6.41s\tremaining: 3.09s\n",
            "675:\tlearn: 0.0040394\ttotal: 6.42s\tremaining: 3.08s\n",
            "676:\tlearn: 0.0040298\ttotal: 6.43s\tremaining: 3.07s\n",
            "677:\tlearn: 0.0040119\ttotal: 6.44s\tremaining: 3.06s\n",
            "678:\tlearn: 0.0039983\ttotal: 6.45s\tremaining: 3.05s\n",
            "679:\tlearn: 0.0039891\ttotal: 6.46s\tremaining: 3.04s\n",
            "680:\tlearn: 0.0039787\ttotal: 6.46s\tremaining: 3.03s\n",
            "681:\tlearn: 0.0039630\ttotal: 6.47s\tremaining: 3.02s\n",
            "682:\tlearn: 0.0039522\ttotal: 6.48s\tremaining: 3.01s\n",
            "683:\tlearn: 0.0039410\ttotal: 6.49s\tremaining: 3s\n",
            "684:\tlearn: 0.0039318\ttotal: 6.5s\tremaining: 2.99s\n",
            "685:\tlearn: 0.0039224\ttotal: 6.51s\tremaining: 2.98s\n",
            "686:\tlearn: 0.0039074\ttotal: 6.52s\tremaining: 2.97s\n",
            "687:\tlearn: 0.0038953\ttotal: 6.53s\tremaining: 2.96s\n",
            "688:\tlearn: 0.0038903\ttotal: 6.54s\tremaining: 2.95s\n",
            "689:\tlearn: 0.0038801\ttotal: 6.55s\tremaining: 2.94s\n",
            "690:\tlearn: 0.0038671\ttotal: 6.56s\tremaining: 2.93s\n",
            "691:\tlearn: 0.0038537\ttotal: 6.57s\tremaining: 2.92s\n",
            "692:\tlearn: 0.0038451\ttotal: 6.58s\tremaining: 2.91s\n",
            "693:\tlearn: 0.0038384\ttotal: 6.58s\tremaining: 2.9s\n",
            "694:\tlearn: 0.0038284\ttotal: 6.6s\tremaining: 2.9s\n",
            "695:\tlearn: 0.0038136\ttotal: 6.61s\tremaining: 2.89s\n",
            "696:\tlearn: 0.0038041\ttotal: 6.62s\tremaining: 2.88s\n",
            "697:\tlearn: 0.0037984\ttotal: 6.63s\tremaining: 2.87s\n",
            "698:\tlearn: 0.0037870\ttotal: 6.64s\tremaining: 2.86s\n",
            "699:\tlearn: 0.0037727\ttotal: 6.65s\tremaining: 2.85s\n",
            "700:\tlearn: 0.0037605\ttotal: 6.66s\tremaining: 2.84s\n",
            "701:\tlearn: 0.0037514\ttotal: 6.67s\tremaining: 2.83s\n",
            "702:\tlearn: 0.0037377\ttotal: 6.67s\tremaining: 2.82s\n",
            "703:\tlearn: 0.0037295\ttotal: 6.68s\tremaining: 2.81s\n",
            "704:\tlearn: 0.0037205\ttotal: 6.69s\tremaining: 2.8s\n",
            "705:\tlearn: 0.0037112\ttotal: 6.7s\tremaining: 2.79s\n",
            "706:\tlearn: 0.0036926\ttotal: 6.71s\tremaining: 2.78s\n",
            "707:\tlearn: 0.0036662\ttotal: 6.72s\tremaining: 2.77s\n",
            "708:\tlearn: 0.0036463\ttotal: 6.73s\tremaining: 2.76s\n",
            "709:\tlearn: 0.0036376\ttotal: 6.74s\tremaining: 2.75s\n",
            "710:\tlearn: 0.0036311\ttotal: 6.75s\tremaining: 2.74s\n",
            "711:\tlearn: 0.0036224\ttotal: 6.76s\tremaining: 2.74s\n",
            "712:\tlearn: 0.0036120\ttotal: 6.77s\tremaining: 2.73s\n",
            "713:\tlearn: 0.0036037\ttotal: 6.78s\tremaining: 2.72s\n",
            "714:\tlearn: 0.0035955\ttotal: 6.79s\tremaining: 2.71s\n",
            "715:\tlearn: 0.0035856\ttotal: 6.8s\tremaining: 2.7s\n",
            "716:\tlearn: 0.0035804\ttotal: 6.81s\tremaining: 2.69s\n",
            "717:\tlearn: 0.0035726\ttotal: 6.82s\tremaining: 2.68s\n",
            "718:\tlearn: 0.0035649\ttotal: 6.83s\tremaining: 2.67s\n",
            "719:\tlearn: 0.0035577\ttotal: 6.84s\tremaining: 2.66s\n",
            "720:\tlearn: 0.0035492\ttotal: 6.85s\tremaining: 2.65s\n",
            "721:\tlearn: 0.0035428\ttotal: 6.86s\tremaining: 2.64s\n",
            "722:\tlearn: 0.0035346\ttotal: 6.87s\tremaining: 2.63s\n",
            "723:\tlearn: 0.0035268\ttotal: 6.88s\tremaining: 2.62s\n",
            "724:\tlearn: 0.0035174\ttotal: 6.88s\tremaining: 2.61s\n",
            "725:\tlearn: 0.0035070\ttotal: 6.89s\tremaining: 2.6s\n",
            "726:\tlearn: 0.0035009\ttotal: 6.9s\tremaining: 2.59s\n",
            "727:\tlearn: 0.0034890\ttotal: 6.91s\tremaining: 2.58s\n",
            "728:\tlearn: 0.0034815\ttotal: 6.92s\tremaining: 2.57s\n",
            "729:\tlearn: 0.0034746\ttotal: 6.93s\tremaining: 2.56s\n",
            "730:\tlearn: 0.0034565\ttotal: 6.94s\tremaining: 2.55s\n",
            "731:\tlearn: 0.0034462\ttotal: 6.95s\tremaining: 2.54s\n",
            "732:\tlearn: 0.0034357\ttotal: 6.96s\tremaining: 2.53s\n",
            "733:\tlearn: 0.0034281\ttotal: 6.97s\tremaining: 2.52s\n",
            "734:\tlearn: 0.0034172\ttotal: 6.98s\tremaining: 2.52s\n",
            "735:\tlearn: 0.0034071\ttotal: 6.99s\tremaining: 2.5s\n",
            "736:\tlearn: 0.0033970\ttotal: 6.99s\tremaining: 2.5s\n",
            "737:\tlearn: 0.0033892\ttotal: 7s\tremaining: 2.49s\n",
            "738:\tlearn: 0.0033818\ttotal: 7.01s\tremaining: 2.48s\n",
            "739:\tlearn: 0.0033746\ttotal: 7.02s\tremaining: 2.47s\n",
            "740:\tlearn: 0.0033675\ttotal: 7.03s\tremaining: 2.46s\n",
            "741:\tlearn: 0.0033604\ttotal: 7.04s\tremaining: 2.45s\n",
            "742:\tlearn: 0.0033523\ttotal: 7.05s\tremaining: 2.44s\n",
            "743:\tlearn: 0.0033461\ttotal: 7.06s\tremaining: 2.43s\n",
            "744:\tlearn: 0.0033386\ttotal: 7.07s\tremaining: 2.42s\n",
            "745:\tlearn: 0.0033287\ttotal: 7.08s\tremaining: 2.41s\n",
            "746:\tlearn: 0.0033224\ttotal: 7.09s\tremaining: 2.4s\n",
            "747:\tlearn: 0.0033133\ttotal: 7.1s\tremaining: 2.39s\n",
            "748:\tlearn: 0.0033032\ttotal: 7.11s\tremaining: 2.38s\n",
            "749:\tlearn: 0.0032973\ttotal: 7.12s\tremaining: 2.37s\n",
            "750:\tlearn: 0.0032878\ttotal: 7.13s\tremaining: 2.36s\n",
            "751:\tlearn: 0.0032752\ttotal: 7.13s\tremaining: 2.35s\n",
            "752:\tlearn: 0.0032643\ttotal: 7.14s\tremaining: 2.34s\n",
            "753:\tlearn: 0.0032590\ttotal: 7.15s\tremaining: 2.33s\n",
            "754:\tlearn: 0.0032504\ttotal: 7.16s\tremaining: 2.32s\n",
            "755:\tlearn: 0.0032433\ttotal: 7.17s\tremaining: 2.31s\n",
            "756:\tlearn: 0.0032368\ttotal: 7.18s\tremaining: 2.3s\n",
            "757:\tlearn: 0.0032286\ttotal: 7.19s\tremaining: 2.29s\n",
            "758:\tlearn: 0.0032178\ttotal: 7.2s\tremaining: 2.29s\n",
            "759:\tlearn: 0.0032094\ttotal: 7.21s\tremaining: 2.27s\n",
            "760:\tlearn: 0.0032047\ttotal: 7.21s\tremaining: 2.27s\n",
            "761:\tlearn: 0.0032004\ttotal: 7.23s\tremaining: 2.26s\n",
            "762:\tlearn: 0.0031887\ttotal: 7.24s\tremaining: 2.25s\n",
            "763:\tlearn: 0.0031788\ttotal: 7.25s\tremaining: 2.24s\n",
            "764:\tlearn: 0.0031723\ttotal: 7.25s\tremaining: 2.23s\n",
            "765:\tlearn: 0.0031677\ttotal: 7.26s\tremaining: 2.22s\n",
            "766:\tlearn: 0.0031617\ttotal: 7.27s\tremaining: 2.21s\n",
            "767:\tlearn: 0.0031497\ttotal: 7.28s\tremaining: 2.2s\n",
            "768:\tlearn: 0.0031425\ttotal: 7.29s\tremaining: 2.19s\n",
            "769:\tlearn: 0.0031380\ttotal: 7.3s\tremaining: 2.18s\n",
            "770:\tlearn: 0.0031311\ttotal: 7.31s\tremaining: 2.17s\n",
            "771:\tlearn: 0.0031211\ttotal: 7.32s\tremaining: 2.16s\n",
            "772:\tlearn: 0.0031164\ttotal: 7.33s\tremaining: 2.15s\n",
            "773:\tlearn: 0.0031089\ttotal: 7.33s\tremaining: 2.14s\n",
            "774:\tlearn: 0.0031018\ttotal: 7.34s\tremaining: 2.13s\n",
            "775:\tlearn: 0.0030943\ttotal: 7.35s\tremaining: 2.12s\n",
            "776:\tlearn: 0.0030880\ttotal: 7.36s\tremaining: 2.11s\n",
            "777:\tlearn: 0.0030766\ttotal: 7.37s\tremaining: 2.1s\n",
            "778:\tlearn: 0.0030674\ttotal: 7.38s\tremaining: 2.09s\n",
            "779:\tlearn: 0.0030604\ttotal: 7.39s\tremaining: 2.08s\n",
            "780:\tlearn: 0.0030558\ttotal: 7.4s\tremaining: 2.07s\n",
            "781:\tlearn: 0.0030493\ttotal: 7.41s\tremaining: 2.06s\n",
            "782:\tlearn: 0.0030457\ttotal: 7.42s\tremaining: 2.06s\n",
            "783:\tlearn: 0.0030298\ttotal: 7.43s\tremaining: 2.05s\n",
            "784:\tlearn: 0.0030247\ttotal: 7.44s\tremaining: 2.04s\n",
            "785:\tlearn: 0.0030173\ttotal: 7.45s\tremaining: 2.03s\n",
            "786:\tlearn: 0.0030110\ttotal: 7.46s\tremaining: 2.02s\n",
            "787:\tlearn: 0.0029997\ttotal: 7.47s\tremaining: 2.01s\n",
            "788:\tlearn: 0.0029884\ttotal: 7.47s\tremaining: 2s\n",
            "789:\tlearn: 0.0029838\ttotal: 7.48s\tremaining: 1.99s\n",
            "790:\tlearn: 0.0029689\ttotal: 7.49s\tremaining: 1.98s\n",
            "791:\tlearn: 0.0029599\ttotal: 7.5s\tremaining: 1.97s\n",
            "792:\tlearn: 0.0029544\ttotal: 7.51s\tremaining: 1.96s\n",
            "793:\tlearn: 0.0029473\ttotal: 7.52s\tremaining: 1.95s\n",
            "794:\tlearn: 0.0029419\ttotal: 7.53s\tremaining: 1.94s\n",
            "795:\tlearn: 0.0029375\ttotal: 7.54s\tremaining: 1.93s\n",
            "796:\tlearn: 0.0029310\ttotal: 7.55s\tremaining: 1.92s\n",
            "797:\tlearn: 0.0029273\ttotal: 7.56s\tremaining: 1.91s\n",
            "798:\tlearn: 0.0029200\ttotal: 7.57s\tremaining: 1.9s\n",
            "799:\tlearn: 0.0029122\ttotal: 7.57s\tremaining: 1.89s\n",
            "800:\tlearn: 0.0029069\ttotal: 7.58s\tremaining: 1.88s\n",
            "801:\tlearn: 0.0029020\ttotal: 7.6s\tremaining: 1.88s\n",
            "802:\tlearn: 0.0028955\ttotal: 7.61s\tremaining: 1.87s\n",
            "803:\tlearn: 0.0028888\ttotal: 7.62s\tremaining: 1.86s\n",
            "804:\tlearn: 0.0028823\ttotal: 7.63s\tremaining: 1.85s\n",
            "805:\tlearn: 0.0028767\ttotal: 7.64s\tremaining: 1.84s\n",
            "806:\tlearn: 0.0028714\ttotal: 7.65s\tremaining: 1.83s\n",
            "807:\tlearn: 0.0028652\ttotal: 7.66s\tremaining: 1.82s\n",
            "808:\tlearn: 0.0028570\ttotal: 7.67s\tremaining: 1.81s\n",
            "809:\tlearn: 0.0028505\ttotal: 7.68s\tremaining: 1.8s\n",
            "810:\tlearn: 0.0028459\ttotal: 7.69s\tremaining: 1.79s\n",
            "811:\tlearn: 0.0028405\ttotal: 7.7s\tremaining: 1.78s\n",
            "812:\tlearn: 0.0028355\ttotal: 7.71s\tremaining: 1.77s\n",
            "813:\tlearn: 0.0028316\ttotal: 7.71s\tremaining: 1.76s\n",
            "814:\tlearn: 0.0028218\ttotal: 7.72s\tremaining: 1.75s\n",
            "815:\tlearn: 0.0028144\ttotal: 7.73s\tremaining: 1.74s\n",
            "816:\tlearn: 0.0028086\ttotal: 7.74s\tremaining: 1.73s\n",
            "817:\tlearn: 0.0028024\ttotal: 7.76s\tremaining: 1.73s\n",
            "818:\tlearn: 0.0027966\ttotal: 7.76s\tremaining: 1.72s\n",
            "819:\tlearn: 0.0027903\ttotal: 7.77s\tremaining: 1.71s\n",
            "820:\tlearn: 0.0027849\ttotal: 7.78s\tremaining: 1.7s\n",
            "821:\tlearn: 0.0027809\ttotal: 7.79s\tremaining: 1.69s\n",
            "822:\tlearn: 0.0027693\ttotal: 7.8s\tremaining: 1.68s\n",
            "823:\tlearn: 0.0027651\ttotal: 7.81s\tremaining: 1.67s\n",
            "824:\tlearn: 0.0027612\ttotal: 7.82s\tremaining: 1.66s\n",
            "825:\tlearn: 0.0027555\ttotal: 7.83s\tremaining: 1.65s\n",
            "826:\tlearn: 0.0027495\ttotal: 7.84s\tremaining: 1.64s\n",
            "827:\tlearn: 0.0027456\ttotal: 7.85s\tremaining: 1.63s\n",
            "828:\tlearn: 0.0027407\ttotal: 7.86s\tremaining: 1.62s\n",
            "829:\tlearn: 0.0027364\ttotal: 7.87s\tremaining: 1.61s\n",
            "830:\tlearn: 0.0027284\ttotal: 7.88s\tremaining: 1.6s\n",
            "831:\tlearn: 0.0027235\ttotal: 7.89s\tremaining: 1.59s\n",
            "832:\tlearn: 0.0027176\ttotal: 7.89s\tremaining: 1.58s\n",
            "833:\tlearn: 0.0027176\ttotal: 7.9s\tremaining: 1.57s\n",
            "834:\tlearn: 0.0027111\ttotal: 7.91s\tremaining: 1.56s\n",
            "835:\tlearn: 0.0027027\ttotal: 7.92s\tremaining: 1.55s\n",
            "836:\tlearn: 0.0026961\ttotal: 7.93s\tremaining: 1.54s\n",
            "837:\tlearn: 0.0026915\ttotal: 7.94s\tremaining: 1.53s\n",
            "838:\tlearn: 0.0026778\ttotal: 7.95s\tremaining: 1.52s\n",
            "839:\tlearn: 0.0026725\ttotal: 7.96s\tremaining: 1.51s\n",
            "840:\tlearn: 0.0026655\ttotal: 7.97s\tremaining: 1.51s\n",
            "841:\tlearn: 0.0026601\ttotal: 7.97s\tremaining: 1.5s\n",
            "842:\tlearn: 0.0026525\ttotal: 7.98s\tremaining: 1.49s\n",
            "843:\tlearn: 0.0026439\ttotal: 7.99s\tremaining: 1.48s\n",
            "844:\tlearn: 0.0026394\ttotal: 8s\tremaining: 1.47s\n",
            "845:\tlearn: 0.0026334\ttotal: 8.01s\tremaining: 1.46s\n",
            "846:\tlearn: 0.0026291\ttotal: 8.02s\tremaining: 1.45s\n",
            "847:\tlearn: 0.0026226\ttotal: 8.03s\tremaining: 1.44s\n",
            "848:\tlearn: 0.0026192\ttotal: 8.05s\tremaining: 1.43s\n",
            "849:\tlearn: 0.0026131\ttotal: 8.05s\tremaining: 1.42s\n",
            "850:\tlearn: 0.0026102\ttotal: 8.06s\tremaining: 1.41s\n",
            "851:\tlearn: 0.0026061\ttotal: 8.07s\tremaining: 1.4s\n",
            "852:\tlearn: 0.0025991\ttotal: 8.08s\tremaining: 1.39s\n",
            "853:\tlearn: 0.0025955\ttotal: 8.09s\tremaining: 1.38s\n",
            "854:\tlearn: 0.0025859\ttotal: 8.1s\tremaining: 1.37s\n",
            "855:\tlearn: 0.0025798\ttotal: 8.11s\tremaining: 1.36s\n",
            "856:\tlearn: 0.0025707\ttotal: 8.12s\tremaining: 1.35s\n",
            "857:\tlearn: 0.0025622\ttotal: 8.13s\tremaining: 1.34s\n",
            "858:\tlearn: 0.0025537\ttotal: 8.14s\tremaining: 1.33s\n",
            "859:\tlearn: 0.0025506\ttotal: 8.14s\tremaining: 1.32s\n",
            "860:\tlearn: 0.0025430\ttotal: 8.15s\tremaining: 1.32s\n",
            "861:\tlearn: 0.0025359\ttotal: 8.16s\tremaining: 1.31s\n",
            "862:\tlearn: 0.0025272\ttotal: 8.17s\tremaining: 1.3s\n",
            "863:\tlearn: 0.0025210\ttotal: 8.18s\tremaining: 1.29s\n",
            "864:\tlearn: 0.0025170\ttotal: 8.19s\tremaining: 1.28s\n",
            "865:\tlearn: 0.0025109\ttotal: 8.2s\tremaining: 1.27s\n",
            "866:\tlearn: 0.0025055\ttotal: 8.21s\tremaining: 1.26s\n",
            "867:\tlearn: 0.0025015\ttotal: 8.22s\tremaining: 1.25s\n",
            "868:\tlearn: 0.0024982\ttotal: 8.23s\tremaining: 1.24s\n",
            "869:\tlearn: 0.0024931\ttotal: 8.24s\tremaining: 1.23s\n",
            "870:\tlearn: 0.0024883\ttotal: 8.25s\tremaining: 1.22s\n",
            "871:\tlearn: 0.0024826\ttotal: 8.26s\tremaining: 1.21s\n",
            "872:\tlearn: 0.0024799\ttotal: 8.27s\tremaining: 1.2s\n",
            "873:\tlearn: 0.0024750\ttotal: 8.27s\tremaining: 1.19s\n",
            "874:\tlearn: 0.0024711\ttotal: 8.28s\tremaining: 1.18s\n",
            "875:\tlearn: 0.0024677\ttotal: 8.29s\tremaining: 1.17s\n",
            "876:\tlearn: 0.0024596\ttotal: 8.3s\tremaining: 1.16s\n",
            "877:\tlearn: 0.0024537\ttotal: 8.31s\tremaining: 1.15s\n",
            "878:\tlearn: 0.0024486\ttotal: 8.32s\tremaining: 1.15s\n",
            "879:\tlearn: 0.0024431\ttotal: 8.33s\tremaining: 1.14s\n",
            "880:\tlearn: 0.0024366\ttotal: 8.34s\tremaining: 1.13s\n",
            "881:\tlearn: 0.0024319\ttotal: 8.35s\tremaining: 1.12s\n",
            "882:\tlearn: 0.0024265\ttotal: 8.36s\tremaining: 1.11s\n",
            "883:\tlearn: 0.0024219\ttotal: 8.36s\tremaining: 1.1s\n",
            "884:\tlearn: 0.0024190\ttotal: 8.37s\tremaining: 1.09s\n",
            "885:\tlearn: 0.0024145\ttotal: 8.38s\tremaining: 1.08s\n",
            "886:\tlearn: 0.0024100\ttotal: 8.39s\tremaining: 1.07s\n",
            "887:\tlearn: 0.0024049\ttotal: 8.4s\tremaining: 1.06s\n",
            "888:\tlearn: 0.0024004\ttotal: 8.41s\tremaining: 1.05s\n",
            "889:\tlearn: 0.0023958\ttotal: 8.42s\tremaining: 1.04s\n",
            "890:\tlearn: 0.0023859\ttotal: 8.43s\tremaining: 1.03s\n",
            "891:\tlearn: 0.0023808\ttotal: 8.44s\tremaining: 1.02s\n",
            "892:\tlearn: 0.0023761\ttotal: 8.45s\tremaining: 1.01s\n",
            "893:\tlearn: 0.0023719\ttotal: 8.46s\tremaining: 1s\n",
            "894:\tlearn: 0.0023674\ttotal: 8.47s\tremaining: 994ms\n",
            "895:\tlearn: 0.0023674\ttotal: 8.48s\tremaining: 984ms\n",
            "896:\tlearn: 0.0023627\ttotal: 8.49s\tremaining: 975ms\n",
            "897:\tlearn: 0.0023557\ttotal: 8.5s\tremaining: 965ms\n",
            "898:\tlearn: 0.0023491\ttotal: 8.51s\tremaining: 956ms\n",
            "899:\tlearn: 0.0023440\ttotal: 8.52s\tremaining: 946ms\n",
            "900:\tlearn: 0.0023396\ttotal: 8.53s\tremaining: 937ms\n",
            "901:\tlearn: 0.0023348\ttotal: 8.54s\tremaining: 927ms\n",
            "902:\tlearn: 0.0023312\ttotal: 8.54s\tremaining: 918ms\n",
            "903:\tlearn: 0.0023238\ttotal: 8.55s\tremaining: 908ms\n",
            "904:\tlearn: 0.0023238\ttotal: 8.56s\tremaining: 899ms\n",
            "905:\tlearn: 0.0023187\ttotal: 8.57s\tremaining: 889ms\n",
            "906:\tlearn: 0.0023138\ttotal: 8.58s\tremaining: 880ms\n",
            "907:\tlearn: 0.0023093\ttotal: 8.6s\tremaining: 871ms\n",
            "908:\tlearn: 0.0023059\ttotal: 8.61s\tremaining: 862ms\n",
            "909:\tlearn: 0.0023023\ttotal: 8.62s\tremaining: 852ms\n",
            "910:\tlearn: 0.0023014\ttotal: 8.64s\tremaining: 844ms\n",
            "911:\tlearn: 0.0023014\ttotal: 8.65s\tremaining: 834ms\n",
            "912:\tlearn: 0.0022982\ttotal: 8.66s\tremaining: 826ms\n",
            "913:\tlearn: 0.0022892\ttotal: 8.69s\tremaining: 817ms\n",
            "914:\tlearn: 0.0022839\ttotal: 8.7s\tremaining: 808ms\n",
            "915:\tlearn: 0.0022838\ttotal: 8.71s\tremaining: 798ms\n",
            "916:\tlearn: 0.0022838\ttotal: 8.71s\tremaining: 789ms\n",
            "917:\tlearn: 0.0022768\ttotal: 8.73s\tremaining: 779ms\n",
            "918:\tlearn: 0.0022768\ttotal: 8.73s\tremaining: 770ms\n",
            "919:\tlearn: 0.0022672\ttotal: 8.74s\tremaining: 760ms\n",
            "920:\tlearn: 0.0022672\ttotal: 8.76s\tremaining: 751ms\n",
            "921:\tlearn: 0.0022612\ttotal: 8.77s\tremaining: 742ms\n",
            "922:\tlearn: 0.0022612\ttotal: 8.78s\tremaining: 732ms\n",
            "923:\tlearn: 0.0022519\ttotal: 8.79s\tremaining: 723ms\n",
            "924:\tlearn: 0.0022490\ttotal: 8.79s\tremaining: 713ms\n",
            "925:\tlearn: 0.0022490\ttotal: 8.8s\tremaining: 704ms\n",
            "926:\tlearn: 0.0022427\ttotal: 8.81s\tremaining: 694ms\n",
            "927:\tlearn: 0.0022386\ttotal: 8.82s\tremaining: 685ms\n",
            "928:\tlearn: 0.0022344\ttotal: 8.83s\tremaining: 675ms\n",
            "929:\tlearn: 0.0022289\ttotal: 8.84s\tremaining: 666ms\n",
            "930:\tlearn: 0.0022223\ttotal: 8.85s\tremaining: 656ms\n",
            "931:\tlearn: 0.0022128\ttotal: 8.86s\tremaining: 646ms\n",
            "932:\tlearn: 0.0022103\ttotal: 8.87s\tremaining: 637ms\n",
            "933:\tlearn: 0.0022023\ttotal: 8.88s\tremaining: 628ms\n",
            "934:\tlearn: 0.0022023\ttotal: 8.89s\tremaining: 618ms\n",
            "935:\tlearn: 0.0022007\ttotal: 8.9s\tremaining: 609ms\n",
            "936:\tlearn: 0.0021967\ttotal: 8.91s\tremaining: 599ms\n",
            "937:\tlearn: 0.0021967\ttotal: 8.92s\tremaining: 589ms\n",
            "938:\tlearn: 0.0021926\ttotal: 8.93s\tremaining: 580ms\n",
            "939:\tlearn: 0.0021926\ttotal: 8.94s\tremaining: 570ms\n",
            "940:\tlearn: 0.0021883\ttotal: 8.94s\tremaining: 561ms\n",
            "941:\tlearn: 0.0021850\ttotal: 8.95s\tremaining: 551ms\n",
            "942:\tlearn: 0.0021818\ttotal: 8.96s\tremaining: 542ms\n",
            "943:\tlearn: 0.0021771\ttotal: 8.97s\tremaining: 532ms\n",
            "944:\tlearn: 0.0021719\ttotal: 8.98s\tremaining: 523ms\n",
            "945:\tlearn: 0.0021665\ttotal: 8.99s\tremaining: 513ms\n",
            "946:\tlearn: 0.0021568\ttotal: 9s\tremaining: 504ms\n",
            "947:\tlearn: 0.0021516\ttotal: 9.01s\tremaining: 494ms\n",
            "948:\tlearn: 0.0021516\ttotal: 9.02s\tremaining: 485ms\n",
            "949:\tlearn: 0.0021468\ttotal: 9.03s\tremaining: 475ms\n",
            "950:\tlearn: 0.0021445\ttotal: 9.04s\tremaining: 466ms\n",
            "951:\tlearn: 0.0021445\ttotal: 9.04s\tremaining: 456ms\n",
            "952:\tlearn: 0.0021445\ttotal: 9.05s\tremaining: 446ms\n",
            "953:\tlearn: 0.0021445\ttotal: 9.06s\tremaining: 437ms\n",
            "954:\tlearn: 0.0021418\ttotal: 9.07s\tremaining: 427ms\n",
            "955:\tlearn: 0.0021372\ttotal: 9.08s\tremaining: 418ms\n",
            "956:\tlearn: 0.0021322\ttotal: 9.09s\tremaining: 408ms\n",
            "957:\tlearn: 0.0021300\ttotal: 9.1s\tremaining: 399ms\n",
            "958:\tlearn: 0.0021217\ttotal: 9.11s\tremaining: 389ms\n",
            "959:\tlearn: 0.0021217\ttotal: 9.12s\tremaining: 380ms\n",
            "960:\tlearn: 0.0021217\ttotal: 9.13s\tremaining: 370ms\n",
            "961:\tlearn: 0.0021217\ttotal: 9.14s\tremaining: 361ms\n",
            "962:\tlearn: 0.0021217\ttotal: 9.15s\tremaining: 351ms\n",
            "963:\tlearn: 0.0021186\ttotal: 9.15s\tremaining: 342ms\n",
            "964:\tlearn: 0.0021186\ttotal: 9.16s\tremaining: 332ms\n",
            "965:\tlearn: 0.0021186\ttotal: 9.17s\tremaining: 323ms\n",
            "966:\tlearn: 0.0021127\ttotal: 9.18s\tremaining: 313ms\n",
            "967:\tlearn: 0.0021064\ttotal: 9.19s\tremaining: 304ms\n",
            "968:\tlearn: 0.0021026\ttotal: 9.2s\tremaining: 294ms\n",
            "969:\tlearn: 0.0020989\ttotal: 9.21s\tremaining: 285ms\n",
            "970:\tlearn: 0.0020912\ttotal: 9.22s\tremaining: 275ms\n",
            "971:\tlearn: 0.0020891\ttotal: 9.23s\tremaining: 266ms\n",
            "972:\tlearn: 0.0020851\ttotal: 9.24s\tremaining: 256ms\n",
            "973:\tlearn: 0.0020822\ttotal: 9.25s\tremaining: 247ms\n",
            "974:\tlearn: 0.0020779\ttotal: 9.26s\tremaining: 237ms\n",
            "975:\tlearn: 0.0020732\ttotal: 9.27s\tremaining: 228ms\n",
            "976:\tlearn: 0.0020732\ttotal: 9.27s\tremaining: 218ms\n",
            "977:\tlearn: 0.0020732\ttotal: 9.29s\tremaining: 209ms\n",
            "978:\tlearn: 0.0020732\ttotal: 9.29s\tremaining: 199ms\n",
            "979:\tlearn: 0.0020681\ttotal: 9.3s\tremaining: 190ms\n",
            "980:\tlearn: 0.0020646\ttotal: 9.31s\tremaining: 180ms\n",
            "981:\tlearn: 0.0020590\ttotal: 9.32s\tremaining: 171ms\n",
            "982:\tlearn: 0.0020545\ttotal: 9.33s\tremaining: 161ms\n",
            "983:\tlearn: 0.0020487\ttotal: 9.34s\tremaining: 152ms\n",
            "984:\tlearn: 0.0020487\ttotal: 9.35s\tremaining: 142ms\n",
            "985:\tlearn: 0.0020487\ttotal: 9.36s\tremaining: 133ms\n",
            "986:\tlearn: 0.0020487\ttotal: 9.37s\tremaining: 123ms\n",
            "987:\tlearn: 0.0020451\ttotal: 9.38s\tremaining: 114ms\n",
            "988:\tlearn: 0.0020413\ttotal: 9.39s\tremaining: 104ms\n",
            "989:\tlearn: 0.0020413\ttotal: 9.4s\tremaining: 94.9ms\n",
            "990:\tlearn: 0.0020372\ttotal: 9.41s\tremaining: 85.4ms\n",
            "991:\tlearn: 0.0020372\ttotal: 9.42s\tremaining: 75.9ms\n",
            "992:\tlearn: 0.0020330\ttotal: 9.43s\tremaining: 66.4ms\n",
            "993:\tlearn: 0.0020277\ttotal: 9.44s\tremaining: 57ms\n",
            "994:\tlearn: 0.0020219\ttotal: 9.45s\tremaining: 47.5ms\n",
            "995:\tlearn: 0.0020210\ttotal: 9.46s\tremaining: 38ms\n",
            "996:\tlearn: 0.0020175\ttotal: 9.47s\tremaining: 28.5ms\n",
            "997:\tlearn: 0.0020146\ttotal: 9.48s\tremaining: 19ms\n",
            "998:\tlearn: 0.0020093\ttotal: 9.49s\tremaining: 9.49ms\n",
            "999:\tlearn: 0.0020056\ttotal: 9.5s\tremaining: 0us\n"
          ],
          "name": "stdout"
        },
        {
          "output_type": "execute_result",
          "data": {
            "text/plain": [
              "<catboost.core.CatBoostClassifier at 0x7f3d6da5de80>"
            ]
          },
          "metadata": {
            "tags": []
          },
          "execution_count": 48
        }
      ]
    },
    {
      "cell_type": "code",
      "metadata": {
        "id": "8_z8glXXtZal"
      },
      "source": [
        "preds_class_2 = cbc2.predict(X_test_scaled)"
      ],
      "execution_count": null,
      "outputs": []
    },
    {
      "cell_type": "code",
      "metadata": {
        "id": "QoyFQlJZuH6c",
        "outputId": "5f5bc440-6ffe-46aa-8aa6-a6797b35045f",
        "colab": {
          "base_uri": "https://localhost:8080/",
          "height": 479
        }
      },
      "source": [
        "#count how many transactions were predicted to be legit and how many predicted fraud\n",
        "preds = [sum(preds_class_2 == 0), sum(preds_class_2 == 1)]\n",
        "plt.figure(figsize = (7,7))\n",
        "#create a barplot to visualize prediction count\n",
        "splot = sns.barplot(x = ['Legit','Fraud'], y = preds)\n",
        "plt.title(\"Predictions on test data\\nCatBoost, random undersampling\")\n",
        "plt.xlabel(\"Predictions\")\n",
        "plt.ylabel(\"Count\")\n",
        "\n",
        "# adds numbers above each bar\n",
        "for p in splot.patches:\n",
        "    splot.annotate(format(p.get_height(), '.0f'), \n",
        "                   (p.get_x() + p.get_width() / 2., p.get_height()), \n",
        "                   ha = 'center', va = 'center', \n",
        "                   xytext = (0, 9), \n",
        "                   textcoords = 'offset points')\n",
        "plt.show()"
      ],
      "execution_count": null,
      "outputs": [
        {
          "output_type": "display_data",
          "data": {
            "image/png": "[encoded data removed]",
            "text/plain": [
              "<Figure size 504x504 with 1 Axes>"
            ]
          },
          "metadata": {
            "tags": []
          }
        }
      ]
    },
    {
      "cell_type": "code",
      "metadata": {
        "id": "ovdQEZqhuH6p",
        "outputId": "bdf8e51c-9231-4f03-b9ff-ba8c40eb3e40",
        "colab": {
          "base_uri": "https://localhost:8080/",
          "height": 170
        }
      },
      "source": [
        "print(classification_report(y_test, preds_class_2, zero_division=0))"
      ],
      "execution_count": null,
      "outputs": [
        {
          "output_type": "stream",
          "text": [
            "              precision    recall  f1-score   support\n",
            "\n",
            "           0       1.00      1.00      1.00     71079\n",
            "           1       0.54      0.85      0.66       123\n",
            "\n",
            "    accuracy                           1.00     71202\n",
            "   macro avg       0.77      0.92      0.83     71202\n",
            "weighted avg       1.00      1.00      1.00     71202\n",
            "\n"
          ],
          "name": "stdout"
        }
      ]
    },
    {
      "cell_type": "markdown",
      "metadata": {
        "id": "pldO1-q8uH6s"
      },
      "source": [
        "Compared to the previous CatBoost model, the F-score for the fraudulent class is much higher."
      ]
    },
    {
      "cell_type": "code",
      "metadata": {
        "id": "0cjxPskCuH6s"
      },
      "source": [
        "conf_mat=confusion_matrix(y_test, preds_class_2)"
      ],
      "execution_count": null,
      "outputs": []
    },
    {
      "cell_type": "code",
      "metadata": {
        "id": "8owWL2s-uH6v",
        "outputId": "87674434-223a-4c8e-8587-31f1ad552e0c",
        "colab": {
          "base_uri": "https://localhost:8080/",
          "height": 316
        }
      },
      "source": [
        "plt.figure(figsize=(4, 4))\n",
        "sns.heatmap(conf_mat, square=True, annot=True, fmt='d', cbar=False)\n",
        "plt.title(\"Confusion matrix - test set\\nCatBoost + undersampling (5% fraud)\")\n",
        "plt.xlabel('Predicted label')\n",
        "plt.ylabel('True label')\n",
        "plt.show()"
      ],
      "execution_count": null,
      "outputs": [
        {
          "output_type": "display_data",
          "data": {
            "image/png": "[encoded data removed]",
            "text/plain": [
              "<Figure size 288x288 with 1 Axes>"
            ]
          },
          "metadata": {
            "tags": []
          }
        }
      ]
    },
    {
      "cell_type": "markdown",
      "metadata": {
        "id": "IcI84TTnvfFe"
      },
      "source": [
        "While almost none of the legitimate transactions were classified as fraudulent compared to the previous model, we ended up losing a bit of recall on the fraudulent class."
      ]
    },
    {
      "cell_type": "markdown",
      "metadata": {
        "id": "8nk6I98yusTC"
      },
      "source": [
        "## Logistic Regression"
      ]
    },
    {
      "cell_type": "markdown",
      "metadata": {
        "id": "qVArfM1WETN9"
      },
      "source": [
        "Breaking up into Testing and Training Data"
      ]
    },
    {
      "cell_type": "code",
      "metadata": {
        "id": "xg1V0qJOYvkN"
      },
      "source": [
        "#logistic regression \n",
        "#break up data \n",
        "#Break up into training and test data\n",
        "#training data\n",
        "X_trainlr = (df.sample(frac=.8))\n",
        "#testing \n",
        "#takes all values not in x training \n",
        "X_testlr = df.loc[~df.index.isin(X_trainlr.index)]"
      ],
      "execution_count": null,
      "outputs": []
    },
    {
      "cell_type": "code",
      "metadata": {
        "id": "mtFXra_n_vNR"
      },
      "source": [
        "#y train\n",
        "Y_trainlr = X_trainlr['Class']\n",
        "#y test\n",
        "Y_testlr = X_testlr['Class']"
      ],
      "execution_count": null,
      "outputs": []
    },
    {
      "cell_type": "code",
      "metadata": {
        "id": "3ySgOUltY0O-"
      },
      "source": [
        "X_trainlr, X_testlr = X_trainlr.drop(labels=\"Class\", axis=1), X_testlr.drop(labels=\"Class\", axis=1)"
      ],
      "execution_count": null,
      "outputs": []
    },
    {
      "cell_type": "code",
      "metadata": {
        "id": "xKlQTgLDZD57",
        "outputId": "f04c0521-cdae-4f04-c825-ac42f38ffba4",
        "colab": {
          "base_uri": "https://localhost:8080/",
          "height": 34
        }
      },
      "source": [
        "X_trainlr.shape, Y_trainlr.shape, X_testlr.shape, Y_testlr.shape"
      ],
      "execution_count": null,
      "outputs": [
        {
          "output_type": "execute_result",
          "data": {
            "text/plain": [
              "((227846, 30), (227846,), (56961, 30), (56961,))"
            ]
          },
          "metadata": {
            "tags": []
          },
          "execution_count": 11
        }
      ]
    },
    {
      "cell_type": "code",
      "metadata": {
        "id": "jNPCzNh3i439",
        "outputId": "dab9d0fe-b12c-450f-851f-bc9eed805ffb",
        "colab": {
          "base_uri": "https://localhost:8080/",
          "height": 238
        }
      },
      "source": [
        "from sklearn.model_selection import GridSearchCV\n",
        "from sklearn.linear_model import LogisticRegression\n",
        "from sklearn.metrics import classification_report \n",
        "param_grid = {'C':[.001, .01, .1, 1, 10, 100, 1000]}\n",
        "clf  = GridSearchCV(LogisticRegression(C=1, penalty='l1', solver='liblinear'), param_grid)\n",
        "\n",
        "clf.fit(X_trainlr, Y_trainlr)"
      ],
      "execution_count": null,
      "outputs": [
        {
          "output_type": "execute_result",
          "data": {
            "text/plain": [
              "GridSearchCV(cv=None, error_score=nan,\n",
              "             estimator=LogisticRegression(C=1, class_weight=None, dual=False,\n",
              "                                          fit_intercept=True,\n",
              "                                          intercept_scaling=1, l1_ratio=None,\n",
              "                                          max_iter=100, multi_class='auto',\n",
              "                                          n_jobs=None, penalty='l1',\n",
              "                                          random_state=None, solver='liblinear',\n",
              "                                          tol=0.0001, verbose=0,\n",
              "                                          warm_start=False),\n",
              "             iid='deprecated', n_jobs=None,\n",
              "             param_grid={'C': [0.001, 0.01, 0.1, 1, 10, 100, 1000]},\n",
              "             pre_dispatch='2*n_jobs', refit=True, return_train_score=False,\n",
              "             scoring=None, verbose=0)"
            ]
          },
          "metadata": {
            "tags": []
          },
          "execution_count": 12
        }
      ]
    },
    {
      "cell_type": "code",
      "metadata": {
        "id": "OqgjTxMzlKgl",
        "outputId": "4aace7d7-a96e-4906-da46-eec3b23afcb7",
        "colab": {
          "base_uri": "https://localhost:8080/",
          "height": 34
        }
      },
      "source": [
        "clf.best_params_"
      ],
      "execution_count": null,
      "outputs": [
        {
          "output_type": "execute_result",
          "data": {
            "text/plain": [
              "{'C': 0.1}"
            ]
          },
          "metadata": {
            "tags": []
          },
          "execution_count": 13
        }
      ]
    },
    {
      "cell_type": "code",
      "metadata": {
        "id": "TclavvbKzJm-"
      },
      "source": [
        "y_preds_lr_train = clf.predict(X_trainlr)"
      ],
      "execution_count": null,
      "outputs": []
    },
    {
      "cell_type": "code",
      "metadata": {
        "id": "R6Ch_EZPlXzW",
        "outputId": "253a183c-dd4b-4945-b797-2de4043f9b70",
        "colab": {
          "base_uri": "https://localhost:8080/",
          "height": 479
        }
      },
      "source": [
        "#Bar Graph\n",
        "#count how many transactions were predicted to be legit and how many predicted fraud\n",
        "preds = [sum(y_preds_lr_train == 0), sum(y_preds_lr_train == 1)]\n",
        "plt.figure(figsize = (7,7))\n",
        "#create a barplot to visualize prediction count\n",
        "splot = sns.barplot(x = [\"legit\", \"fraud\"], y =  preds)\n",
        "plt.title(\"Predictions on training data\\nLogistic Regression\")\n",
        "plt.xlabel(\"Predictions\")\n",
        "plt.ylabel(\"Count\")\n",
        "\n",
        "# adds numbers above each bar\n",
        "for p in splot.patches:\n",
        "     splot.annotate(format(p.get_height(), '.0f'), \n",
        "                    (p.get_x() + p.get_width() / 2., p.get_height()), \n",
        "                    ha = 'center', va = 'center', \n",
        "                    xytext = (0, 9), \n",
        "                    textcoords = 'offset points')\n",
        "corners = ((0, 0), (1000, 1000))\n",
        "splot.update_datalim(corners)\n",
        "plt.show()"
      ],
      "execution_count": null,
      "outputs": [
        {
          "output_type": "display_data",
          "data": {
            "image/png": "[encoded data removed]",
            "text/plain": [
              "<Figure size 504x504 with 1 Axes>"
            ]
          },
          "metadata": {
            "tags": []
          }
        }
      ]
    },
    {
      "cell_type": "code",
      "metadata": {
        "id": "upie8Oqwl5vm",
        "outputId": "c3e06a2d-c56e-435c-edfb-dedf895266c9",
        "colab": {
          "base_uri": "https://localhost:8080/",
          "height": 301
        }
      },
      "source": [
        "#Confusion Matrix\n",
        "from sklearn.metrics import confusion_matrix\n",
        "conf_mat=confusion_matrix(Y_trainlr, y_preds_lr_train)\n",
        "plt.figure(figsize=(4, 4))\n",
        "sns.heatmap(conf_mat, square=True, annot=True, fmt='d', cbar=False)\n",
        "plt.title(\"Confusion matrix - LR\")\n",
        "plt.xlabel('Predicted label')\n",
        "plt.ylabel('True label')\n",
        "plt.show()"
      ],
      "execution_count": null,
      "outputs": [
        {
          "output_type": "display_data",
          "data": {
            "image/png": "[encoded data removed]",
            "text/plain": [
              "<Figure size 288x288 with 1 Axes>"
            ]
          },
          "metadata": {
            "tags": []
          }
        }
      ]
    },
    {
      "cell_type": "code",
      "metadata": {
        "id": "3aHSC5s4pLjS",
        "outputId": "575ddc3f-235b-4203-f1b6-93b92713ea28",
        "colab": {
          "base_uri": "https://localhost:8080/",
          "height": 170
        }
      },
      "source": [
        "print(classification_report(Y_trainlr, y_preds_lr_train, zero_division=0))"
      ],
      "execution_count": null,
      "outputs": [
        {
          "output_type": "stream",
          "text": [
            "              precision    recall  f1-score   support\n",
            "\n",
            "           0       1.00      1.00      1.00    227438\n",
            "           1       0.88      0.59      0.71       408\n",
            "\n",
            "    accuracy                           1.00    227846\n",
            "   macro avg       0.94      0.80      0.85    227846\n",
            "weighted avg       1.00      1.00      1.00    227846\n",
            "\n"
          ],
          "name": "stdout"
        }
      ]
    },
    {
      "cell_type": "code",
      "metadata": {
        "id": "X0q-X9kooldr"
      },
      "source": [
        "#Testing \n",
        "y_preds_lr = clf.predict(X_testlr)"
      ],
      "execution_count": null,
      "outputs": []
    },
    {
      "cell_type": "code",
      "metadata": {
        "id": "znU12Gfzo2i0",
        "outputId": "69514a07-973e-4d9d-a165-0d3440c96f75",
        "colab": {
          "base_uri": "https://localhost:8080/",
          "height": 316
        }
      },
      "source": [
        "#Confusion Matrix\n",
        "from sklearn.metrics import confusion_matrix\n",
        "conf_mat=confusion_matrix(Y_testlr, y_preds_lr)\n",
        "plt.figure(figsize=(4, 4))\n",
        "sns.heatmap(conf_mat, square=True, annot=True, fmt='d', cbar=False)\n",
        "plt.title(\"Confusion matrix\\nLR testing set\")\n",
        "plt.xlabel('Predicted label')\n",
        "plt.ylabel('True label')\n",
        "plt.show()"
      ],
      "execution_count": null,
      "outputs": [
        {
          "output_type": "display_data",
          "data": {
            "image/png": "[encoded data removed]",
            "text/plain": [
              "<Figure size 288x288 with 1 Axes>"
            ]
          },
          "metadata": {
            "tags": []
          }
        }
      ]
    },
    {
      "cell_type": "code",
      "metadata": {
        "id": "3owPAjSE4IYr",
        "outputId": "d1c0f3fb-ee2a-4477-974c-f4c2f8d8ec0d",
        "colab": {
          "base_uri": "https://localhost:8080/",
          "height": 170
        }
      },
      "source": [
        "print(classification_report(Y_testlr, y_preds_lr, zero_division=0))"
      ],
      "execution_count": null,
      "outputs": [
        {
          "output_type": "stream",
          "text": [
            "              precision    recall  f1-score   support\n",
            "\n",
            "           0       1.00      1.00      1.00     56877\n",
            "           1       0.93      0.63      0.75        84\n",
            "\n",
            "    accuracy                           1.00     56961\n",
            "   macro avg       0.96      0.82      0.88     56961\n",
            "weighted avg       1.00      1.00      1.00     56961\n",
            "\n"
          ],
          "name": "stdout"
        }
      ]
    },
    {
      "cell_type": "code",
      "metadata": {
        "id": "A3LqMDdNEjcV"
      },
      "source": [
        "#svm_parameters = [{\"kernel\": ['rbf', \"poly\"], \"gamma\":[1e-3, 1e-4], \"C\":[1,10,100]}]\n",
        "#score_svm = ['precision', 'recall']"
      ],
      "execution_count": null,
      "outputs": []
    },
    {
      "cell_type": "code",
      "metadata": {
        "id": "bX9uk1hqE9o2"
      },
      "source": [
        "# from sklearn.model_selection import GridSearchCV\n",
        "# from sklearn.linear_model import LogisticRegression\n",
        "# from sklearn.metrics import classification_report \n",
        "# from sklearn.svm import SVC\n",
        "# for scores_svm in score_svm:\n",
        "#   print(\"---- Tuning hyperparameters for %s ----\" % scores_svm)\n",
        "#   print()\n",
        "\n",
        "#   svm = GridSearchCV(SVC(), svm_parameters, cv=5, scoring='%s_macro' % scores_svm)\n",
        "#   svm.fit(X_trainsvm, Y_trainsvm)\n",
        "\n",
        "#   print('The best parameters found on the training data set are:')\n",
        "#   print()\n",
        "#   print(svm.best_params_)\n",
        "#   print()\n",
        "#   print('The Grid Scores on the Training dataset are:')\n",
        "#   print()\n",
        "\n",
        "#   mean_svm = svm.cv_results_['mean_test_score']\n",
        "#   std_svm = svm.cv_results_['std_test_score']\n",
        "\n",
        "#   for mean, std, params in zip(mean_svm, std_svm, svm.cv_results_['params']):\n",
        "#     print('%0.3f (+/-%0.03f) for %r' %(mean, std * 2, params))\n",
        "\n",
        "#   print()\n",
        "\n",
        "#   print('Classification report')\n",
        "#   print()\n",
        "\n",
        "#   ytrue_testsvm, ypred_testsvm = Y_testsvm, svm.predict(X_testsvm)\n",
        "\n",
        "#   print(classification_report(ytrue_testsvm, ypred_testsvm, zero_division=0))\n",
        "#   print()"
      ],
      "execution_count": null,
      "outputs": []
    },
    {
      "cell_type": "code",
      "metadata": {
        "id": "lNtrCNTDHxF-"
      },
      "source": [
        "# #Bar Graph\n",
        "# #count how many transactions were predicted to be legit and how many predicted fraud\n",
        "# preds = [sum(ypred_testsvm == 0), sum(ypred_testsvm == 1)]\n",
        "# plt.figure(figsize = (7,7))\n",
        "# #create a barplot to visualize prediction count\n",
        "# splot = sns.barplot(x = [\"legit\", \"fraud\"], y =  preds)\n",
        "# plt.title(\"Predictions on test SVM\")\n",
        "# plt.xlabel(\"Predictions\")\n",
        "# plt.ylabel(\"Count\")\n",
        "\n",
        "# # adds numbers above each bar\n",
        "# for p in splot.patches:\n",
        "#     splot.annotate(format(p.get_height(), '.0f'), \n",
        "#                    (p.get_x() + p.get_width() / 2., p.get_height()), \n",
        "#                    ha = 'center', va = 'center', \n",
        "#                    xytext = (0, 9), \n",
        "#                    textcoords = 'offset points')\n",
        "# corners = ((0, 0), (1000, 1000))\n",
        "# splot.update_datalim(corners)\n",
        "# plt.show()"
      ],
      "execution_count": null,
      "outputs": []
    },
    {
      "cell_type": "code",
      "metadata": {
        "id": "oOrzGmdp5rzX"
      },
      "source": [
        "# #Confusion Matrix\n",
        "# from sklearn.metrics import confusion_matrix\n",
        "# conf_mat=confusion_matrix(ytrue_testsvm, ypred_testsvm)\n",
        "# plt.figure(figsize=(4, 4))\n",
        "# sns.heatmap(conf_mat, square=True, annot=True, fmt='d', cbar=False)\n",
        "# plt.title(\"Confusion matrix - SVM\")\n",
        "# plt.xlabel('Predicted label')\n",
        "# plt.ylabel('True label')\n",
        "# plt.show()"
      ],
      "execution_count": null,
      "outputs": []
    }
  ]
}