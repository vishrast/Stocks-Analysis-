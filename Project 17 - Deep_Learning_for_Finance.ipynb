{
  "nbformat": 4,
  "nbformat_minor": 0,
  "metadata": {
    "kernelspec": {
      "display_name": "Python 3",
      "language": "python",
      "name": "python3"
    },
    "language_info": {
      "codemirror_mode": {
        "name": "ipython",
        "version": 3
      },
      "file_extension": ".py",
      "mimetype": "text/x-python",
      "name": "python",
      "nbconvert_exporter": "python",
      "pygments_lexer": "ipython3",
      "version": "3.6.2"
    },
    "colab": {
      "name": "Chapter 11 - Deep Learning for Finance.ipynb",
      "provenance": [],
      "include_colab_link": true
    }
  },
  "cells": [
    {
      "cell_type": "markdown",
      "metadata": {
        "id": "view-in-github",
        "colab_type": "text"
      },
      "source": [
        "<a href=\"https://colab.research.google.com/github/Worlddatascience/DataScienceCohort/blob/master/Project%2017%20-%20Deep_Learning_for_Finance.ipynb\" target=\"_parent\"><img src=\"https://colab.research.google.com/assets/colab-badge.svg\" alt=\"Open In Colab\"/></a>"
      ]
    },
    {
      "cell_type": "markdown",
      "metadata": {
        "id": "l2-IM376no4g"
      },
      "source": [
        "# Requirements"
      ]
    },
    {
      "cell_type": "markdown",
      "metadata": {
        "id": "IAK_0N3tno4k"
      },
      "source": [
        "- Python 3.6.2 (NOT python 3.7)\n",
        "- Sign up for an Intrinio account at https://intrinio.com/ and obtain an API key. Subscription to the 'US Fundamentals and Stock Prices' subscription (free, trial or paid) is required.\n",
        "\n",
        "Python libaries:\n",
        "- TensorFlow r1.13 \n",
        "- keras\n",
        "- requests\n",
        "- pandas\n",
        "- matplotlib\n",
        "- seaborn"
      ]
    },
    {
      "cell_type": "markdown",
      "metadata": {
        "id": "zC964uG1no4m"
      },
      "source": [
        "# A deep learning price prediction model with TensorFlow"
      ]
    },
    {
      "cell_type": "markdown",
      "metadata": {
        "id": "ZbSwmx5Wno4m"
      },
      "source": [
        "## Download the dataset"
      ]
    },
    {
      "cell_type": "code",
      "metadata": {
        "id": "QfaDJSdCno4m"
      },
      "source": [
        "import requests\n",
        "\n",
        "BASE_URL = 'https://api-v2.intrinio.com'\n",
        "\n",
        "# REPLACE YOUR INTRINIO API KEY HERE!\n",
        "INTRINIO_API_KEY = 'OjRjMWE1NTI1ZWNhZGNmMzA4NGU3YjNmMTAxY2MwZTM2' #use the API KEY - SANDBOX\n",
        "\n",
        "def query_intrinio(path, **kwargs):   \n",
        "    url = '%s%s'%(BASE_URL, path)\n",
        "    kwargs['api_key'] = INTRINIO_API_KEY\n",
        "    response = requests.get(url, params=kwargs)\n",
        "\n",
        "    status_code = response.status_code\n",
        "    if status_code == 401: \n",
        "        raise Exception('API key is invalid!')\n",
        "    if status_code == 429: \n",
        "        raise Exception('Page limit hit! Try again in 1 minute')\n",
        "    if status_code != 200: \n",
        "        raise Exception('Request failed with status %s'%status_code)\n",
        "\n",
        "    return response.json()"
      ],
      "execution_count": 1,
      "outputs": []
    },
    {
      "cell_type": "code",
      "metadata": {
        "id": "-VqjgJZ3no4n"
      },
      "source": [
        "import pandas as pd\n",
        "from pandas.io.json import json_normalize\n",
        "\n",
        "def get_technicals(ticker, indicator, **kwargs):    \n",
        "    url_pattern = '/securities/%s/prices/technicals/%s'\n",
        "    path = url_pattern%(ticker, indicator)\n",
        "    json_data = query_intrinio(path, **kwargs)\n",
        "\n",
        "    df = json_normalize(json_data.get('technicals'))    \n",
        "    df['date_time'] = pd.to_datetime(df['date_time'])\n",
        "    df = df.set_index('date_time')\n",
        "    df.index = df.index.rename('date')\n",
        "    return df"
      ],
      "execution_count": 2,
      "outputs": []
    },
    {
      "cell_type": "code",
      "metadata": {
        "id": "bF2UX7a2no4o"
      },
      "source": [
        "ticker = 'AAPL'\n",
        "query_params = {'start_date': '2013-01-01', 'end_date': '2018-12-31', 'page_size': 365*6}"
      ],
      "execution_count": 3,
      "outputs": []
    },
    {
      "cell_type": "code",
      "metadata": {
        "id": "gX9thhwino4o"
      },
      "source": [
        "# Run the following lines at one-minute intervals!"
      ],
      "execution_count": 4,
      "outputs": []
    },
    {
      "cell_type": "code",
      "metadata": {
        "colab": {
          "base_uri": "https://localhost:8080/"
        },
        "id": "OdRPu_PUno4o",
        "outputId": "7d03e214-9611-43ce-b75b-8ac2147e969f"
      },
      "source": [
        "df_rsi = get_technicals(ticker, 'rsi', **query_params) #RUN AND WAIT 1 MINUTE"
      ],
      "execution_count": 5,
      "outputs": [
        {
          "output_type": "stream",
          "text": [
            "/usr/local/lib/python3.7/dist-packages/ipykernel_launcher.py:9: FutureWarning: pandas.io.json.json_normalize is deprecated, use pandas.json_normalize instead\n",
            "  if __name__ == '__main__':\n"
          ],
          "name": "stderr"
        }
      ]
    },
    {
      "cell_type": "code",
      "metadata": {
        "colab": {
          "base_uri": "https://localhost:8080/"
        },
        "id": "LQ0bTC3Tno4p",
        "outputId": "5d30a9cb-2f38-435c-f14a-e9a5fe58d07e"
      },
      "source": [
        "df_wr = get_technicals(ticker, 'wr', **query_params) #RUN AND WAIT 30 seconds"
      ],
      "execution_count": 6,
      "outputs": [
        {
          "output_type": "stream",
          "text": [
            "/usr/local/lib/python3.7/dist-packages/ipykernel_launcher.py:9: FutureWarning: pandas.io.json.json_normalize is deprecated, use pandas.json_normalize instead\n",
            "  if __name__ == '__main__':\n"
          ],
          "name": "stderr"
        }
      ]
    },
    {
      "cell_type": "code",
      "metadata": {
        "colab": {
          "base_uri": "https://localhost:8080/"
        },
        "id": "goA9DEVwno4p",
        "outputId": "5783776d-e32b-4088-98be-774712a7eaaa"
      },
      "source": [
        "df_vwap = get_technicals(ticker, 'vwap', **query_params)  #RUN AND WAIT 30 SECONDS"
      ],
      "execution_count": 8,
      "outputs": [
        {
          "output_type": "stream",
          "text": [
            "/usr/local/lib/python3.7/dist-packages/ipykernel_launcher.py:9: FutureWarning: pandas.io.json.json_normalize is deprecated, use pandas.json_normalize instead\n",
            "  if __name__ == '__main__':\n"
          ],
          "name": "stderr"
        }
      ]
    },
    {
      "cell_type": "code",
      "metadata": {
        "colab": {
          "base_uri": "https://localhost:8080/"
        },
        "id": "_ptXtaH0no4p",
        "outputId": "6a6d180b-a0b6-46d7-cee7-4f00663bec13"
      },
      "source": [
        "df_adtv = get_technicals(ticker, 'adtv', **query_params) #RUN AND WAIT 30 SECONDS"
      ],
      "execution_count": 9,
      "outputs": [
        {
          "output_type": "stream",
          "text": [
            "/usr/local/lib/python3.7/dist-packages/ipykernel_launcher.py:9: FutureWarning: pandas.io.json.json_normalize is deprecated, use pandas.json_normalize instead\n",
            "  if __name__ == '__main__':\n"
          ],
          "name": "stderr"
        }
      ]
    },
    {
      "cell_type": "code",
      "metadata": {
        "colab": {
          "base_uri": "https://localhost:8080/"
        },
        "id": "o7sdR0Bpno4q",
        "outputId": "002e4265-43dd-4584-f124-eb6076c981ae"
      },
      "source": [
        "df_ao = get_technicals(ticker, 'ao', **query_params)  #RUN AND WAIT 30 SECONDS"
      ],
      "execution_count": 10,
      "outputs": [
        {
          "output_type": "stream",
          "text": [
            "/usr/local/lib/python3.7/dist-packages/ipykernel_launcher.py:9: FutureWarning: pandas.io.json.json_normalize is deprecated, use pandas.json_normalize instead\n",
            "  if __name__ == '__main__':\n"
          ],
          "name": "stderr"
        }
      ]
    },
    {
      "cell_type": "code",
      "metadata": {
        "colab": {
          "base_uri": "https://localhost:8080/"
        },
        "id": "4rJacs4Fno4q",
        "outputId": "003f1618-5d62-4548-f77e-44e9235bada2"
      },
      "source": [
        "df_sma_5d = get_technicals(ticker, 'sma', period=5, **query_params) #RUN AND WAIT 30 SECONDS\n",
        "df_sma_5d = df_sma_5d.rename(columns={'sma':'sma_5d'}) "
      ],
      "execution_count": 11,
      "outputs": [
        {
          "output_type": "stream",
          "text": [
            "/usr/local/lib/python3.7/dist-packages/ipykernel_launcher.py:9: FutureWarning: pandas.io.json.json_normalize is deprecated, use pandas.json_normalize instead\n",
            "  if __name__ == '__main__':\n"
          ],
          "name": "stderr"
        }
      ]
    },
    {
      "cell_type": "code",
      "metadata": {
        "colab": {
          "base_uri": "https://localhost:8080/"
        },
        "id": "0YySHmZ7no4q",
        "outputId": "b0e89bf2-46e3-40ba-b770-de6b63b62f50"
      },
      "source": [
        "df_sma_15d = get_technicals(ticker, 'sma', period=15, **query_params) #RUN AND WAIT 30 SECONDS\n",
        "df_sma_15d = df_sma_15d.rename(columns={'sma':'sma_15d'})"
      ],
      "execution_count": 12,
      "outputs": [
        {
          "output_type": "stream",
          "text": [
            "/usr/local/lib/python3.7/dist-packages/ipykernel_launcher.py:9: FutureWarning: pandas.io.json.json_normalize is deprecated, use pandas.json_normalize instead\n",
            "  if __name__ == '__main__':\n"
          ],
          "name": "stderr"
        }
      ]
    },
    {
      "cell_type": "code",
      "metadata": {
        "colab": {
          "base_uri": "https://localhost:8080/"
        },
        "id": "BzwSj-4ono4q",
        "outputId": "ca0fbacd-8a3f-47a2-edbb-74334e819037"
      },
      "source": [
        "df_sma_30d = get_technicals(ticker, 'sma', period=30, **query_params)  #RUN AND WAIT 30 SECONDS\n",
        "df_sma_30d = df_sma_30d.rename(columns={'sma':'sma_30d'})"
      ],
      "execution_count": 13,
      "outputs": [
        {
          "output_type": "stream",
          "text": [
            "/usr/local/lib/python3.7/dist-packages/ipykernel_launcher.py:9: FutureWarning: pandas.io.json.json_normalize is deprecated, use pandas.json_normalize instead\n",
            "  if __name__ == '__main__':\n"
          ],
          "name": "stderr"
        }
      ]
    },
    {
      "cell_type": "code",
      "metadata": {
        "id": "0uIMxSxTno4r"
      },
      "source": [
        " #WAIT 30 SECONDS"
      ],
      "execution_count": null,
      "outputs": []
    },
    {
      "cell_type": "code",
      "metadata": {
        "id": "b7Yf0owhno4r"
      },
      "source": [
        "def get_prices(ticker, tag, **params):\n",
        "    url_pattern = '/securities/%s/historical_data/%s'\n",
        "    path = url_pattern%(ticker, tag)\n",
        "    json_data = query_intrinio(path, **params)\n",
        "\n",
        "    df = json_normalize(json_data.get('historical_data'))    \n",
        "    df['date'] = pd.to_datetime(df['date'])\n",
        "    df = df.set_index('date')\n",
        "    df.index = df.index.rename('date')\n",
        "    return df.rename(columns={'value':tag})"
      ],
      "execution_count": 14,
      "outputs": []
    },
    {
      "cell_type": "code",
      "metadata": {
        "colab": {
          "base_uri": "https://localhost:8080/"
        },
        "id": "rTOIKQAUno4r",
        "outputId": "33f70f26-15b6-4eb4-d0cc-ab01eed1cd27"
      },
      "source": [
        "df_close = get_prices(ticker, 'adj_close_price', **query_params)"
      ],
      "execution_count": 15,
      "outputs": [
        {
          "output_type": "stream",
          "text": [
            "/usr/local/lib/python3.7/dist-packages/ipykernel_launcher.py:6: FutureWarning: pandas.io.json.json_normalize is deprecated, use pandas.json_normalize instead\n",
            "  \n"
          ],
          "name": "stderr"
        }
      ]
    },
    {
      "cell_type": "code",
      "metadata": {
        "id": "LK7kc4i7no4r"
      },
      "source": [
        "df_target = df_close.shift(1).dropna()"
      ],
      "execution_count": 16,
      "outputs": []
    },
    {
      "cell_type": "code",
      "metadata": {
        "id": "6uUf_CtGsXir"
      },
      "source": [
        "#You must convert df_target.index using tz_localize('Etc/UCT') before joining all dataframes\n",
        "\n",
        "df_target.index = pd.to_datetime(df_target.index).tz_localize('Etc/UCT')\n",
        "\n"
      ],
      "execution_count": 17,
      "outputs": []
    },
    {
      "cell_type": "code",
      "metadata": {
        "id": "bWlpBsRKno4r"
      },
      "source": [
        "df = df_rsi.join(df_wr).join(df_vwap).join(df_adtv)\\\n",
        "    .join(df_ao).join(df_sma_5d).join(df_sma_15d)\\\n",
        "    .join(df_sma_30d).join(df_target).dropna()"
      ],
      "execution_count": 18,
      "outputs": []
    },
    {
      "cell_type": "code",
      "metadata": {
        "colab": {
          "base_uri": "https://localhost:8080/",
          "height": 111
        },
        "id": "5pEwawNWno4s",
        "outputId": "d3965ec7-bdff-4298-e5e2-b9040a08dd12"
      },
      "source": [
        "df.head(1)"
      ],
      "execution_count": 19,
      "outputs": [
        {
          "output_type": "execute_result",
          "data": {
            "text/html": [
              "<div>\n",
              "<style scoped>\n",
              "    .dataframe tbody tr th:only-of-type {\n",
              "        vertical-align: middle;\n",
              "    }\n",
              "\n",
              "    .dataframe tbody tr th {\n",
              "        vertical-align: top;\n",
              "    }\n",
              "\n",
              "    .dataframe thead th {\n",
              "        text-align: right;\n",
              "    }\n",
              "</style>\n",
              "<table border=\"1\" class=\"dataframe\">\n",
              "  <thead>\n",
              "    <tr style=\"text-align: right;\">\n",
              "      <th></th>\n",
              "      <th>rsi</th>\n",
              "      <th>wr</th>\n",
              "      <th>vwap</th>\n",
              "      <th>adtv</th>\n",
              "      <th>ao</th>\n",
              "      <th>sma_5d</th>\n",
              "      <th>sma_15d</th>\n",
              "      <th>sma_30d</th>\n",
              "      <th>adj_close_price</th>\n",
              "    </tr>\n",
              "    <tr>\n",
              "      <th>date</th>\n",
              "      <th></th>\n",
              "      <th></th>\n",
              "      <th></th>\n",
              "      <th></th>\n",
              "      <th></th>\n",
              "      <th></th>\n",
              "      <th></th>\n",
              "      <th></th>\n",
              "      <th></th>\n",
              "    </tr>\n",
              "  </thead>\n",
              "  <tbody>\n",
              "    <tr>\n",
              "      <th>2018-12-28 00:00:00+00:00</th>\n",
              "      <td>35.88289</td>\n",
              "      <td>-62.894534</td>\n",
              "      <td>216.376505</td>\n",
              "      <td>4.693932e+07</td>\n",
              "      <td>-21.924007</td>\n",
              "      <td>153.422</td>\n",
              "      <td>161.806</td>\n",
              "      <td>171.163333</td>\n",
              "      <td>38.585062</td>\n",
              "    </tr>\n",
              "  </tbody>\n",
              "</table>\n",
              "</div>"
            ],
            "text/plain": [
              "                                rsi         wr  ...     sma_30d  adj_close_price\n",
              "date                                            ...                             \n",
              "2018-12-28 00:00:00+00:00  35.88289 -62.894534  ...  171.163333        38.585062\n",
              "\n",
              "[1 rows x 9 columns]"
            ]
          },
          "metadata": {
            "tags": []
          },
          "execution_count": 19
        }
      ]
    },
    {
      "cell_type": "markdown",
      "metadata": {
        "id": "A6cjQZhnno4t"
      },
      "source": [
        "## Workaround when Intrinio API key have expired"
      ]
    },
    {
      "cell_type": "markdown",
      "metadata": {
        "id": "JzF-rjpmno4t"
      },
      "source": [
        "This section is optional.\n",
        "\n",
        "When the given Intrinio API key expires, the above codes will fail to fetch from the server.\n",
        "As a temporary workaround, load the dataset from disk."
      ]
    },
    {
      "cell_type": "code",
      "metadata": {
        "id": "BD52RCoYno4t"
      },
      "source": [
        "df = pd.read_pickle('files/chapter11/df_independent_2013_2018')\n",
        "df.head(1)"
      ],
      "execution_count": null,
      "outputs": []
    },
    {
      "cell_type": "code",
      "metadata": {
        "id": "qZHhnK5Rno4t"
      },
      "source": [
        "df_close = pd.read_pickle('files/chapter11/df_aapl_2013_2018')\n",
        "df_close.head(1)"
      ],
      "execution_count": null,
      "outputs": []
    },
    {
      "cell_type": "markdown",
      "metadata": {
        "id": "B5CKZPoRno4u"
      },
      "source": [
        "## Splitting and scaling the data"
      ]
    },
    {
      "cell_type": "code",
      "metadata": {
        "id": "ECCsHs_lno4u"
      },
      "source": [
        "df_train = df['2017':'2013']\n",
        "df_test = df['2018']"
      ],
      "execution_count": 20,
      "outputs": []
    },
    {
      "cell_type": "code",
      "metadata": {
        "id": "wWzuUxFMno4u"
      },
      "source": [
        "from sklearn.preprocessing import MinMaxScaler\n",
        "\n",
        "scaler = MinMaxScaler(feature_range=(-1, 1))\n",
        "train_data = scaler.fit_transform(df_train.values)\n",
        "test_data = scaler.transform(df_test.values)"
      ],
      "execution_count": 21,
      "outputs": []
    },
    {
      "cell_type": "code",
      "metadata": {
        "id": "jO6UEYsEno4v"
      },
      "source": [
        "x_train = train_data[:, :-1]\n",
        "y_train = train_data[:, -1]"
      ],
      "execution_count": 22,
      "outputs": []
    },
    {
      "cell_type": "code",
      "metadata": {
        "id": "mJSOlcz0no4v"
      },
      "source": [
        "x_test = test_data[:, :-1]"
      ],
      "execution_count": 23,
      "outputs": []
    },
    {
      "cell_type": "markdown",
      "metadata": {
        "id": "q8WVEt1eno4w"
      },
      "source": [
        "## Building an artificial neural network with TensorFlow"
      ]
    },
    {
      "cell_type": "markdown",
      "metadata": {
        "id": "eZ6XGwfWno4w"
      },
      "source": [
        "### Phase 1: Assembling the graph"
      ]
    },
    {
      "cell_type": "code",
      "metadata": {
        "id": "Bt7ejwjsvi8m"
      },
      "source": [
        "pip install tensorflow==1.14 #For this code to work you must use this version of TensorFlow"
      ],
      "execution_count": null,
      "outputs": []
    },
    {
      "cell_type": "code",
      "metadata": {
        "id": "YYAPQ8kIxJ4e"
      },
      "source": [
        "import tensorflow as tf\n"
      ],
      "execution_count": null,
      "outputs": []
    },
    {
      "cell_type": "code",
      "metadata": {
        "id": "dqFIuIlXno4w"
      },
      "source": [
        "num_features = x_train.shape[1]\n",
        "\n"
      ],
      "execution_count": 26,
      "outputs": []
    },
    {
      "cell_type": "code",
      "metadata": {
        "id": "GlZrNTN-z6Ve"
      },
      "source": [
        "x = tf.placeholder(dtype=tf.float32, shape=[None, num_features])\n",
        "y = tf.placeholder(dtype=tf.float32, shape=[None])"
      ],
      "execution_count": 27,
      "outputs": []
    },
    {
      "cell_type": "code",
      "metadata": {
        "id": "oOy2Fv59no4w"
      },
      "source": [
        "nl_1, nl_2, nl_3, nl_4 = 512, 256, 128, 64"
      ],
      "execution_count": 28,
      "outputs": []
    },
    {
      "cell_type": "code",
      "metadata": {
        "colab": {
          "base_uri": "https://localhost:8080/"
        },
        "id": "ZSsPFvBRno4w",
        "outputId": "7a9cb875-5450-4e08-8af2-18645ef4a9c2"
      },
      "source": [
        "wi = tf.contrib.layers.variance_scaling_initializer(\n",
        "    mode='FAN_AVG', uniform=True, factor=1)\n",
        "zi = tf.zeros_initializer()"
      ],
      "execution_count": 29,
      "outputs": [
        {
          "output_type": "stream",
          "text": [
            "WARNING:tensorflow:\n",
            "The TensorFlow contrib module will not be included in TensorFlow 2.0.\n",
            "For more information, please see:\n",
            "  * https://github.com/tensorflow/community/blob/master/rfcs/20180907-contrib-sunset.md\n",
            "  * https://github.com/tensorflow/addons\n",
            "  * https://github.com/tensorflow/io (for I/O related ops)\n",
            "If you depend on functionality not listed there, please file an issue.\n",
            "\n"
          ],
          "name": "stdout"
        }
      ]
    },
    {
      "cell_type": "code",
      "metadata": {
        "id": "Ac2rYQARno4x"
      },
      "source": [
        "# 4 Hidden layers\n",
        "wt_hidden_1 = tf.Variable(wi([num_features, nl_1]))\n",
        "bias_hidden_1 = tf.Variable(zi([nl_1]))\n",
        "\n",
        "wt_hidden_2 = tf.Variable(wi([nl_1, nl_2]))\n",
        "bias_hidden_2 = tf.Variable(zi([nl_2]))\n",
        "\n",
        "wt_hidden_3 = tf.Variable(wi([nl_2, nl_3]))\n",
        "bias_hidden_3 = tf.Variable(zi([nl_3]))\n",
        "\n",
        "wt_hidden_4 = tf.Variable(wi([nl_3, nl_4]))\n",
        "bias_hidden_4 = tf.Variable(zi([nl_4]))\n",
        "\n",
        "# Output layer\n",
        "wt_out = tf.Variable(wi([nl_4, 1]))\n",
        "bias_out = tf.Variable(zi([1]))"
      ],
      "execution_count": 30,
      "outputs": []
    },
    {
      "cell_type": "code",
      "metadata": {
        "id": "Pys1ugZeno4x"
      },
      "source": [
        "hidden_1 = tf.nn.relu(\n",
        "    tf.add(tf.matmul(x, wt_hidden_1), bias_hidden_1))\n",
        "hidden_2 = tf.nn.relu(\n",
        "    tf.add(tf.matmul(hidden_1, wt_hidden_2), bias_hidden_2))\n",
        "hidden_3 = tf.nn.relu(\n",
        "    tf.add(tf.matmul(hidden_2, wt_hidden_3), bias_hidden_3))\n",
        "hidden_4 = tf.nn.relu(\n",
        "    tf.add(tf.matmul(hidden_3, wt_hidden_4), bias_hidden_4))\n",
        "out = tf.transpose(tf.add(tf.matmul(hidden_4, wt_out), bias_out))"
      ],
      "execution_count": 31,
      "outputs": []
    },
    {
      "cell_type": "code",
      "metadata": {
        "id": "vo6YiKF8no4x"
      },
      "source": [
        "mse = tf.reduce_mean(tf.squared_difference(out, y)) "
      ],
      "execution_count": 32,
      "outputs": []
    },
    {
      "cell_type": "code",
      "metadata": {
        "id": "ouhOKbEGno4x"
      },
      "source": [
        "optimizer = tf.train.AdamOptimizer().minimize(mse)"
      ],
      "execution_count": 33,
      "outputs": []
    },
    {
      "cell_type": "markdown",
      "metadata": {
        "id": "wiPBfH4Mno4x"
      },
      "source": [
        "## Phase 2: training our model"
      ]
    },
    {
      "cell_type": "code",
      "metadata": {
        "id": "UrWY2Fa-no4y"
      },
      "source": [
        "session = tf.InteractiveSession()"
      ],
      "execution_count": 34,
      "outputs": []
    },
    {
      "cell_type": "code",
      "metadata": {
        "id": "NgEVJ0tDno4y"
      },
      "source": [
        "session.run(tf.global_variables_initializer())"
      ],
      "execution_count": 35,
      "outputs": []
    },
    {
      "cell_type": "code",
      "metadata": {
        "id": "_qdrhqBVno4y"
      },
      "source": [
        "from numpy import arange\n",
        "from numpy.random import permutation\n",
        "\n",
        "BATCH_SIZE = 100\n",
        "EPOCHS = 100\n",
        "\n",
        "for epoch in range(EPOCHS):\n",
        "    # Shuffle the training data\n",
        "    shuffle_data = permutation(arange(len(y_train)))\n",
        "    x_train = x_train[shuffle_data]\n",
        "    y_train = y_train[shuffle_data]\n",
        "\n",
        "    # Mini-batch training\n",
        "    for i in range(len(y_train)//BATCH_SIZE):\n",
        "        start = i*BATCH_SIZE\n",
        "        batch_x = x_train[start:start+BATCH_SIZE]\n",
        "        batch_y = y_train[start:start+BATCH_SIZE]\n",
        "        session.run(optimizer, feed_dict={x: batch_x, y: batch_y})"
      ],
      "execution_count": 36,
      "outputs": []
    },
    {
      "cell_type": "code",
      "metadata": {
        "id": "0pDMPbMPno4y"
      },
      "source": [
        "[predicted_values] = session.run(out, feed_dict={x: x_test})"
      ],
      "execution_count": 37,
      "outputs": []
    },
    {
      "cell_type": "code",
      "metadata": {
        "id": "ysvPVqynno4z"
      },
      "source": [
        "predicted_scaled_data = test_data.copy()\n",
        "predicted_scaled_data[:, -1] = predicted_values\n",
        "predicted_values = scaler.inverse_transform(predicted_scaled_data)"
      ],
      "execution_count": 38,
      "outputs": []
    },
    {
      "cell_type": "code",
      "metadata": {
        "id": "uR0QwZSMno4z"
      },
      "source": [
        "predictions = predicted_values[:, -1][::-1]\n",
        "actual = df_close['2018']['adj_close_price'].values[::-1]"
      ],
      "execution_count": 39,
      "outputs": []
    },
    {
      "cell_type": "code",
      "metadata": {
        "colab": {
          "base_uri": "https://localhost:8080/",
          "height": 0
        },
        "id": "tUuY0O4rno4z",
        "outputId": "9331a58b-e71f-4b6e-ea02-723d4bebe65e"
      },
      "source": [
        "%matplotlib inline \n",
        "import matplotlib.pyplot as plt\n",
        "\n",
        "plt.figure(figsize=(12,8))\n",
        "plt.title('Actual and predicted prices of AAPL 2018')\n",
        "plt.plot(actual, label='Actual')\n",
        "plt.plot(predictions, linestyle='dotted', label='Predicted')\n",
        "plt.legend();"
      ],
      "execution_count": 40,
      "outputs": [
        {
          "output_type": "display_data",
          "data": {
            "image/png": "[encoded data removed]",
            "text/plain": [
              "<Figure size 864x576 with 1 Axes>"
            ]
          },
          "metadata": {
            "tags": [],
            "needs_background": "light"
          }
        }
      ]
    },
    {
      "cell_type": "markdown",
      "metadata": {
        "id": "F2LlMHDwno4z"
      },
      "source": [
        "# Credit card payment default prediction with Keras"
      ]
    },
    {
      "cell_type": "markdown",
      "metadata": {
        "id": "lfO5gqvOno4z"
      },
      "source": [
        "## Obtaining the dataset"
      ]
    },
    {
      "cell_type": "code",
      "metadata": {
        "id": "jK2Jz0Dono40"
      },
      "source": [
        "import pandas as pd\n",
        "\n",
        "df = pd.read_csv('https://raw.githubusercontent.com/Worlddatascience/DataSamples/master/default_cc_clients.csv')"
      ],
      "execution_count": 42,
      "outputs": []
    },
    {
      "cell_type": "code",
      "metadata": {
        "colab": {
          "base_uri": "https://localhost:8080/"
        },
        "id": "CuSByot2no40",
        "outputId": "04cc8cd6-f88f-4440-9e90-50ad497dd40c"
      },
      "source": [
        "df.info()"
      ],
      "execution_count": 43,
      "outputs": [
        {
          "output_type": "stream",
          "text": [
            "<class 'pandas.core.frame.DataFrame'>\n",
            "RangeIndex: 30000 entries, 0 to 29999\n",
            "Data columns (total 24 columns):\n",
            " #   Column                      Non-Null Count  Dtype\n",
            "---  ------                      --------------  -----\n",
            " 0   LIMIT_BAL                   30000 non-null  int64\n",
            " 1   SEX                         30000 non-null  int64\n",
            " 2   EDUCATION                   30000 non-null  int64\n",
            " 3   MARRIAGE                    30000 non-null  int64\n",
            " 4   AGE                         30000 non-null  int64\n",
            " 5   PAY_0                       30000 non-null  int64\n",
            " 6   PAY_2                       30000 non-null  int64\n",
            " 7   PAY_3                       30000 non-null  int64\n",
            " 8   PAY_4                       30000 non-null  int64\n",
            " 9   PAY_5                       30000 non-null  int64\n",
            " 10  PAY_6                       30000 non-null  int64\n",
            " 11  BILL_AMT1                   30000 non-null  int64\n",
            " 12  BILL_AMT2                   30000 non-null  int64\n",
            " 13  BILL_AMT3                   30000 non-null  int64\n",
            " 14  BILL_AMT4                   30000 non-null  int64\n",
            " 15  BILL_AMT5                   30000 non-null  int64\n",
            " 16  BILL_AMT6                   30000 non-null  int64\n",
            " 17  PAY_AMT1                    30000 non-null  int64\n",
            " 18  PAY_AMT2                    30000 non-null  int64\n",
            " 19  PAY_AMT3                    30000 non-null  int64\n",
            " 20  PAY_AMT4                    30000 non-null  int64\n",
            " 21  PAY_AMT5                    30000 non-null  int64\n",
            " 22  PAY_AMT6                    30000 non-null  int64\n",
            " 23  default payment next month  30000 non-null  int64\n",
            "dtypes: int64(24)\n",
            "memory usage: 5.5 MB\n"
          ],
          "name": "stdout"
        }
      ]
    },
    {
      "cell_type": "code",
      "metadata": {
        "colab": {
          "base_uri": "https://localhost:8080/",
          "height": 151
        },
        "id": "soj2USdjno40",
        "outputId": "72c62965-2125-426a-dcbb-eaecdc3b26d8"
      },
      "source": [
        "df.head(1)"
      ],
      "execution_count": 44,
      "outputs": [
        {
          "output_type": "execute_result",
          "data": {
            "text/html": [
              "<div>\n",
              "<style scoped>\n",
              "    .dataframe tbody tr th:only-of-type {\n",
              "        vertical-align: middle;\n",
              "    }\n",
              "\n",
              "    .dataframe tbody tr th {\n",
              "        vertical-align: top;\n",
              "    }\n",
              "\n",
              "    .dataframe thead th {\n",
              "        text-align: right;\n",
              "    }\n",
              "</style>\n",
              "<table border=\"1\" class=\"dataframe\">\n",
              "  <thead>\n",
              "    <tr style=\"text-align: right;\">\n",
              "      <th></th>\n",
              "      <th>LIMIT_BAL</th>\n",
              "      <th>SEX</th>\n",
              "      <th>EDUCATION</th>\n",
              "      <th>MARRIAGE</th>\n",
              "      <th>AGE</th>\n",
              "      <th>PAY_0</th>\n",
              "      <th>PAY_2</th>\n",
              "      <th>PAY_3</th>\n",
              "      <th>PAY_4</th>\n",
              "      <th>PAY_5</th>\n",
              "      <th>PAY_6</th>\n",
              "      <th>BILL_AMT1</th>\n",
              "      <th>BILL_AMT2</th>\n",
              "      <th>BILL_AMT3</th>\n",
              "      <th>BILL_AMT4</th>\n",
              "      <th>BILL_AMT5</th>\n",
              "      <th>BILL_AMT6</th>\n",
              "      <th>PAY_AMT1</th>\n",
              "      <th>PAY_AMT2</th>\n",
              "      <th>PAY_AMT3</th>\n",
              "      <th>PAY_AMT4</th>\n",
              "      <th>PAY_AMT5</th>\n",
              "      <th>PAY_AMT6</th>\n",
              "      <th>default payment next month</th>\n",
              "    </tr>\n",
              "  </thead>\n",
              "  <tbody>\n",
              "    <tr>\n",
              "      <th>0</th>\n",
              "      <td>20000</td>\n",
              "      <td>2</td>\n",
              "      <td>2</td>\n",
              "      <td>1</td>\n",
              "      <td>24</td>\n",
              "      <td>2</td>\n",
              "      <td>2</td>\n",
              "      <td>-1</td>\n",
              "      <td>-1</td>\n",
              "      <td>-2</td>\n",
              "      <td>-2</td>\n",
              "      <td>3913</td>\n",
              "      <td>3102</td>\n",
              "      <td>689</td>\n",
              "      <td>0</td>\n",
              "      <td>0</td>\n",
              "      <td>0</td>\n",
              "      <td>0</td>\n",
              "      <td>689</td>\n",
              "      <td>0</td>\n",
              "      <td>0</td>\n",
              "      <td>0</td>\n",
              "      <td>0</td>\n",
              "      <td>1</td>\n",
              "    </tr>\n",
              "  </tbody>\n",
              "</table>\n",
              "</div>"
            ],
            "text/plain": [
              "   LIMIT_BAL  SEX  EDUCATION  ...  PAY_AMT5  PAY_AMT6  default payment next month\n",
              "0      20000    2          2  ...         0         0                           1\n",
              "\n",
              "[1 rows x 24 columns]"
            ]
          },
          "metadata": {
            "tags": []
          },
          "execution_count": 44
        }
      ]
    },
    {
      "cell_type": "markdown",
      "metadata": {
        "id": "0NchMY3Zno40"
      },
      "source": [
        "## Splitting and scaling the data"
      ]
    },
    {
      "cell_type": "code",
      "metadata": {
        "id": "4fUsrd6tno40"
      },
      "source": [
        "feature_columns= df.columns[:-1]\n",
        "features = df.loc[:, feature_columns]\n",
        "target = df.loc[:, 'default payment next month']"
      ],
      "execution_count": 56,
      "outputs": []
    },
    {
      "cell_type": "code",
      "metadata": {
        "id": "UHB5l7FPno41"
      },
      "source": [
        "from sklearn.model_selection import train_test_split\n",
        "\n",
        "train_features, test_features, train_target, test_target = \\\n",
        "    train_test_split(features, target, test_size=0.20, random_state=0)"
      ],
      "execution_count": 57,
      "outputs": []
    },
    {
      "cell_type": "code",
      "metadata": {
        "id": "sg4qmjLGno41"
      },
      "source": [
        "import numpy as np\n",
        "\n",
        "train_x, train_y = np.array(train_features), np.array(train_target)\n",
        "test_x, test_y = np.array(test_features), np.array(test_target)"
      ],
      "execution_count": 58,
      "outputs": []
    },
    {
      "cell_type": "code",
      "metadata": {
        "id": "iefeDA5nno41"
      },
      "source": [
        "from sklearn.preprocessing import MinMaxScaler\n",
        "\n",
        "scaler = MinMaxScaler()\n",
        "train_scaled_x = scaler.fit_transform(train_x)\n",
        "test_scaled_x = scaler.transform(test_x)"
      ],
      "execution_count": 59,
      "outputs": []
    },
    {
      "cell_type": "markdown",
      "metadata": {
        "id": "po_hpOJkno41"
      },
      "source": [
        "## Designing a deep neural network with 5 hidden layers using Keras"
      ]
    },
    {
      "cell_type": "code",
      "metadata": {
        "id": "wBLxZuMDno42"
      },
      "source": [
        "from tensorflow.keras import Sequential\n",
        "\n",
        "\n"
      ],
      "execution_count": 62,
      "outputs": []
    },
    {
      "cell_type": "code",
      "metadata": {
        "id": "qXVR2kBz2Bqv"
      },
      "source": [
        "from tensorflow.python.keras.layers import Input, Dense"
      ],
      "execution_count": 64,
      "outputs": []
    },
    {
      "cell_type": "code",
      "metadata": {
        "id": "_tqZ2jK23jB8"
      },
      "source": [
        "from tensorflow.keras.layers import Dropout"
      ],
      "execution_count": 67,
      "outputs": []
    },
    {
      "cell_type": "code",
      "metadata": {
        "id": "gi6-bNH-3lkb"
      },
      "source": [
        "from tensorflow.python.keras.layers.normalization import BatchNormalization\n"
      ],
      "execution_count": 69,
      "outputs": []
    },
    {
      "cell_type": "code",
      "metadata": {
        "colab": {
          "base_uri": "https://localhost:8080/"
        },
        "id": "vhqogRgs1lX3",
        "outputId": "513ba146-133a-48e5-90f2-a1f2fc9f2a90"
      },
      "source": [
        "\n",
        "num_features = train_scaled_x.shape[1]\n",
        "\n",
        "model = Sequential()\n",
        "model.add(Dense(80, input_dim=num_features, activation='relu'))\n",
        "model.add(Dropout(0.2))\n",
        "model.add(Dense(80, activation='relu'))\n",
        "model.add(Dropout(0.2))\n",
        "model.add(Dense(40, activation='relu'))\n",
        "model.add(BatchNormalization())\n",
        "model.add(Dense(1, activation='sigmoid'))"
      ],
      "execution_count": 70,
      "outputs": [
        {
          "output_type": "stream",
          "text": [
            "WARNING:tensorflow:From /usr/local/lib/python3.7/dist-packages/tensorflow/python/ops/init_ops.py:1251: calling VarianceScaling.__init__ (from tensorflow.python.ops.init_ops) with dtype is deprecated and will be removed in a future version.\n",
            "Instructions for updating:\n",
            "Call initializer instance with the dtype argument instead of passing it to the constructor\n"
          ],
          "name": "stdout"
        }
      ]
    },
    {
      "cell_type": "code",
      "metadata": {
        "colab": {
          "base_uri": "https://localhost:8080/"
        },
        "id": "3h-ab9veno42",
        "outputId": "6acfc646-0778-47b4-a246-d9607be9b876"
      },
      "source": [
        "model.summary()"
      ],
      "execution_count": 71,
      "outputs": [
        {
          "output_type": "stream",
          "text": [
            "Model: \"sequential\"\n",
            "_________________________________________________________________\n",
            "Layer (type)                 Output Shape              Param #   \n",
            "=================================================================\n",
            "dense (Dense)                (None, 80)                1920      \n",
            "_________________________________________________________________\n",
            "dropout (Dropout)            (None, 80)                0         \n",
            "_________________________________________________________________\n",
            "dense_1 (Dense)              (None, 80)                6480      \n",
            "_________________________________________________________________\n",
            "dropout_1 (Dropout)          (None, 80)                0         \n",
            "_________________________________________________________________\n",
            "dense_2 (Dense)              (None, 40)                3240      \n",
            "_________________________________________________________________\n",
            "batch_normalization (BatchNo (None, 40)                160       \n",
            "_________________________________________________________________\n",
            "dense_3 (Dense)              (None, 1)                 41        \n",
            "=================================================================\n",
            "Total params: 11,841\n",
            "Trainable params: 11,761\n",
            "Non-trainable params: 80\n",
            "_________________________________________________________________\n"
          ],
          "name": "stdout"
        }
      ]
    },
    {
      "cell_type": "code",
      "metadata": {
        "id": "QIqcqgQPno43"
      },
      "source": [
        "model.compile(optimizer=tf.train.AdamOptimizer(), \n",
        "              loss='binary_crossentropy',\n",
        "              metrics=['accuracy'])"
      ],
      "execution_count": 74,
      "outputs": []
    },
    {
      "cell_type": "code",
      "metadata": {
        "colab": {
          "base_uri": "https://localhost:8080/"
        },
        "id": "Z--XF0zYno43",
        "outputId": "4bcf5894-06a8-4de6-a83f-733eda73cf3d"
      },
      "source": [
        "from tensorflow.python.keras.callbacks import History \n",
        "\n",
        "callback_history = History()\n",
        "\n",
        "model.fit(\n",
        "    train_scaled_x, train_y,\n",
        "    validation_split=0.2,\n",
        "    epochs=100, \n",
        "    callbacks=[callback_history]\n",
        ")"
      ],
      "execution_count": 76,
      "outputs": [
        {
          "output_type": "stream",
          "text": [
            "Train on 19200 samples, validate on 4800 samples\n",
            "Epoch 1/100\n",
            "19200/19200 [==============================] - 2s 87us/sample - loss: 0.5014 - acc: 0.7773 - val_loss: 0.4626 - val_acc: 0.8040\n",
            "Epoch 2/100\n",
            "19200/19200 [==============================] - 2s 88us/sample - loss: 0.4614 - acc: 0.8056 - val_loss: 0.4585 - val_acc: 0.8065\n",
            "Epoch 3/100\n",
            "19200/19200 [==============================] - 2s 84us/sample - loss: 0.4541 - acc: 0.8108 - val_loss: 0.4555 - val_acc: 0.8117\n",
            "Epoch 4/100\n",
            "19200/19200 [==============================] - 2s 83us/sample - loss: 0.4505 - acc: 0.8124 - val_loss: 0.4530 - val_acc: 0.8117\n",
            "Epoch 5/100\n",
            "19200/19200 [==============================] - 2s 81us/sample - loss: 0.4492 - acc: 0.8144 - val_loss: 0.4515 - val_acc: 0.8119\n",
            "Epoch 6/100\n",
            "19200/19200 [==============================] - 2s 82us/sample - loss: 0.4467 - acc: 0.8127 - val_loss: 0.4530 - val_acc: 0.8110\n",
            "Epoch 7/100\n",
            "19200/19200 [==============================] - 2s 80us/sample - loss: 0.4467 - acc: 0.8165 - val_loss: 0.4535 - val_acc: 0.8079\n",
            "Epoch 8/100\n",
            "19200/19200 [==============================] - 2s 85us/sample - loss: 0.4422 - acc: 0.8127 - val_loss: 0.4471 - val_acc: 0.8142\n",
            "Epoch 9/100\n",
            "19200/19200 [==============================] - 2s 82us/sample - loss: 0.4443 - acc: 0.8124 - val_loss: 0.4428 - val_acc: 0.8138\n",
            "Epoch 10/100\n",
            "19200/19200 [==============================] - 2s 81us/sample - loss: 0.4432 - acc: 0.8144 - val_loss: 0.4465 - val_acc: 0.8140\n",
            "Epoch 11/100\n",
            "19200/19200 [==============================] - 2s 83us/sample - loss: 0.4418 - acc: 0.8165 - val_loss: 0.4489 - val_acc: 0.8044\n",
            "Epoch 12/100\n",
            "19200/19200 [==============================] - 2s 83us/sample - loss: 0.4405 - acc: 0.8161 - val_loss: 0.4502 - val_acc: 0.8119\n",
            "Epoch 13/100\n",
            "19200/19200 [==============================] - 2s 80us/sample - loss: 0.4400 - acc: 0.8174 - val_loss: 0.4435 - val_acc: 0.8121\n",
            "Epoch 14/100\n",
            "19200/19200 [==============================] - 2s 81us/sample - loss: 0.4410 - acc: 0.8147 - val_loss: 0.4459 - val_acc: 0.8140\n",
            "Epoch 15/100\n",
            "19200/19200 [==============================] - 2s 82us/sample - loss: 0.4404 - acc: 0.8142 - val_loss: 0.4501 - val_acc: 0.8081\n",
            "Epoch 16/100\n",
            "19200/19200 [==============================] - 2s 81us/sample - loss: 0.4396 - acc: 0.8183 - val_loss: 0.4440 - val_acc: 0.8131\n",
            "Epoch 17/100\n",
            "19200/19200 [==============================] - 2s 84us/sample - loss: 0.4382 - acc: 0.8161 - val_loss: 0.4430 - val_acc: 0.8142\n",
            "Epoch 18/100\n",
            "19200/19200 [==============================] - 2s 81us/sample - loss: 0.4381 - acc: 0.8183 - val_loss: 0.4474 - val_acc: 0.8142\n",
            "Epoch 19/100\n",
            "19200/19200 [==============================] - 2s 80us/sample - loss: 0.4382 - acc: 0.8183 - val_loss: 0.4465 - val_acc: 0.8127\n",
            "Epoch 20/100\n",
            "19200/19200 [==============================] - 2s 82us/sample - loss: 0.4388 - acc: 0.8175 - val_loss: 0.4454 - val_acc: 0.8117\n",
            "Epoch 21/100\n",
            "19200/19200 [==============================] - 2s 81us/sample - loss: 0.4357 - acc: 0.8196 - val_loss: 0.4452 - val_acc: 0.8135\n",
            "Epoch 22/100\n",
            "19200/19200 [==============================] - 2s 82us/sample - loss: 0.4357 - acc: 0.8185 - val_loss: 0.4437 - val_acc: 0.8148\n",
            "Epoch 23/100\n",
            "19200/19200 [==============================] - 2s 82us/sample - loss: 0.4380 - acc: 0.8165 - val_loss: 0.4458 - val_acc: 0.8140\n",
            "Epoch 24/100\n",
            "19200/19200 [==============================] - 2s 88us/sample - loss: 0.4351 - acc: 0.8173 - val_loss: 0.4417 - val_acc: 0.8119\n",
            "Epoch 25/100\n",
            "19200/19200 [==============================] - 2s 89us/sample - loss: 0.4363 - acc: 0.8180 - val_loss: 0.4452 - val_acc: 0.8087\n",
            "Epoch 26/100\n",
            "19200/19200 [==============================] - 2s 86us/sample - loss: 0.4359 - acc: 0.8169 - val_loss: 0.4419 - val_acc: 0.8129\n",
            "Epoch 27/100\n",
            "19200/19200 [==============================] - 2s 83us/sample - loss: 0.4338 - acc: 0.8194 - val_loss: 0.4392 - val_acc: 0.8146\n",
            "Epoch 28/100\n",
            "19200/19200 [==============================] - 2s 82us/sample - loss: 0.4341 - acc: 0.8188 - val_loss: 0.4416 - val_acc: 0.8144\n",
            "Epoch 29/100\n",
            "19200/19200 [==============================] - 2s 83us/sample - loss: 0.4336 - acc: 0.8195 - val_loss: 0.4398 - val_acc: 0.8160\n",
            "Epoch 30/100\n",
            "19200/19200 [==============================] - 2s 84us/sample - loss: 0.4348 - acc: 0.8187 - val_loss: 0.4408 - val_acc: 0.8173\n",
            "Epoch 31/100\n",
            "19200/19200 [==============================] - 2s 82us/sample - loss: 0.4317 - acc: 0.8198 - val_loss: 0.4386 - val_acc: 0.8148\n",
            "Epoch 32/100\n",
            "19200/19200 [==============================] - 2s 82us/sample - loss: 0.4346 - acc: 0.8185 - val_loss: 0.4421 - val_acc: 0.8112\n",
            "Epoch 33/100\n",
            "19200/19200 [==============================] - 2s 83us/sample - loss: 0.4336 - acc: 0.8194 - val_loss: 0.4436 - val_acc: 0.8129\n",
            "Epoch 34/100\n",
            "19200/19200 [==============================] - 2s 82us/sample - loss: 0.4330 - acc: 0.8191 - val_loss: 0.4433 - val_acc: 0.8133\n",
            "Epoch 35/100\n",
            "19200/19200 [==============================] - 2s 83us/sample - loss: 0.4336 - acc: 0.8175 - val_loss: 0.4483 - val_acc: 0.8102\n",
            "Epoch 36/100\n",
            "19200/19200 [==============================] - 2s 82us/sample - loss: 0.4347 - acc: 0.8185 - val_loss: 0.4425 - val_acc: 0.8146\n",
            "Epoch 37/100\n",
            "19200/19200 [==============================] - 2s 83us/sample - loss: 0.4330 - acc: 0.8192 - val_loss: 0.4404 - val_acc: 0.8129\n",
            "Epoch 38/100\n",
            "19200/19200 [==============================] - 2s 81us/sample - loss: 0.4298 - acc: 0.8211 - val_loss: 0.4454 - val_acc: 0.8131\n",
            "Epoch 39/100\n",
            "19200/19200 [==============================] - 2s 85us/sample - loss: 0.4321 - acc: 0.8194 - val_loss: 0.4426 - val_acc: 0.8171\n",
            "Epoch 40/100\n",
            "19200/19200 [==============================] - 2s 85us/sample - loss: 0.4322 - acc: 0.8193 - val_loss: 0.4418 - val_acc: 0.8131\n",
            "Epoch 41/100\n",
            "19200/19200 [==============================] - 2s 84us/sample - loss: 0.4315 - acc: 0.8201 - val_loss: 0.4424 - val_acc: 0.8138\n",
            "Epoch 42/100\n",
            "19200/19200 [==============================] - 2s 83us/sample - loss: 0.4312 - acc: 0.8180 - val_loss: 0.4446 - val_acc: 0.8150\n",
            "Epoch 43/100\n",
            "19200/19200 [==============================] - 2s 82us/sample - loss: 0.4305 - acc: 0.8197 - val_loss: 0.4426 - val_acc: 0.8156\n",
            "Epoch 44/100\n",
            "19200/19200 [==============================] - 2s 81us/sample - loss: 0.4312 - acc: 0.8203 - val_loss: 0.4413 - val_acc: 0.8148\n",
            "Epoch 45/100\n",
            "19200/19200 [==============================] - 2s 81us/sample - loss: 0.4303 - acc: 0.8209 - val_loss: 0.4454 - val_acc: 0.8115\n",
            "Epoch 46/100\n",
            "19200/19200 [==============================] - 2s 85us/sample - loss: 0.4293 - acc: 0.8205 - val_loss: 0.4406 - val_acc: 0.8135\n",
            "Epoch 47/100\n",
            "19200/19200 [==============================] - 2s 82us/sample - loss: 0.4301 - acc: 0.8201 - val_loss: 0.4401 - val_acc: 0.8160\n",
            "Epoch 48/100\n",
            "19200/19200 [==============================] - 2s 86us/sample - loss: 0.4308 - acc: 0.8205 - val_loss: 0.4417 - val_acc: 0.8167\n",
            "Epoch 49/100\n",
            "19200/19200 [==============================] - 2s 82us/sample - loss: 0.4294 - acc: 0.8208 - val_loss: 0.4422 - val_acc: 0.8133\n",
            "Epoch 50/100\n",
            "19200/19200 [==============================] - 2s 81us/sample - loss: 0.4290 - acc: 0.8197 - val_loss: 0.4411 - val_acc: 0.8142\n",
            "Epoch 51/100\n",
            "19200/19200 [==============================] - 2s 82us/sample - loss: 0.4283 - acc: 0.8203 - val_loss: 0.4425 - val_acc: 0.8146\n",
            "Epoch 52/100\n",
            "19200/19200 [==============================] - 2s 83us/sample - loss: 0.4303 - acc: 0.8206 - val_loss: 0.4418 - val_acc: 0.8154\n",
            "Epoch 53/100\n",
            "19200/19200 [==============================] - 2s 83us/sample - loss: 0.4268 - acc: 0.8219 - val_loss: 0.4445 - val_acc: 0.8148\n",
            "Epoch 54/100\n",
            "19200/19200 [==============================] - 2s 82us/sample - loss: 0.4276 - acc: 0.8219 - val_loss: 0.4438 - val_acc: 0.8127\n",
            "Epoch 55/100\n",
            "19200/19200 [==============================] - 2s 84us/sample - loss: 0.4288 - acc: 0.8208 - val_loss: 0.4448 - val_acc: 0.8133\n",
            "Epoch 56/100\n",
            "19200/19200 [==============================] - 2s 82us/sample - loss: 0.4290 - acc: 0.8212 - val_loss: 0.4412 - val_acc: 0.8156\n",
            "Epoch 57/100\n",
            "19200/19200 [==============================] - 2s 84us/sample - loss: 0.4284 - acc: 0.8196 - val_loss: 0.4406 - val_acc: 0.8135\n",
            "Epoch 58/100\n",
            "19200/19200 [==============================] - 2s 82us/sample - loss: 0.4292 - acc: 0.8176 - val_loss: 0.4419 - val_acc: 0.8138\n",
            "Epoch 59/100\n",
            "19200/19200 [==============================] - 2s 85us/sample - loss: 0.4277 - acc: 0.8195 - val_loss: 0.4435 - val_acc: 0.8140\n",
            "Epoch 60/100\n",
            "19200/19200 [==============================] - 2s 84us/sample - loss: 0.4277 - acc: 0.8221 - val_loss: 0.4429 - val_acc: 0.8119\n",
            "Epoch 61/100\n",
            "19200/19200 [==============================] - 2s 83us/sample - loss: 0.4266 - acc: 0.8238 - val_loss: 0.4433 - val_acc: 0.8133\n",
            "Epoch 62/100\n",
            "19200/19200 [==============================] - 2s 83us/sample - loss: 0.4268 - acc: 0.8219 - val_loss: 0.4433 - val_acc: 0.8123\n",
            "Epoch 63/100\n",
            "19200/19200 [==============================] - 2s 83us/sample - loss: 0.4254 - acc: 0.8215 - val_loss: 0.4444 - val_acc: 0.8165\n",
            "Epoch 64/100\n",
            "19200/19200 [==============================] - 2s 82us/sample - loss: 0.4257 - acc: 0.8223 - val_loss: 0.4436 - val_acc: 0.8135\n",
            "Epoch 65/100\n",
            "19200/19200 [==============================] - 2s 84us/sample - loss: 0.4247 - acc: 0.8233 - val_loss: 0.4448 - val_acc: 0.8133\n",
            "Epoch 66/100\n",
            "19200/19200 [==============================] - 2s 84us/sample - loss: 0.4257 - acc: 0.8214 - val_loss: 0.4437 - val_acc: 0.8140\n",
            "Epoch 67/100\n",
            "19200/19200 [==============================] - 2s 86us/sample - loss: 0.4269 - acc: 0.8220 - val_loss: 0.4409 - val_acc: 0.8129\n",
            "Epoch 68/100\n",
            "19200/19200 [==============================] - 2s 87us/sample - loss: 0.4251 - acc: 0.8236 - val_loss: 0.4463 - val_acc: 0.8138\n",
            "Epoch 69/100\n",
            "19200/19200 [==============================] - 2s 85us/sample - loss: 0.4255 - acc: 0.8220 - val_loss: 0.4464 - val_acc: 0.8090\n",
            "Epoch 70/100\n",
            "19200/19200 [==============================] - 2s 82us/sample - loss: 0.4260 - acc: 0.8202 - val_loss: 0.4415 - val_acc: 0.8125\n",
            "Epoch 71/100\n",
            "19200/19200 [==============================] - 2s 81us/sample - loss: 0.4262 - acc: 0.8226 - val_loss: 0.4399 - val_acc: 0.8135\n",
            "Epoch 72/100\n",
            "19200/19200 [==============================] - 2s 84us/sample - loss: 0.4245 - acc: 0.8210 - val_loss: 0.4442 - val_acc: 0.8112\n",
            "Epoch 73/100\n",
            "19200/19200 [==============================] - 2s 84us/sample - loss: 0.4245 - acc: 0.8233 - val_loss: 0.4433 - val_acc: 0.8154\n",
            "Epoch 74/100\n",
            "19200/19200 [==============================] - 2s 85us/sample - loss: 0.4240 - acc: 0.8229 - val_loss: 0.4418 - val_acc: 0.8135\n",
            "Epoch 75/100\n",
            "19200/19200 [==============================] - 2s 85us/sample - loss: 0.4241 - acc: 0.8223 - val_loss: 0.4397 - val_acc: 0.8140\n",
            "Epoch 76/100\n",
            "19200/19200 [==============================] - 2s 84us/sample - loss: 0.4258 - acc: 0.8222 - val_loss: 0.4423 - val_acc: 0.8131\n",
            "Epoch 77/100\n",
            "19200/19200 [==============================] - 2s 85us/sample - loss: 0.4255 - acc: 0.8223 - val_loss: 0.4401 - val_acc: 0.8131\n",
            "Epoch 78/100\n",
            "19200/19200 [==============================] - 2s 86us/sample - loss: 0.4228 - acc: 0.8244 - val_loss: 0.4423 - val_acc: 0.8117\n",
            "Epoch 79/100\n",
            "19200/19200 [==============================] - 2s 84us/sample - loss: 0.4231 - acc: 0.8224 - val_loss: 0.4400 - val_acc: 0.8131\n",
            "Epoch 80/100\n",
            "19200/19200 [==============================] - 2s 83us/sample - loss: 0.4244 - acc: 0.8216 - val_loss: 0.4423 - val_acc: 0.8106\n",
            "Epoch 81/100\n",
            "19200/19200 [==============================] - 2s 83us/sample - loss: 0.4233 - acc: 0.8234 - val_loss: 0.4436 - val_acc: 0.8127\n",
            "Epoch 82/100\n",
            "19200/19200 [==============================] - 2s 85us/sample - loss: 0.4214 - acc: 0.8228 - val_loss: 0.4424 - val_acc: 0.8112\n",
            "Epoch 83/100\n",
            "19200/19200 [==============================] - 2s 83us/sample - loss: 0.4228 - acc: 0.8199 - val_loss: 0.4385 - val_acc: 0.8117\n",
            "Epoch 84/100\n",
            "19200/19200 [==============================] - 2s 84us/sample - loss: 0.4222 - acc: 0.8236 - val_loss: 0.4430 - val_acc: 0.8119\n",
            "Epoch 85/100\n",
            "19200/19200 [==============================] - 2s 84us/sample - loss: 0.4229 - acc: 0.8235 - val_loss: 0.4418 - val_acc: 0.8154\n",
            "Epoch 86/100\n",
            "19200/19200 [==============================] - 2s 86us/sample - loss: 0.4238 - acc: 0.8219 - val_loss: 0.4405 - val_acc: 0.8129\n",
            "Epoch 87/100\n",
            "19200/19200 [==============================] - 2s 88us/sample - loss: 0.4238 - acc: 0.8228 - val_loss: 0.4454 - val_acc: 0.8131\n",
            "Epoch 88/100\n",
            "19200/19200 [==============================] - 2s 83us/sample - loss: 0.4209 - acc: 0.8243 - val_loss: 0.4430 - val_acc: 0.8112\n",
            "Epoch 89/100\n",
            "19200/19200 [==============================] - 2s 83us/sample - loss: 0.4216 - acc: 0.8230 - val_loss: 0.4412 - val_acc: 0.8138\n",
            "Epoch 90/100\n",
            "19200/19200 [==============================] - 2s 86us/sample - loss: 0.4216 - acc: 0.8237 - val_loss: 0.4413 - val_acc: 0.8148\n",
            "Epoch 91/100\n",
            "19200/19200 [==============================] - 2s 84us/sample - loss: 0.4210 - acc: 0.8232 - val_loss: 0.4423 - val_acc: 0.8117\n",
            "Epoch 92/100\n",
            "19200/19200 [==============================] - 2s 83us/sample - loss: 0.4219 - acc: 0.8252 - val_loss: 0.4450 - val_acc: 0.8125\n",
            "Epoch 93/100\n",
            "19200/19200 [==============================] - 2s 83us/sample - loss: 0.4210 - acc: 0.8249 - val_loss: 0.4481 - val_acc: 0.8102\n",
            "Epoch 94/100\n",
            "19200/19200 [==============================] - 2s 83us/sample - loss: 0.4224 - acc: 0.8252 - val_loss: 0.4401 - val_acc: 0.8123\n",
            "Epoch 95/100\n",
            "19200/19200 [==============================] - 2s 84us/sample - loss: 0.4202 - acc: 0.8236 - val_loss: 0.4412 - val_acc: 0.8138\n",
            "Epoch 96/100\n",
            "19200/19200 [==============================] - 2s 86us/sample - loss: 0.4223 - acc: 0.8242 - val_loss: 0.4424 - val_acc: 0.8146\n",
            "Epoch 97/100\n",
            "19200/19200 [==============================] - 2s 84us/sample - loss: 0.4201 - acc: 0.8234 - val_loss: 0.4451 - val_acc: 0.8125\n",
            "Epoch 98/100\n",
            "19200/19200 [==============================] - 2s 83us/sample - loss: 0.4210 - acc: 0.8246 - val_loss: 0.4421 - val_acc: 0.8154\n",
            "Epoch 99/100\n",
            "19200/19200 [==============================] - 2s 82us/sample - loss: 0.4209 - acc: 0.8247 - val_loss: 0.4431 - val_acc: 0.8142\n",
            "Epoch 100/100\n",
            "19200/19200 [==============================] - 2s 84us/sample - loss: 0.4224 - acc: 0.8213 - val_loss: 0.4418 - val_acc: 0.8129\n"
          ],
          "name": "stdout"
        },
        {
          "output_type": "execute_result",
          "data": {
            "text/plain": [
              "<tensorflow.python.keras.callbacks.History at 0x7f61a9242690>"
            ]
          },
          "metadata": {
            "tags": []
          },
          "execution_count": 76
        }
      ]
    },
    {
      "cell_type": "markdown",
      "metadata": {
        "id": "uCwCCMSqno43"
      },
      "source": [
        "## Measuring the performance of our model"
      ]
    },
    {
      "cell_type": "code",
      "metadata": {
        "colab": {
          "base_uri": "https://localhost:8080/"
        },
        "id": "8D04p8TIno43",
        "outputId": "6398c952-d924-46ff-bd6f-cfa9af24ce25"
      },
      "source": [
        "test_loss, test_acc = model.evaluate(test_scaled_x, test_y)\n",
        "print('Test loss:', test_loss)\n",
        "print('Test accuracy:', test_acc)"
      ],
      "execution_count": 85,
      "outputs": [
        {
          "output_type": "stream",
          "text": [
            "6000/6000 [==============================] - 0s 30us/sample - loss: 0.4286 - acc: 0.8255\n",
            "Test loss: 0.42861518454551695\n",
            "Test accuracy: 0.8255\n"
          ],
          "name": "stdout"
        }
      ]
    },
    {
      "cell_type": "markdown",
      "metadata": {
        "id": "nFLyqYzpno44"
      },
      "source": [
        "### Running risk metrics"
      ]
    },
    {
      "cell_type": "code",
      "metadata": {
        "id": "ACF6Vr5Zno45"
      },
      "source": [
        "predictions = model.predict(test_scaled_x)\n",
        "pred_values = predictions.round().ravel()"
      ],
      "execution_count": 93,
      "outputs": []
    },
    {
      "cell_type": "code",
      "metadata": {
        "id": "ARLzazsyno45"
      },
      "source": [
        "from sklearn.metrics import confusion_matrix\n",
        "\n",
        "matrix = confusion_matrix(test_y, pred_values)"
      ],
      "execution_count": 94,
      "outputs": []
    },
    {
      "cell_type": "code",
      "metadata": {
        "colab": {
          "base_uri": "https://localhost:8080/",
          "height": 513
        },
        "id": "W3y1FNflno45",
        "outputId": "c8fce077-69f2-4482-984a-e4cae8ba72ff"
      },
      "source": [
        "%matplotlib inline\n",
        "import seaborn as sns\n",
        "import matplotlib.pyplot as plt\n",
        "\n",
        "flags = ['No', 'Yes']\n",
        "plt.subplots(figsize=(12,8))\n",
        "sns.heatmap(matrix.T, square=True, annot=True, fmt='g', cbar=True, \n",
        "    cmap=plt.cm.Blues, xticklabels=flags, yticklabels=flags)\n",
        "plt.xlabel('Actual')\n",
        "plt.ylabel('Predicted')\n",
        "plt.title('Credit card payment default prediction');"
      ],
      "execution_count": 95,
      "outputs": [
        {
          "output_type": "display_data",
          "data": {
            "image/png": "[encoded data removed]",
            "text/plain": [
              "<Figure size 864x576 with 2 Axes>"
            ]
          },
          "metadata": {
            "tags": [],
            "needs_background": "light"
          }
        }
      ]
    },
    {
      "cell_type": "code",
      "metadata": {
        "colab": {
          "base_uri": "https://localhost:8080/"
        },
        "id": "bpaq4ioBno45",
        "outputId": "d7f0dc30-241b-4200-ca92-8479a3811230"
      },
      "source": [
        "from sklearn.metrics import (\n",
        "    accuracy_score, precision_score, recall_score, f1_score\n",
        ")\n",
        "actual, predicted = test_y, pred_values\n",
        "print('accuracy_score:', accuracy_score(actual, predicted))\n",
        "print('precision_score:', precision_score(actual, predicted))\n",
        "print('recall_score:', recall_score(actual, predicted))\n",
        "print('f1_score:', f1_score(actual, predicted))    "
      ],
      "execution_count": 96,
      "outputs": [
        {
          "output_type": "stream",
          "text": [
            "accuracy_score: 0.8255\n",
            "precision_score: 0.6893939393939394\n",
            "recall_score: 0.3508095605242868\n",
            "f1_score: 0.4649974450689831\n"
          ],
          "name": "stdout"
        }
      ]
    },
    {
      "cell_type": "markdown",
      "metadata": {
        "id": "jPTe3rRono46"
      },
      "source": [
        "### Displaying recorded events in Keras History"
      ]
    },
    {
      "cell_type": "code",
      "metadata": {
        "id": "9EjYHL5Cno46"
      },
      "source": [
        "train_acc = callback_history.history['acc']\n",
        "val_acc = callback_history.history['val_acc']\n",
        "train_loss = callback_history.history['loss']\n",
        "val_loss = callback_history.history['val_loss']"
      ],
      "execution_count": 97,
      "outputs": []
    },
    {
      "cell_type": "code",
      "metadata": {
        "colab": {
          "base_uri": "https://localhost:8080/",
          "height": 404
        },
        "id": "plz4meWdno46",
        "outputId": "b91f7c24-2bef-4ce2-93c0-c340d331b45d"
      },
      "source": [
        "%matplotlib inline\n",
        "import matplotlib.pyplot as plt\n",
        "\n",
        "epochs = range(1, len(train_acc)+1)\n",
        "\n",
        "plt.figure(figsize=(12,6))\n",
        "plt.plot(epochs, train_loss, label='Training')\n",
        "plt.plot(epochs, val_loss, '--', label='Validation')\n",
        "plt.title('Training and validation loss')\n",
        "plt.xlabel('epochs')\n",
        "plt.ylabel('loss')\n",
        "plt.legend();"
      ],
      "execution_count": 98,
      "outputs": [
        {
          "output_type": "display_data",
          "data": {
            "image/png": "[encoded data removed]",
            "text/plain": [
              "<Figure size 864x432 with 1 Axes>"
            ]
          },
          "metadata": {
            "tags": [],
            "needs_background": "light"
          }
        }
      ]
    },
    {
      "cell_type": "code",
      "metadata": {
        "colab": {
          "base_uri": "https://localhost:8080/",
          "height": 421
        },
        "id": "1lerObtyno46",
        "outputId": "cf2f89e0-ed9b-4789-bf1d-526037f1fe1e"
      },
      "source": [
        "plt.clf()  # Clear the figure\n",
        "plt.figure(figsize=(12,6))\n",
        "plt.plot(epochs, train_acc, '-', label='Training')\n",
        "plt.plot(epochs, val_acc, '--', label='Validation')\n",
        "plt.title('Training and validation accuracy')\n",
        "plt.xlabel('epochs')\n",
        "plt.ylabel('accuracy')\n",
        "plt.legend();"
      ],
      "execution_count": 99,
      "outputs": [
        {
          "output_type": "display_data",
          "data": {
            "text/plain": [
              "<Figure size 432x288 with 0 Axes>"
            ]
          },
          "metadata": {
            "tags": []
          }
        },
        {
          "output_type": "display_data",
          "data": {
            "image/png": "[encoded data removed]",
            "text/plain": [
              "<Figure size 864x432 with 1 Axes>"
            ]
          },
          "metadata": {
            "tags": [],
            "needs_background": "light"
          }
        }
      ]
    }
  ]
}